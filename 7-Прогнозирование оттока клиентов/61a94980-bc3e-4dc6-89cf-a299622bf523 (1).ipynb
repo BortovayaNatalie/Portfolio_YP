{
 "cells": [
  {
   "cell_type": "markdown",
   "metadata": {},
   "source": [
    "# Выбор локации для скважины"
   ]
  },
  {
   "cell_type": "markdown",
   "metadata": {},
   "source": [
    "Допустим, вы работаете в добывающей компании «ГлавРосГосНефть». Нужно решить, где бурить новую скважину.\n",
    "\n",
    "Вам предоставлены пробы нефти в трёх регионах: в каждом 10 000 месторождений, где измерили качество нефти и объём её запасов. Постройте модель машинного обучения, которая поможет определить регион, где добыча принесёт наибольшую прибыль. Проанализируйте возможную прибыль и риски техникой *Bootstrap.*\n",
    "\n",
    "Шаги для выбора локации:\n",
    "\n",
    "- В избранном регионе ищут месторождения, для каждого определяют значения признаков;\n",
    "- Строят модель и оценивают объём запасов;\n",
    "- Выбирают месторождения с самым высокими оценками значений. Количество месторождений зависит от бюджета компании и стоимости разработки одной скважины;\n",
    "- Прибыль равна суммарной прибыли отобранных месторождений."
   ]
  },
  {
   "cell_type": "markdown",
   "metadata": {},
   "source": []
  },
  {
   "cell_type": "markdown",
   "metadata": {},
   "source": [
    "## Загрузка и подготовка данных"
   ]
  },
  {
   "cell_type": "code",
   "execution_count": 63,
   "metadata": {},
   "outputs": [],
   "source": [
    "import pandas as pd\n",
    "import numpy as np\n",
    "from joblib import dump\n",
    "import warnings\n",
    "warnings.filterwarnings('ignore')\n",
    "\n",
    "import matplotlib.pyplot as plt\n",
    "import seaborn as sns\n",
    "%matplotlib inline\n",
    "\n",
    "from sklearn.model_selection import train_test_split\n",
    "from sklearn.linear_model import LinearRegression\n",
    "from sklearn.metrics import mean_squared_error\n",
    "from numpy.random import RandomState\n",
    "from scipy import stats"
   ]
  },
  {
   "cell_type": "code",
   "execution_count": 7,
   "metadata": {},
   "outputs": [],
   "source": [
    "# Сброс ограничений на количество выводимых рядов\n",
    "pd.set_option('display.max_rows', None)\n",
    " \n",
    "# Сброс ограничений на число столбцов\n",
    "pd.set_option('display.max_columns', None)\n",
    " \n",
    "# Сброс ограничений на количество символов в записи\n",
    "pd.set_option('display.max_colwidth', None)"
   ]
  },
  {
   "cell_type": "code",
   "execution_count": 8,
   "metadata": {},
   "outputs": [],
   "source": [
    "# ключевые значения\n",
    "\n",
    "POINTS = 500 # всего точек\n",
    "BEST_POINTS = 200 # количество лучших точек\n",
    "BUDGET = 10_000_000 # бюджет на разработку в регионе 10 млрд.руб- представлен в тыс. руб\n",
    "UNIT_INCOME = 450 # стоимость единицы сырья в тыс. руб.\n",
    "PROBABILITY_LOSS_LESS = 2.5 # предельная вероятность убытков"
   ]
  },
  {
   "cell_type": "code",
   "execution_count": 9,
   "metadata": {},
   "outputs": [
    {
     "data": {
      "text/html": [
       "<div>\n",
       "<style scoped>\n",
       "    .dataframe tbody tr th:only-of-type {\n",
       "        vertical-align: middle;\n",
       "    }\n",
       "\n",
       "    .dataframe tbody tr th {\n",
       "        vertical-align: top;\n",
       "    }\n",
       "\n",
       "    .dataframe thead th {\n",
       "        text-align: right;\n",
       "    }\n",
       "</style>\n",
       "<table border=\"1\" class=\"dataframe\">\n",
       "  <thead>\n",
       "    <tr style=\"text-align: right;\">\n",
       "      <th></th>\n",
       "      <th>id</th>\n",
       "      <th>f0</th>\n",
       "      <th>f1</th>\n",
       "      <th>f2</th>\n",
       "      <th>product</th>\n",
       "    </tr>\n",
       "  </thead>\n",
       "  <tbody>\n",
       "    <tr>\n",
       "      <th>0</th>\n",
       "      <td>txEyH</td>\n",
       "      <td>0.705745</td>\n",
       "      <td>-0.497823</td>\n",
       "      <td>1.221170</td>\n",
       "      <td>105.280062</td>\n",
       "    </tr>\n",
       "    <tr>\n",
       "      <th>1</th>\n",
       "      <td>2acmU</td>\n",
       "      <td>1.334711</td>\n",
       "      <td>-0.340164</td>\n",
       "      <td>4.365080</td>\n",
       "      <td>73.037750</td>\n",
       "    </tr>\n",
       "    <tr>\n",
       "      <th>2</th>\n",
       "      <td>409Wp</td>\n",
       "      <td>1.022732</td>\n",
       "      <td>0.151990</td>\n",
       "      <td>1.419926</td>\n",
       "      <td>85.265647</td>\n",
       "    </tr>\n",
       "    <tr>\n",
       "      <th>3</th>\n",
       "      <td>iJLyR</td>\n",
       "      <td>-0.032172</td>\n",
       "      <td>0.139033</td>\n",
       "      <td>2.978566</td>\n",
       "      <td>168.620776</td>\n",
       "    </tr>\n",
       "    <tr>\n",
       "      <th>4</th>\n",
       "      <td>Xdl7t</td>\n",
       "      <td>1.988431</td>\n",
       "      <td>0.155413</td>\n",
       "      <td>4.751769</td>\n",
       "      <td>154.036647</td>\n",
       "    </tr>\n",
       "  </tbody>\n",
       "</table>\n",
       "</div>"
      ],
      "text/plain": [
       "      id        f0        f1        f2     product\n",
       "0  txEyH  0.705745 -0.497823  1.221170  105.280062\n",
       "1  2acmU  1.334711 -0.340164  4.365080   73.037750\n",
       "2  409Wp  1.022732  0.151990  1.419926   85.265647\n",
       "3  iJLyR -0.032172  0.139033  2.978566  168.620776\n",
       "4  Xdl7t  1.988431  0.155413  4.751769  154.036647"
      ]
     },
     "metadata": {},
     "output_type": "display_data"
    },
    {
     "data": {
      "text/html": [
       "<div>\n",
       "<style scoped>\n",
       "    .dataframe tbody tr th:only-of-type {\n",
       "        vertical-align: middle;\n",
       "    }\n",
       "\n",
       "    .dataframe tbody tr th {\n",
       "        vertical-align: top;\n",
       "    }\n",
       "\n",
       "    .dataframe thead th {\n",
       "        text-align: right;\n",
       "    }\n",
       "</style>\n",
       "<table border=\"1\" class=\"dataframe\">\n",
       "  <thead>\n",
       "    <tr style=\"text-align: right;\">\n",
       "      <th></th>\n",
       "      <th>id</th>\n",
       "      <th>f0</th>\n",
       "      <th>f1</th>\n",
       "      <th>f2</th>\n",
       "      <th>product</th>\n",
       "    </tr>\n",
       "  </thead>\n",
       "  <tbody>\n",
       "    <tr>\n",
       "      <th>0</th>\n",
       "      <td>kBEdx</td>\n",
       "      <td>-15.001348</td>\n",
       "      <td>-8.276000</td>\n",
       "      <td>-0.005876</td>\n",
       "      <td>3.179103</td>\n",
       "    </tr>\n",
       "    <tr>\n",
       "      <th>1</th>\n",
       "      <td>62mP7</td>\n",
       "      <td>14.272088</td>\n",
       "      <td>-3.475083</td>\n",
       "      <td>0.999183</td>\n",
       "      <td>26.953261</td>\n",
       "    </tr>\n",
       "    <tr>\n",
       "      <th>2</th>\n",
       "      <td>vyE1P</td>\n",
       "      <td>6.263187</td>\n",
       "      <td>-5.948386</td>\n",
       "      <td>5.001160</td>\n",
       "      <td>134.766305</td>\n",
       "    </tr>\n",
       "    <tr>\n",
       "      <th>3</th>\n",
       "      <td>KcrkZ</td>\n",
       "      <td>-13.081196</td>\n",
       "      <td>-11.506057</td>\n",
       "      <td>4.999415</td>\n",
       "      <td>137.945408</td>\n",
       "    </tr>\n",
       "    <tr>\n",
       "      <th>4</th>\n",
       "      <td>AHL4O</td>\n",
       "      <td>12.702195</td>\n",
       "      <td>-8.147433</td>\n",
       "      <td>5.004363</td>\n",
       "      <td>134.766305</td>\n",
       "    </tr>\n",
       "  </tbody>\n",
       "</table>\n",
       "</div>"
      ],
      "text/plain": [
       "      id         f0         f1        f2     product\n",
       "0  kBEdx -15.001348  -8.276000 -0.005876    3.179103\n",
       "1  62mP7  14.272088  -3.475083  0.999183   26.953261\n",
       "2  vyE1P   6.263187  -5.948386  5.001160  134.766305\n",
       "3  KcrkZ -13.081196 -11.506057  4.999415  137.945408\n",
       "4  AHL4O  12.702195  -8.147433  5.004363  134.766305"
      ]
     },
     "metadata": {},
     "output_type": "display_data"
    },
    {
     "data": {
      "text/html": [
       "<div>\n",
       "<style scoped>\n",
       "    .dataframe tbody tr th:only-of-type {\n",
       "        vertical-align: middle;\n",
       "    }\n",
       "\n",
       "    .dataframe tbody tr th {\n",
       "        vertical-align: top;\n",
       "    }\n",
       "\n",
       "    .dataframe thead th {\n",
       "        text-align: right;\n",
       "    }\n",
       "</style>\n",
       "<table border=\"1\" class=\"dataframe\">\n",
       "  <thead>\n",
       "    <tr style=\"text-align: right;\">\n",
       "      <th></th>\n",
       "      <th>id</th>\n",
       "      <th>f0</th>\n",
       "      <th>f1</th>\n",
       "      <th>f2</th>\n",
       "      <th>product</th>\n",
       "    </tr>\n",
       "  </thead>\n",
       "  <tbody>\n",
       "    <tr>\n",
       "      <th>0</th>\n",
       "      <td>fwXo0</td>\n",
       "      <td>-1.146987</td>\n",
       "      <td>0.963328</td>\n",
       "      <td>-0.828965</td>\n",
       "      <td>27.758673</td>\n",
       "    </tr>\n",
       "    <tr>\n",
       "      <th>1</th>\n",
       "      <td>WJtFt</td>\n",
       "      <td>0.262778</td>\n",
       "      <td>0.269839</td>\n",
       "      <td>-2.530187</td>\n",
       "      <td>56.069697</td>\n",
       "    </tr>\n",
       "    <tr>\n",
       "      <th>2</th>\n",
       "      <td>ovLUW</td>\n",
       "      <td>0.194587</td>\n",
       "      <td>0.289035</td>\n",
       "      <td>-5.586433</td>\n",
       "      <td>62.871910</td>\n",
       "    </tr>\n",
       "    <tr>\n",
       "      <th>3</th>\n",
       "      <td>q6cA6</td>\n",
       "      <td>2.236060</td>\n",
       "      <td>-0.553760</td>\n",
       "      <td>0.930038</td>\n",
       "      <td>114.572842</td>\n",
       "    </tr>\n",
       "    <tr>\n",
       "      <th>4</th>\n",
       "      <td>WPMUX</td>\n",
       "      <td>-0.515993</td>\n",
       "      <td>1.716266</td>\n",
       "      <td>5.899011</td>\n",
       "      <td>149.600746</td>\n",
       "    </tr>\n",
       "  </tbody>\n",
       "</table>\n",
       "</div>"
      ],
      "text/plain": [
       "      id        f0        f1        f2     product\n",
       "0  fwXo0 -1.146987  0.963328 -0.828965   27.758673\n",
       "1  WJtFt  0.262778  0.269839 -2.530187   56.069697\n",
       "2  ovLUW  0.194587  0.289035 -5.586433   62.871910\n",
       "3  q6cA6  2.236060 -0.553760  0.930038  114.572842\n",
       "4  WPMUX -0.515993  1.716266  5.899011  149.600746"
      ]
     },
     "metadata": {},
     "output_type": "display_data"
    }
   ],
   "source": [
    "# загрузим данные\n",
    "data_0 = pd.read_csv('/datasets/geo_data_0.csv')\n",
    "data_1 = pd.read_csv('/datasets/geo_data_1.csv')\n",
    "data_2 = pd.read_csv('/datasets/geo_data_2.csv')\n",
    "\n",
    "display(data_0.head(), data_1.head(), data_2.head()) #проверим"
   ]
  },
  {
   "cell_type": "code",
   "execution_count": 10,
   "metadata": {},
   "outputs": [
    {
     "name": "stdout",
     "output_type": "stream",
     "text": [
      "<class 'pandas.core.frame.DataFrame'>\n",
      "RangeIndex: 100000 entries, 0 to 99999\n",
      "Data columns (total 5 columns):\n",
      " #   Column   Non-Null Count   Dtype  \n",
      "---  ------   --------------   -----  \n",
      " 0   id       100000 non-null  object \n",
      " 1   f0       100000 non-null  float64\n",
      " 2   f1       100000 non-null  float64\n",
      " 3   f2       100000 non-null  float64\n",
      " 4   product  100000 non-null  float64\n",
      "dtypes: float64(4), object(1)\n",
      "memory usage: 3.8+ MB\n",
      "<class 'pandas.core.frame.DataFrame'>\n",
      "RangeIndex: 100000 entries, 0 to 99999\n",
      "Data columns (total 5 columns):\n",
      " #   Column   Non-Null Count   Dtype  \n",
      "---  ------   --------------   -----  \n",
      " 0   id       100000 non-null  object \n",
      " 1   f0       100000 non-null  float64\n",
      " 2   f1       100000 non-null  float64\n",
      " 3   f2       100000 non-null  float64\n",
      " 4   product  100000 non-null  float64\n",
      "dtypes: float64(4), object(1)\n",
      "memory usage: 3.8+ MB\n",
      "<class 'pandas.core.frame.DataFrame'>\n",
      "RangeIndex: 100000 entries, 0 to 99999\n",
      "Data columns (total 5 columns):\n",
      " #   Column   Non-Null Count   Dtype  \n",
      "---  ------   --------------   -----  \n",
      " 0   id       100000 non-null  object \n",
      " 1   f0       100000 non-null  float64\n",
      " 2   f1       100000 non-null  float64\n",
      " 3   f2       100000 non-null  float64\n",
      " 4   product  100000 non-null  float64\n",
      "dtypes: float64(4), object(1)\n",
      "memory usage: 3.8+ MB\n"
     ]
    },
    {
     "data": {
      "text/plain": [
       "(None, None, None)"
      ]
     },
     "execution_count": 10,
     "metadata": {},
     "output_type": "execute_result"
    }
   ],
   "source": [
    "data_0.info(), data_1.info(), data_2.info() #проверим пропуски - их нет"
   ]
  },
  {
   "cell_type": "code",
   "execution_count": 11,
   "metadata": {},
   "outputs": [
    {
     "data": {
      "text/plain": [
       "(0, 0, 0)"
      ]
     },
     "execution_count": 11,
     "metadata": {},
     "output_type": "execute_result"
    }
   ],
   "source": [
    "#проверка дубликатов - не обнаружено\n",
    "data_0.duplicated().sum(), data_1.duplicated().sum(), data_2.duplicated().sum()"
   ]
  },
  {
   "cell_type": "code",
   "execution_count": 12,
   "metadata": {},
   "outputs": [
    {
     "data": {
      "image/png": "[encoded data removed]",
      "text/plain": [
       "<Figure size 1080x720 with 4 Axes>"
      ]
     },
     "metadata": {
      "needs_background": "light"
     },
     "output_type": "display_data"
    }
   ],
   "source": [
    "#Посмотрим на распределение количественных признаков в датасетах\n",
    "data_0.hist(column=['f0', 'f1', 'f2', 'product'], figsize=(15, 10), bins=50, legend=True, grid=True, xlabelsize=10, xrot=45, ylabelsize=10)\n",
    "plt.suptitle('Geo_0', fontsize=17)\n",
    "plt.show()"
   ]
  },
  {
   "cell_type": "code",
   "execution_count": 13,
   "metadata": {},
   "outputs": [
    {
     "data": {
      "image/png": "[encoded data removed]",
      "text/plain": [
       "<Figure size 1080x720 with 4 Axes>"
      ]
     },
     "metadata": {
      "needs_background": "light"
     },
     "output_type": "display_data"
    }
   ],
   "source": [
    "data_1.hist(column=['f0', 'f1', 'f2', 'product'], figsize=(15, 10), bins=50, legend=True, grid=True, xlabelsize=10, xrot=45, ylabelsize=10)\n",
    "plt.suptitle('Geo_1', fontsize=17)\n",
    "plt.show()"
   ]
  },
  {
   "cell_type": "code",
   "execution_count": 14,
   "metadata": {},
   "outputs": [
    {
     "data": {
      "image/png": "[encoded data removed]",
      "text/plain": [
       "<Figure size 1080x720 with 4 Axes>"
      ]
     },
     "metadata": {
      "needs_background": "light"
     },
     "output_type": "display_data"
    }
   ],
   "source": [
    "data_2.hist(column=['f0', 'f1', 'f2', 'product'], figsize=(15, 10), bins=50, legend=True, grid=True, xlabelsize=10, xrot=45, ylabelsize=10)\n",
    "plt.suptitle('Geo_2', fontsize=17)\n",
    "plt.show()"
   ]
  },
  {
   "cell_type": "markdown",
   "metadata": {},
   "source": [
    "Выбросов не выявлено."
   ]
  },
  {
   "cell_type": "code",
   "execution_count": 15,
   "metadata": {},
   "outputs": [
    {
     "data": {
      "text/html": [
       "<div>\n",
       "<style scoped>\n",
       "    .dataframe tbody tr th:only-of-type {\n",
       "        vertical-align: middle;\n",
       "    }\n",
       "\n",
       "    .dataframe tbody tr th {\n",
       "        vertical-align: top;\n",
       "    }\n",
       "\n",
       "    .dataframe thead th {\n",
       "        text-align: right;\n",
       "    }\n",
       "</style>\n",
       "<table border=\"1\" class=\"dataframe\">\n",
       "  <thead>\n",
       "    <tr style=\"text-align: right;\">\n",
       "      <th></th>\n",
       "      <th>f0</th>\n",
       "      <th>f1</th>\n",
       "      <th>f2</th>\n",
       "      <th>product</th>\n",
       "    </tr>\n",
       "  </thead>\n",
       "  <tbody>\n",
       "    <tr>\n",
       "      <th>f0</th>\n",
       "      <td>1.000000</td>\n",
       "      <td>-0.440723</td>\n",
       "      <td>-0.003153</td>\n",
       "      <td>0.143536</td>\n",
       "    </tr>\n",
       "    <tr>\n",
       "      <th>f1</th>\n",
       "      <td>-0.440723</td>\n",
       "      <td>1.000000</td>\n",
       "      <td>0.001724</td>\n",
       "      <td>-0.192356</td>\n",
       "    </tr>\n",
       "    <tr>\n",
       "      <th>f2</th>\n",
       "      <td>-0.003153</td>\n",
       "      <td>0.001724</td>\n",
       "      <td>1.000000</td>\n",
       "      <td>0.483663</td>\n",
       "    </tr>\n",
       "    <tr>\n",
       "      <th>product</th>\n",
       "      <td>0.143536</td>\n",
       "      <td>-0.192356</td>\n",
       "      <td>0.483663</td>\n",
       "      <td>1.000000</td>\n",
       "    </tr>\n",
       "  </tbody>\n",
       "</table>\n",
       "</div>"
      ],
      "text/plain": [
       "               f0        f1        f2   product\n",
       "f0       1.000000 -0.440723 -0.003153  0.143536\n",
       "f1      -0.440723  1.000000  0.001724 -0.192356\n",
       "f2      -0.003153  0.001724  1.000000  0.483663\n",
       "product  0.143536 -0.192356  0.483663  1.000000"
      ]
     },
     "execution_count": 15,
     "metadata": {},
     "output_type": "execute_result"
    }
   ],
   "source": [
    "data_0.corr() #умеренный уровень корреляции с целевым признаком признака 'f2'"
   ]
  },
  {
   "cell_type": "code",
   "execution_count": 16,
   "metadata": {},
   "outputs": [
    {
     "data": {
      "text/html": [
       "<div>\n",
       "<style scoped>\n",
       "    .dataframe tbody tr th:only-of-type {\n",
       "        vertical-align: middle;\n",
       "    }\n",
       "\n",
       "    .dataframe tbody tr th {\n",
       "        vertical-align: top;\n",
       "    }\n",
       "\n",
       "    .dataframe thead th {\n",
       "        text-align: right;\n",
       "    }\n",
       "</style>\n",
       "<table border=\"1\" class=\"dataframe\">\n",
       "  <thead>\n",
       "    <tr style=\"text-align: right;\">\n",
       "      <th></th>\n",
       "      <th>f0</th>\n",
       "      <th>f1</th>\n",
       "      <th>f2</th>\n",
       "      <th>product</th>\n",
       "    </tr>\n",
       "  </thead>\n",
       "  <tbody>\n",
       "    <tr>\n",
       "      <th>f0</th>\n",
       "      <td>1.000000</td>\n",
       "      <td>0.182287</td>\n",
       "      <td>-0.001777</td>\n",
       "      <td>-0.030491</td>\n",
       "    </tr>\n",
       "    <tr>\n",
       "      <th>f1</th>\n",
       "      <td>0.182287</td>\n",
       "      <td>1.000000</td>\n",
       "      <td>-0.002595</td>\n",
       "      <td>-0.010155</td>\n",
       "    </tr>\n",
       "    <tr>\n",
       "      <th>f2</th>\n",
       "      <td>-0.001777</td>\n",
       "      <td>-0.002595</td>\n",
       "      <td>1.000000</td>\n",
       "      <td>0.999397</td>\n",
       "    </tr>\n",
       "    <tr>\n",
       "      <th>product</th>\n",
       "      <td>-0.030491</td>\n",
       "      <td>-0.010155</td>\n",
       "      <td>0.999397</td>\n",
       "      <td>1.000000</td>\n",
       "    </tr>\n",
       "  </tbody>\n",
       "</table>\n",
       "</div>"
      ],
      "text/plain": [
       "               f0        f1        f2   product\n",
       "f0       1.000000  0.182287 -0.001777 -0.030491\n",
       "f1       0.182287  1.000000 -0.002595 -0.010155\n",
       "f2      -0.001777 -0.002595  1.000000  0.999397\n",
       "product -0.030491 -0.010155  0.999397  1.000000"
      ]
     },
     "execution_count": 16,
     "metadata": {},
     "output_type": "execute_result"
    }
   ],
   "source": [
    "data_1.corr()"
   ]
  },
  {
   "cell_type": "code",
   "execution_count": 17,
   "metadata": {},
   "outputs": [
    {
     "data": {
      "text/plain": [
       "53.906522     0.08472\n",
       "26.953261     0.08468\n",
       "84.038886     0.08431\n",
       "57.085625     0.08390\n",
       "3.179103      0.08337\n",
       "80.859783     0.08320\n",
       "30.132364     0.08306\n",
       "134.766305    0.08304\n",
       "110.992147    0.08303\n",
       "0.000000      0.08235\n",
       "137.945408    0.08233\n",
       "107.813044    0.08201\n",
       "Name: product, dtype: float64"
      ]
     },
     "execution_count": 17,
     "metadata": {},
     "output_type": "execute_result"
    }
   ],
   "source": [
    "data_1['product'].value_counts(normalize= True) #признак похожож на категориальный"
   ]
  },
  {
   "cell_type": "code",
   "execution_count": 18,
   "metadata": {},
   "outputs": [
    {
     "data": {
      "text/plain": [
       "53.906522     8472\n",
       "26.953261     8468\n",
       "84.038886     8431\n",
       "57.085625     8390\n",
       "3.179103      8337\n",
       "80.859783     8320\n",
       "30.132364     8306\n",
       "134.766305    8304\n",
       "110.992147    8303\n",
       "0.000000      8235\n",
       "137.945408    8233\n",
       "107.813044    8201\n",
       "Name: product, dtype: int64"
      ]
     },
     "execution_count": 18,
     "metadata": {},
     "output_type": "execute_result"
    }
   ],
   "source": [
    "data_1['product'].value_counts()"
   ]
  },
  {
   "cell_type": "code",
   "execution_count": 19,
   "metadata": {},
   "outputs": [
    {
     "data": {
      "image/png": "[encoded data removed]",
      "text/plain": [
       "<Figure size 432x288 with 2 Axes>"
      ]
     },
     "metadata": {
      "needs_background": "light"
     },
     "output_type": "display_data"
    }
   ],
   "source": [
    "corr_matrix = data_1.corr()\n",
    "sns.heatmap(corr_matrix, annot=True).set_title('Geo_1')\n",
    "plt.show()"
   ]
  },
  {
   "cell_type": "code",
   "execution_count": 20,
   "metadata": {},
   "outputs": [
    {
     "data": {
      "image/png": "[encoded data removed]",
      "text/plain": [
       "<Figure size 595.125x540 with 12 Axes>"
      ]
     },
     "metadata": {
      "needs_background": "light"
     },
     "output_type": "display_data"
    },
    {
     "name": "stdout",
     "output_type": "stream",
     "text": [
      "CPU times: user 29.4 s, sys: 658 ms, total: 30.1 s\n",
      "Wall time: 30.1 s\n"
     ]
    }
   ],
   "source": [
    "%%time\n",
    "\n",
    "sns.pairplot(data_1, hue = 'product')\n",
    "plt.show()"
   ]
  },
  {
   "cell_type": "markdown",
   "metadata": {},
   "source": [
    "Выявлена очень высокая корреляция признака `f2`  датасета `data_1` с целевым признаком."
   ]
  },
  {
   "cell_type": "code",
   "execution_count": 21,
   "metadata": {},
   "outputs": [
    {
     "name": "stdout",
     "output_type": "stream",
     "text": [
      "Collecting phik\n",
      "  Downloading phik-0.12.3-cp39-cp39-manylinux_2_17_x86_64.manylinux2014_x86_64.whl (679 kB)\n",
      "\u001b[K     |████████████████████████████████| 679 kB 2.2 MB/s eta 0:00:01\n",
      "\u001b[?25hRequirement already satisfied: pandas>=0.25.1 in /opt/conda/lib/python3.9/site-packages (from phik) (1.2.4)\n",
      "Requirement already satisfied: numpy>=1.18.0 in /opt/conda/lib/python3.9/site-packages (from phik) (1.21.1)\n",
      "Requirement already satisfied: matplotlib>=2.2.3 in /opt/conda/lib/python3.9/site-packages (from phik) (3.3.4)\n",
      "Requirement already satisfied: joblib>=0.14.1 in /opt/conda/lib/python3.9/site-packages (from phik) (1.1.0)\n",
      "Requirement already satisfied: scipy>=1.5.2 in /opt/conda/lib/python3.9/site-packages (from phik) (1.9.1)\n",
      "Requirement already satisfied: kiwisolver>=1.0.1 in /opt/conda/lib/python3.9/site-packages (from matplotlib>=2.2.3->phik) (1.4.4)\n",
      "Requirement already satisfied: pillow>=6.2.0 in /opt/conda/lib/python3.9/site-packages (from matplotlib>=2.2.3->phik) (8.4.0)\n",
      "Requirement already satisfied: pyparsing!=2.0.4,!=2.1.2,!=2.1.6,>=2.0.3 in /opt/conda/lib/python3.9/site-packages (from matplotlib>=2.2.3->phik) (2.4.7)\n",
      "Requirement already satisfied: cycler>=0.10 in /opt/conda/lib/python3.9/site-packages (from matplotlib>=2.2.3->phik) (0.11.0)\n",
      "Requirement already satisfied: python-dateutil>=2.1 in /opt/conda/lib/python3.9/site-packages (from matplotlib>=2.2.3->phik) (2.8.1)\n",
      "Requirement already satisfied: pytz>=2017.3 in /opt/conda/lib/python3.9/site-packages (from pandas>=0.25.1->phik) (2021.1)\n",
      "Requirement already satisfied: six>=1.5 in /opt/conda/lib/python3.9/site-packages (from python-dateutil>=2.1->matplotlib>=2.2.3->phik) (1.16.0)\n",
      "Installing collected packages: phik\n",
      "Successfully installed phik-0.12.3\n",
      "interval columns not set, guessing: ['f0', 'f1', 'f2', 'product']\n",
      "CPU times: user 3min 2s, sys: 6.32 s, total: 3min 9s\n",
      "Wall time: 3min 11s\n"
     ]
    },
    {
     "data": {
      "text/html": [
       "<div>\n",
       "<style scoped>\n",
       "    .dataframe tbody tr th:only-of-type {\n",
       "        vertical-align: middle;\n",
       "    }\n",
       "\n",
       "    .dataframe tbody tr th {\n",
       "        vertical-align: top;\n",
       "    }\n",
       "\n",
       "    .dataframe thead th {\n",
       "        text-align: right;\n",
       "    }\n",
       "</style>\n",
       "<table border=\"1\" class=\"dataframe\">\n",
       "  <thead>\n",
       "    <tr style=\"text-align: right;\">\n",
       "      <th></th>\n",
       "      <th>id</th>\n",
       "      <th>f0</th>\n",
       "      <th>f1</th>\n",
       "      <th>f2</th>\n",
       "      <th>product</th>\n",
       "    </tr>\n",
       "  </thead>\n",
       "  <tbody>\n",
       "    <tr>\n",
       "      <th>id</th>\n",
       "      <td>1.000000</td>\n",
       "      <td>0.468195</td>\n",
       "      <td>0.984042</td>\n",
       "      <td>0.930497</td>\n",
       "      <td>0.636263</td>\n",
       "    </tr>\n",
       "    <tr>\n",
       "      <th>f0</th>\n",
       "      <td>0.468195</td>\n",
       "      <td>1.000000</td>\n",
       "      <td>0.196080</td>\n",
       "      <td>0.000000</td>\n",
       "      <td>0.628482</td>\n",
       "    </tr>\n",
       "    <tr>\n",
       "      <th>f1</th>\n",
       "      <td>0.984042</td>\n",
       "      <td>0.196080</td>\n",
       "      <td>1.000000</td>\n",
       "      <td>0.000000</td>\n",
       "      <td>0.185965</td>\n",
       "    </tr>\n",
       "    <tr>\n",
       "      <th>f2</th>\n",
       "      <td>0.930497</td>\n",
       "      <td>0.000000</td>\n",
       "      <td>0.000000</td>\n",
       "      <td>1.000000</td>\n",
       "      <td>0.978936</td>\n",
       "    </tr>\n",
       "    <tr>\n",
       "      <th>product</th>\n",
       "      <td>0.636263</td>\n",
       "      <td>0.628482</td>\n",
       "      <td>0.185965</td>\n",
       "      <td>0.978936</td>\n",
       "      <td>1.000000</td>\n",
       "    </tr>\n",
       "  </tbody>\n",
       "</table>\n",
       "</div>"
      ],
      "text/plain": [
       "               id        f0        f1        f2   product\n",
       "id       1.000000  0.468195  0.984042  0.930497  0.636263\n",
       "f0       0.468195  1.000000  0.196080  0.000000  0.628482\n",
       "f1       0.984042  0.196080  1.000000  0.000000  0.185965\n",
       "f2       0.930497  0.000000  0.000000  1.000000  0.978936\n",
       "product  0.636263  0.628482  0.185965  0.978936  1.000000"
      ]
     },
     "execution_count": 21,
     "metadata": {},
     "output_type": "execute_result"
    }
   ],
   "source": [
    "%%time\n",
    "!pip install phik\n",
    "import phik\n",
    "from phik import resources, report\n",
    "data_1.phik_matrix()"
   ]
  },
  {
   "cell_type": "markdown",
   "metadata": {},
   "source": [
    "Вновь выявлена высокая корреляция целевого признака с признаком `f2`, а также средняя степень корреляции с признаками `id`и `f0`. Кроме того, выявлена очень высокая корреляция с признаков `id`и `f1`, признаков `id`и `f2`, умеренная корреляция признаков `id`и `f0`. Очень странный датасет. Приблизительно в 8% значение целевого признака равно 0. Необходимо узнать у заказчика является ли это дефектом данных."
   ]
  },
  {
   "cell_type": "code",
   "execution_count": 22,
   "metadata": {},
   "outputs": [
    {
     "data": {
      "text/html": [
       "<div>\n",
       "<style scoped>\n",
       "    .dataframe tbody tr th:only-of-type {\n",
       "        vertical-align: middle;\n",
       "    }\n",
       "\n",
       "    .dataframe tbody tr th {\n",
       "        vertical-align: top;\n",
       "    }\n",
       "\n",
       "    .dataframe thead th {\n",
       "        text-align: right;\n",
       "    }\n",
       "</style>\n",
       "<table border=\"1\" class=\"dataframe\">\n",
       "  <thead>\n",
       "    <tr style=\"text-align: right;\">\n",
       "      <th></th>\n",
       "      <th>f0</th>\n",
       "      <th>f1</th>\n",
       "      <th>f2</th>\n",
       "      <th>product</th>\n",
       "    </tr>\n",
       "  </thead>\n",
       "  <tbody>\n",
       "    <tr>\n",
       "      <th>f0</th>\n",
       "      <td>1.000000</td>\n",
       "      <td>0.000528</td>\n",
       "      <td>-0.000448</td>\n",
       "      <td>-0.001987</td>\n",
       "    </tr>\n",
       "    <tr>\n",
       "      <th>f1</th>\n",
       "      <td>0.000528</td>\n",
       "      <td>1.000000</td>\n",
       "      <td>0.000779</td>\n",
       "      <td>-0.001012</td>\n",
       "    </tr>\n",
       "    <tr>\n",
       "      <th>f2</th>\n",
       "      <td>-0.000448</td>\n",
       "      <td>0.000779</td>\n",
       "      <td>1.000000</td>\n",
       "      <td>0.445871</td>\n",
       "    </tr>\n",
       "    <tr>\n",
       "      <th>product</th>\n",
       "      <td>-0.001987</td>\n",
       "      <td>-0.001012</td>\n",
       "      <td>0.445871</td>\n",
       "      <td>1.000000</td>\n",
       "    </tr>\n",
       "  </tbody>\n",
       "</table>\n",
       "</div>"
      ],
      "text/plain": [
       "               f0        f1        f2   product\n",
       "f0       1.000000  0.000528 -0.000448 -0.001987\n",
       "f1       0.000528  1.000000  0.000779 -0.001012\n",
       "f2      -0.000448  0.000779  1.000000  0.445871\n",
       "product -0.001987 -0.001012  0.445871  1.000000"
      ]
     },
     "execution_count": 22,
     "metadata": {},
     "output_type": "execute_result"
    }
   ],
   "source": [
    "data_2.corr() #умеренный уровень корреляции целевого признака с признаком `f2`"
   ]
  },
  {
   "cell_type": "markdown",
   "metadata": {},
   "source": [
    "Удалять признаки пока не будем, т.к. их мало. В случае выраженного переобучения модели можно вернуться к этому шагу."
   ]
  },
  {
   "cell_type": "markdown",
   "metadata": {},
   "source": [
    "## Обучение и проверка модели"
   ]
  },
  {
   "cell_type": "code",
   "execution_count": 23,
   "metadata": {},
   "outputs": [],
   "source": [
    "# создадим функцию для обучения моделей и прогнозирования\n",
    "def linear(data):\n",
    "    \n",
    "    #подготовим данные и зададим целевой признак\n",
    "    features = data.drop(['product', 'id'], axis=1)\n",
    "    target = data['product'] \n",
    "    \n",
    "    # разбьём данные на обучающую и валидационную выборки в соотношении 75:25\n",
    "    features_train, features_valid, target_train,target_valid = train_test_split(features, target, test_size=0.25, random_state=12345) \n",
    "    \n",
    "    # обучим модель линейной регрессии\n",
    "    model = LinearRegression()    \n",
    "    model.fit(features_train, target_train)\n",
    "    \n",
    "    # прогнозируем\n",
    "    predicted_valid = model.predict(features_valid)\n",
    "    \n",
    "    # расчет RMSE\n",
    "    rmse = mean_squared_error(target_valid, predicted_valid)**0.5\n",
    "    \n",
    "    # расчет прогноза средних запасов нефти\n",
    "    predicted_valid_mean = predicted_valid.sum()/len(predicted_valid)\n",
    "    target_valid_mean =  target_valid.sum()/len(target_valid)\n",
    "  \n",
    "    \n",
    "    return target_valid, predicted_valid, rmse, predicted_valid_mean, target_valid_mean"
   ]
  },
  {
   "cell_type": "code",
   "execution_count": 24,
   "metadata": {},
   "outputs": [
    {
     "name": "stdout",
     "output_type": "stream",
     "text": [
      "Geo_0. Средний запас предсказанного сырья: 92.59256778438035 RMSE: 37.5794217150813\n",
      "Средний фактический запас сырья в месторождении 92.07859674082927\n",
      "Geo_1. Средний запас предсказанного сырья: 68.728546895446 RMSE: 0.893099286775617\n",
      "Средний фактический запас сырья в месторождении 68.72313602435997\n",
      "Geo_2. Средний запас предсказанного сырья: 94.96504596800489 RMSE: 40.02970873393434\n",
      "Средний фактический запас сырья в месторождении 94.88423280885438\n"
     ]
    }
   ],
   "source": [
    "target_valid_0, predicted_valid_0, rmse_0, predicted_valid_mean_0, target_valid_mean_0 = linear(data_0)\n",
    "target_valid_1, predicted_valid_1, rmse_1, predicted_valid_mean_1, target_valid_mean_1 = linear(data_1)\n",
    "target_valid_2, predicted_valid_2, rmse_2, predicted_valid_mean_2, target_valid_mean_2 = linear(data_2)\n",
    "\n",
    "print('Geo_0. Средний запас предсказанного сырья:', predicted_valid_mean_0, 'RMSE:', rmse_0)\n",
    "print('Средний фактический запас сырья в месторождении', target_valid_mean_0)\n",
    "print('Geo_1. Средний запас предсказанного сырья:', predicted_valid_mean_1, 'RMSE:', rmse_1)\n",
    "print('Средний фактический запас сырья в месторождении', target_valid_mean_1)\n",
    "print('Geo_2. Средний запас предсказанного сырья:', predicted_valid_mean_2, 'RMSE:', rmse_2)\n",
    "print('Средний фактический запас сырья в месторождении', target_valid_mean_2)"
   ]
  },
  {
   "cell_type": "code",
   "execution_count": 25,
   "metadata": {},
   "outputs": [
    {
     "name": "stdout",
     "output_type": "stream",
     "text": [
      "Geo_1_del. Средний запас предсказанного сырья: 68.85899112906348 RMSE: 46.006958160915644\n",
      "Средний фактический запас сырья в месторождении 68.72313602435997\n"
     ]
    }
   ],
   "source": [
    "#попробуем удалить признак f2 в data_1\n",
    "#features_del = data_1.drop(['product', 'id', 'f2'], axis=1)\n",
    "#target_del = data_1['product'] \n",
    "#features_del_train, features_del_valid, target_del_train, target_del_valid = train_test_split(features_del, target_del, test_size=0.25, random_state=12345)\n",
    "#model = LinearRegression()    \n",
    "#model.fit(features_del_train, target_del_train)\n",
    "#predicted_del_valid = model.predict(features_del_valid)\n",
    "#rmse_del = mean_squared_error(target_del_valid, predicted_del_valid)**0.5\n",
    "#predicted_del_valid_mean = predicted_del_valid.sum()/len(predicted_del_valid)\n",
    "#target_del_valid_mean =  target_del_valid.sum()/len(target_del_valid)\n",
    "\n",
    "#print('Geo_1_del. Средний запас предсказанного сырья:', predicted_del_valid_mean, 'RMSE:', rmse_del)\n",
    "#print('Средний фактический запас сырья в месторождении', target_del_valid_mean)"
   ]
  },
  {
   "cell_type": "markdown",
   "metadata": {},
   "source": [
    "Характер данных Geo_1 значительно отличается от двух других датафреймов. Высокие значения RMSE, видимо связаны с корреляцией признаков в Geo_1. О запасах сырья в данном регионе также сложно судить, т.к. есть приблизительно 8% нулевых значений целевого признака. Из двух других регионов более привлекательно выглядит Geo_2. Но там также наблюдались умеренные корреляции признаков.  \n",
    "\n",
    "Исправленные данные Ge0_1 дают более близкую к прочим данным RMSE."
   ]
  },
  {
   "cell_type": "markdown",
   "metadata": {},
   "source": [
    "## Подготовка к расчёту прибыли"
   ]
  },
  {
   "cell_type": "code",
   "execution_count": 33,
   "metadata": {},
   "outputs": [
    {
     "name": "stdout",
     "output_type": "stream",
     "text": [
      "Минимальное среднее количество продукта в месторождении, достаточное для разработки 111 тыс.баррелей\n"
     ]
    }
   ],
   "source": [
    "#минимальное среднее количество продукта в месторождениях региона, достаточное для разработки\n",
    "min_mean_product = BUDGET/BEST_POINTS/UNIT_INCOME\n",
    "print('Минимальное среднее количество продукта в месторождении, достаточное для разработки', round(min_mean_product), 'тыс.баррелей')"
   ]
  },
  {
   "cell_type": "markdown",
   "metadata": {},
   "source": [
    "Ни в одном регионе средний фактический запас сырья в месторождениях не превышает уровень безубыточности. Для преодоления уровня безубыточности необходим отбор лучших месторождений. "
   ]
  },
  {
   "cell_type": "code",
   "execution_count": 34,
   "metadata": {},
   "outputs": [],
   "source": [
    "#т.к. следующая функция принимает на вход Series, то напишем функцию для приведения в этот формат\n",
    "def series_type(target, predicted):\n",
    "    target = target.reset_index(drop=True)\n",
    "    predicted = pd.Series(predicted)\n",
    "    return target, predicted"
   ]
  },
  {
   "cell_type": "code",
   "execution_count": 35,
   "metadata": {},
   "outputs": [],
   "source": [
    "# приведем целевые и прогнозные значения по всем регионам к типу Series\n",
    "target_valid_0, predicted_valid_0 = series_type(target_valid_0, predicted_valid_0)\n",
    "target_valid_1, predicted_valid_1 = series_type(target_valid_1, predicted_valid_1)\n",
    "target_valid_2, predicted_valid_2 = series_type(target_valid_2, predicted_valid_2)\n",
    " \n",
    "#target_del_valid, predicted_del_valid = series_type(target_del_valid, predicted_del_valid)"
   ]
  },
  {
   "cell_type": "code",
   "execution_count": 36,
   "metadata": {},
   "outputs": [
    {
     "name": "stdout",
     "output_type": "stream",
     "text": [
      "Предсказанная прибыль Geo_0: 3320826.0 тыс.руб\n",
      "Предсказанная прибыль Geo_1: 2415086.7 тыс.руб\n",
      "Предсказанная прибыль Geo_2: 2710350.0 тыс.руб\n",
      "Предсказанная прибыль Geo_1_del: -4207329.5 тыс.руб\n"
     ]
    }
   ],
   "source": [
    "#функция для подсчета прибыли лучших скважин\n",
    "def profit(target, probabilities, count):\n",
    "    probs_sorted = probabilities.sort_values(ascending=False)\n",
    "    selected = target[probs_sorted.index][:count].sum()\n",
    "    total_income = selected * UNIT_INCOME\n",
    "    return (total_income - BUDGET) \n",
    "\n",
    "print(f'Предсказанная прибыль Geo_0: {profit(target_valid_0.reset_index(drop=True), predicted_valid_0, BEST_POINTS):.1f} тыс.руб')\n",
    "print(f'Предсказанная прибыль Geo_1: {profit(target_valid_1.reset_index(drop=True), predicted_valid_1, BEST_POINTS):.1f} тыс.руб')\n",
    "print(f'Предсказанная прибыль Geo_2: {profit(target_valid_2.reset_index(drop=True), predicted_valid_2, BEST_POINTS):.1f} тыс.руб')\n",
    "\n",
    "#print(f'Предсказанная прибыль Geo_1_del: {profit(target_del_valid.reset_index(drop=True), predicted_del_valid, 200):.1f} тыс.руб')\n"
   ]
  },
  {
   "cell_type": "markdown",
   "metadata": {},
   "source": [
    "Наиболее привлекательно выглядит участок Geo_0. Наименьшую прибыль обещает участок Geo_1, по исправленным данным - компании грозит убыток. Такие результаты получены, скорее всего, из-за дефектов данных."
   ]
  },
  {
   "cell_type": "markdown",
   "metadata": {},
   "source": [
    "## Расчёт прибыли и рисков "
   ]
  },
  {
   "cell_type": "code",
   "execution_count": 74,
   "metadata": {},
   "outputs": [],
   "source": [
    "# функция для бутстрепа на 1000 выборок по 200-м лучшим скважинам\n",
    "def bootstrap(target, predicted):\n",
    "    values = []\n",
    "    state = RandomState(12345)\n",
    "    for i in range(1000): # подвыборки создаются среди 500 скважин\n",
    "        target_subsample = target.sample(n = POINTS, replace=True, random_state=state)\n",
    "        predicted_subsumple = predicted[target_subsample.index]\n",
    "        \n",
    "        target_subsample = target_subsample.reset_index(drop = True)\n",
    "        predicted_subsumple = predicted_subsumple.reset_index(drop = True)\n",
    "        #применяем функцию подсчета прибыли 200 лучших скважин\n",
    "        values.append(profit(target_subsample, predicted_subsumple, BEST_POINTS))\n",
    "    values = pd.Series(values)\n",
    "    values_mean = values.mean() #среднее значение\n",
    "    lower = values.quantile(q=0.025) #нижние 2,5%\n",
    "    upper = values.quantile(q=0.975) #верхние 2,5%\n",
    "    risk = len(values[values < 0]) / len(values) * 100\n",
    "    risk1 = (values < 0).mean() *100\n",
    "    risk2 = stats.percentileofscore(values, 0) \n",
    "    return values_mean, lower, upper, risk, risk1, risk2, values\n"
   ]
  },
  {
   "cell_type": "code",
   "execution_count": 75,
   "metadata": {},
   "outputs": [],
   "source": [
    " #Посчитаем основные параметры для трёх регионов\n",
    "values_mean_0, lower_0, upper_0, risk_0, risk1_0, risk2_0, values_0  = bootstrap(target_valid_0, predicted_valid_0)\n",
    "values_mean_1, lower_1, upper_1, risk_1, risk1_1, risk2_1, values_1  = bootstrap(target_valid_1, predicted_valid_1)\n",
    "values_mean_2, lower_2, upper_2, risk_2, risk1_2, risk2_2, values_2  = bootstrap(target_valid_2, predicted_valid_2)\n",
    "\n",
    "#values_del_mean, lower_del, upper_del, risk_del, risk1_del, risk2_del = bootstrap(target_del_valid, predicted_del_valid)\n",
    "\n"
   ]
  },
  {
   "cell_type": "code",
   "execution_count": 76,
   "metadata": {},
   "outputs": [
    {
     "name": "stdout",
     "output_type": "stream",
     "text": [
      "Нижняя граница доверительного интервала для Geo_0: -111215.5 тыс.руб\n",
      "Верхняя граница доверительного интервала для Geo_0: 909766.9 тыс.руб\n",
      "Среднее значение прибыли 200 лучших месторождений для Geo_0: 396165.0 тыс.руб\n",
      "Риск убытков для Geo_0: 6.9 %\n",
      "Риск убытков для Geo_0: 6.9 %\n",
      "Риск убытков для Geo_0: 6.9 %\n",
      "\n",
      "Нижняя граница доверительного интервала для Geo_1: 33820.5 тыс.руб\n",
      "Верхняя граница доверительного интервала для Geo_1: 852289.5 тыс.руб\n",
      "Среднее значение прибыли 200 лучших месторождений для Geo_1: 456045.1 тыс.руб\n",
      "Риск убытков для Geo_1: 1.5 %\n",
      "Риск убытков для Geo_1: 1.5 %\n",
      "Риск убытков для Geo_1: 1.5 %\n",
      "\n",
      "Нижняя граница доверительного интервала для Geo_2: -163350.4 тыс.руб\n",
      "Верхняя граница доверительного интервала для Geo_2: 950359.6 тыс.руб\n",
      "Среднее значение прибыли 200 лучших месторождений для Geo_2: 404403.9 тыс.руб\n",
      "Риск убытков для Geo_2: 7.6 %\n",
      "Риск убытков для Geo_2: 7.6 %\n",
      "Риск убытков для Geo_2: 7.6 %\n",
      "\n"
     ]
    }
   ],
   "source": [
    "print(f'Нижняя граница доверительного интервала для Geo_0: {lower_0:.1f} тыс.руб')\n",
    "print(f'Верхняя граница доверительного интервала для Geo_0: {upper_0:.1f} тыс.руб')\n",
    "print(f'Среднее значение прибыли 200 лучших месторождений для Geo_0: {values_mean_0:.1f} тыс.руб')\n",
    "print(f'Риск убытков для Geo_0: {risk_0:.1f} %')\n",
    "print(f'Риск убытков для Geo_0: {risk1_0:.1f} %')\n",
    "print(f'Риск убытков для Geo_0: {risk2_0:.1f} %\\n')\n",
    "\n",
    "print(f'Нижняя граница доверительного интервала для Geo_1: {lower_1:.1f} тыс.руб')\n",
    "print(f'Верхняя граница доверительного интервала для Geo_1: {upper_1:.1f} тыс.руб')\n",
    "print(f'Среднее значение прибыли 200 лучших месторождений для Geo_1: {values_mean_1:.1f} тыс.руб')\n",
    "print(f'Риск убытков для Geo_1: {risk_1:.1f} %')\n",
    "print(f'Риск убытков для Geo_1: {risk1_1:.1f} %')\n",
    "print(f'Риск убытков для Geo_1: {risk2_1:.1f} %\\n')\n",
    "\n",
    "print(f'Нижняя граница доверительного интервала для Geo_2: {lower_2:.1f} тыс.руб')\n",
    "print(f'Верхняя граница доверительного интервала для Geo_2: {upper_2:.1f} тыс.руб')\n",
    "print(f'Среднее значение прибыли 200 лучших месторождений для Geo_2: {values_mean_2:.1f} тыс.руб')\n",
    "print(f'Риск убытков для Geo_2: {risk_2:.1f} %')\n",
    "print(f'Риск убытков для Geo_2: {risk1_2:.1f} %')\n",
    "print(f'Риск убытков для Geo_2: {risk2_2:.1f} %\\n')\n",
    "\n",
    "#print(f'Нижняя граница доверительного интервала для Geo_1_испр: {lower_del:.1f} тыс.руб')\n",
    "#print(f'Верхняя граница доверительного интервала для Geo_1_испр: {upper_del:.1f} тыс.руб')\n",
    "#print(f'Среднее значение прибыли 200 лучших месторождений для Geo_0: {values_del_mean:.1f} тыс.руб')\n",
    "#print(f'Риск убытков для Geo_1_испр: {risk_del:.1f} %')\n",
    "#print(f'Риск убытков для Geo_1_испр: {risk2_del:.1f}%\\n')"
   ]
  },
  {
   "cell_type": "code",
   "execution_count": 139,
   "metadata": {},
   "outputs": [
    {
     "data": {
      "image/png": "[encoded data removed]",
      "text/plain": [
       "<Figure size 1440x720 with 1 Axes>"
      ]
     },
     "metadata": {},
     "output_type": "display_data"
    }
   ],
   "source": [
    "sns.set(rc={'figure.figsize':(20,10)})\n",
    "sns_plot = sns.distplot(values_0)\n",
    "plt.suptitle('Geo_0', fontsize=17)\n",
    "plt.xlabel('Прогнозируемая прибыль/убыток млрд. руб', fontsize=15)\n",
    "plt.ylabel('Частота в выборке', fontsize=15)\n",
    "plt.axvline(upper_0, color='green', linestyle='dashed', linewidth=1.5)\n",
    "plt.axvline(lower_0, color='red', linestyle='dashed', linewidth=1.5)\n",
    "plt.axvline(values_mean_0, color='black', linestyle='dashed', linewidth=1.5)\n",
    "fig = sns_plot.get_figure()"
   ]
  },
  {
   "cell_type": "code",
   "execution_count": 136,
   "metadata": {},
   "outputs": [
    {
     "data": {
      "image/png": "[encoded data removed]",
      "text/plain": [
       "<Figure size 1440x720 with 1 Axes>"
      ]
     },
     "metadata": {},
     "output_type": "display_data"
    }
   ],
   "source": [
    "sns.set(rc={'figure.figsize':(20,10)})\n",
    "sns_plot = sns.distplot(values_1)\n",
    "plt.suptitle('Geo_1', fontsize=17)\n",
    "plt.xlabel('Прогнозируемая прибыль/убыток млрд. руб', fontsize=15)\n",
    "plt.ylabel('Частота в выборке', fontsize=15)\n",
    "plt.axvline(upper_1, color='green', linestyle='dashed', linewidth=1.5)\n",
    "plt.axvline(lower_1, color='red', linestyle='dashed', linewidth=1.5)\n",
    "plt.axvline(values_mean_1, color='black', linestyle='dashed', linewidth=1.5)\n",
    "fig = sns_plot.get_figure()"
   ]
  },
  {
   "cell_type": "code",
   "execution_count": 137,
   "metadata": {},
   "outputs": [
    {
     "data": {
      "image/png": "[encoded data removed]",
      "text/plain": [
       "<Figure size 1440x720 with 1 Axes>"
      ]
     },
     "metadata": {},
     "output_type": "display_data"
    }
   ],
   "source": [
    "sns.set(rc={'figure.figsize':(20,10)})\n",
    "sns_plot = sns.distplot(values_0)\n",
    "plt.suptitle('Geo_2', fontsize=17)\n",
    "plt.xlabel('Прогнозируемая прибыль/убыток млрд. руб', fontsize=15)\n",
    "plt.ylabel('Частота в выборке', fontsize=15)\n",
    "plt.axvline(upper_2, color='green', linestyle='dashed', linewidth=1.5)\n",
    "plt.axvline(lower_2, color='red', linestyle='dashed', linewidth=1.5)\n",
    "plt.axvline(values_mean_2, color='black', linestyle='dashed', linewidth=1.5)\n",
    "fig = sns_plot.get_figure()"
   ]
  },
  {
   "cell_type": "code",
   "execution_count": null,
   "metadata": {},
   "outputs": [],
   "source": []
  },
  {
   "cell_type": "markdown",
   "metadata": {},
   "source": [
    "<b>Вывод</b>  \n",
    "На основании проведенного исследования можно предложить регион Geo_0 для разработки.  \n",
    "Данный регион обещает самую высокую среднюю прибыль -  425938.5 тыс.руб., более узкие рамки доверительного интервала (вероятные убытки 102090.1 тыс.руб) и наименьший риск получения убытков - 6%."
   ]
  }
 ],
 "metadata": {
  "ExecuteTimeLog": [
   {
    "duration": 1676,
    "start_time": "2022-12-10T13:56:26.293Z"
   },
   {
    "duration": 4,
    "start_time": "2022-12-10T13:56:27.971Z"
   },
   {
    "duration": 1785,
    "start_time": "2022-12-10T13:56:27.977Z"
   },
   {
    "duration": 13,
    "start_time": "2022-12-10T13:57:47.954Z"
   },
   {
    "duration": 37,
    "start_time": "2022-12-10T14:00:25.943Z"
   },
   {
    "duration": 392,
    "start_time": "2022-12-10T14:00:29.512Z"
   },
   {
    "duration": 39,
    "start_time": "2022-12-10T14:01:07.987Z"
   },
   {
    "duration": 134,
    "start_time": "2022-12-10T14:02:13.110Z"
   },
   {
    "duration": 1127,
    "start_time": "2022-12-10T14:13:15.562Z"
   },
   {
    "duration": 1327,
    "start_time": "2022-12-10T14:13:48.739Z"
   },
   {
    "duration": 1155,
    "start_time": "2022-12-10T14:14:00.203Z"
   },
   {
    "duration": 1209,
    "start_time": "2022-12-10T14:15:44.700Z"
   },
   {
    "duration": 1248,
    "start_time": "2022-12-10T14:20:07.591Z"
   },
   {
    "duration": 1223,
    "start_time": "2022-12-10T14:20:19.323Z"
   },
   {
    "duration": 1249,
    "start_time": "2022-12-10T14:20:41.050Z"
   },
   {
    "duration": 1164,
    "start_time": "2022-12-10T14:20:49.348Z"
   },
   {
    "duration": 41,
    "start_time": "2022-12-10T14:29:32.594Z"
   },
   {
    "duration": 137,
    "start_time": "2022-12-10T14:29:46.931Z"
   },
   {
    "duration": 1523,
    "start_time": "2022-12-10T14:29:48.145Z"
   },
   {
    "duration": 1252,
    "start_time": "2022-12-10T14:30:15.179Z"
   },
   {
    "duration": 362,
    "start_time": "2022-12-10T14:30:35.857Z"
   },
   {
    "duration": 151,
    "start_time": "2022-12-10T14:31:05.263Z"
   },
   {
    "duration": 45,
    "start_time": "2022-12-10T14:31:26.455Z"
   },
   {
    "duration": 40,
    "start_time": "2022-12-10T14:31:40.106Z"
   },
   {
    "duration": 37,
    "start_time": "2022-12-10T14:32:11.506Z"
   },
   {
    "duration": 1151,
    "start_time": "2022-12-10T14:34:46.267Z"
   },
   {
    "duration": 1166,
    "start_time": "2022-12-10T14:56:54.403Z"
   },
   {
    "duration": 916,
    "start_time": "2022-12-10T14:59:18.457Z"
   },
   {
    "duration": 1068,
    "start_time": "2022-12-10T14:59:35.165Z"
   },
   {
    "duration": 1381,
    "start_time": "2022-12-10T15:07:07.384Z"
   },
   {
    "duration": 942,
    "start_time": "2022-12-10T15:07:26.918Z"
   },
   {
    "duration": 997,
    "start_time": "2022-12-10T15:07:37.407Z"
   },
   {
    "duration": 993,
    "start_time": "2022-12-10T15:08:22.444Z"
   },
   {
    "duration": 844,
    "start_time": "2022-12-10T15:08:34.210Z"
   },
   {
    "duration": 870,
    "start_time": "2022-12-10T15:08:57.553Z"
   },
   {
    "duration": 856,
    "start_time": "2022-12-10T15:10:17.051Z"
   },
   {
    "duration": 833,
    "start_time": "2022-12-10T15:10:34.271Z"
   },
   {
    "duration": 861,
    "start_time": "2022-12-10T15:16:03.105Z"
   },
   {
    "duration": 762,
    "start_time": "2022-12-10T15:17:11.430Z"
   },
   {
    "duration": 467,
    "start_time": "2022-12-10T15:17:35.152Z"
   },
   {
    "duration": 907,
    "start_time": "2022-12-10T15:17:53.954Z"
   },
   {
    "duration": 814,
    "start_time": "2022-12-10T15:19:34.751Z"
   },
   {
    "duration": 960,
    "start_time": "2022-12-10T15:43:44.356Z"
   },
   {
    "duration": 983,
    "start_time": "2022-12-10T15:44:09.093Z"
   },
   {
    "duration": 95,
    "start_time": "2022-12-10T15:44:35.592Z"
   },
   {
    "duration": 4,
    "start_time": "2022-12-10T15:45:00.396Z"
   },
   {
    "duration": 430,
    "start_time": "2022-12-10T15:45:17.019Z"
   },
   {
    "duration": 558,
    "start_time": "2022-12-10T15:45:38.786Z"
   },
   {
    "duration": 1398,
    "start_time": "2022-12-10T15:46:09.918Z"
   },
   {
    "duration": 818,
    "start_time": "2022-12-10T15:46:55.167Z"
   },
   {
    "duration": 850,
    "start_time": "2022-12-10T15:47:12.659Z"
   },
   {
    "duration": 916,
    "start_time": "2022-12-10T15:48:53.759Z"
   },
   {
    "duration": 929,
    "start_time": "2022-12-10T15:49:12.563Z"
   },
   {
    "duration": 932,
    "start_time": "2022-12-10T15:49:23.251Z"
   },
   {
    "duration": 22,
    "start_time": "2022-12-10T16:00:03.306Z"
   },
   {
    "duration": 17,
    "start_time": "2022-12-10T16:00:47.962Z"
   },
   {
    "duration": 15,
    "start_time": "2022-12-10T16:14:05.462Z"
   },
   {
    "duration": 34747,
    "start_time": "2022-12-10T16:15:39.142Z"
   },
   {
    "duration": 21,
    "start_time": "2022-12-10T16:16:49.814Z"
   },
   {
    "duration": 101,
    "start_time": "2022-12-10T19:31:23.315Z"
   },
   {
    "duration": 998,
    "start_time": "2022-12-10T19:31:32.500Z"
   },
   {
    "duration": 8,
    "start_time": "2022-12-10T19:33:06.459Z"
   },
   {
    "duration": 1033,
    "start_time": "2022-12-10T19:33:58.683Z"
   },
   {
    "duration": 985,
    "start_time": "2022-12-10T19:34:17.830Z"
   },
   {
    "duration": 1548,
    "start_time": "2022-12-10T19:34:31.763Z"
   },
   {
    "duration": 1502,
    "start_time": "2022-12-10T19:36:20.186Z"
   },
   {
    "duration": 298,
    "start_time": "2022-12-10T19:44:34.005Z"
   },
   {
    "duration": 268,
    "start_time": "2022-12-10T19:45:24.540Z"
   },
   {
    "duration": 270,
    "start_time": "2022-12-10T19:46:49.389Z"
   },
   {
    "duration": 234242,
    "start_time": "2022-12-10T20:00:02.603Z"
   },
   {
    "duration": 9,
    "start_time": "2022-12-10T20:03:56.848Z"
   },
   {
    "duration": 9,
    "start_time": "2022-12-10T20:03:56.859Z"
   },
   {
    "duration": 393,
    "start_time": "2022-12-10T20:03:56.870Z"
   },
   {
    "duration": 39,
    "start_time": "2022-12-10T20:03:57.265Z"
   },
   {
    "duration": 149,
    "start_time": "2022-12-10T20:03:57.306Z"
   },
   {
    "duration": 1735,
    "start_time": "2022-12-11T19:48:42.297Z"
   },
   {
    "duration": 4,
    "start_time": "2022-12-11T19:48:44.833Z"
   },
   {
    "duration": 640,
    "start_time": "2022-12-11T19:48:50.334Z"
   },
   {
    "duration": 39,
    "start_time": "2022-12-11T19:49:16.663Z"
   },
   {
    "duration": 127,
    "start_time": "2022-12-11T19:49:50.957Z"
   },
   {
    "duration": 38,
    "start_time": "2022-12-11T19:50:21.536Z"
   },
   {
    "duration": 128,
    "start_time": "2022-12-11T19:51:00.917Z"
   },
   {
    "duration": 950,
    "start_time": "2022-12-11T19:51:02.277Z"
   },
   {
    "duration": 855,
    "start_time": "2022-12-11T19:51:05.359Z"
   },
   {
    "duration": 834,
    "start_time": "2022-12-11T19:51:06.733Z"
   },
   {
    "duration": 15,
    "start_time": "2022-12-11T19:51:09.618Z"
   },
   {
    "duration": 15,
    "start_time": "2022-12-11T19:51:10.663Z"
   },
   {
    "duration": 7,
    "start_time": "2022-12-11T19:51:12.078Z"
   },
   {
    "duration": 332,
    "start_time": "2022-12-11T19:51:13.036Z"
   },
   {
    "duration": 29350,
    "start_time": "2022-12-11T19:51:14.376Z"
   },
   {
    "duration": 30074,
    "start_time": "2022-12-11T19:52:17.761Z"
   },
   {
    "duration": 205395,
    "start_time": "2022-12-11T19:52:47.838Z"
   },
   {
    "duration": 26,
    "start_time": "2022-12-11T19:56:13.235Z"
   },
   {
    "duration": 51,
    "start_time": "2022-12-11T19:56:13.263Z"
   },
   {
    "duration": 0,
    "start_time": "2022-12-11T19:56:13.315Z"
   },
   {
    "duration": 7,
    "start_time": "2022-12-11T19:57:37.196Z"
   },
   {
    "duration": 8,
    "start_time": "2022-12-11T19:58:08.847Z"
   },
   {
    "duration": 8,
    "start_time": "2022-12-11T19:59:26.238Z"
   },
   {
    "duration": 4,
    "start_time": "2022-12-11T20:02:35.246Z"
   },
   {
    "duration": 400,
    "start_time": "2022-12-11T20:02:41.065Z"
   },
   {
    "duration": 322,
    "start_time": "2022-12-11T20:03:02.042Z"
   },
   {
    "duration": 409,
    "start_time": "2022-12-11T20:03:28.745Z"
   },
   {
    "duration": 351,
    "start_time": "2022-12-11T20:03:46.905Z"
   },
   {
    "duration": 111,
    "start_time": "2022-12-11T20:09:51.046Z"
   },
   {
    "duration": 64,
    "start_time": "2022-12-11T20:11:05.999Z"
   },
   {
    "duration": 5,
    "start_time": "2022-12-11T20:12:08.806Z"
   },
   {
    "duration": 288,
    "start_time": "2022-12-11T20:12:11.478Z"
   },
   {
    "duration": 7,
    "start_time": "2022-12-11T22:04:26.716Z"
   },
   {
    "duration": 6,
    "start_time": "2022-12-11T22:05:05.156Z"
   },
   {
    "duration": 7,
    "start_time": "2022-12-11T22:05:28.617Z"
   },
   {
    "duration": 9,
    "start_time": "2022-12-11T22:53:41.163Z"
   },
   {
    "duration": 3,
    "start_time": "2022-12-11T22:53:48.091Z"
   },
   {
    "duration": 3,
    "start_time": "2022-12-11T22:53:49.675Z"
   },
   {
    "duration": 4,
    "start_time": "2022-12-11T22:54:35.282Z"
   },
   {
    "duration": 4,
    "start_time": "2022-12-11T22:55:04.123Z"
   },
   {
    "duration": 5,
    "start_time": "2022-12-11T22:59:49.050Z"
   },
   {
    "duration": 1575,
    "start_time": "2022-12-12T17:03:38.983Z"
   },
   {
    "duration": 3,
    "start_time": "2022-12-12T17:03:40.560Z"
   },
   {
    "duration": 655,
    "start_time": "2022-12-12T17:03:40.565Z"
   },
   {
    "duration": 38,
    "start_time": "2022-12-12T17:03:41.222Z"
   },
   {
    "duration": 131,
    "start_time": "2022-12-12T17:03:41.262Z"
   },
   {
    "duration": 940,
    "start_time": "2022-12-12T17:03:41.395Z"
   },
   {
    "duration": 916,
    "start_time": "2022-12-12T17:03:42.337Z"
   },
   {
    "duration": 882,
    "start_time": "2022-12-12T17:03:43.255Z"
   },
   {
    "duration": 21,
    "start_time": "2022-12-12T17:03:44.139Z"
   },
   {
    "duration": 14,
    "start_time": "2022-12-12T17:03:44.162Z"
   },
   {
    "duration": 8,
    "start_time": "2022-12-12T17:03:44.177Z"
   },
   {
    "duration": 6,
    "start_time": "2022-12-12T17:03:44.186Z"
   },
   {
    "duration": 369,
    "start_time": "2022-12-12T17:03:44.193Z"
   },
   {
    "duration": 30259,
    "start_time": "2022-12-12T17:03:44.564Z"
   },
   {
    "duration": 205740,
    "start_time": "2022-12-12T17:04:14.825Z"
   },
   {
    "duration": 16,
    "start_time": "2022-12-12T17:07:40.567Z"
   },
   {
    "duration": 6,
    "start_time": "2022-12-12T17:07:40.584Z"
   },
   {
    "duration": 463,
    "start_time": "2022-12-12T17:07:40.592Z"
   },
   {
    "duration": 6,
    "start_time": "2022-12-12T17:07:41.057Z"
   },
   {
    "duration": 105,
    "start_time": "2022-12-12T17:07:41.066Z"
   },
   {
    "duration": 7,
    "start_time": "2022-12-13T06:48:08.610Z"
   },
   {
    "duration": 14,
    "start_time": "2022-12-13T06:48:08.618Z"
   },
   {
    "duration": 381,
    "start_time": "2022-12-13T06:48:08.775Z"
   },
   {
    "duration": 37,
    "start_time": "2022-12-13T06:48:09.159Z"
   },
   {
    "duration": 148,
    "start_time": "2022-12-13T06:48:09.199Z"
   },
   {
    "duration": 872,
    "start_time": "2022-12-13T06:48:09.350Z"
   },
   {
    "duration": 904,
    "start_time": "2022-12-13T06:48:10.225Z"
   },
   {
    "duration": 891,
    "start_time": "2022-12-13T06:48:11.131Z"
   },
   {
    "duration": 32,
    "start_time": "2022-12-13T06:48:12.024Z"
   },
   {
    "duration": 16,
    "start_time": "2022-12-13T06:48:12.058Z"
   },
   {
    "duration": 8,
    "start_time": "2022-12-13T06:48:12.076Z"
   },
   {
    "duration": 8,
    "start_time": "2022-12-13T06:48:12.086Z"
   },
   {
    "duration": 311,
    "start_time": "2022-12-13T06:48:12.096Z"
   },
   {
    "duration": 30388,
    "start_time": "2022-12-13T06:48:12.409Z"
   },
   {
    "duration": 205182,
    "start_time": "2022-12-13T06:48:42.798Z"
   },
   {
    "duration": 16,
    "start_time": "2022-12-13T06:52:07.982Z"
   },
   {
    "duration": 17,
    "start_time": "2022-12-13T06:52:07.999Z"
   },
   {
    "duration": 449,
    "start_time": "2022-12-13T06:52:08.018Z"
   },
   {
    "duration": 86,
    "start_time": "2022-12-13T06:52:08.470Z"
   },
   {
    "duration": 96,
    "start_time": "2022-12-13T06:52:08.560Z"
   },
   {
    "duration": 121,
    "start_time": "2022-12-13T06:56:45.400Z"
   },
   {
    "duration": 26,
    "start_time": "2022-12-13T06:56:59.455Z"
   },
   {
    "duration": 4,
    "start_time": "2022-12-13T08:30:10.721Z"
   },
   {
    "duration": 288,
    "start_time": "2022-12-13T08:30:27.747Z"
   },
   {
    "duration": 110,
    "start_time": "2022-12-13T08:36:03.080Z"
   },
   {
    "duration": 16,
    "start_time": "2022-12-13T08:36:12.551Z"
   },
   {
    "duration": 11,
    "start_time": "2022-12-13T08:36:20.339Z"
   },
   {
    "duration": 13,
    "start_time": "2022-12-13T08:36:38.271Z"
   },
   {
    "duration": 9,
    "start_time": "2022-12-13T08:36:38.288Z"
   },
   {
    "duration": 467,
    "start_time": "2022-12-13T08:36:38.299Z"
   },
   {
    "duration": 47,
    "start_time": "2022-12-13T08:36:38.769Z"
   },
   {
    "duration": 183,
    "start_time": "2022-12-13T08:36:38.818Z"
   },
   {
    "duration": 1022,
    "start_time": "2022-12-13T08:36:39.003Z"
   },
   {
    "duration": 1027,
    "start_time": "2022-12-13T08:36:40.027Z"
   },
   {
    "duration": 1038,
    "start_time": "2022-12-13T08:36:41.063Z"
   },
   {
    "duration": 17,
    "start_time": "2022-12-13T08:36:42.102Z"
   },
   {
    "duration": 51,
    "start_time": "2022-12-13T08:36:42.122Z"
   },
   {
    "duration": 17,
    "start_time": "2022-12-13T08:36:42.176Z"
   },
   {
    "duration": 9,
    "start_time": "2022-12-13T08:36:42.196Z"
   },
   {
    "duration": 338,
    "start_time": "2022-12-13T08:36:42.207Z"
   },
   {
    "duration": 37039,
    "start_time": "2022-12-13T08:36:42.548Z"
   },
   {
    "duration": 248473,
    "start_time": "2022-12-13T08:37:19.589Z"
   },
   {
    "duration": 23,
    "start_time": "2022-12-13T08:41:28.066Z"
   },
   {
    "duration": 8,
    "start_time": "2022-12-13T08:41:28.091Z"
   },
   {
    "duration": 389,
    "start_time": "2022-12-13T08:41:28.101Z"
   },
   {
    "duration": 186,
    "start_time": "2022-12-13T08:41:28.493Z"
   },
   {
    "duration": 72,
    "start_time": "2022-12-13T08:41:28.686Z"
   },
   {
    "duration": 36,
    "start_time": "2022-12-13T08:41:28.766Z"
   },
   {
    "duration": 0,
    "start_time": "2022-12-13T08:41:28.875Z"
   },
   {
    "duration": 25,
    "start_time": "2022-12-13T08:43:53.251Z"
   },
   {
    "duration": 17,
    "start_time": "2022-12-13T08:44:26.943Z"
   },
   {
    "duration": 4,
    "start_time": "2022-12-13T08:46:48.151Z"
   },
   {
    "duration": 12,
    "start_time": "2022-12-13T08:47:39.914Z"
   },
   {
    "duration": 15,
    "start_time": "2022-12-13T08:47:51.794Z"
   },
   {
    "duration": 10,
    "start_time": "2022-12-13T08:48:23.383Z"
   },
   {
    "duration": 233,
    "start_time": "2022-12-13T08:49:48.682Z"
   },
   {
    "duration": 12,
    "start_time": "2022-12-13T08:49:55.441Z"
   },
   {
    "duration": 4,
    "start_time": "2022-12-13T08:51:37.230Z"
   },
   {
    "duration": 32,
    "start_time": "2022-12-13T08:51:55.249Z"
   },
   {
    "duration": 27,
    "start_time": "2022-12-13T08:52:06.053Z"
   },
   {
    "duration": 5,
    "start_time": "2022-12-13T09:14:47.071Z"
   },
   {
    "duration": 5,
    "start_time": "2022-12-13T09:14:49.616Z"
   },
   {
    "duration": 28,
    "start_time": "2022-12-13T09:14:51.817Z"
   },
   {
    "duration": 31,
    "start_time": "2022-12-13T09:16:01.092Z"
   },
   {
    "duration": 3,
    "start_time": "2022-12-13T09:18:59.370Z"
   },
   {
    "duration": 4,
    "start_time": "2022-12-13T09:19:00.810Z"
   },
   {
    "duration": 26,
    "start_time": "2022-12-13T09:21:48.843Z"
   },
   {
    "duration": 28,
    "start_time": "2022-12-13T09:23:01.086Z"
   },
   {
    "duration": 40,
    "start_time": "2022-12-13T09:28:24.570Z"
   },
   {
    "duration": 32,
    "start_time": "2022-12-13T09:28:34.862Z"
   },
   {
    "duration": 6,
    "start_time": "2022-12-13T09:31:03.559Z"
   },
   {
    "duration": 26,
    "start_time": "2022-12-13T09:31:25.870Z"
   },
   {
    "duration": 36,
    "start_time": "2022-12-13T09:32:26.388Z"
   },
   {
    "duration": 26,
    "start_time": "2022-12-13T09:39:51.063Z"
   },
   {
    "duration": 8,
    "start_time": "2022-12-13T10:08:53.711Z"
   },
   {
    "duration": 12,
    "start_time": "2022-12-13T10:08:55.708Z"
   },
   {
    "duration": 17,
    "start_time": "2022-12-13T10:09:49.519Z"
   },
   {
    "duration": 7,
    "start_time": "2022-12-13T10:10:25.410Z"
   },
   {
    "duration": 5338,
    "start_time": "2022-12-13T10:10:26.485Z"
   },
   {
    "duration": 6,
    "start_time": "2022-12-13T10:11:35.760Z"
   },
   {
    "duration": 11,
    "start_time": "2022-12-13T10:11:40.066Z"
   },
   {
    "duration": 6,
    "start_time": "2022-12-13T10:21:29.691Z"
   },
   {
    "duration": 5038,
    "start_time": "2022-12-13T10:21:41.007Z"
   },
   {
    "duration": 9,
    "start_time": "2022-12-13T10:21:46.047Z"
   },
   {
    "duration": 5,
    "start_time": "2022-12-13T10:21:46.058Z"
   },
   {
    "duration": 14,
    "start_time": "2022-12-13T10:26:54.649Z"
   },
   {
    "duration": 5,
    "start_time": "2022-12-13T10:27:11.292Z"
   },
   {
    "duration": 6814,
    "start_time": "2022-12-13T10:27:12.931Z"
   },
   {
    "duration": 9,
    "start_time": "2022-12-13T10:27:19.747Z"
   },
   {
    "duration": 6651,
    "start_time": "2022-12-13T10:27:27.881Z"
   },
   {
    "duration": 7,
    "start_time": "2022-12-13T10:27:34.535Z"
   },
   {
    "duration": 6,
    "start_time": "2022-12-13T10:27:36.073Z"
   },
   {
    "duration": 13,
    "start_time": "2022-12-13T10:29:31.070Z"
   },
   {
    "duration": 10,
    "start_time": "2022-12-13T10:30:16.070Z"
   },
   {
    "duration": 6,
    "start_time": "2022-12-13T10:30:38.409Z"
   },
   {
    "duration": 5,
    "start_time": "2022-12-13T10:32:33.952Z"
   },
   {
    "duration": 5,
    "start_time": "2022-12-13T10:48:07.178Z"
   },
   {
    "duration": 44,
    "start_time": "2022-12-13T10:48:28.743Z"
   },
   {
    "duration": 55,
    "start_time": "2022-12-13T10:48:33.597Z"
   },
   {
    "duration": 59,
    "start_time": "2022-12-13T10:48:44.708Z"
   },
   {
    "duration": 13,
    "start_time": "2022-12-13T10:48:51.261Z"
   },
   {
    "duration": 12,
    "start_time": "2022-12-13T10:49:19.943Z"
   },
   {
    "duration": 126,
    "start_time": "2022-12-13T10:50:02.993Z"
   },
   {
    "duration": 50,
    "start_time": "2022-12-13T10:51:09.399Z"
   },
   {
    "duration": 12,
    "start_time": "2022-12-13T10:51:17.503Z"
   },
   {
    "duration": 15,
    "start_time": "2022-12-13T10:52:26.354Z"
   },
   {
    "duration": 6,
    "start_time": "2022-12-13T10:52:48.534Z"
   },
   {
    "duration": 27,
    "start_time": "2022-12-13T10:58:51.287Z"
   },
   {
    "duration": 7,
    "start_time": "2022-12-13T11:00:50.534Z"
   },
   {
    "duration": 8,
    "start_time": "2022-12-13T11:03:07.123Z"
   },
   {
    "duration": 7,
    "start_time": "2022-12-13T11:04:37.441Z"
   },
   {
    "duration": 7,
    "start_time": "2022-12-13T11:12:43.432Z"
   },
   {
    "duration": 7,
    "start_time": "2022-12-13T11:12:51.317Z"
   },
   {
    "duration": 7375,
    "start_time": "2022-12-13T11:12:53.111Z"
   },
   {
    "duration": 8,
    "start_time": "2022-12-13T11:13:00.489Z"
   },
   {
    "duration": 24,
    "start_time": "2022-12-13T11:13:00.499Z"
   },
   {
    "duration": 10,
    "start_time": "2022-12-13T11:13:24.084Z"
   },
   {
    "duration": 4,
    "start_time": "2022-12-13T11:13:24.859Z"
   },
   {
    "duration": 578,
    "start_time": "2022-12-13T11:13:25.569Z"
   },
   {
    "duration": 49,
    "start_time": "2022-12-13T11:13:26.235Z"
   },
   {
    "duration": 179,
    "start_time": "2022-12-13T11:13:27.310Z"
   },
   {
    "duration": 1124,
    "start_time": "2022-12-13T11:13:28.898Z"
   },
   {
    "duration": 1255,
    "start_time": "2022-12-13T11:13:30.025Z"
   },
   {
    "duration": 1019,
    "start_time": "2022-12-13T11:13:33.300Z"
   },
   {
    "duration": 17,
    "start_time": "2022-12-13T11:13:36.833Z"
   },
   {
    "duration": 19,
    "start_time": "2022-12-13T11:13:38.420Z"
   },
   {
    "duration": 10,
    "start_time": "2022-12-13T11:13:39.546Z"
   },
   {
    "duration": 10,
    "start_time": "2022-12-13T11:13:40.827Z"
   },
   {
    "duration": 323,
    "start_time": "2022-12-13T11:13:41.901Z"
   },
   {
    "duration": 33962,
    "start_time": "2022-12-13T11:13:44.005Z"
   },
   {
    "duration": 232704,
    "start_time": "2022-12-13T11:18:09.104Z"
   },
   {
    "duration": 16,
    "start_time": "2022-12-13T11:22:01.810Z"
   },
   {
    "duration": 30,
    "start_time": "2022-12-13T11:22:01.828Z"
   },
   {
    "duration": 314,
    "start_time": "2022-12-13T11:22:01.860Z"
   },
   {
    "duration": 184,
    "start_time": "2022-12-13T11:22:02.178Z"
   },
   {
    "duration": 91,
    "start_time": "2022-12-13T11:22:02.365Z"
   },
   {
    "duration": 29,
    "start_time": "2022-12-13T11:22:02.458Z"
   },
   {
    "duration": 6,
    "start_time": "2022-12-13T11:22:02.489Z"
   },
   {
    "duration": 14,
    "start_time": "2022-12-13T11:22:02.497Z"
   },
   {
    "duration": 33,
    "start_time": "2022-12-13T11:22:02.513Z"
   },
   {
    "duration": 10,
    "start_time": "2022-12-13T11:22:02.548Z"
   },
   {
    "duration": 7356,
    "start_time": "2022-12-13T11:22:02.566Z"
   },
   {
    "duration": 8,
    "start_time": "2022-12-13T11:22:09.924Z"
   },
   {
    "duration": 14,
    "start_time": "2022-12-13T11:22:09.934Z"
   },
   {
    "duration": 5,
    "start_time": "2022-12-13T11:23:46.832Z"
   },
   {
    "duration": 7690,
    "start_time": "2022-12-13T11:23:47.601Z"
   },
   {
    "duration": 8,
    "start_time": "2022-12-13T11:23:55.294Z"
   },
   {
    "duration": 15,
    "start_time": "2022-12-13T11:23:55.305Z"
   },
   {
    "duration": 10,
    "start_time": "2022-12-13T11:24:11.414Z"
   },
   {
    "duration": 5,
    "start_time": "2022-12-13T11:24:38.955Z"
   },
   {
    "duration": 5,
    "start_time": "2022-12-13T11:24:40.437Z"
   },
   {
    "duration": 4,
    "start_time": "2022-12-13T11:24:44.076Z"
   },
   {
    "duration": 6,
    "start_time": "2022-12-13T11:24:44.947Z"
   },
   {
    "duration": 35,
    "start_time": "2022-12-13T11:24:46.633Z"
   },
   {
    "duration": 5,
    "start_time": "2022-12-13T11:24:56.876Z"
   },
   {
    "duration": 7438,
    "start_time": "2022-12-13T11:24:58.775Z"
   },
   {
    "duration": 8,
    "start_time": "2022-12-13T11:25:06.216Z"
   },
   {
    "duration": 10,
    "start_time": "2022-12-13T11:25:26.314Z"
   },
   {
    "duration": 5,
    "start_time": "2022-12-13T11:25:48.227Z"
   },
   {
    "duration": 7906,
    "start_time": "2022-12-13T11:25:49.204Z"
   },
   {
    "duration": 7,
    "start_time": "2022-12-13T11:25:57.112Z"
   },
   {
    "duration": 13,
    "start_time": "2022-12-13T11:25:57.120Z"
   },
   {
    "duration": 4,
    "start_time": "2022-12-13T11:26:23.607Z"
   },
   {
    "duration": 5,
    "start_time": "2022-12-13T11:26:26.930Z"
   },
   {
    "duration": 4,
    "start_time": "2022-12-13T11:27:13.277Z"
   },
   {
    "duration": 6,
    "start_time": "2022-12-13T11:27:19.386Z"
   },
   {
    "duration": 29,
    "start_time": "2022-12-13T11:27:38.571Z"
   },
   {
    "duration": 29,
    "start_time": "2022-12-13T11:28:34.375Z"
   },
   {
    "duration": 7,
    "start_time": "2022-12-13T11:29:50.871Z"
   },
   {
    "duration": 7219,
    "start_time": "2022-12-13T11:29:51.692Z"
   },
   {
    "duration": 7,
    "start_time": "2022-12-13T11:29:58.913Z"
   },
   {
    "duration": 12,
    "start_time": "2022-12-13T11:29:58.923Z"
   },
   {
    "duration": 8,
    "start_time": "2022-12-13T11:47:45.250Z"
   },
   {
    "duration": 6236,
    "start_time": "2022-12-13T11:47:47.098Z"
   },
   {
    "duration": 7,
    "start_time": "2022-12-13T11:47:53.336Z"
   },
   {
    "duration": 33,
    "start_time": "2022-12-13T11:47:53.345Z"
   },
   {
    "duration": 7,
    "start_time": "2022-12-13T11:49:58.226Z"
   },
   {
    "duration": 7,
    "start_time": "2022-12-13T11:50:35.338Z"
   },
   {
    "duration": 8,
    "start_time": "2022-12-13T11:52:41.342Z"
   },
   {
    "duration": 438,
    "start_time": "2022-12-13T16:08:30.940Z"
   },
   {
    "duration": 9,
    "start_time": "2022-12-13T16:09:25.265Z"
   },
   {
    "duration": 9,
    "start_time": "2022-12-13T16:09:46.149Z"
   },
   {
    "duration": 44,
    "start_time": "2022-12-13T17:11:53.162Z"
   },
   {
    "duration": 1474,
    "start_time": "2022-12-13T17:12:41.752Z"
   },
   {
    "duration": 3,
    "start_time": "2022-12-13T17:12:44.722Z"
   },
   {
    "duration": 2183,
    "start_time": "2022-12-13T17:12:45.490Z"
   },
   {
    "duration": 31,
    "start_time": "2022-12-13T17:12:47.675Z"
   },
   {
    "duration": 108,
    "start_time": "2022-12-13T17:12:47.845Z"
   },
   {
    "duration": 840,
    "start_time": "2022-12-13T17:13:02.745Z"
   },
   {
    "duration": 760,
    "start_time": "2022-12-13T17:13:27.783Z"
   },
   {
    "duration": 758,
    "start_time": "2022-12-13T17:13:32.865Z"
   },
   {
    "duration": 967,
    "start_time": "2022-12-13T17:14:21.799Z"
   },
   {
    "duration": 737,
    "start_time": "2022-12-13T17:14:33.946Z"
   },
   {
    "duration": 818,
    "start_time": "2022-12-13T17:14:40.948Z"
   },
   {
    "duration": 15,
    "start_time": "2022-12-13T17:14:43.616Z"
   },
   {
    "duration": 15,
    "start_time": "2022-12-13T17:14:44.788Z"
   },
   {
    "duration": 9,
    "start_time": "2022-12-13T17:14:47.452Z"
   },
   {
    "duration": 8,
    "start_time": "2022-12-13T17:14:55.028Z"
   },
   {
    "duration": 77,
    "start_time": "2022-12-13T17:15:30.818Z"
   },
   {
    "duration": 268,
    "start_time": "2022-12-13T17:15:59.746Z"
   },
   {
    "duration": 75,
    "start_time": "2022-12-13T17:16:03.487Z"
   },
   {
    "duration": 6,
    "start_time": "2022-12-13T17:16:08.092Z"
   },
   {
    "duration": 352,
    "start_time": "2022-12-13T17:16:09.117Z"
   },
   {
    "duration": 79,
    "start_time": "2022-12-13T17:16:10.397Z"
   },
   {
    "duration": 84,
    "start_time": "2022-12-13T17:16:28.214Z"
   },
   {
    "duration": 88,
    "start_time": "2022-12-13T17:16:38.454Z"
   },
   {
    "duration": 81,
    "start_time": "2022-12-13T17:20:18.926Z"
   },
   {
    "duration": 297,
    "start_time": "2022-12-13T17:25:07.494Z"
   },
   {
    "duration": 26614,
    "start_time": "2022-12-13T17:25:45.663Z"
   },
   {
    "duration": 311,
    "start_time": "2022-12-13T17:26:12.279Z"
   },
   {
    "duration": 66,
    "start_time": "2022-12-13T21:15:24.301Z"
   },
   {
    "duration": 2031,
    "start_time": "2022-12-13T21:15:40.378Z"
   },
   {
    "duration": 16,
    "start_time": "2022-12-13T21:15:44.875Z"
   },
   {
    "duration": 2652,
    "start_time": "2022-12-13T21:15:45.792Z"
   },
   {
    "duration": 66,
    "start_time": "2022-12-13T21:15:48.446Z"
   },
   {
    "duration": 202,
    "start_time": "2022-12-13T21:15:49.018Z"
   },
   {
    "duration": 1273,
    "start_time": "2022-12-13T21:15:53.782Z"
   },
   {
    "duration": 1141,
    "start_time": "2022-12-13T21:15:55.061Z"
   },
   {
    "duration": 1120,
    "start_time": "2022-12-13T21:15:56.205Z"
   },
   {
    "duration": 20,
    "start_time": "2022-12-13T21:16:01.920Z"
   },
   {
    "duration": 22,
    "start_time": "2022-12-13T21:16:05.778Z"
   },
   {
    "duration": 11,
    "start_time": "2022-12-13T21:16:07.399Z"
   },
   {
    "duration": 8,
    "start_time": "2022-12-13T21:16:08.424Z"
   },
   {
    "duration": 464,
    "start_time": "2022-12-13T21:16:09.866Z"
   },
   {
    "duration": 379,
    "start_time": "2022-12-13T21:16:44.929Z"
   },
   {
    "duration": 1550,
    "start_time": "2022-12-13T21:17:16.012Z"
   },
   {
    "duration": 1275,
    "start_time": "2022-12-13T21:17:46.626Z"
   },
   {
    "duration": 1209,
    "start_time": "2022-12-13T21:19:16.895Z"
   },
   {
    "duration": 1147,
    "start_time": "2022-12-13T21:19:42.679Z"
   },
   {
    "duration": 1120,
    "start_time": "2022-12-13T21:22:32.078Z"
   },
   {
    "duration": 1227,
    "start_time": "2022-12-13T21:23:10.113Z"
   },
   {
    "duration": 1173,
    "start_time": "2022-12-13T21:23:19.178Z"
   },
   {
    "duration": 71,
    "start_time": "2022-12-14T12:02:45.916Z"
   },
   {
    "duration": 76,
    "start_time": "2022-12-14T12:19:28.025Z"
   },
   {
    "duration": 41,
    "start_time": "2022-12-14T12:40:46.657Z"
   },
   {
    "duration": 7,
    "start_time": "2022-12-14T12:40:56.538Z"
   },
   {
    "duration": 8,
    "start_time": "2022-12-14T12:41:03.044Z"
   },
   {
    "duration": 1559,
    "start_time": "2022-12-14T12:41:20.914Z"
   },
   {
    "duration": 3,
    "start_time": "2022-12-14T12:41:24.647Z"
   },
   {
    "duration": 3,
    "start_time": "2022-12-14T12:41:40.929Z"
   },
   {
    "duration": 1596,
    "start_time": "2022-12-14T12:41:41.952Z"
   },
   {
    "duration": 33,
    "start_time": "2022-12-14T12:41:43.550Z"
   },
   {
    "duration": 138,
    "start_time": "2022-12-14T12:41:43.584Z"
   },
   {
    "duration": 872,
    "start_time": "2022-12-14T12:41:44.001Z"
   },
   {
    "duration": 899,
    "start_time": "2022-12-14T12:41:44.875Z"
   },
   {
    "duration": 795,
    "start_time": "2022-12-14T12:41:46.201Z"
   },
   {
    "duration": 15,
    "start_time": "2022-12-14T12:41:50.196Z"
   },
   {
    "duration": 15,
    "start_time": "2022-12-14T12:41:50.982Z"
   },
   {
    "duration": 9,
    "start_time": "2022-12-14T12:41:52.866Z"
   },
   {
    "duration": 6,
    "start_time": "2022-12-14T12:41:54.087Z"
   },
   {
    "duration": 373,
    "start_time": "2022-12-14T12:41:55.213Z"
   },
   {
    "duration": 30177,
    "start_time": "2022-12-14T12:41:58.704Z"
   },
   {
    "duration": 192010,
    "start_time": "2022-12-14T12:42:28.883Z"
   },
   {
    "duration": 17,
    "start_time": "2022-12-14T12:45:56.524Z"
   },
   {
    "duration": 6,
    "start_time": "2022-12-14T12:46:04.102Z"
   },
   {
    "duration": 286,
    "start_time": "2022-12-14T12:46:06.149Z"
   },
   {
    "duration": 23,
    "start_time": "2022-12-14T12:46:08.608Z"
   },
   {
    "duration": 3,
    "start_time": "2022-12-14T12:46:25.913Z"
   },
   {
    "duration": 4,
    "start_time": "2022-12-14T12:46:31.397Z"
   },
   {
    "duration": 4,
    "start_time": "2022-12-14T12:46:33.238Z"
   },
   {
    "duration": 74,
    "start_time": "2022-12-14T12:46:36.512Z"
   },
   {
    "duration": 32,
    "start_time": "2022-12-14T12:47:23.207Z"
   },
   {
    "duration": 8,
    "start_time": "2022-12-14T12:47:52.801Z"
   },
   {
    "duration": 5,
    "start_time": "2022-12-14T13:13:48.803Z"
   },
   {
    "duration": 4,
    "start_time": "2022-12-14T13:20:51.261Z"
   },
   {
    "duration": 4,
    "start_time": "2022-12-14T13:20:57.555Z"
   },
   {
    "duration": 5,
    "start_time": "2022-12-14T13:20:58.426Z"
   },
   {
    "duration": 23,
    "start_time": "2022-12-14T13:21:01.720Z"
   },
   {
    "duration": 5,
    "start_time": "2022-12-14T13:21:07.399Z"
   },
   {
    "duration": 15,
    "start_time": "2022-12-14T13:25:16.637Z"
   },
   {
    "duration": 5,
    "start_time": "2022-12-14T13:25:46.690Z"
   },
   {
    "duration": 4481,
    "start_time": "2022-12-14T13:25:50.578Z"
   },
   {
    "duration": 0,
    "start_time": "2022-12-14T13:25:55.062Z"
   },
   {
    "duration": 4166,
    "start_time": "2022-12-14T13:26:41.268Z"
   },
   {
    "duration": 7,
    "start_time": "2022-12-14T13:26:45.436Z"
   },
   {
    "duration": 4,
    "start_time": "2022-12-14T13:28:08.517Z"
   },
   {
    "duration": 5102,
    "start_time": "2022-12-14T13:28:11.228Z"
   },
   {
    "duration": 7,
    "start_time": "2022-12-14T13:28:16.331Z"
   },
   {
    "duration": 5,
    "start_time": "2022-12-14T13:30:15.390Z"
   },
   {
    "duration": 4227,
    "start_time": "2022-12-14T13:30:23.993Z"
   },
   {
    "duration": 9,
    "start_time": "2022-12-14T13:30:28.222Z"
   },
   {
    "duration": 6,
    "start_time": "2022-12-14T13:32:54.832Z"
   },
   {
    "duration": 4455,
    "start_time": "2022-12-14T13:32:57.442Z"
   },
   {
    "duration": 7,
    "start_time": "2022-12-14T13:33:01.899Z"
   },
   {
    "duration": 5,
    "start_time": "2022-12-14T13:33:49.668Z"
   },
   {
    "duration": 7,
    "start_time": "2022-12-14T13:34:20.604Z"
   },
   {
    "duration": 7,
    "start_time": "2022-12-14T13:34:33.084Z"
   },
   {
    "duration": 5,
    "start_time": "2022-12-14T13:34:44.400Z"
   },
   {
    "duration": 4308,
    "start_time": "2022-12-14T13:34:50.391Z"
   },
   {
    "duration": 7,
    "start_time": "2022-12-14T13:34:54.701Z"
   },
   {
    "duration": 5,
    "start_time": "2022-12-14T13:35:40.529Z"
   },
   {
    "duration": 4250,
    "start_time": "2022-12-14T13:35:45.124Z"
   },
   {
    "duration": 7,
    "start_time": "2022-12-14T13:35:49.376Z"
   },
   {
    "duration": 4,
    "start_time": "2022-12-14T14:15:55.944Z"
   },
   {
    "duration": 1093,
    "start_time": "2022-12-14T14:15:59.760Z"
   },
   {
    "duration": 0,
    "start_time": "2022-12-14T14:16:00.855Z"
   },
   {
    "duration": 5,
    "start_time": "2022-12-14T14:17:20.858Z"
   },
   {
    "duration": 5,
    "start_time": "2022-12-14T14:17:28.546Z"
   },
   {
    "duration": 4335,
    "start_time": "2022-12-14T14:17:31.728Z"
   },
   {
    "duration": 11,
    "start_time": "2022-12-14T14:17:36.065Z"
   },
   {
    "duration": 7,
    "start_time": "2022-12-14T14:31:35.329Z"
   },
   {
    "duration": 9,
    "start_time": "2022-12-14T14:32:29.687Z"
   },
   {
    "duration": 7,
    "start_time": "2022-12-14T14:34:36.404Z"
   },
   {
    "duration": 10,
    "start_time": "2022-12-14T14:41:43.088Z"
   },
   {
    "duration": 6,
    "start_time": "2022-12-14T14:41:54.428Z"
   },
   {
    "duration": 2138,
    "start_time": "2022-12-14T14:41:57.936Z"
   },
   {
    "duration": 0,
    "start_time": "2022-12-14T14:42:00.077Z"
   },
   {
    "duration": 259,
    "start_time": "2022-12-14T14:42:05.592Z"
   },
   {
    "duration": 5,
    "start_time": "2022-12-14T14:43:46.866Z"
   },
   {
    "duration": 3505,
    "start_time": "2022-12-14T14:43:49.322Z"
   },
   {
    "duration": 7,
    "start_time": "2022-12-14T14:43:53.114Z"
   },
   {
    "duration": 263,
    "start_time": "2022-12-14T14:43:55.078Z"
   },
   {
    "duration": 289,
    "start_time": "2022-12-14T14:43:55.981Z"
   },
   {
    "duration": 258,
    "start_time": "2022-12-14T14:43:58.028Z"
   },
   {
    "duration": 302,
    "start_time": "2022-12-14T14:55:57.826Z"
   },
   {
    "duration": 299,
    "start_time": "2022-12-14T14:56:09.189Z"
   },
   {
    "duration": 323,
    "start_time": "2022-12-14T14:56:19.823Z"
   },
   {
    "duration": 266,
    "start_time": "2022-12-14T14:56:31.221Z"
   },
   {
    "duration": 258,
    "start_time": "2022-12-14T14:56:42.289Z"
   },
   {
    "duration": 266,
    "start_time": "2022-12-14T14:56:55.160Z"
   },
   {
    "duration": 376,
    "start_time": "2022-12-14T14:57:50.714Z"
   },
   {
    "duration": 382,
    "start_time": "2022-12-14T14:58:00.382Z"
   },
   {
    "duration": 588,
    "start_time": "2022-12-14T14:58:07.572Z"
   },
   {
    "duration": 20,
    "start_time": "2022-12-14T15:06:29.894Z"
   },
   {
    "duration": 13,
    "start_time": "2022-12-14T15:08:18.023Z"
   },
   {
    "duration": 18,
    "start_time": "2022-12-14T15:08:36.156Z"
   },
   {
    "duration": 232,
    "start_time": "2022-12-14T15:16:20.910Z"
   },
   {
    "duration": 214,
    "start_time": "2022-12-14T15:16:27.360Z"
   },
   {
    "duration": 235,
    "start_time": "2022-12-14T15:16:36.974Z"
   },
   {
    "duration": 249,
    "start_time": "2022-12-14T15:19:12.123Z"
   },
   {
    "duration": 231,
    "start_time": "2022-12-14T15:20:31.110Z"
   },
   {
    "duration": 245,
    "start_time": "2022-12-14T15:21:19.611Z"
   },
   {
    "duration": 232,
    "start_time": "2022-12-14T15:21:47.651Z"
   },
   {
    "duration": 259,
    "start_time": "2022-12-14T15:22:35.676Z"
   },
   {
    "duration": 398,
    "start_time": "2022-12-14T15:22:52.137Z"
   },
   {
    "duration": 247,
    "start_time": "2022-12-14T15:23:02.333Z"
   },
   {
    "duration": 231,
    "start_time": "2022-12-14T15:43:03.335Z"
   },
   {
    "duration": 311,
    "start_time": "2022-12-14T15:43:25.499Z"
   },
   {
    "duration": 240,
    "start_time": "2022-12-14T15:43:36.091Z"
   },
   {
    "duration": 215,
    "start_time": "2022-12-14T15:56:26.427Z"
   },
   {
    "duration": 11,
    "start_time": "2022-12-14T15:56:35.048Z"
   },
   {
    "duration": 257,
    "start_time": "2022-12-14T15:56:39.835Z"
   },
   {
    "duration": 12,
    "start_time": "2022-12-14T15:56:46.917Z"
   },
   {
    "duration": 232,
    "start_time": "2022-12-14T15:57:13.631Z"
   },
   {
    "duration": 231,
    "start_time": "2022-12-14T15:57:24.871Z"
   },
   {
    "duration": 154,
    "start_time": "2022-12-14T16:10:52.312Z"
   },
   {
    "duration": 226,
    "start_time": "2022-12-14T16:30:20.136Z"
   },
   {
    "duration": 328,
    "start_time": "2022-12-14T16:30:32.984Z"
   },
   {
    "duration": 228,
    "start_time": "2022-12-14T17:06:11.250Z"
   },
   {
    "duration": 333,
    "start_time": "2022-12-14T17:06:55.072Z"
   },
   {
    "duration": 371,
    "start_time": "2022-12-14T17:08:24.067Z"
   },
   {
    "duration": 210,
    "start_time": "2022-12-14T17:08:49.237Z"
   },
   {
    "duration": 213,
    "start_time": "2022-12-14T17:09:13.711Z"
   },
   {
    "duration": 211,
    "start_time": "2022-12-14T17:09:36.342Z"
   },
   {
    "duration": 341,
    "start_time": "2022-12-14T17:10:08.421Z"
   },
   {
    "duration": 122,
    "start_time": "2022-12-14T17:11:04.383Z"
   },
   {
    "duration": 236,
    "start_time": "2022-12-14T17:13:51.094Z"
   },
   {
    "duration": 341,
    "start_time": "2022-12-14T17:16:43.755Z"
   },
   {
    "duration": 338,
    "start_time": "2022-12-14T17:17:13.149Z"
   },
   {
    "duration": 354,
    "start_time": "2022-12-14T17:18:17.827Z"
   },
   {
    "duration": 308,
    "start_time": "2022-12-14T17:19:01.573Z"
   },
   {
    "duration": 273,
    "start_time": "2022-12-14T17:19:32.697Z"
   },
   {
    "duration": 308,
    "start_time": "2022-12-14T17:20:38.588Z"
   },
   {
    "duration": 10,
    "start_time": "2022-12-14T17:22:00.856Z"
   },
   {
    "duration": 273,
    "start_time": "2022-12-14T17:22:57.041Z"
   },
   {
    "duration": 14,
    "start_time": "2022-12-14T17:23:21.958Z"
   },
   {
    "duration": 316,
    "start_time": "2022-12-14T17:26:26.525Z"
   },
   {
    "duration": 411,
    "start_time": "2022-12-14T17:27:56.493Z"
   },
   {
    "duration": 426,
    "start_time": "2022-12-14T17:28:35.085Z"
   },
   {
    "duration": 362,
    "start_time": "2022-12-14T17:29:17.745Z"
   },
   {
    "duration": 384,
    "start_time": "2022-12-14T17:29:56.517Z"
   },
   {
    "duration": 403,
    "start_time": "2022-12-14T17:33:59.204Z"
   },
   {
    "duration": 440,
    "start_time": "2022-12-14T17:34:25.558Z"
   }
  ],
  "kernelspec": {
   "display_name": "Python 3 (ipykernel)",
   "language": "python",
   "name": "python3"
  },
  "language_info": {
   "codemirror_mode": {
    "name": "ipython",
    "version": 3
   },
   "file_extension": ".py",
   "mimetype": "text/x-python",
   "name": "python",
   "nbconvert_exporter": "python",
   "pygments_lexer": "ipython3",
   "version": "3.11.3"
  },
  "toc": {
   "base_numbering": 1,
   "nav_menu": {},
   "number_sections": true,
   "sideBar": true,
   "skip_h1_title": true,
   "title_cell": "Table of Contents",
   "title_sidebar": "Contents",
   "toc_cell": false,
   "toc_position": {},
   "toc_section_display": true,
   "toc_window_display": true
  }
 },
 "nbformat": 4,
 "nbformat_minor": 2
}
