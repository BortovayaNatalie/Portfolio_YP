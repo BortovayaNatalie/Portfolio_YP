{
 "cells": [
  {
   "cell_type": "markdown",
   "id": "8db14a8d",
   "metadata": {
    "deletable": false,
    "editable": false,
    "id": "c81daeeb"
   },
   "source": [
    "# Исследование надежности заемщиков"
   ]
  },
  {
   "cell_type": "markdown",
   "id": "30d8cecd",
   "metadata": {
    "deletable": false,
    "editable": false,
    "id": "-G3EJWzf62s6"
   },
   "source": [
    "Это первая часть проекта, она будет проверена автоматически. Вторую часть проверит ревьюер. "
   ]
  },
  {
   "cell_type": "markdown",
   "id": "7be222f6",
   "metadata": {
    "deletable": false,
    "editable": false,
    "id": "744d7639"
   },
   "source": [
    "## Откройте таблицу и изучите общую информацию о данных"
   ]
  },
  {
   "cell_type": "markdown",
   "id": "a1cc4cb4",
   "metadata": {
    "deletable": false,
    "editable": false,
    "id": "e7a14c31",
    "tags": [
     "start_task"
    ]
   },
   "source": [
    "**Задание 1. Импортируйте библиотеку pandas. Считайте данные из csv-файла в датафрейм и сохраните в переменную `data`. Путь к файлу:**\n",
    "\n",
    "`/datasets/data.csv`"
   ]
  },
  {
   "cell_type": "code",
   "execution_count": 21,
   "id": "b4a02efe",
   "metadata": {
    "id": "7bcf75c9"
   },
   "outputs": [],
   "source": [
    "# импортируйте библиотеку pandas\n",
    "import pandas as pd"
   ]
  },
  {
   "cell_type": "code",
   "execution_count": 22,
   "id": "f92f5845",
   "metadata": {
    "id": "4d240ee2"
   },
   "outputs": [],
   "source": [
    "# прочитайте csv-файл\n",
    "data = pd.read_csv('/datasets/data.csv')"
   ]
  },
  {
   "cell_type": "markdown",
   "id": "f7aedbfe",
   "metadata": {
    "deletable": false,
    "editable": false,
    "id": "b8038fe3",
    "tags": [
     "start_task"
    ]
   },
   "source": [
    "**Задание 2. Выведите первые 20 строчек датафрейма `data` на экран.**"
   ]
  },
  {
   "cell_type": "code",
   "execution_count": 23,
   "id": "d9cfab84",
   "metadata": {
    "id": "2a7cab99"
   },
   "outputs": [
    {
     "name": "stdout",
     "output_type": "stream",
     "text": [
      "    children  days_employed  dob_years            education  education_id  \\\n",
      "0          1   -8437.673028         42               высшее             0   \n",
      "1          1   -4024.803754         36              среднее             1   \n",
      "2          0   -5623.422610         33              Среднее             1   \n",
      "3          3   -4124.747207         32              среднее             1   \n",
      "4          0  340266.072047         53              среднее             1   \n",
      "5          0    -926.185831         27               высшее             0   \n",
      "6          0   -2879.202052         43               высшее             0   \n",
      "7          0    -152.779569         50              СРЕДНЕЕ             1   \n",
      "8          2   -6929.865299         35               ВЫСШЕЕ             0   \n",
      "9          0   -2188.756445         41              среднее             1   \n",
      "10         2   -4171.483647         36               высшее             0   \n",
      "11         0    -792.701887         40              среднее             1   \n",
      "12         0            NaN         65              среднее             1   \n",
      "13         0   -1846.641941         54  неоконченное высшее             2   \n",
      "14         0   -1844.956182         56               высшее             0   \n",
      "15         1    -972.364419         26              среднее             1   \n",
      "16         0   -1719.934226         35              среднее             1   \n",
      "17         0   -2369.999720         33               высшее             0   \n",
      "18         0  400281.136913         53              среднее             1   \n",
      "19         0  -10038.818549         48              СРЕДНЕЕ             1   \n",
      "\n",
      "       family_status  family_status_id gender income_type  debt  \\\n",
      "0    женат / замужем                 0      F   сотрудник     0   \n",
      "1    женат / замужем                 0      F   сотрудник     0   \n",
      "2    женат / замужем                 0      M   сотрудник     0   \n",
      "3    женат / замужем                 0      M   сотрудник     0   \n",
      "4   гражданский брак                 1      F   пенсионер     0   \n",
      "5   гражданский брак                 1      M   компаньон     0   \n",
      "6    женат / замужем                 0      F   компаньон     0   \n",
      "7    женат / замужем                 0      M   сотрудник     0   \n",
      "8   гражданский брак                 1      F   сотрудник     0   \n",
      "9    женат / замужем                 0      M   сотрудник     0   \n",
      "10   женат / замужем                 0      M   компаньон     0   \n",
      "11   женат / замужем                 0      F   сотрудник     0   \n",
      "12  гражданский брак                 1      M   пенсионер     0   \n",
      "13   женат / замужем                 0      F   сотрудник     0   \n",
      "14  гражданский брак                 1      F   компаньон     1   \n",
      "15   женат / замужем                 0      F   сотрудник     0   \n",
      "16   женат / замужем                 0      F   сотрудник     0   \n",
      "17  гражданский брак                 1      M   сотрудник     0   \n",
      "18    вдовец / вдова                 2      F   пенсионер     0   \n",
      "19         в разводе                 3      F   сотрудник     0   \n",
      "\n",
      "     total_income                                 purpose  \n",
      "0   253875.639453                           покупка жилья  \n",
      "1   112080.014102                 приобретение автомобиля  \n",
      "2   145885.952297                           покупка жилья  \n",
      "3   267628.550329              дополнительное образование  \n",
      "4   158616.077870                         сыграть свадьбу  \n",
      "5   255763.565419                           покупка жилья  \n",
      "6   240525.971920                       операции с жильем  \n",
      "7   135823.934197                             образование  \n",
      "8    95856.832424                   на проведение свадьбы  \n",
      "9   144425.938277                 покупка жилья для семьи  \n",
      "10  113943.491460                    покупка недвижимости  \n",
      "11   77069.234271       покупка коммерческой недвижимости  \n",
      "12            NaN                         сыграть свадьбу  \n",
      "13  130458.228857                 приобретение автомобиля  \n",
      "14  165127.911772              покупка жилой недвижимости  \n",
      "15  116820.904450  строительство собственной недвижимости  \n",
      "16  289202.704229                            недвижимость  \n",
      "17   90410.586745              строительство недвижимости  \n",
      "18   56823.777243      на покупку подержанного автомобиля  \n",
      "19  242831.107982            на покупку своего автомобиля  \n"
     ]
    }
   ],
   "source": [
    "# ваш код здесь\n",
    "print(data.head(20))"
   ]
  },
  {
   "cell_type": "markdown",
   "id": "74766259",
   "metadata": {
    "deletable": false,
    "editable": false,
    "id": "1c12e233",
    "tags": [
     "start_task"
    ]
   },
   "source": [
    "**Задание 3. Выведите основную информацию о датафрейме с помощью метода `info()`.**"
   ]
  },
  {
   "cell_type": "code",
   "execution_count": 24,
   "id": "599eed38",
   "metadata": {
    "id": "2b757bca"
   },
   "outputs": [
    {
     "name": "stdout",
     "output_type": "stream",
     "text": [
      "<class 'pandas.core.frame.DataFrame'>\n",
      "RangeIndex: 21525 entries, 0 to 21524\n",
      "Data columns (total 12 columns):\n",
      " #   Column            Non-Null Count  Dtype  \n",
      "---  ------            --------------  -----  \n",
      " 0   children          21525 non-null  int64  \n",
      " 1   days_employed     19351 non-null  float64\n",
      " 2   dob_years         21525 non-null  int64  \n",
      " 3   education         21525 non-null  object \n",
      " 4   education_id      21525 non-null  int64  \n",
      " 5   family_status     21525 non-null  object \n",
      " 6   family_status_id  21525 non-null  int64  \n",
      " 7   gender            21525 non-null  object \n",
      " 8   income_type       21525 non-null  object \n",
      " 9   debt              21525 non-null  int64  \n",
      " 10  total_income      19351 non-null  float64\n",
      " 11  purpose           21525 non-null  object \n",
      "dtypes: float64(2), int64(5), object(5)\n",
      "memory usage: 2.0+ MB\n"
     ]
    }
   ],
   "source": [
    "# ваш код здесь\n",
    "data.info()"
   ]
  },
  {
   "cell_type": "markdown",
   "id": "cf5e3808",
   "metadata": {
    "deletable": false,
    "editable": false,
    "id": "333ec665"
   },
   "source": [
    "## Предобработка данных"
   ]
  },
  {
   "cell_type": "markdown",
   "id": "a6bfca60",
   "metadata": {
    "deletable": false,
    "editable": false,
    "id": "02d92d53"
   },
   "source": [
    "### Удаление пропусков"
   ]
  },
  {
   "cell_type": "markdown",
   "id": "277cb766",
   "metadata": {
    "deletable": false,
    "editable": false,
    "id": "cd84967c",
    "tags": [
     "start_task"
    ]
   },
   "source": [
    "**Задание 4. Выведите количество пропущенных значений для каждого столбца. Используйте комбинацию двух методов.**"
   ]
  },
  {
   "cell_type": "code",
   "execution_count": 25,
   "id": "4dfb2865",
   "metadata": {
    "id": "7f9b2309"
   },
   "outputs": [
    {
     "name": "stdout",
     "output_type": "stream",
     "text": [
      "children               0\n",
      "days_employed       2174\n",
      "dob_years              0\n",
      "education              0\n",
      "education_id           0\n",
      "family_status          0\n",
      "family_status_id       0\n",
      "gender                 0\n",
      "income_type            0\n",
      "debt                   0\n",
      "total_income        2174\n",
      "purpose                0\n",
      "dtype: int64\n"
     ]
    }
   ],
   "source": [
    "# ваш код здесь\n",
    "print(data.isna().sum())\n",
    "#print(data.isnull().sum())"
   ]
  },
  {
   "cell_type": "markdown",
   "id": "3938200b",
   "metadata": {
    "deletable": false,
    "editable": false,
    "id": "db86e27b",
    "tags": [
     "start_task"
    ]
   },
   "source": [
    "**Задание 5. В двух столбцах есть пропущенные значения. Один из них — `days_employed`. Пропуски в этом столбце вы обработаете на следующем этапе. Другой столбец с пропущенными значениями — `total_income` — хранит данные о доходах. На сумму дохода сильнее всего влияет тип занятости, поэтому заполнить пропуски в этом столбце нужно медианным значением по каждому типу из столбца `income_type`. Например, у человека с типом занятости `сотрудник` пропуск в столбце `total_income` должен быть заполнен медианным доходом среди всех записей с тем же типом.**"
   ]
  },
  {
   "cell_type": "code",
   "execution_count": 26,
   "id": "fa338661",
   "metadata": {
    "id": "42006a93"
   },
   "outputs": [],
   "source": [
    "# ваш код здесь\n",
    "\n",
    "#получили Series, содержащий медианные значения дохода по типам дохода, \n",
    "#содержащий в индексе типы дохода\n",
    "data_groupby = data.groupby('income_type')['total_income'].median() \n",
    "#print(data_groupby)\n",
    "\n",
    "list = data_groupby.index.to_list() # выгрузили в список данные \n",
    "                                    #индекса полученного объекта Series\n",
    "#заполнили пропуски медианными значениями доходов по типу занятости\n",
    "count = 0\n",
    "for item in list:\n",
    "    data.loc[data['income_type'] == item, 'total_income'] = data.loc[data['income_type'] == item, 'total_income'].fillna(data_groupby[count])\n",
    "    #print(data_groupby[count])\n",
    "    count += 1\n",
    "#print(data.isna().sum())\n",
    "#print(data.head(15))"
   ]
  },
  {
   "cell_type": "markdown",
   "id": "1fe2f462",
   "metadata": {
    "deletable": false,
    "editable": false,
    "id": "89da5ece"
   },
   "source": [
    "### Обработка аномальных значений"
   ]
  },
  {
   "cell_type": "markdown",
   "id": "510c52ba",
   "metadata": {
    "deletable": false,
    "editable": false,
    "id": "57964554",
    "tags": [
     "start_task"
    ]
   },
   "source": [
    "**Задание 6. В данных могут встречаться артефакты (аномалии) — значения, которые не отражают действительность и появились по какой-то ошибке. Таким артефактом будет отрицательное количество дней трудового стажа в столбце `days_employed`. Для реальных данных это нормально. Обработайте значения в этом столбце: замените все отрицательные значения положительными с помощью метода `abs()`.**"
   ]
  },
  {
   "cell_type": "code",
   "execution_count": 27,
   "id": "74e2dc83",
   "metadata": {
    "id": "f6f055bf"
   },
   "outputs": [],
   "source": [
    "# ваш код здесь\n",
    "wrong_lines_content = []\n",
    "for row in data:\n",
    "    try:\n",
    "        data['days_employed'] = data['days_employed'].abs()\n",
    "        \n",
    "    except:\n",
    "        wrong_lines_content.append(row)\n",
    "#print(wrong_lines_content)\n",
    "#print(data.head(15))\n",
    "    "
   ]
  },
  {
   "cell_type": "markdown",
   "id": "b8852685",
   "metadata": {
    "deletable": false,
    "editable": false,
    "id": "6107dd2f",
    "tags": [
     "start_task"
    ]
   },
   "source": [
    "**Задание 7. Для каждого типа занятости выведите медианное значение трудового стажа `days_employed` в днях.**"
   ]
  },
  {
   "cell_type": "code",
   "execution_count": 28,
   "id": "71c2fa3b",
   "metadata": {
    "id": "85a5faf6"
   },
   "outputs": [
    {
     "name": "stdout",
     "output_type": "stream",
     "text": [
      "income_type\n",
      "безработный        366413.652744\n",
      "в декрете            3296.759962\n",
      "госслужащий          2689.368353\n",
      "компаньон            1547.382223\n",
      "пенсионер          365213.306266\n",
      "предприниматель       520.848083\n",
      "сотрудник            1574.202821\n",
      "студент               578.751554\n",
      "Name: days_employed, dtype: float64\n"
     ]
    }
   ],
   "source": [
    "# ваш код здесь\n",
    "data_empl_median = data.groupby('income_type')['days_employed'].median()\n",
    "print(data_empl_median)"
   ]
  },
  {
   "cell_type": "markdown",
   "id": "94d09aa9",
   "metadata": {
    "deletable": false,
    "editable": false,
    "id": "38d1a030"
   },
   "source": [
    "У двух типов (безработные и пенсионеры) получатся аномально большие значения. Исправить такие значения сложно, поэтому оставьте их как есть. Тем более этот столбец не понадобится вам для исследования."
   ]
  },
  {
   "cell_type": "markdown",
   "id": "3fc3bffa",
   "metadata": {
    "deletable": false,
    "editable": false,
    "id": "d8a9f147",
    "tags": [
     "start_task"
    ]
   },
   "source": [
    "**Задание 8. Выведите перечень уникальных значений столбца `children`.**"
   ]
  },
  {
   "cell_type": "code",
   "execution_count": 29,
   "id": "f472edd4",
   "metadata": {
    "id": "ef5056eb"
   },
   "outputs": [
    {
     "data": {
      "text/plain": [
       "array([ 1,  0,  3,  2, -1,  4, 20,  5])"
      ]
     },
     "execution_count": 29,
     "metadata": {},
     "output_type": "execute_result"
    }
   ],
   "source": [
    "# ваш код здесь\n",
    "data['children'].unique()"
   ]
  },
  {
   "cell_type": "markdown",
   "id": "e20313df",
   "metadata": {
    "deletable": false,
    "editable": false,
    "id": "40b9ebf2",
    "tags": [
     "start_task"
    ]
   },
   "source": [
    "**Задание 9. В столбце `children` есть два аномальных значения. Удалите строки, в которых встречаются такие аномальные значения из датафрейма `data`.**"
   ]
  },
  {
   "cell_type": "code",
   "execution_count": 30,
   "id": "e3640e64",
   "metadata": {
    "id": "3ff9801d"
   },
   "outputs": [],
   "source": [
    "# ваш код здесь\n",
    "data = data.drop(data[(data['children'] < 0) | (data['children'] > 16)].index)"
   ]
  },
  {
   "cell_type": "markdown",
   "id": "0d0efe88",
   "metadata": {
    "deletable": false,
    "editable": false,
    "id": "bbc4d0ce",
    "tags": [
     "start_task"
    ]
   },
   "source": [
    "**Задание 10. Ещё раз выведите перечень уникальных значений столбца `children`, чтобы убедиться, что артефакты удалены.**"
   ]
  },
  {
   "cell_type": "code",
   "execution_count": 31,
   "id": "b54366b5",
   "metadata": {
    "id": "ad4fa8b7"
   },
   "outputs": [
    {
     "data": {
      "text/plain": [
       "array([1, 0, 3, 2, 4, 5])"
      ]
     },
     "execution_count": 31,
     "metadata": {},
     "output_type": "execute_result"
    }
   ],
   "source": [
    "# ваш код здесь\n",
    "data['children'].unique()"
   ]
  },
  {
   "cell_type": "markdown",
   "id": "c14ba8f2",
   "metadata": {
    "deletable": false,
    "editable": false,
    "id": "75440b63"
   },
   "source": [
    "### Удаление пропусков (продолжение)"
   ]
  },
  {
   "cell_type": "markdown",
   "id": "39c44499",
   "metadata": {
    "deletable": false,
    "editable": false,
    "id": "f4ea573f",
    "tags": [
     "start_task"
    ]
   },
   "source": [
    "**Задание 11. Заполните пропуски в столбце `days_employed` медианными значениями по каждому типу занятости `income_type`.**"
   ]
  },
  {
   "cell_type": "code",
   "execution_count": 32,
   "id": "8f16ec89",
   "metadata": {
    "id": "af6b1a7e"
   },
   "outputs": [],
   "source": [
    "# ваш код здесь\n",
    "\n",
    "#получили Series, содержащий медианные значения дней занатости по типам дохода, \n",
    "#содержащий в индексе типы дохода\n",
    "data_groupby = data.groupby('income_type')['days_employed'].median() \n",
    "#print(data_groupby)\n",
    "\n",
    "list = data_groupby.index.to_list() # выгрузили в список данные \n",
    "                                    #индекса полученного объекта Series\n",
    "#заполнили пропуски медианными значениями дней занятости по типу занятости\n",
    "count = 0\n",
    "for item in list:\n",
    "    data.loc[data['income_type'] == item, 'days_employed'] = data.loc[data['income_type'] == item, 'days_employed'].fillna(data_groupby[count])\n",
    "    #print(data_groupby[count])\n",
    "    count += 1\n",
    "#print(data.isna().sum())\n",
    "#print(data.head(15))"
   ]
  },
  {
   "cell_type": "markdown",
   "id": "3559b422",
   "metadata": {
    "deletable": false,
    "editable": false,
    "id": "2753f40d",
    "tags": [
     "start_task"
    ]
   },
   "source": [
    "**Задание 12. Убедитесь, что все пропуски заполнены. Проверьте себя и ещё раз выведите количество пропущенных значений для каждого столбца с помощью двух методов.**"
   ]
  },
  {
   "cell_type": "code",
   "execution_count": 33,
   "id": "5bc3bd2d",
   "metadata": {
    "id": "55f78bc2"
   },
   "outputs": [
    {
     "name": "stdout",
     "output_type": "stream",
     "text": [
      "children            0\n",
      "days_employed       0\n",
      "dob_years           0\n",
      "education           0\n",
      "education_id        0\n",
      "family_status       0\n",
      "family_status_id    0\n",
      "gender              0\n",
      "income_type         0\n",
      "debt                0\n",
      "total_income        0\n",
      "purpose             0\n",
      "dtype: int64\n"
     ]
    }
   ],
   "source": [
    "# ваш код здесь\n",
    "print(data.isna().sum())"
   ]
  },
  {
   "cell_type": "markdown",
   "id": "eaaac869",
   "metadata": {
    "deletable": false,
    "editable": false,
    "id": "ddc81e43"
   },
   "source": [
    "### Изменение типов данных"
   ]
  },
  {
   "cell_type": "markdown",
   "id": "c0da1b09",
   "metadata": {
    "deletable": false,
    "editable": false,
    "id": "42d19d24",
    "tags": [
     "start_task"
    ]
   },
   "source": [
    "**Задание 13. Замените вещественный тип данных в столбце `total_income` на целочисленный с помощью метода `astype()`.**"
   ]
  },
  {
   "cell_type": "code",
   "execution_count": 34,
   "id": "7715d167",
   "metadata": {
    "id": "920b65ad"
   },
   "outputs": [
    {
     "name": "stdout",
     "output_type": "stream",
     "text": [
      "   children  days_employed  dob_years education  education_id  \\\n",
      "0         1    8437.673028         42    высшее             0   \n",
      "1         1    4024.803754         36   среднее             1   \n",
      "2         0    5623.422610         33   Среднее             1   \n",
      "3         3    4124.747207         32   среднее             1   \n",
      "4         0  340266.072047         53   среднее             1   \n",
      "\n",
      "      family_status  family_status_id gender income_type  debt  total_income  \\\n",
      "0   женат / замужем                 0      F   сотрудник     0        253875   \n",
      "1   женат / замужем                 0      F   сотрудник     0        112080   \n",
      "2   женат / замужем                 0      M   сотрудник     0        145885   \n",
      "3   женат / замужем                 0      M   сотрудник     0        267628   \n",
      "4  гражданский брак                 1      F   пенсионер     0        158616   \n",
      "\n",
      "                      purpose  \n",
      "0               покупка жилья  \n",
      "1     приобретение автомобиля  \n",
      "2               покупка жилья  \n",
      "3  дополнительное образование  \n",
      "4             сыграть свадьбу  \n"
     ]
    }
   ],
   "source": [
    "# ваш код здесь\n",
    "data['total_income'] = data['total_income'].astype('int')\n",
    "print(data.head())"
   ]
  },
  {
   "cell_type": "markdown",
   "id": "2c988856",
   "metadata": {
    "deletable": false,
    "editable": false,
    "id": "80c420ba"
   },
   "source": [
    "### Обработка дубликатов"
   ]
  },
  {
   "cell_type": "markdown",
   "id": "1babee7e",
   "metadata": {
    "deletable": false,
    "editable": false,
    "tags": [
     "start_task"
    ]
   },
   "source": [
    "**Задание 14. Обработайте неявные дубликаты в столбце `education`. В этом столбце есть одни и те же значения, но записанные по-разному: с использованием заглавных и строчных букв. Приведите их к нижнему регистру. Проверьте остальные столбцы.**"
   ]
  },
  {
   "cell_type": "code",
   "execution_count": 35,
   "id": "3da2e14e",
   "metadata": {},
   "outputs": [
    {
     "data": {
      "text/plain": [
       "array(['высшее', 'среднее', 'неоконченное высшее', 'начальное',\n",
       "       'ученая степень'], dtype=object)"
      ]
     },
     "execution_count": 35,
     "metadata": {},
     "output_type": "execute_result"
    }
   ],
   "source": [
    "# ваш код здесь\n",
    "data['education'] = data['education'].str.lower()\n",
    "data['education'].unique()\n",
    "#data.columns.tolist()"
   ]
  },
  {
   "cell_type": "markdown",
   "id": "f3db86b7",
   "metadata": {
    "deletable": false,
    "editable": false,
    "id": "dc587695",
    "tags": [
     "start_task"
    ]
   },
   "source": [
    "**Задание 15. Выведите на экран количество строк-дубликатов в данных. Если такие строки присутствуют, удалите их.**"
   ]
  },
  {
   "cell_type": "code",
   "execution_count": 36,
   "id": "d157976d",
   "metadata": {
    "id": "3ee445e4"
   },
   "outputs": [
    {
     "name": "stdout",
     "output_type": "stream",
     "text": [
      "71\n"
     ]
    }
   ],
   "source": [
    "# посчитайте дубликаты\n",
    "duplicated_df = data[data.duplicated()].head()\n",
    "#print(duplicated_df)\n",
    "print(data.duplicated().sum())"
   ]
  },
  {
   "cell_type": "code",
   "execution_count": 37,
   "id": "2487a2ca",
   "metadata": {
    "id": "8575fe05"
   },
   "outputs": [],
   "source": [
    "# удалите дубликаты\n",
    "data = data.drop_duplicates()\n",
    "#print(data.duplicated().sum())"
   ]
  },
  {
   "cell_type": "markdown",
   "id": "af21bb0d",
   "metadata": {
    "deletable": false,
    "editable": false,
    "id": "9904cf55"
   },
   "source": [
    "### Категоризация данных"
   ]
  },
  {
   "cell_type": "markdown",
   "id": "51cf26e9",
   "metadata": {
    "deletable": false,
    "editable": false,
    "id": "72fcc8a2",
    "tags": [
     "start_task"
    ]
   },
   "source": [
    "**Задание 16. На основании диапазонов, указанных ниже, создайте в датафрейме `data` столбец `total_income_category` с категориями:**\n",
    "\n",
    "- 0–30000 — `'E'`;\n",
    "- 30001–50000 — `'D'`;\n",
    "- 50001–200000 — `'C'`;\n",
    "- 200001–1000000 — `'B'`;\n",
    "- 1000001 и выше — `'A'`.\n",
    "\n",
    "\n",
    "**Например, кредитополучателю с доходом 25000 нужно назначить категорию `'E'`, а клиенту, получающему 235000, — `'B'`. Используйте собственную функцию с именем `categorize_income()` и метод `apply()`.**"
   ]
  },
  {
   "cell_type": "code",
   "execution_count": 40,
   "id": "f4404469",
   "metadata": {
    "id": "e1771346"
   },
   "outputs": [],
   "source": [
    "# создайте функцию categorize_income()\n",
    "def categorize_income(income):\n",
    "    if income <= 30000:\n",
    "        return 'E'\n",
    "    if 30000 <= income <= 50000:\n",
    "        return 'D'\n",
    "    if 50001 <= income <= 200000:\n",
    "        return 'C'\n",
    "    if 200001 <= income <= 1000000:\n",
    "        return 'B'\n",
    "    if income >= 1000001:\n",
    "        return 'A'\n",
    "#print(categorize_income(10)) \n",
    "#print(categorize_income(49000))\n",
    "#print(categorize_income(67010))\n",
    "#print(categorize_income(210010))\n",
    "#print(categorize_income(1000011))"
   ]
  },
  {
   "cell_type": "code",
   "execution_count": 42,
   "id": "8c789262",
   "metadata": {
    "id": "d5f3586d"
   },
   "outputs": [
    {
     "name": "stdout",
     "output_type": "stream",
     "text": [
      "   children  days_employed  dob_years education  education_id  \\\n",
      "0         1    8437.673028         42    высшее             0   \n",
      "1         1    4024.803754         36   среднее             1   \n",
      "2         0    5623.422610         33   среднее             1   \n",
      "3         3    4124.747207         32   среднее             1   \n",
      "4         0  340266.072047         53   среднее             1   \n",
      "\n",
      "      family_status  family_status_id gender income_type  debt  total_income  \\\n",
      "0   женат / замужем                 0      F   сотрудник     0        253875   \n",
      "1   женат / замужем                 0      F   сотрудник     0        112080   \n",
      "2   женат / замужем                 0      M   сотрудник     0        145885   \n",
      "3   женат / замужем                 0      M   сотрудник     0        267628   \n",
      "4  гражданский брак                 1      F   пенсионер     0        158616   \n",
      "\n",
      "                      purpose total_income_category  \n",
      "0               покупка жилья                     B  \n",
      "1     приобретение автомобиля                     C  \n",
      "2               покупка жилья                     C  \n",
      "3  дополнительное образование                     B  \n",
      "4             сыграть свадьбу                     C  \n"
     ]
    }
   ],
   "source": [
    "# примените функцию методом apply()\n",
    "data['total_income_category'] = data['total_income'].apply(categorize_income)\n",
    "print(data.head())"
   ]
  },
  {
   "cell_type": "markdown",
   "id": "433bf813",
   "metadata": {
    "deletable": false,
    "editable": false,
    "id": "dde49b5c",
    "tags": [
     "start_task"
    ]
   },
   "source": [
    "**Задание 17. Выведите на экран перечень уникальных целей взятия кредита из столбца `purpose`.**"
   ]
  },
  {
   "cell_type": "code",
   "execution_count": 43,
   "id": "4984eaaa",
   "metadata": {
    "id": "f67ce9b3"
   },
   "outputs": [
    {
     "data": {
      "text/plain": [
       "array(['покупка жилья', 'приобретение автомобиля',\n",
       "       'дополнительное образование', 'сыграть свадьбу',\n",
       "       'операции с жильем', 'образование', 'на проведение свадьбы',\n",
       "       'покупка жилья для семьи', 'покупка недвижимости',\n",
       "       'покупка коммерческой недвижимости', 'покупка жилой недвижимости',\n",
       "       'строительство собственной недвижимости', 'недвижимость',\n",
       "       'строительство недвижимости', 'на покупку подержанного автомобиля',\n",
       "       'на покупку своего автомобиля',\n",
       "       'операции с коммерческой недвижимостью',\n",
       "       'строительство жилой недвижимости', 'жилье',\n",
       "       'операции со своей недвижимостью', 'автомобили',\n",
       "       'заняться образованием', 'сделка с подержанным автомобилем',\n",
       "       'получение образования', 'автомобиль', 'свадьба',\n",
       "       'получение дополнительного образования', 'покупка своего жилья',\n",
       "       'операции с недвижимостью', 'получение высшего образования',\n",
       "       'свой автомобиль', 'сделка с автомобилем',\n",
       "       'профильное образование', 'высшее образование',\n",
       "       'покупка жилья для сдачи', 'на покупку автомобиля', 'ремонт жилью',\n",
       "       'заняться высшим образованием'], dtype=object)"
      ]
     },
     "execution_count": 43,
     "metadata": {},
     "output_type": "execute_result"
    }
   ],
   "source": [
    "# ваш код здесь\n",
    "data['purpose'].unique()"
   ]
  },
  {
   "cell_type": "markdown",
   "id": "e377f628",
   "metadata": {
    "deletable": false,
    "editable": false,
    "id": "85d0aef0",
    "tags": [
     "start_task"
    ]
   },
   "source": [
    "**Задание 18. Создайте функцию, которая на основании данных из столбца `purpose` сформирует новый столбец `purpose_category`, в который войдут следующие категории:**\n",
    "\n",
    "- `'операции с автомобилем'`,\n",
    "- `'операции с недвижимостью'`,\n",
    "- `'проведение свадьбы'`,\n",
    "- `'получение образования'`.\n",
    "\n",
    "**Например, если в столбце `purpose` находится подстрока `'на покупку автомобиля'`, то в столбце `purpose_category` должна появиться строка `'операции с автомобилем'`.**\n",
    "\n",
    "**Используйте собственную функцию с именем `categorize_purpose()` и метод `apply()`. Изучите данные в столбце `purpose` и определите, какие подстроки помогут вам правильно определить категорию.**"
   ]
  },
  {
   "cell_type": "code",
   "execution_count": 68,
   "id": "b395589b",
   "metadata": {
    "id": "e149fab4"
   },
   "outputs": [
    {
     "name": "stdout",
     "output_type": "stream",
     "text": [
      "0        операции с недвижимостью\n",
      "1          операции с автомобилем\n",
      "2        операции с недвижимостью\n",
      "3           получение образования\n",
      "4              проведение свадьбы\n",
      "                   ...           \n",
      "21520    операции с недвижимостью\n",
      "21521      операции с автомобилем\n",
      "21522    операции с недвижимостью\n",
      "21523      операции с автомобилем\n",
      "21524      операции с автомобилем\n",
      "Name: purpose, Length: 21331, dtype: object\n"
     ]
    }
   ],
   "source": [
    "# создайте функцию categorize_purpose()\n",
    "list = data['purpose'].unique()\n",
    " \n",
    "def categorize_purpose(list):\n",
    "    if 'автомоб' in list:\n",
    "        return 'операции с автомобилем'\n",
    "    if 'образов' in list:\n",
    "        return 'получение образования'\n",
    "    if 'свад' in list:\n",
    "        return 'проведение свадьбы'\n",
    "    if 'недвиж' in list:\n",
    "        return 'операции с недвижимостью'\n",
    "    if 'жиль' in list:\n",
    "        return 'операции с недвижимостью'\n",
    "\n",
    "#print(data['purpose'].apply(categorize_purpose))\n"
   ]
  },
  {
   "cell_type": "code",
   "execution_count": 69,
   "id": "1377d8d2",
   "metadata": {
    "id": "bf36e69b"
   },
   "outputs": [],
   "source": [
    "# примените функцию методом apply()\n",
    "data['purpose_category'] = data['purpose'].apply(categorize_purpose)"
   ]
  },
  {
   "cell_type": "code",
   "execution_count": 70,
   "id": "4c88f217",
   "metadata": {},
   "outputs": [
    {
     "name": "stdout",
     "output_type": "stream",
     "text": [
      "   children  days_employed  dob_years education  education_id  \\\n",
      "0         1    8437.673028         42    высшее             0   \n",
      "1         1    4024.803754         36   среднее             1   \n",
      "2         0    5623.422610         33   среднее             1   \n",
      "3         3    4124.747207         32   среднее             1   \n",
      "4         0  340266.072047         53   среднее             1   \n",
      "\n",
      "      family_status  family_status_id gender income_type  debt  total_income  \\\n",
      "0   женат / замужем                 0      F   сотрудник     0        253875   \n",
      "1   женат / замужем                 0      F   сотрудник     0        112080   \n",
      "2   женат / замужем                 0      M   сотрудник     0        145885   \n",
      "3   женат / замужем                 0      M   сотрудник     0        267628   \n",
      "4  гражданский брак                 1      F   пенсионер     0        158616   \n",
      "\n",
      "                      purpose total_income_category          purpose_category  \n",
      "0               покупка жилья                     B  операции с недвижимостью  \n",
      "1     приобретение автомобиля                     C    операции с автомобилем  \n",
      "2               покупка жилья                     C  операции с недвижимостью  \n",
      "3  дополнительное образование                     B     получение образования  \n",
      "4             сыграть свадьбу                     C        проведение свадьбы  \n"
     ]
    }
   ],
   "source": [
    "print(data.head())"
   ]
  },
  {
   "cell_type": "code",
   "execution_count": null,
   "id": "fb8bd5b3",
   "metadata": {},
   "outputs": [],
   "source": []
  }
 ],
 "metadata": {
  "ExecuteTimeLog": [
   {
    "duration": 420,
    "start_time": "2022-08-01T08:25:13.554Z"
   },
   {
    "duration": 270,
    "start_time": "2022-08-01T08:25:15.512Z"
   },
   {
    "duration": 11,
    "start_time": "2022-08-01T08:25:19.084Z"
   },
   {
    "duration": 20,
    "start_time": "2022-08-01T08:28:55.558Z"
   },
   {
    "duration": 10,
    "start_time": "2022-08-01T08:44:06.286Z"
   },
   {
    "duration": 27,
    "start_time": "2022-08-01T08:44:44.511Z"
   },
   {
    "duration": 8,
    "start_time": "2022-08-01T08:45:48.494Z"
   },
   {
    "duration": 16,
    "start_time": "2022-08-01T08:46:08.691Z"
   },
   {
    "duration": 11,
    "start_time": "2022-08-01T08:46:37.045Z"
   },
   {
    "duration": 9,
    "start_time": "2022-08-01T09:06:08.656Z"
   },
   {
    "duration": 22,
    "start_time": "2022-08-01T09:23:08.554Z"
   },
   {
    "duration": 28,
    "start_time": "2022-08-01T09:23:46.258Z"
   },
   {
    "duration": 12,
    "start_time": "2022-08-01T09:25:07.731Z"
   },
   {
    "duration": 31,
    "start_time": "2022-08-01T09:25:16.411Z"
   },
   {
    "duration": 8,
    "start_time": "2022-08-01T09:26:16.752Z"
   },
   {
    "duration": 18,
    "start_time": "2022-08-01T09:31:25.102Z"
   },
   {
    "duration": 31,
    "start_time": "2022-08-01T09:32:45.793Z"
   },
   {
    "duration": 436,
    "start_time": "2022-08-01T15:34:09.615Z"
   },
   {
    "duration": 137,
    "start_time": "2022-08-01T15:34:13.065Z"
   },
   {
    "duration": 13,
    "start_time": "2022-08-01T15:34:17.426Z"
   },
   {
    "duration": 18,
    "start_time": "2022-08-01T15:34:25.682Z"
   },
   {
    "duration": 13,
    "start_time": "2022-08-01T15:34:31.842Z"
   },
   {
    "duration": 20,
    "start_time": "2022-08-01T15:35:02.086Z"
   },
   {
    "duration": 7,
    "start_time": "2022-08-01T16:52:07.211Z"
   },
   {
    "duration": 91,
    "start_time": "2022-08-01T20:59:35.544Z"
   },
   {
    "duration": 2,
    "start_time": "2022-08-01T21:02:15.625Z"
   },
   {
    "duration": 81,
    "start_time": "2022-08-01T21:02:17.454Z"
   },
   {
    "duration": 9,
    "start_time": "2022-08-01T21:02:22.959Z"
   },
   {
    "duration": 18,
    "start_time": "2022-08-01T21:02:31.361Z"
   },
   {
    "duration": 11,
    "start_time": "2022-08-01T21:02:39.573Z"
   },
   {
    "duration": 13,
    "start_time": "2022-08-01T21:02:49.585Z"
   },
   {
    "duration": 21,
    "start_time": "2022-08-01T21:04:33.831Z"
   },
   {
    "duration": 15,
    "start_time": "2022-08-01T21:04:48.648Z"
   },
   {
    "duration": 19,
    "start_time": "2022-08-01T21:06:20.743Z"
   },
   {
    "duration": 18,
    "start_time": "2022-08-01T21:08:03.201Z"
   },
   {
    "duration": 20,
    "start_time": "2022-08-01T21:09:08.805Z"
   },
   {
    "duration": 14,
    "start_time": "2022-08-01T21:09:54.152Z"
   },
   {
    "duration": 13,
    "start_time": "2022-08-01T21:28:22.958Z"
   },
   {
    "duration": 2,
    "start_time": "2022-08-01T21:29:26.034Z"
   },
   {
    "duration": 77,
    "start_time": "2022-08-01T21:29:29.927Z"
   },
   {
    "duration": 10,
    "start_time": "2022-08-01T21:29:33.302Z"
   },
   {
    "duration": 23,
    "start_time": "2022-08-01T21:29:42.983Z"
   },
   {
    "duration": 23,
    "start_time": "2022-08-01T21:29:48.601Z"
   },
   {
    "duration": 17,
    "start_time": "2022-08-01T21:29:55.126Z"
   },
   {
    "duration": 16,
    "start_time": "2022-08-01T21:30:31.227Z"
   },
   {
    "duration": 10,
    "start_time": "2022-08-01T21:30:49.794Z"
   },
   {
    "duration": 10,
    "start_time": "2022-08-01T21:31:17.449Z"
   },
   {
    "duration": 16,
    "start_time": "2022-08-01T21:32:26.261Z"
   },
   {
    "duration": 10,
    "start_time": "2022-08-01T21:34:07.654Z"
   },
   {
    "duration": 82,
    "start_time": "2022-08-01T21:34:26.480Z"
   },
   {
    "duration": 16,
    "start_time": "2022-08-01T21:34:36.932Z"
   },
   {
    "duration": 12,
    "start_time": "2022-08-01T21:35:07.743Z"
   },
   {
    "duration": 78,
    "start_time": "2022-08-01T21:35:17.023Z"
   },
   {
    "duration": 17,
    "start_time": "2022-08-01T21:35:27.024Z"
   },
   {
    "duration": 15,
    "start_time": "2022-08-01T21:35:41.552Z"
   },
   {
    "duration": 21,
    "start_time": "2022-08-01T21:36:29.323Z"
   },
   {
    "duration": 75,
    "start_time": "2022-08-01T21:36:43.827Z"
   },
   {
    "duration": 18,
    "start_time": "2022-08-01T21:36:51.480Z"
   },
   {
    "duration": 75,
    "start_time": "2022-08-01T21:48:06.777Z"
   },
   {
    "duration": 12,
    "start_time": "2022-08-01T21:48:23.464Z"
   },
   {
    "duration": 15,
    "start_time": "2022-08-01T21:48:52.924Z"
   },
   {
    "duration": 16,
    "start_time": "2022-08-01T21:49:25.182Z"
   },
   {
    "duration": 72,
    "start_time": "2022-08-01T22:38:42.147Z"
   },
   {
    "duration": 16,
    "start_time": "2022-08-01T22:38:57.598Z"
   },
   {
    "duration": 15,
    "start_time": "2022-08-01T22:40:57.726Z"
   },
   {
    "duration": 24,
    "start_time": "2022-08-01T22:42:40.424Z"
   },
   {
    "duration": 88,
    "start_time": "2022-08-01T22:43:49.961Z"
   },
   {
    "duration": 12,
    "start_time": "2022-08-01T22:44:06.869Z"
   },
   {
    "duration": 15,
    "start_time": "2022-08-01T22:46:28.359Z"
   },
   {
    "duration": 72,
    "start_time": "2022-08-01T22:46:41.146Z"
   },
   {
    "duration": 15,
    "start_time": "2022-08-01T22:46:49.893Z"
   },
   {
    "duration": 13,
    "start_time": "2022-08-01T22:49:33.724Z"
   },
   {
    "duration": 12,
    "start_time": "2022-08-01T22:50:06.363Z"
   },
   {
    "duration": 11,
    "start_time": "2022-08-01T22:50:29.402Z"
   },
   {
    "duration": 71,
    "start_time": "2022-08-01T22:50:52.032Z"
   },
   {
    "duration": 12,
    "start_time": "2022-08-01T22:51:00.461Z"
   },
   {
    "duration": 72,
    "start_time": "2022-08-01T23:16:52.286Z"
   },
   {
    "duration": 79,
    "start_time": "2022-08-01T23:17:03.332Z"
   },
   {
    "duration": 16,
    "start_time": "2022-08-01T23:21:23.096Z"
   },
   {
    "duration": 13,
    "start_time": "2022-08-01T23:22:16.654Z"
   },
   {
    "duration": 13,
    "start_time": "2022-08-01T23:23:33.809Z"
   },
   {
    "duration": 15,
    "start_time": "2022-08-01T23:25:23.439Z"
   },
   {
    "duration": 16,
    "start_time": "2022-08-01T23:25:56.351Z"
   },
   {
    "duration": 15,
    "start_time": "2022-08-01T23:28:42.608Z"
   },
   {
    "duration": 16,
    "start_time": "2022-08-01T23:30:11.483Z"
   },
   {
    "duration": 73,
    "start_time": "2022-08-01T23:30:19.312Z"
   },
   {
    "duration": 1193,
    "start_time": "2022-08-01T23:30:27.652Z"
   },
   {
    "duration": 5926,
    "start_time": "2022-08-01T23:35:13.065Z"
   },
   {
    "duration": 1741,
    "start_time": "2022-08-01T23:36:03.431Z"
   },
   {
    "duration": 21,
    "start_time": "2022-08-01T23:36:41.987Z"
   },
   {
    "duration": 37,
    "start_time": "2022-08-01T23:37:39.492Z"
   },
   {
    "duration": 1207,
    "start_time": "2022-08-01T23:38:29.973Z"
   },
   {
    "duration": 20,
    "start_time": "2022-08-01T23:38:54.501Z"
   },
   {
    "duration": 25,
    "start_time": "2022-08-01T23:39:57.724Z"
   },
   {
    "duration": 3,
    "start_time": "2022-08-02T06:50:14.940Z"
   },
   {
    "duration": 82,
    "start_time": "2022-08-02T06:50:17.283Z"
   },
   {
    "duration": 13,
    "start_time": "2022-08-02T06:50:20.469Z"
   },
   {
    "duration": 16,
    "start_time": "2022-08-02T06:50:26.337Z"
   },
   {
    "duration": 16,
    "start_time": "2022-08-02T06:50:32.136Z"
   },
   {
    "duration": 24,
    "start_time": "2022-08-02T06:50:39.281Z"
   },
   {
    "duration": 403,
    "start_time": "2022-08-02T15:04:21.629Z"
   },
   {
    "duration": 136,
    "start_time": "2022-08-02T15:04:24.166Z"
   },
   {
    "duration": 10,
    "start_time": "2022-08-02T15:04:29.287Z"
   },
   {
    "duration": 16,
    "start_time": "2022-08-02T15:04:34.410Z"
   },
   {
    "duration": 8,
    "start_time": "2022-08-02T15:04:42.443Z"
   },
   {
    "duration": 68,
    "start_time": "2022-08-02T15:06:13.731Z"
   },
   {
    "duration": 17,
    "start_time": "2022-08-02T15:06:49.828Z"
   },
   {
    "duration": 69,
    "start_time": "2022-08-02T15:09:12.780Z"
   },
   {
    "duration": 16,
    "start_time": "2022-08-02T15:14:00.532Z"
   },
   {
    "duration": 16,
    "start_time": "2022-08-02T15:14:37.956Z"
   },
   {
    "duration": 35,
    "start_time": "2022-08-02T17:02:47.222Z"
   },
   {
    "duration": 32,
    "start_time": "2022-08-02T17:03:37.133Z"
   },
   {
    "duration": 24,
    "start_time": "2022-08-02T17:05:07.151Z"
   },
   {
    "duration": 23,
    "start_time": "2022-08-02T17:05:59.129Z"
   },
   {
    "duration": 7,
    "start_time": "2022-08-02T17:07:18.273Z"
   },
   {
    "duration": 65,
    "start_time": "2022-08-02T17:07:33.733Z"
   },
   {
    "duration": 13,
    "start_time": "2022-08-02T17:07:38.919Z"
   },
   {
    "duration": 8,
    "start_time": "2022-08-02T17:07:42.489Z"
   },
   {
    "duration": 7,
    "start_time": "2022-08-02T17:07:46.994Z"
   },
   {
    "duration": 25,
    "start_time": "2022-08-02T17:08:09.984Z"
   },
   {
    "duration": 7,
    "start_time": "2022-08-02T17:08:22.682Z"
   },
   {
    "duration": 7,
    "start_time": "2022-08-02T17:08:45.670Z"
   },
   {
    "duration": 22,
    "start_time": "2022-08-02T17:08:59.352Z"
   },
   {
    "duration": 1158,
    "start_time": "2022-08-02T17:11:25.628Z"
   },
   {
    "duration": 21,
    "start_time": "2022-08-02T17:12:00.850Z"
   },
   {
    "duration": 18,
    "start_time": "2022-08-02T17:14:17.123Z"
   },
   {
    "duration": 19,
    "start_time": "2022-08-02T17:16:05.850Z"
   },
   {
    "duration": 27,
    "start_time": "2022-08-02T17:16:36.723Z"
   },
   {
    "duration": 7,
    "start_time": "2022-08-02T17:36:07.587Z"
   },
   {
    "duration": 11,
    "start_time": "2022-08-02T17:37:14.728Z"
   },
   {
    "duration": 387,
    "start_time": "2022-08-03T09:52:21.125Z"
   },
   {
    "duration": 371,
    "start_time": "2022-08-03T09:52:24.272Z"
   },
   {
    "duration": 11,
    "start_time": "2022-08-03T09:52:27.426Z"
   },
   {
    "duration": 17,
    "start_time": "2022-08-03T09:52:32.472Z"
   },
   {
    "duration": 9,
    "start_time": "2022-08-03T09:52:36.949Z"
   },
   {
    "duration": 77,
    "start_time": "2022-08-03T09:52:42.269Z"
   },
   {
    "duration": 9,
    "start_time": "2022-08-03T11:36:24.148Z"
   },
   {
    "duration": 4,
    "start_time": "2022-08-03T11:36:56.721Z"
   },
   {
    "duration": 8,
    "start_time": "2022-08-03T11:37:09.466Z"
   },
   {
    "duration": 11,
    "start_time": "2022-08-03T11:37:44.126Z"
   },
   {
    "duration": 6,
    "start_time": "2022-08-03T11:39:13.978Z"
   },
   {
    "duration": 8,
    "start_time": "2022-08-03T11:41:00.230Z"
   },
   {
    "duration": 70,
    "start_time": "2022-08-03T11:41:37.516Z"
   },
   {
    "duration": 49,
    "start_time": "2022-08-03T11:42:15.938Z"
   },
   {
    "duration": 8,
    "start_time": "2022-08-03T11:42:44.847Z"
   },
   {
    "duration": 6,
    "start_time": "2022-08-03T11:42:54.868Z"
   },
   {
    "duration": 6,
    "start_time": "2022-08-03T11:43:04.315Z"
   },
   {
    "duration": 10,
    "start_time": "2022-08-03T11:52:21.107Z"
   },
   {
    "duration": 9,
    "start_time": "2022-08-03T11:52:43.011Z"
   },
   {
    "duration": 6,
    "start_time": "2022-08-03T11:53:32.030Z"
   },
   {
    "duration": 11,
    "start_time": "2022-08-03T11:54:04.012Z"
   },
   {
    "duration": 78,
    "start_time": "2022-08-03T11:54:32.613Z"
   },
   {
    "duration": 46,
    "start_time": "2022-08-03T11:55:07.425Z"
   },
   {
    "duration": 7,
    "start_time": "2022-08-03T11:55:23.226Z"
   },
   {
    "duration": 9,
    "start_time": "2022-08-03T11:55:56.866Z"
   },
   {
    "duration": 11,
    "start_time": "2022-08-03T11:56:58.483Z"
   },
   {
    "duration": 7,
    "start_time": "2022-08-03T11:57:22.719Z"
   },
   {
    "duration": 9,
    "start_time": "2022-08-03T13:20:18.069Z"
   },
   {
    "duration": 15,
    "start_time": "2022-08-03T13:20:42.278Z"
   },
   {
    "duration": 12,
    "start_time": "2022-08-03T13:24:17.479Z"
   },
   {
    "duration": 15,
    "start_time": "2022-08-03T13:28:14.657Z"
   },
   {
    "duration": 7,
    "start_time": "2022-08-03T13:29:24.201Z"
   },
   {
    "duration": 91,
    "start_time": "2022-08-03T13:30:03.750Z"
   },
   {
    "duration": 6,
    "start_time": "2022-08-03T13:30:11.886Z"
   },
   {
    "duration": 856,
    "start_time": "2022-08-03T13:31:01.025Z"
   },
   {
    "duration": 9,
    "start_time": "2022-08-03T13:31:43.949Z"
   },
   {
    "duration": 6,
    "start_time": "2022-08-03T13:32:35.579Z"
   },
   {
    "duration": 9,
    "start_time": "2022-08-03T13:33:43.858Z"
   },
   {
    "duration": 7,
    "start_time": "2022-08-03T13:35:23.593Z"
   },
   {
    "duration": 8,
    "start_time": "2022-08-03T14:28:56.144Z"
   },
   {
    "duration": 7,
    "start_time": "2022-08-03T14:29:19.640Z"
   },
   {
    "duration": 8,
    "start_time": "2022-08-03T14:30:20.980Z"
   },
   {
    "duration": 20,
    "start_time": "2022-08-03T14:31:18.528Z"
   },
   {
    "duration": 8,
    "start_time": "2022-08-03T14:31:38.651Z"
   },
   {
    "duration": 21,
    "start_time": "2022-08-03T14:32:56.271Z"
   },
   {
    "duration": 16,
    "start_time": "2022-08-03T14:33:10.044Z"
   },
   {
    "duration": 21,
    "start_time": "2022-08-03T14:33:20.900Z"
   },
   {
    "duration": 11,
    "start_time": "2022-08-03T14:34:49.177Z"
   },
   {
    "duration": 8,
    "start_time": "2022-08-03T17:56:52.993Z"
   },
   {
    "duration": 11,
    "start_time": "2022-08-03T20:21:47.436Z"
   },
   {
    "duration": 10,
    "start_time": "2022-08-03T20:23:09.232Z"
   },
   {
    "duration": 19,
    "start_time": "2022-08-03T20:24:57.528Z"
   },
   {
    "duration": 15,
    "start_time": "2022-08-03T20:25:50.680Z"
   },
   {
    "duration": 18,
    "start_time": "2022-08-03T20:28:43.128Z"
   },
   {
    "duration": 18,
    "start_time": "2022-08-03T20:29:28.728Z"
   },
   {
    "duration": 459,
    "start_time": "2022-08-03T20:30:01.770Z"
   },
   {
    "duration": 17,
    "start_time": "2022-08-03T20:30:27.137Z"
   },
   {
    "duration": 13,
    "start_time": "2022-08-03T20:48:10.660Z"
   },
   {
    "duration": 6,
    "start_time": "2022-08-03T20:49:55.166Z"
   },
   {
    "duration": 11,
    "start_time": "2022-08-03T20:50:49.588Z"
   },
   {
    "duration": 9,
    "start_time": "2022-08-03T20:51:13.539Z"
   },
   {
    "duration": 9,
    "start_time": "2022-08-03T20:52:41.978Z"
   },
   {
    "duration": 14,
    "start_time": "2022-08-03T21:04:52.460Z"
   },
   {
    "duration": 13,
    "start_time": "2022-08-03T21:05:41.971Z"
   },
   {
    "duration": 16,
    "start_time": "2022-08-03T21:06:03.271Z"
   },
   {
    "duration": 17,
    "start_time": "2022-08-03T21:08:25.557Z"
   },
   {
    "duration": 14,
    "start_time": "2022-08-03T21:10:28.286Z"
   },
   {
    "duration": 34,
    "start_time": "2022-08-03T21:13:09.059Z"
   },
   {
    "duration": 34,
    "start_time": "2022-08-03T21:19:18.570Z"
   },
   {
    "duration": 45,
    "start_time": "2022-08-03T21:20:50.640Z"
   },
   {
    "duration": 43,
    "start_time": "2022-08-03T21:21:54.434Z"
   },
   {
    "duration": 38,
    "start_time": "2022-08-03T21:22:38.048Z"
   },
   {
    "duration": 36,
    "start_time": "2022-08-03T21:23:35.135Z"
   },
   {
    "duration": 47,
    "start_time": "2022-08-03T21:23:59.150Z"
   },
   {
    "duration": 32,
    "start_time": "2022-08-03T21:28:56.736Z"
   },
   {
    "duration": 9,
    "start_time": "2022-08-03T21:55:45.230Z"
   },
   {
    "duration": 47,
    "start_time": "2022-08-03T21:59:42.461Z"
   },
   {
    "duration": 54,
    "start_time": "2022-08-03T21:59:54.130Z"
   },
   {
    "duration": 10,
    "start_time": "2022-08-03T22:00:59.335Z"
   },
   {
    "duration": 6,
    "start_time": "2022-08-03T22:01:38.872Z"
   },
   {
    "duration": 7,
    "start_time": "2022-08-03T22:03:43.371Z"
   },
   {
    "duration": 6,
    "start_time": "2022-08-03T22:05:20.461Z"
   },
   {
    "duration": 7,
    "start_time": "2022-08-03T22:05:49.035Z"
   },
   {
    "duration": 8,
    "start_time": "2022-08-03T22:06:06.147Z"
   },
   {
    "duration": 4,
    "start_time": "2022-08-03T22:06:26.635Z"
   },
   {
    "duration": 5,
    "start_time": "2022-08-03T22:08:31.235Z"
   },
   {
    "duration": 4,
    "start_time": "2022-08-03T22:09:05.460Z"
   },
   {
    "duration": 13,
    "start_time": "2022-08-03T22:32:11.142Z"
   },
   {
    "duration": 12,
    "start_time": "2022-08-03T22:32:33.158Z"
   },
   {
    "duration": 24,
    "start_time": "2022-08-03T22:33:04.616Z"
   },
   {
    "duration": 9,
    "start_time": "2022-08-03T22:34:34.971Z"
   },
   {
    "duration": 7,
    "start_time": "2022-08-03T22:34:55.552Z"
   },
   {
    "duration": 9,
    "start_time": "2022-08-03T22:36:27.335Z"
   },
   {
    "duration": 74,
    "start_time": "2022-08-03T22:37:18.363Z"
   },
   {
    "duration": 6,
    "start_time": "2022-08-03T22:37:30.383Z"
   },
   {
    "duration": 134,
    "start_time": "2022-08-03T22:38:04.183Z"
   },
   {
    "duration": 78,
    "start_time": "2022-08-04T03:28:09.780Z"
   },
   {
    "duration": 45,
    "start_time": "2022-08-04T03:29:08.841Z"
   },
   {
    "duration": 6,
    "start_time": "2022-08-04T03:29:36.041Z"
   },
   {
    "duration": 6,
    "start_time": "2022-08-04T03:30:02.482Z"
   },
   {
    "duration": 6,
    "start_time": "2022-08-04T03:30:28.460Z"
   },
   {
    "duration": 6,
    "start_time": "2022-08-04T03:30:49.728Z"
   },
   {
    "duration": 7,
    "start_time": "2022-08-04T03:31:35.114Z"
   },
   {
    "duration": 6,
    "start_time": "2022-08-04T03:32:11.034Z"
   },
   {
    "duration": 10,
    "start_time": "2022-08-04T03:50:28.261Z"
   },
   {
    "duration": 11,
    "start_time": "2022-08-04T03:51:50.524Z"
   },
   {
    "duration": 9,
    "start_time": "2022-08-04T03:52:26.090Z"
   },
   {
    "duration": 7,
    "start_time": "2022-08-04T03:53:55.120Z"
   },
   {
    "duration": 5,
    "start_time": "2022-08-04T03:53:57.879Z"
   },
   {
    "duration": 39,
    "start_time": "2022-08-04T03:57:06.509Z"
   },
   {
    "duration": 30,
    "start_time": "2022-08-04T04:00:19.366Z"
   },
   {
    "duration": 7,
    "start_time": "2022-08-04T04:00:52.340Z"
   },
   {
    "duration": 8,
    "start_time": "2022-08-04T04:03:27.321Z"
   },
   {
    "duration": 3,
    "start_time": "2022-08-04T04:04:02.065Z"
   },
   {
    "duration": 708,
    "start_time": "2022-08-04T04:04:21.691Z"
   },
   {
    "duration": 65,
    "start_time": "2022-08-04T04:04:38.091Z"
   },
   {
    "duration": 7,
    "start_time": "2022-08-04T04:04:41.573Z"
   },
   {
    "duration": 16,
    "start_time": "2022-08-04T04:04:47.420Z"
   },
   {
    "duration": 8,
    "start_time": "2022-08-04T04:04:51.962Z"
   },
   {
    "duration": 31,
    "start_time": "2022-08-04T04:04:58.822Z"
   },
   {
    "duration": 6,
    "start_time": "2022-08-04T04:05:03.228Z"
   },
   {
    "duration": 7,
    "start_time": "2022-08-04T04:05:07.589Z"
   },
   {
    "duration": 3,
    "start_time": "2022-08-04T04:05:11.450Z"
   },
   {
    "duration": 6,
    "start_time": "2022-08-04T04:05:17.918Z"
   },
   {
    "duration": 4,
    "start_time": "2022-08-04T04:05:22.668Z"
   },
   {
    "duration": 30,
    "start_time": "2022-08-04T04:05:29.087Z"
   },
   {
    "duration": 10,
    "start_time": "2022-08-04T04:05:32.863Z"
   },
   {
    "duration": 8,
    "start_time": "2022-08-04T04:05:38.708Z"
   },
   {
    "duration": 5,
    "start_time": "2022-08-04T04:19:58.069Z"
   },
   {
    "duration": 13,
    "start_time": "2022-08-04T04:28:45.579Z"
   },
   {
    "duration": 3,
    "start_time": "2022-08-04T04:36:01.835Z"
   },
   {
    "duration": 13,
    "start_time": "2022-08-04T04:36:47.647Z"
   },
   {
    "duration": 91,
    "start_time": "2022-08-04T08:04:52.533Z"
   },
   {
    "duration": 396,
    "start_time": "2022-08-04T08:06:13.928Z"
   },
   {
    "duration": 321,
    "start_time": "2022-08-04T08:06:15.967Z"
   },
   {
    "duration": 9,
    "start_time": "2022-08-04T08:06:19.256Z"
   },
   {
    "duration": 15,
    "start_time": "2022-08-04T08:06:26.322Z"
   },
   {
    "duration": 8,
    "start_time": "2022-08-04T08:06:28.456Z"
   },
   {
    "duration": 36,
    "start_time": "2022-08-04T08:06:30.295Z"
   },
   {
    "duration": 9,
    "start_time": "2022-08-04T08:06:33.710Z"
   },
   {
    "duration": 7,
    "start_time": "2022-08-04T08:06:38.528Z"
   },
   {
    "duration": 9,
    "start_time": "2022-08-04T08:06:40.460Z"
   },
   {
    "duration": 8,
    "start_time": "2022-08-04T08:06:44.757Z"
   },
   {
    "duration": 4,
    "start_time": "2022-08-04T08:06:49.313Z"
   },
   {
    "duration": 42,
    "start_time": "2022-08-04T08:06:52.672Z"
   },
   {
    "duration": 8,
    "start_time": "2022-08-04T08:06:58.475Z"
   },
   {
    "duration": 8,
    "start_time": "2022-08-04T08:07:09.743Z"
   },
   {
    "duration": 27,
    "start_time": "2022-08-04T08:07:22.050Z"
   },
   {
    "duration": 15,
    "start_time": "2022-08-04T08:07:30.141Z"
   },
   {
    "duration": 46,
    "start_time": "2022-08-04T08:08:51.213Z"
   },
   {
    "duration": 43,
    "start_time": "2022-08-04T08:09:07.960Z"
   },
   {
    "duration": 28,
    "start_time": "2022-08-04T08:09:37.808Z"
   },
   {
    "duration": 57,
    "start_time": "2022-08-04T08:09:46.615Z"
   },
   {
    "duration": 3,
    "start_time": "2022-08-04T08:10:19.381Z"
   },
   {
    "duration": 68,
    "start_time": "2022-08-04T08:10:19.440Z"
   },
   {
    "duration": 10,
    "start_time": "2022-08-04T08:10:19.510Z"
   },
   {
    "duration": 15,
    "start_time": "2022-08-04T08:10:19.525Z"
   },
   {
    "duration": 7,
    "start_time": "2022-08-04T08:10:19.580Z"
   },
   {
    "duration": 40,
    "start_time": "2022-08-04T08:10:19.681Z"
   },
   {
    "duration": 7,
    "start_time": "2022-08-04T08:10:19.723Z"
   },
   {
    "duration": 6,
    "start_time": "2022-08-04T08:10:19.735Z"
   },
   {
    "duration": 3,
    "start_time": "2022-08-04T08:10:19.770Z"
   },
   {
    "duration": 6,
    "start_time": "2022-08-04T08:10:19.808Z"
   },
   {
    "duration": 5,
    "start_time": "2022-08-04T08:10:19.838Z"
   },
   {
    "duration": 40,
    "start_time": "2022-08-04T08:10:19.908Z"
   },
   {
    "duration": 7,
    "start_time": "2022-08-04T08:10:19.950Z"
   },
   {
    "duration": 8,
    "start_time": "2022-08-04T08:10:19.964Z"
   },
   {
    "duration": 20,
    "start_time": "2022-08-04T08:10:20.008Z"
   },
   {
    "duration": 26,
    "start_time": "2022-08-04T08:10:20.029Z"
   },
   {
    "duration": 29,
    "start_time": "2022-08-04T08:10:20.057Z"
   },
   {
    "duration": 3,
    "start_time": "2022-08-04T08:11:42.689Z"
   },
   {
    "duration": 79,
    "start_time": "2022-08-04T08:11:42.730Z"
   },
   {
    "duration": 14,
    "start_time": "2022-08-04T08:11:42.812Z"
   },
   {
    "duration": 14,
    "start_time": "2022-08-04T08:11:42.932Z"
   },
   {
    "duration": 8,
    "start_time": "2022-08-04T08:11:42.947Z"
   },
   {
    "duration": 30,
    "start_time": "2022-08-04T08:11:43.076Z"
   },
   {
    "duration": 8,
    "start_time": "2022-08-04T08:11:43.315Z"
   },
   {
    "duration": 17,
    "start_time": "2022-08-04T08:11:43.325Z"
   },
   {
    "duration": 6,
    "start_time": "2022-08-04T08:11:43.344Z"
   },
   {
    "duration": 8,
    "start_time": "2022-08-04T08:11:43.352Z"
   },
   {
    "duration": 4,
    "start_time": "2022-08-04T08:11:43.362Z"
   },
   {
    "duration": 37,
    "start_time": "2022-08-04T08:11:43.423Z"
   },
   {
    "duration": 9,
    "start_time": "2022-08-04T08:11:43.478Z"
   },
   {
    "duration": 16,
    "start_time": "2022-08-04T08:11:43.490Z"
   },
   {
    "duration": 22,
    "start_time": "2022-08-04T08:11:43.508Z"
   },
   {
    "duration": 16,
    "start_time": "2022-08-04T08:11:51.490Z"
   },
   {
    "duration": 43,
    "start_time": "2022-08-04T10:32:20.437Z"
   },
   {
    "duration": 401,
    "start_time": "2022-08-04T10:32:49.977Z"
   },
   {
    "duration": 119,
    "start_time": "2022-08-04T10:32:50.380Z"
   },
   {
    "duration": 11,
    "start_time": "2022-08-04T10:32:50.500Z"
   },
   {
    "duration": 14,
    "start_time": "2022-08-04T10:32:50.513Z"
   },
   {
    "duration": 8,
    "start_time": "2022-08-04T10:32:50.529Z"
   },
   {
    "duration": 35,
    "start_time": "2022-08-04T10:32:50.539Z"
   },
   {
    "duration": 30,
    "start_time": "2022-08-04T10:32:50.576Z"
   },
   {
    "duration": 7,
    "start_time": "2022-08-04T10:32:50.608Z"
   },
   {
    "duration": 10,
    "start_time": "2022-08-04T10:32:50.616Z"
   },
   {
    "duration": 8,
    "start_time": "2022-08-04T10:32:50.628Z"
   },
   {
    "duration": 5,
    "start_time": "2022-08-04T10:32:50.638Z"
   },
   {
    "duration": 74,
    "start_time": "2022-08-04T10:32:50.645Z"
   },
   {
    "duration": 9,
    "start_time": "2022-08-04T10:32:50.721Z"
   },
   {
    "duration": 9,
    "start_time": "2022-08-04T10:32:50.733Z"
   },
   {
    "duration": 16,
    "start_time": "2022-08-04T10:32:50.744Z"
   },
   {
    "duration": 22,
    "start_time": "2022-08-04T10:32:55.404Z"
   },
   {
    "duration": 28,
    "start_time": "2022-08-04T10:33:12.249Z"
   },
   {
    "duration": 28,
    "start_time": "2022-08-04T10:33:18.663Z"
   },
   {
    "duration": 25,
    "start_time": "2022-08-04T10:34:01.679Z"
   },
   {
    "duration": 3,
    "start_time": "2022-08-04T10:34:52.825Z"
   },
   {
    "duration": 73,
    "start_time": "2022-08-04T10:34:52.829Z"
   },
   {
    "duration": 8,
    "start_time": "2022-08-04T10:34:52.904Z"
   },
   {
    "duration": 17,
    "start_time": "2022-08-04T10:34:52.913Z"
   },
   {
    "duration": 9,
    "start_time": "2022-08-04T10:34:52.932Z"
   },
   {
    "duration": 47,
    "start_time": "2022-08-04T10:34:52.943Z"
   },
   {
    "duration": 7,
    "start_time": "2022-08-04T10:34:52.991Z"
   },
   {
    "duration": 17,
    "start_time": "2022-08-04T10:34:53.005Z"
   },
   {
    "duration": 11,
    "start_time": "2022-08-04T10:34:53.023Z"
   },
   {
    "duration": 17,
    "start_time": "2022-08-04T10:34:53.036Z"
   },
   {
    "duration": 20,
    "start_time": "2022-08-04T10:34:53.054Z"
   },
   {
    "duration": 39,
    "start_time": "2022-08-04T10:34:53.075Z"
   },
   {
    "duration": 8,
    "start_time": "2022-08-04T10:34:53.116Z"
   },
   {
    "duration": 27,
    "start_time": "2022-08-04T10:34:53.126Z"
   },
   {
    "duration": 23,
    "start_time": "2022-08-04T10:34:53.155Z"
   },
   {
    "duration": 32,
    "start_time": "2022-08-04T10:34:56.494Z"
   },
   {
    "duration": 16,
    "start_time": "2022-08-04T10:35:08.735Z"
   },
   {
    "duration": 5,
    "start_time": "2022-08-04T11:40:16.137Z"
   },
   {
    "duration": 5,
    "start_time": "2022-08-04T11:41:34.426Z"
   },
   {
    "duration": 3,
    "start_time": "2022-08-04T11:42:00.583Z"
   },
   {
    "duration": 31,
    "start_time": "2022-08-04T11:48:18.801Z"
   },
   {
    "duration": 17,
    "start_time": "2022-08-04T11:48:30.833Z"
   },
   {
    "duration": 8,
    "start_time": "2022-08-04T12:38:46.258Z"
   },
   {
    "duration": 5,
    "start_time": "2022-08-04T13:06:13.855Z"
   },
   {
    "duration": 1168,
    "start_time": "2022-08-04T13:20:41.720Z"
   },
   {
    "duration": 5,
    "start_time": "2022-08-04T13:21:20.982Z"
   },
   {
    "duration": 9,
    "start_time": "2022-08-04T13:25:47.023Z"
   },
   {
    "duration": 3,
    "start_time": "2022-08-04T13:26:04.383Z"
   },
   {
    "duration": 10,
    "start_time": "2022-08-04T13:26:09.857Z"
   },
   {
    "duration": 8,
    "start_time": "2022-08-04T13:26:43.549Z"
   },
   {
    "duration": 5,
    "start_time": "2022-08-04T13:27:09.516Z"
   },
   {
    "duration": 6,
    "start_time": "2022-08-04T13:27:12.428Z"
   },
   {
    "duration": 6,
    "start_time": "2022-08-04T13:27:59.993Z"
   },
   {
    "duration": 11,
    "start_time": "2022-08-04T13:28:27.129Z"
   },
   {
    "duration": 76,
    "start_time": "2022-08-04T13:29:25.194Z"
   },
   {
    "duration": 13,
    "start_time": "2022-08-04T13:29:38.819Z"
   },
   {
    "duration": 9,
    "start_time": "2022-08-04T13:30:37.690Z"
   },
   {
    "duration": 8,
    "start_time": "2022-08-04T13:30:53.101Z"
   },
   {
    "duration": 6,
    "start_time": "2022-08-04T13:31:24.693Z"
   },
   {
    "duration": 135,
    "start_time": "2022-08-04T13:35:35.429Z"
   },
   {
    "duration": 138,
    "start_time": "2022-08-04T13:35:49.606Z"
   },
   {
    "duration": 406,
    "start_time": "2022-08-04T13:36:27.036Z"
   },
   {
    "duration": 8,
    "start_time": "2022-08-04T13:36:52.481Z"
   },
   {
    "duration": 343,
    "start_time": "2022-08-04T13:37:26.479Z"
   },
   {
    "duration": 11,
    "start_time": "2022-08-04T13:37:53.463Z"
   },
   {
    "duration": 8,
    "start_time": "2022-08-04T13:38:06.675Z"
   },
   {
    "duration": 8,
    "start_time": "2022-08-04T13:38:10.360Z"
   },
   {
    "duration": 11,
    "start_time": "2022-08-04T13:39:42.221Z"
   },
   {
    "duration": 7,
    "start_time": "2022-08-04T13:39:48.869Z"
   },
   {
    "duration": 7,
    "start_time": "2022-08-04T13:39:52.862Z"
   }
  ],
  "colab": {
   "name": "dpp_template_part1.ipynb",
   "provenance": []
  },
  "kernelspec": {
   "display_name": "Python 3 (ipykernel)",
   "language": "python",
   "name": "python3"
  },
  "language_info": {
   "codemirror_mode": {
    "name": "ipython",
    "version": 3
   },
   "file_extension": ".py",
   "mimetype": "text/x-python",
   "name": "python",
   "nbconvert_exporter": "python",
   "pygments_lexer": "ipython3",
   "version": "3.9.5"
  },
  "toc": {
   "base_numbering": 1,
   "nav_menu": {},
   "number_sections": true,
   "sideBar": true,
   "skip_h1_title": true,
   "title_cell": "Table of Contents",
   "title_sidebar": "Contents",
   "toc_cell": false,
   "toc_position": {},
   "toc_section_display": true,
   "toc_window_display": false
  }
 },
 "nbformat": 4,
 "nbformat_minor": 5
}
