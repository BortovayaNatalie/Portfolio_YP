{
 "cells": [
  {
   "cell_type": "markdown",
   "id": "c81daeeb",
   "metadata": {
    "deletable": false,
    "id": "c81daeeb"
   },
   "source": [
    "# Исследование надежности заемщиков\n"
   ]
  },
  {
   "cell_type": "markdown",
   "id": "827c20bf",
   "metadata": {
    "id": "827c20bf"
   },
   "source": [
    "Во второй части проекта вы выполните шаги 3 и 4. Их вручную проверит ревьюер.\n",
    "Чтобы вам не пришлось писать код заново для шагов 1 и 2, мы добавили авторские решения в ячейки с кодом. \n",
    "\n"
   ]
  },
  {
   "cell_type": "markdown",
   "id": "744d7639",
   "metadata": {
    "deletable": false,
    "id": "744d7639"
   },
   "source": [
    "## Откройте таблицу и изучите общую информацию о данных"
   ]
  },
  {
   "cell_type": "markdown",
   "id": "e7a14c31",
   "metadata": {
    "deletable": false,
    "id": "e7a14c31"
   },
   "source": [
    "**Задание 1. Импортируйте библиотеку pandas. Считайте данные из csv-файла в датафрейм и сохраните в переменную `data`. Путь к файлу:**\n",
    "\n",
    "`/datasets/data.csv`"
   ]
  },
  {
   "cell_type": "code",
   "execution_count": 2,
   "id": "7bcf75c9",
   "metadata": {
    "deletable": false,
    "id": "7bcf75c9"
   },
   "outputs": [],
   "source": [
    "import pandas as pd\n",
    "\n",
    "try:\n",
    "    data = pd.read_csv('/datasets/data.csv')\n",
    "except:\n",
    "    data = pd.read_csv('https://code.s3.yandex.net/datasets/data.csv')"
   ]
  },
  {
   "cell_type": "markdown",
   "id": "b8038fe3",
   "metadata": {
    "deletable": false,
    "id": "b8038fe3"
   },
   "source": [
    "**Задание 2. Выведите первые 20 строчек датафрейма `data` на экран.**"
   ]
  },
  {
   "cell_type": "code",
   "execution_count": 3,
   "id": "2a7cab99",
   "metadata": {
    "deletable": false,
    "id": "2a7cab99",
    "outputId": "1a8f3ef2-d323-4ec2-ddf7-89670b5944c4"
   },
   "outputs": [
    {
     "data": {
      "text/html": [
       "<div>\n",
       "<style scoped>\n",
       "    .dataframe tbody tr th:only-of-type {\n",
       "        vertical-align: middle;\n",
       "    }\n",
       "\n",
       "    .dataframe tbody tr th {\n",
       "        vertical-align: top;\n",
       "    }\n",
       "\n",
       "    .dataframe thead th {\n",
       "        text-align: right;\n",
       "    }\n",
       "</style>\n",
       "<table border=\"1\" class=\"dataframe\">\n",
       "  <thead>\n",
       "    <tr style=\"text-align: right;\">\n",
       "      <th></th>\n",
       "      <th>children</th>\n",
       "      <th>days_employed</th>\n",
       "      <th>dob_years</th>\n",
       "      <th>education</th>\n",
       "      <th>education_id</th>\n",
       "      <th>family_status</th>\n",
       "      <th>family_status_id</th>\n",
       "      <th>gender</th>\n",
       "      <th>income_type</th>\n",
       "      <th>debt</th>\n",
       "      <th>total_income</th>\n",
       "      <th>purpose</th>\n",
       "    </tr>\n",
       "  </thead>\n",
       "  <tbody>\n",
       "    <tr>\n",
       "      <th>0</th>\n",
       "      <td>1</td>\n",
       "      <td>-8437.673028</td>\n",
       "      <td>42</td>\n",
       "      <td>высшее</td>\n",
       "      <td>0</td>\n",
       "      <td>женат / замужем</td>\n",
       "      <td>0</td>\n",
       "      <td>F</td>\n",
       "      <td>сотрудник</td>\n",
       "      <td>0</td>\n",
       "      <td>253875.639453</td>\n",
       "      <td>покупка жилья</td>\n",
       "    </tr>\n",
       "    <tr>\n",
       "      <th>1</th>\n",
       "      <td>1</td>\n",
       "      <td>-4024.803754</td>\n",
       "      <td>36</td>\n",
       "      <td>среднее</td>\n",
       "      <td>1</td>\n",
       "      <td>женат / замужем</td>\n",
       "      <td>0</td>\n",
       "      <td>F</td>\n",
       "      <td>сотрудник</td>\n",
       "      <td>0</td>\n",
       "      <td>112080.014102</td>\n",
       "      <td>приобретение автомобиля</td>\n",
       "    </tr>\n",
       "    <tr>\n",
       "      <th>2</th>\n",
       "      <td>0</td>\n",
       "      <td>-5623.422610</td>\n",
       "      <td>33</td>\n",
       "      <td>Среднее</td>\n",
       "      <td>1</td>\n",
       "      <td>женат / замужем</td>\n",
       "      <td>0</td>\n",
       "      <td>M</td>\n",
       "      <td>сотрудник</td>\n",
       "      <td>0</td>\n",
       "      <td>145885.952297</td>\n",
       "      <td>покупка жилья</td>\n",
       "    </tr>\n",
       "    <tr>\n",
       "      <th>3</th>\n",
       "      <td>3</td>\n",
       "      <td>-4124.747207</td>\n",
       "      <td>32</td>\n",
       "      <td>среднее</td>\n",
       "      <td>1</td>\n",
       "      <td>женат / замужем</td>\n",
       "      <td>0</td>\n",
       "      <td>M</td>\n",
       "      <td>сотрудник</td>\n",
       "      <td>0</td>\n",
       "      <td>267628.550329</td>\n",
       "      <td>дополнительное образование</td>\n",
       "    </tr>\n",
       "    <tr>\n",
       "      <th>4</th>\n",
       "      <td>0</td>\n",
       "      <td>340266.072047</td>\n",
       "      <td>53</td>\n",
       "      <td>среднее</td>\n",
       "      <td>1</td>\n",
       "      <td>гражданский брак</td>\n",
       "      <td>1</td>\n",
       "      <td>F</td>\n",
       "      <td>пенсионер</td>\n",
       "      <td>0</td>\n",
       "      <td>158616.077870</td>\n",
       "      <td>сыграть свадьбу</td>\n",
       "    </tr>\n",
       "    <tr>\n",
       "      <th>5</th>\n",
       "      <td>0</td>\n",
       "      <td>-926.185831</td>\n",
       "      <td>27</td>\n",
       "      <td>высшее</td>\n",
       "      <td>0</td>\n",
       "      <td>гражданский брак</td>\n",
       "      <td>1</td>\n",
       "      <td>M</td>\n",
       "      <td>компаньон</td>\n",
       "      <td>0</td>\n",
       "      <td>255763.565419</td>\n",
       "      <td>покупка жилья</td>\n",
       "    </tr>\n",
       "    <tr>\n",
       "      <th>6</th>\n",
       "      <td>0</td>\n",
       "      <td>-2879.202052</td>\n",
       "      <td>43</td>\n",
       "      <td>высшее</td>\n",
       "      <td>0</td>\n",
       "      <td>женат / замужем</td>\n",
       "      <td>0</td>\n",
       "      <td>F</td>\n",
       "      <td>компаньон</td>\n",
       "      <td>0</td>\n",
       "      <td>240525.971920</td>\n",
       "      <td>операции с жильем</td>\n",
       "    </tr>\n",
       "    <tr>\n",
       "      <th>7</th>\n",
       "      <td>0</td>\n",
       "      <td>-152.779569</td>\n",
       "      <td>50</td>\n",
       "      <td>СРЕДНЕЕ</td>\n",
       "      <td>1</td>\n",
       "      <td>женат / замужем</td>\n",
       "      <td>0</td>\n",
       "      <td>M</td>\n",
       "      <td>сотрудник</td>\n",
       "      <td>0</td>\n",
       "      <td>135823.934197</td>\n",
       "      <td>образование</td>\n",
       "    </tr>\n",
       "    <tr>\n",
       "      <th>8</th>\n",
       "      <td>2</td>\n",
       "      <td>-6929.865299</td>\n",
       "      <td>35</td>\n",
       "      <td>ВЫСШЕЕ</td>\n",
       "      <td>0</td>\n",
       "      <td>гражданский брак</td>\n",
       "      <td>1</td>\n",
       "      <td>F</td>\n",
       "      <td>сотрудник</td>\n",
       "      <td>0</td>\n",
       "      <td>95856.832424</td>\n",
       "      <td>на проведение свадьбы</td>\n",
       "    </tr>\n",
       "    <tr>\n",
       "      <th>9</th>\n",
       "      <td>0</td>\n",
       "      <td>-2188.756445</td>\n",
       "      <td>41</td>\n",
       "      <td>среднее</td>\n",
       "      <td>1</td>\n",
       "      <td>женат / замужем</td>\n",
       "      <td>0</td>\n",
       "      <td>M</td>\n",
       "      <td>сотрудник</td>\n",
       "      <td>0</td>\n",
       "      <td>144425.938277</td>\n",
       "      <td>покупка жилья для семьи</td>\n",
       "    </tr>\n",
       "    <tr>\n",
       "      <th>10</th>\n",
       "      <td>2</td>\n",
       "      <td>-4171.483647</td>\n",
       "      <td>36</td>\n",
       "      <td>высшее</td>\n",
       "      <td>0</td>\n",
       "      <td>женат / замужем</td>\n",
       "      <td>0</td>\n",
       "      <td>M</td>\n",
       "      <td>компаньон</td>\n",
       "      <td>0</td>\n",
       "      <td>113943.491460</td>\n",
       "      <td>покупка недвижимости</td>\n",
       "    </tr>\n",
       "    <tr>\n",
       "      <th>11</th>\n",
       "      <td>0</td>\n",
       "      <td>-792.701887</td>\n",
       "      <td>40</td>\n",
       "      <td>среднее</td>\n",
       "      <td>1</td>\n",
       "      <td>женат / замужем</td>\n",
       "      <td>0</td>\n",
       "      <td>F</td>\n",
       "      <td>сотрудник</td>\n",
       "      <td>0</td>\n",
       "      <td>77069.234271</td>\n",
       "      <td>покупка коммерческой недвижимости</td>\n",
       "    </tr>\n",
       "    <tr>\n",
       "      <th>12</th>\n",
       "      <td>0</td>\n",
       "      <td>NaN</td>\n",
       "      <td>65</td>\n",
       "      <td>среднее</td>\n",
       "      <td>1</td>\n",
       "      <td>гражданский брак</td>\n",
       "      <td>1</td>\n",
       "      <td>M</td>\n",
       "      <td>пенсионер</td>\n",
       "      <td>0</td>\n",
       "      <td>NaN</td>\n",
       "      <td>сыграть свадьбу</td>\n",
       "    </tr>\n",
       "    <tr>\n",
       "      <th>13</th>\n",
       "      <td>0</td>\n",
       "      <td>-1846.641941</td>\n",
       "      <td>54</td>\n",
       "      <td>неоконченное высшее</td>\n",
       "      <td>2</td>\n",
       "      <td>женат / замужем</td>\n",
       "      <td>0</td>\n",
       "      <td>F</td>\n",
       "      <td>сотрудник</td>\n",
       "      <td>0</td>\n",
       "      <td>130458.228857</td>\n",
       "      <td>приобретение автомобиля</td>\n",
       "    </tr>\n",
       "    <tr>\n",
       "      <th>14</th>\n",
       "      <td>0</td>\n",
       "      <td>-1844.956182</td>\n",
       "      <td>56</td>\n",
       "      <td>высшее</td>\n",
       "      <td>0</td>\n",
       "      <td>гражданский брак</td>\n",
       "      <td>1</td>\n",
       "      <td>F</td>\n",
       "      <td>компаньон</td>\n",
       "      <td>1</td>\n",
       "      <td>165127.911772</td>\n",
       "      <td>покупка жилой недвижимости</td>\n",
       "    </tr>\n",
       "    <tr>\n",
       "      <th>15</th>\n",
       "      <td>1</td>\n",
       "      <td>-972.364419</td>\n",
       "      <td>26</td>\n",
       "      <td>среднее</td>\n",
       "      <td>1</td>\n",
       "      <td>женат / замужем</td>\n",
       "      <td>0</td>\n",
       "      <td>F</td>\n",
       "      <td>сотрудник</td>\n",
       "      <td>0</td>\n",
       "      <td>116820.904450</td>\n",
       "      <td>строительство собственной недвижимости</td>\n",
       "    </tr>\n",
       "    <tr>\n",
       "      <th>16</th>\n",
       "      <td>0</td>\n",
       "      <td>-1719.934226</td>\n",
       "      <td>35</td>\n",
       "      <td>среднее</td>\n",
       "      <td>1</td>\n",
       "      <td>женат / замужем</td>\n",
       "      <td>0</td>\n",
       "      <td>F</td>\n",
       "      <td>сотрудник</td>\n",
       "      <td>0</td>\n",
       "      <td>289202.704229</td>\n",
       "      <td>недвижимость</td>\n",
       "    </tr>\n",
       "    <tr>\n",
       "      <th>17</th>\n",
       "      <td>0</td>\n",
       "      <td>-2369.999720</td>\n",
       "      <td>33</td>\n",
       "      <td>высшее</td>\n",
       "      <td>0</td>\n",
       "      <td>гражданский брак</td>\n",
       "      <td>1</td>\n",
       "      <td>M</td>\n",
       "      <td>сотрудник</td>\n",
       "      <td>0</td>\n",
       "      <td>90410.586745</td>\n",
       "      <td>строительство недвижимости</td>\n",
       "    </tr>\n",
       "    <tr>\n",
       "      <th>18</th>\n",
       "      <td>0</td>\n",
       "      <td>400281.136913</td>\n",
       "      <td>53</td>\n",
       "      <td>среднее</td>\n",
       "      <td>1</td>\n",
       "      <td>вдовец / вдова</td>\n",
       "      <td>2</td>\n",
       "      <td>F</td>\n",
       "      <td>пенсионер</td>\n",
       "      <td>0</td>\n",
       "      <td>56823.777243</td>\n",
       "      <td>на покупку подержанного автомобиля</td>\n",
       "    </tr>\n",
       "    <tr>\n",
       "      <th>19</th>\n",
       "      <td>0</td>\n",
       "      <td>-10038.818549</td>\n",
       "      <td>48</td>\n",
       "      <td>СРЕДНЕЕ</td>\n",
       "      <td>1</td>\n",
       "      <td>в разводе</td>\n",
       "      <td>3</td>\n",
       "      <td>F</td>\n",
       "      <td>сотрудник</td>\n",
       "      <td>0</td>\n",
       "      <td>242831.107982</td>\n",
       "      <td>на покупку своего автомобиля</td>\n",
       "    </tr>\n",
       "  </tbody>\n",
       "</table>\n",
       "</div>"
      ],
      "text/plain": [
       "    children  days_employed  dob_years            education  education_id  \\\n",
       "0          1   -8437.673028         42               высшее             0   \n",
       "1          1   -4024.803754         36              среднее             1   \n",
       "2          0   -5623.422610         33              Среднее             1   \n",
       "3          3   -4124.747207         32              среднее             1   \n",
       "4          0  340266.072047         53              среднее             1   \n",
       "5          0    -926.185831         27               высшее             0   \n",
       "6          0   -2879.202052         43               высшее             0   \n",
       "7          0    -152.779569         50              СРЕДНЕЕ             1   \n",
       "8          2   -6929.865299         35               ВЫСШЕЕ             0   \n",
       "9          0   -2188.756445         41              среднее             1   \n",
       "10         2   -4171.483647         36               высшее             0   \n",
       "11         0    -792.701887         40              среднее             1   \n",
       "12         0            NaN         65              среднее             1   \n",
       "13         0   -1846.641941         54  неоконченное высшее             2   \n",
       "14         0   -1844.956182         56               высшее             0   \n",
       "15         1    -972.364419         26              среднее             1   \n",
       "16         0   -1719.934226         35              среднее             1   \n",
       "17         0   -2369.999720         33               высшее             0   \n",
       "18         0  400281.136913         53              среднее             1   \n",
       "19         0  -10038.818549         48              СРЕДНЕЕ             1   \n",
       "\n",
       "       family_status  family_status_id gender income_type  debt  \\\n",
       "0    женат / замужем                 0      F   сотрудник     0   \n",
       "1    женат / замужем                 0      F   сотрудник     0   \n",
       "2    женат / замужем                 0      M   сотрудник     0   \n",
       "3    женат / замужем                 0      M   сотрудник     0   \n",
       "4   гражданский брак                 1      F   пенсионер     0   \n",
       "5   гражданский брак                 1      M   компаньон     0   \n",
       "6    женат / замужем                 0      F   компаньон     0   \n",
       "7    женат / замужем                 0      M   сотрудник     0   \n",
       "8   гражданский брак                 1      F   сотрудник     0   \n",
       "9    женат / замужем                 0      M   сотрудник     0   \n",
       "10   женат / замужем                 0      M   компаньон     0   \n",
       "11   женат / замужем                 0      F   сотрудник     0   \n",
       "12  гражданский брак                 1      M   пенсионер     0   \n",
       "13   женат / замужем                 0      F   сотрудник     0   \n",
       "14  гражданский брак                 1      F   компаньон     1   \n",
       "15   женат / замужем                 0      F   сотрудник     0   \n",
       "16   женат / замужем                 0      F   сотрудник     0   \n",
       "17  гражданский брак                 1      M   сотрудник     0   \n",
       "18    вдовец / вдова                 2      F   пенсионер     0   \n",
       "19         в разводе                 3      F   сотрудник     0   \n",
       "\n",
       "     total_income                                 purpose  \n",
       "0   253875.639453                           покупка жилья  \n",
       "1   112080.014102                 приобретение автомобиля  \n",
       "2   145885.952297                           покупка жилья  \n",
       "3   267628.550329              дополнительное образование  \n",
       "4   158616.077870                         сыграть свадьбу  \n",
       "5   255763.565419                           покупка жилья  \n",
       "6   240525.971920                       операции с жильем  \n",
       "7   135823.934197                             образование  \n",
       "8    95856.832424                   на проведение свадьбы  \n",
       "9   144425.938277                 покупка жилья для семьи  \n",
       "10  113943.491460                    покупка недвижимости  \n",
       "11   77069.234271       покупка коммерческой недвижимости  \n",
       "12            NaN                         сыграть свадьбу  \n",
       "13  130458.228857                 приобретение автомобиля  \n",
       "14  165127.911772              покупка жилой недвижимости  \n",
       "15  116820.904450  строительство собственной недвижимости  \n",
       "16  289202.704229                            недвижимость  \n",
       "17   90410.586745              строительство недвижимости  \n",
       "18   56823.777243      на покупку подержанного автомобиля  \n",
       "19  242831.107982            на покупку своего автомобиля  "
      ]
     },
     "execution_count": 3,
     "metadata": {},
     "output_type": "execute_result"
    }
   ],
   "source": [
    "data.head(20)"
   ]
  },
  {
   "cell_type": "markdown",
   "id": "1c12e233",
   "metadata": {
    "deletable": false,
    "id": "1c12e233"
   },
   "source": [
    "**Задание 3. Выведите основную информацию о датафрейме с помощью метода `info()`.**"
   ]
  },
  {
   "cell_type": "code",
   "execution_count": 4,
   "id": "2b757bca",
   "metadata": {
    "deletable": false,
    "id": "2b757bca",
    "outputId": "15376089-8dad-46c9-b520-c05248d43158"
   },
   "outputs": [
    {
     "name": "stdout",
     "output_type": "stream",
     "text": [
      "<class 'pandas.core.frame.DataFrame'>\n",
      "RangeIndex: 21525 entries, 0 to 21524\n",
      "Data columns (total 12 columns):\n",
      " #   Column            Non-Null Count  Dtype  \n",
      "---  ------            --------------  -----  \n",
      " 0   children          21525 non-null  int64  \n",
      " 1   days_employed     19351 non-null  float64\n",
      " 2   dob_years         21525 non-null  int64  \n",
      " 3   education         21525 non-null  object \n",
      " 4   education_id      21525 non-null  int64  \n",
      " 5   family_status     21525 non-null  object \n",
      " 6   family_status_id  21525 non-null  int64  \n",
      " 7   gender            21525 non-null  object \n",
      " 8   income_type       21525 non-null  object \n",
      " 9   debt              21525 non-null  int64  \n",
      " 10  total_income      19351 non-null  float64\n",
      " 11  purpose           21525 non-null  object \n",
      "dtypes: float64(2), int64(5), object(5)\n",
      "memory usage: 2.0+ MB\n"
     ]
    }
   ],
   "source": [
    "data.info()"
   ]
  },
  {
   "cell_type": "markdown",
   "id": "333ec665",
   "metadata": {
    "deletable": false,
    "id": "333ec665"
   },
   "source": [
    "## Предобработка данных"
   ]
  },
  {
   "cell_type": "markdown",
   "id": "02d92d53",
   "metadata": {
    "deletable": false,
    "id": "02d92d53"
   },
   "source": [
    "### Удаление пропусков"
   ]
  },
  {
   "cell_type": "markdown",
   "id": "cd84967c",
   "metadata": {
    "deletable": false,
    "id": "cd84967c"
   },
   "source": [
    "**Задание 4. Выведите количество пропущенных значений для каждого столбца. Используйте комбинацию двух методов.**"
   ]
  },
  {
   "cell_type": "code",
   "execution_count": 5,
   "id": "7f9b2309",
   "metadata": {
    "deletable": false,
    "id": "7f9b2309",
    "outputId": "81f4d817-781c-465c-ed15-91ce4446810d"
   },
   "outputs": [
    {
     "data": {
      "text/plain": [
       "children               0\n",
       "days_employed       2174\n",
       "dob_years              0\n",
       "education              0\n",
       "education_id           0\n",
       "family_status          0\n",
       "family_status_id       0\n",
       "gender                 0\n",
       "income_type            0\n",
       "debt                   0\n",
       "total_income        2174\n",
       "purpose                0\n",
       "dtype: int64"
      ]
     },
     "execution_count": 5,
     "metadata": {},
     "output_type": "execute_result"
    }
   ],
   "source": [
    "data.isna().sum()"
   ]
  },
  {
   "cell_type": "markdown",
   "id": "db86e27b",
   "metadata": {
    "deletable": false,
    "id": "db86e27b"
   },
   "source": [
    "**Задание 5. В двух столбцах есть пропущенные значения. Один из них — `days_employed`. Пропуски в этом столбце вы обработаете на следующем этапе. Другой столбец с пропущенными значениями — `total_income` — хранит данные о доходах. На сумму дохода сильнее всего влияет тип занятости, поэтому заполнить пропуски в этом столбце нужно медианным значением по каждому типу из столбца `income_type`. Например, у человека с типом занятости `сотрудник` пропуск в столбце `total_income` должен быть заполнен медианным доходом среди всех записей с тем же типом.**"
   ]
  },
  {
   "cell_type": "code",
   "execution_count": 6,
   "id": "42006a93",
   "metadata": {
    "deletable": false,
    "id": "42006a93"
   },
   "outputs": [],
   "source": [
    "for t in data['income_type'].unique():\n",
    "    data.loc[(data['income_type'] == t) & (data['total_income'].isna()), 'total_income'] = \\\n",
    "    data.loc[(data['income_type'] == t), 'total_income'].median()"
   ]
  },
  {
   "cell_type": "markdown",
   "id": "89da5ece",
   "metadata": {
    "deletable": false,
    "id": "89da5ece"
   },
   "source": [
    "### Обработка аномальных значений"
   ]
  },
  {
   "cell_type": "markdown",
   "id": "57964554",
   "metadata": {
    "deletable": false,
    "id": "57964554"
   },
   "source": [
    "**Задание 6. В данных могут встречаться артефакты (аномалии) — значения, которые не отражают действительность и появились по какой-то ошибке. таким артефактом будет отрицательное количество дней трудового стажа в столбце `days_employed`. Для реальных данных это нормально. Обработайте значения в этом столбце: замените все отрицательные значения положительными с помощью метода `abs()`.**"
   ]
  },
  {
   "cell_type": "code",
   "execution_count": 7,
   "id": "f6f055bf",
   "metadata": {
    "deletable": false,
    "id": "f6f055bf"
   },
   "outputs": [],
   "source": [
    "data['days_employed'] = data['days_employed'].abs()"
   ]
  },
  {
   "cell_type": "markdown",
   "id": "6107dd2f",
   "metadata": {
    "deletable": false,
    "id": "6107dd2f"
   },
   "source": [
    "**Задание 7. Для каждого типа занятости выведите медианное значение трудового стажа `days_employed` в днях.**"
   ]
  },
  {
   "cell_type": "code",
   "execution_count": 8,
   "id": "85a5faf6",
   "metadata": {
    "deletable": false,
    "id": "85a5faf6",
    "outputId": "801ef80e-522b-4668-f34e-565af7432bcf"
   },
   "outputs": [
    {
     "data": {
      "text/plain": [
       "income_type\n",
       "безработный        366413.652744\n",
       "в декрете            3296.759962\n",
       "госслужащий          2689.368353\n",
       "компаньон            1547.382223\n",
       "пенсионер          365213.306266\n",
       "предприниматель       520.848083\n",
       "сотрудник            1574.202821\n",
       "студент               578.751554\n",
       "Name: days_employed, dtype: float64"
      ]
     },
     "execution_count": 8,
     "metadata": {},
     "output_type": "execute_result"
    }
   ],
   "source": [
    "data.groupby('income_type')['days_employed'].agg('median')"
   ]
  },
  {
   "cell_type": "markdown",
   "id": "38d1a030",
   "metadata": {
    "deletable": false,
    "id": "38d1a030"
   },
   "source": [
    "У двух типов (безработные и пенсионеры) получатся аномально большие значения. Исправить такие значения сложно, поэтому оставьте их как есть. Тем более этот столбец не понадобится вам для исследования."
   ]
  },
  {
   "cell_type": "markdown",
   "id": "d8a9f147",
   "metadata": {
    "deletable": false,
    "id": "d8a9f147"
   },
   "source": [
    "**Задание 8. Выведите перечень уникальных значений столбца `children`.**"
   ]
  },
  {
   "cell_type": "code",
   "execution_count": 9,
   "id": "ef5056eb",
   "metadata": {
    "deletable": false,
    "id": "ef5056eb",
    "outputId": "6975b15c-7f95-4697-d16d-a0c79b657b03"
   },
   "outputs": [
    {
     "data": {
      "text/plain": [
       "array([ 1,  0,  3,  2, -1,  4, 20,  5])"
      ]
     },
     "execution_count": 9,
     "metadata": {},
     "output_type": "execute_result"
    }
   ],
   "source": [
    "data['children'].unique()"
   ]
  },
  {
   "cell_type": "markdown",
   "id": "40b9ebf2",
   "metadata": {
    "deletable": false,
    "id": "40b9ebf2"
   },
   "source": [
    "**Задание 9. В столбце `children` есть два аномальных значения. Удалите строки, в которых встречаются такие аномальные значения из датафрейма `data`.**"
   ]
  },
  {
   "cell_type": "code",
   "execution_count": 10,
   "id": "3ff9801d",
   "metadata": {
    "deletable": false,
    "id": "3ff9801d"
   },
   "outputs": [],
   "source": [
    "data = data[(data['children'] != -1) & (data['children'] != 20)]"
   ]
  },
  {
   "cell_type": "markdown",
   "id": "bbc4d0ce",
   "metadata": {
    "deletable": false,
    "id": "bbc4d0ce"
   },
   "source": [
    "**Задание 10. Ещё раз выведите перечень уникальных значений столбца `children`, чтобы убедиться, что артефакты удалены.**"
   ]
  },
  {
   "cell_type": "code",
   "execution_count": 11,
   "id": "ad4fa8b7",
   "metadata": {
    "deletable": false,
    "id": "ad4fa8b7",
    "outputId": "b2097101-d49d-44d9-901b-32a65c9463d1"
   },
   "outputs": [
    {
     "data": {
      "text/plain": [
       "array([1, 0, 3, 2, 4, 5])"
      ]
     },
     "execution_count": 11,
     "metadata": {},
     "output_type": "execute_result"
    }
   ],
   "source": [
    "data['children'].unique()"
   ]
  },
  {
   "cell_type": "markdown",
   "id": "75440b63",
   "metadata": {
    "deletable": false,
    "id": "75440b63"
   },
   "source": [
    "### Удаление пропусков (продолжение)"
   ]
  },
  {
   "cell_type": "markdown",
   "id": "f4ea573f",
   "metadata": {
    "deletable": false,
    "id": "f4ea573f"
   },
   "source": [
    "**Задание 11. Заполните пропуски в столбце `days_employed` медианными значениями по каждого типа занятости `income_type`.**"
   ]
  },
  {
   "cell_type": "code",
   "execution_count": 12,
   "id": "af6b1a7e",
   "metadata": {
    "deletable": false,
    "id": "af6b1a7e"
   },
   "outputs": [],
   "source": [
    "for t in data['income_type'].unique():\n",
    "    data.loc[(data['income_type'] == t) & (data['days_employed'].isna()), 'days_employed'] = \\\n",
    "    data.loc[(data['income_type'] == t), 'days_employed'].median()"
   ]
  },
  {
   "cell_type": "markdown",
   "id": "2753f40d",
   "metadata": {
    "deletable": false,
    "id": "2753f40d"
   },
   "source": [
    "**Задание 12. Убедитесь, что все пропуски заполнены. Проверьте себя и ещё раз выведите количество пропущенных значений для каждого столбца с помощью двух методов.**"
   ]
  },
  {
   "cell_type": "code",
   "execution_count": 13,
   "id": "55f78bc2",
   "metadata": {
    "deletable": false,
    "id": "55f78bc2",
    "outputId": "8da1e4e1-358e-4e87-98c9-f261bce0a7b2"
   },
   "outputs": [
    {
     "data": {
      "text/plain": [
       "children            0\n",
       "days_employed       0\n",
       "dob_years           0\n",
       "education           0\n",
       "education_id        0\n",
       "family_status       0\n",
       "family_status_id    0\n",
       "gender              0\n",
       "income_type         0\n",
       "debt                0\n",
       "total_income        0\n",
       "purpose             0\n",
       "dtype: int64"
      ]
     },
     "execution_count": 13,
     "metadata": {},
     "output_type": "execute_result"
    }
   ],
   "source": [
    "data.isna().sum()"
   ]
  },
  {
   "cell_type": "markdown",
   "id": "ddc81e43",
   "metadata": {
    "deletable": false,
    "id": "ddc81e43"
   },
   "source": [
    "### Изменение типов данных"
   ]
  },
  {
   "cell_type": "markdown",
   "id": "42d19d24",
   "metadata": {
    "deletable": false,
    "id": "42d19d24"
   },
   "source": [
    "**Задание 13. Замените вещественный тип данных в столбце `total_income` на целочисленный с помощью метода `astype()`.**"
   ]
  },
  {
   "cell_type": "code",
   "execution_count": 14,
   "id": "920b65ad",
   "metadata": {
    "deletable": false,
    "id": "920b65ad"
   },
   "outputs": [],
   "source": [
    "data['total_income'] = data['total_income'].astype(int)"
   ]
  },
  {
   "cell_type": "markdown",
   "id": "80c420ba",
   "metadata": {
    "deletable": false,
    "id": "80c420ba"
   },
   "source": [
    "### Обработка дубликатов"
   ]
  },
  {
   "cell_type": "markdown",
   "id": "dc587695",
   "metadata": {
    "deletable": false,
    "id": "dc587695"
   },
   "source": [
    "**Задание 14. Выведите на экран количество строк-дубликатов в данных. Если такие строки присутствуют, удалите их.**"
   ]
  },
  {
   "cell_type": "code",
   "execution_count": 15,
   "id": "3ee445e4",
   "metadata": {
    "deletable": false,
    "id": "3ee445e4",
    "outputId": "9684deba-1934-42d1-99e1-cda61740f822"
   },
   "outputs": [
    {
     "data": {
      "text/plain": [
       "54"
      ]
     },
     "execution_count": 15,
     "metadata": {},
     "output_type": "execute_result"
    }
   ],
   "source": [
    "data.duplicated().sum()"
   ]
  },
  {
   "cell_type": "code",
   "execution_count": 16,
   "id": "8575fe05",
   "metadata": {
    "deletable": false,
    "id": "8575fe05"
   },
   "outputs": [],
   "source": [
    "data = data.drop_duplicates()"
   ]
  },
  {
   "cell_type": "markdown",
   "id": "9771a76c",
   "metadata": {
    "deletable": false,
    "id": "9771a76c"
   },
   "source": [
    "**Задание 15. Обработайте неявные дубликаты в столбце `education`. В этом столбце есть одни и те же значения, но записанные по-разному: с использованием заглавных и строчных букв. Приведите их к нижнему регистру. Проверьте остальные столбцы.**"
   ]
  },
  {
   "cell_type": "code",
   "execution_count": 17,
   "id": "a9f8e2bf",
   "metadata": {
    "deletable": false,
    "id": "a9f8e2bf"
   },
   "outputs": [],
   "source": [
    "data['education'] = data['education'].str.lower()"
   ]
  },
  {
   "cell_type": "markdown",
   "id": "9904cf55",
   "metadata": {
    "deletable": false,
    "id": "9904cf55"
   },
   "source": [
    "### Категоризация данных"
   ]
  },
  {
   "cell_type": "markdown",
   "id": "72fcc8a2",
   "metadata": {
    "deletable": false,
    "id": "72fcc8a2"
   },
   "source": [
    "**Задание 16. На основании диапазонов, указанных ниже, создайте в датафрейме `data` столбец `total_income_category` с категориями:**\n",
    "\n",
    "- 0–30000 — `'E'`;\n",
    "- 30001–50000 — `'D'`;\n",
    "- 50001–200000 — `'C'`;\n",
    "- 200001–1000000 — `'B'`;\n",
    "- 1000001 и выше — `'A'`.\n",
    "\n",
    "\n",
    "**Например, кредитополучателю с доходом 25000 нужно назначить категорию `'E'`, а клиенту, получающему 235000, — `'B'`. Используйте собственную функцию с именем `categorize_income()` и метод `apply()`.**"
   ]
  },
  {
   "cell_type": "code",
   "execution_count": 18,
   "id": "e1771346",
   "metadata": {
    "deletable": false,
    "id": "e1771346"
   },
   "outputs": [],
   "source": [
    "def categorize_income(income):\n",
    "    try:\n",
    "        if 0 <= income <= 30000:\n",
    "            return 'E'\n",
    "        elif 30001 <= income <= 50000:\n",
    "            return 'D'\n",
    "        elif 50001 <= income <= 200000:\n",
    "            return 'C'\n",
    "        elif 200001 <= income <= 1000000:\n",
    "            return 'B'\n",
    "        elif income >= 1000001:\n",
    "            return 'A'\n",
    "    except:\n",
    "        pass"
   ]
  },
  {
   "cell_type": "code",
   "execution_count": 19,
   "id": "d5f3586d",
   "metadata": {
    "deletable": false,
    "id": "d5f3586d"
   },
   "outputs": [],
   "source": [
    "data['total_income_category'] = data['total_income'].apply(categorize_income)"
   ]
  },
  {
   "cell_type": "markdown",
   "id": "dde49b5c",
   "metadata": {
    "deletable": false,
    "id": "dde49b5c"
   },
   "source": [
    "**Задание 17. Выведите на экран перечень уникальных целей взятия кредита из столбца `purpose`.**"
   ]
  },
  {
   "cell_type": "code",
   "execution_count": 20,
   "id": "f67ce9b3",
   "metadata": {
    "deletable": false,
    "id": "f67ce9b3",
    "outputId": "673c12d9-7d7e-4ae0-9812-c622c89dd244"
   },
   "outputs": [
    {
     "data": {
      "text/plain": [
       "array(['покупка жилья', 'приобретение автомобиля',\n",
       "       'дополнительное образование', 'сыграть свадьбу',\n",
       "       'операции с жильем', 'образование', 'на проведение свадьбы',\n",
       "       'покупка жилья для семьи', 'покупка недвижимости',\n",
       "       'покупка коммерческой недвижимости', 'покупка жилой недвижимости',\n",
       "       'строительство собственной недвижимости', 'недвижимость',\n",
       "       'строительство недвижимости', 'на покупку подержанного автомобиля',\n",
       "       'на покупку своего автомобиля',\n",
       "       'операции с коммерческой недвижимостью',\n",
       "       'строительство жилой недвижимости', 'жилье',\n",
       "       'операции со своей недвижимостью', 'автомобили',\n",
       "       'заняться образованием', 'сделка с подержанным автомобилем',\n",
       "       'получение образования', 'автомобиль', 'свадьба',\n",
       "       'получение дополнительного образования', 'покупка своего жилья',\n",
       "       'операции с недвижимостью', 'получение высшего образования',\n",
       "       'свой автомобиль', 'сделка с автомобилем',\n",
       "       'профильное образование', 'высшее образование',\n",
       "       'покупка жилья для сдачи', 'на покупку автомобиля', 'ремонт жилью',\n",
       "       'заняться высшим образованием'], dtype=object)"
      ]
     },
     "execution_count": 20,
     "metadata": {},
     "output_type": "execute_result"
    }
   ],
   "source": [
    "data['purpose'].unique()"
   ]
  },
  {
   "cell_type": "markdown",
   "id": "85d0aef0",
   "metadata": {
    "deletable": false,
    "id": "85d0aef0"
   },
   "source": [
    "**Задание 18. Создайте функцию, которая на основании данных из столбца `purpose` сформирует новый столбец `purpose_category`, в который войдут следующие категории:**\n",
    "\n",
    "- `'операции с автомобилем'`,\n",
    "- `'операции с недвижимостью'`,\n",
    "- `'проведение свадьбы'`,\n",
    "- `'получение образования'`.\n",
    "\n",
    "**Например, если в столбце `purpose` находится подстрока `'на покупку автомобиля'`, то в столбце `purpose_category` должна появиться строка `'операции с автомобилем'`.**\n",
    "\n",
    "**Используйте собственную функцию с именем `categorize_purpose()` и метод `apply()`. Изучите данные в столбце `purpose` и определите, какие подстроки помогут вам правильно определить категорию.**"
   ]
  },
  {
   "cell_type": "code",
   "execution_count": 21,
   "id": "e149fab4",
   "metadata": {
    "deletable": false,
    "id": "e149fab4"
   },
   "outputs": [],
   "source": [
    "def categorize_purpose(row):\n",
    "    try:\n",
    "        if 'автом' in row:\n",
    "            return 'операции с автомобилем'\n",
    "        elif 'жил' in row or 'недвиж' in row:\n",
    "            return 'операции с недвижимостью'\n",
    "        elif 'свад' in row:\n",
    "            return 'проведение свадьбы'\n",
    "        elif 'образов' in row:\n",
    "            return 'получение образования'\n",
    "    except:\n",
    "        return 'нет категории'"
   ]
  },
  {
   "cell_type": "code",
   "execution_count": 22,
   "id": "bf36e69b",
   "metadata": {
    "deletable": false,
    "id": "bf36e69b"
   },
   "outputs": [],
   "source": [
    "data['purpose_category'] = data['purpose'].apply(categorize_purpose)"
   ]
  },
  {
   "cell_type": "markdown",
   "id": "09b242bf",
   "metadata": {
    "deletable": false,
    "editable": false,
    "id": "09b242bf"
   },
   "source": [
    "## Исследуйте данные и ответьте на вопросы"
   ]
  },
  {
   "cell_type": "markdown",
   "id": "c5d66278",
   "metadata": {
    "deletable": false,
    "editable": false,
    "id": "c5d66278"
   },
   "source": [
    "**Задание 19. Есть ли зависимость между количеством детей и возвратом кредита в срок?**"
   ]
  },
  {
   "cell_type": "code",
   "execution_count": 23,
   "id": "2cacfc4a",
   "metadata": {
    "id": "2cacfc4a"
   },
   "outputs": [
    {
     "name": "stdout",
     "output_type": "stream",
     "text": [
      "   children  count   sum       res\n",
      "5         5      9     0  0.000000\n",
      "0         0  14107  1063  7.535266\n",
      "3         3    330    27  8.181818\n",
      "1         1   4809   444  9.232689\n",
      "2         2   2052   194  9.454191\n",
      "4         4     41     4  9.756098\n",
      "   children      debt\n",
      "0         5  0.000000\n",
      "1         0  0.075353\n",
      "2         3  0.081818\n",
      "3         1  0.092327\n",
      "4         2  0.094542\n",
      "5         4  0.097561\n",
      "       children  debt\n",
      "3979          5     0\n",
      "4397          5     0\n",
      "7866          5     0\n",
      "15822         5     0\n",
      "15916         5     0\n",
      "16211         5     0\n",
      "20452         5     0\n",
      "20837         5     0\n",
      "21156         5     0\n"
     ]
    },
    {
     "data": {
      "text/plain": [
       "Text(0, 0.5, 'Процент наличия долгов')"
      ]
     },
     "execution_count": 23,
     "metadata": {},
     "output_type": "execute_result"
    },
    {
     "data": {
      "image/png": "[encoded data removed]",
      "text/plain": [
       "<Figure size 432x288 with 1 Axes>"
      ]
     },
     "metadata": {},
     "output_type": "display_data"
    }
   ],
   "source": [
    "'''Cгруппировали заемщиков по количеству детей, сосчитали количество по группам \n",
    "и количество имеющих долги по группам, высчитали процент должников по группам'''\n",
    "debt_children = data.groupby('children')['debt'].agg(['count','sum'])\n",
    "debt_children = debt_children.assign(res=debt_children['sum'] / debt_children['count'] *100).reset_index() \n",
    "print(debt_children.sort_values('res'))\n",
    "# Второй способ\n",
    "debt_children_1 = pd.pivot_table(data=data, index=['children'], values=['debt']).sort_values('debt').reset_index()\n",
    "print(debt_children_1)\n",
    "\n",
    "#подтвердили парадоксальные данные о том, что заемщики с пятью детьми не имеют долгов\n",
    "data_debt = data.loc[(data['children'] == 5)]   \n",
    "print(data_debt[['children', 'debt']]) \n",
    "\n",
    "import seaborn\n",
    "import matplotlib.pyplot as plt\n",
    "\n",
    "seaborn.set_style(\"whitegrid\")\n",
    "seaborn.barplot(data=debt_children, x='children', y='res')\n",
    "plt.title('Зависимость между количеством детей и возвратом кредита в срок', fontsize=16)\n",
    "plt.xlabel('Число детей', fontsize=14)\n",
    "plt.ylabel('Процент наличия долгов', fontsize=14)\n"
   ]
  },
  {
   "cell_type": "markdown",
   "id": "3a6b99ec",
   "metadata": {
    "deletable": false,
    "id": "3a6b99ec"
   },
   "source": [
    " ***Вывод:***  Имеется зависимость просрочек по уплате долга в зависимости от наличия и количества детей.\n",
    "\n",
    " - Бездетные заемщики реже допускают просрочки по кредитам - 7,5%\n",
    " - С увеличением количества детей наблюдается рост просроченных задолженностей от 9,2% у заемщиков с одним ребенком до 9,7% - с четырьмя детьми.\n",
    " - Заемщики с 3 детьми чаще платят в срок, чем люди с 1 ребенком.\n",
    " - Заемщики с пятью детьми вообще не допускают просрочек.\n",
    " * * * * *\n",
    " Возможно, нужна большая выборка, чем та, которую мы имеем или парадоксальные данные объясняются, например, мерами соцподдержки семей с пятью детьми."
   ]
  },
  {
   "cell_type": "markdown",
   "id": "97be82ca",
   "metadata": {
    "deletable": false,
    "editable": false,
    "id": "97be82ca"
   },
   "source": [
    "**Задание 20. Есть ли зависимость между семейным положением и возвратом кредита в срок?**"
   ]
  },
  {
   "cell_type": "code",
   "execution_count": 24,
   "id": "53781b8d",
   "metadata": {},
   "outputs": [
    {
     "name": "stdout",
     "output_type": "stream",
     "text": [
      "   children  days_employed  dob_years education  education_id  \\\n",
      "0         1    8437.673028         42    высшее             0   \n",
      "1         1    4024.803754         36   среднее             1   \n",
      "2         0    5623.422610         33   среднее             1   \n",
      "3         3    4124.747207         32   среднее             1   \n",
      "4         0  340266.072047         53   среднее             1   \n",
      "\n",
      "      family_status  family_status_id gender income_type  debt  total_income  \\\n",
      "0   женат / замужем                 0      F   сотрудник     0        253875   \n",
      "1   женат / замужем                 0      F   сотрудник     0        112080   \n",
      "2   женат / замужем                 0      M   сотрудник     0        145885   \n",
      "3   женат / замужем                 0      M   сотрудник     0        267628   \n",
      "4  гражданский брак                 1      F   пенсионер     0        158616   \n",
      "\n",
      "                      purpose total_income_category          purpose_category  \n",
      "0               покупка жилья                     B  операции с недвижимостью  \n",
      "1     приобретение автомобиля                     C    операции с автомобилем  \n",
      "2               покупка жилья                     C  операции с недвижимостью  \n",
      "3  дополнительное образование                     B     получение образования  \n",
      "4             сыграть свадьбу                     C        проведение свадьбы  \n"
     ]
    }
   ],
   "source": [
    "print(data.head())"
   ]
  },
  {
   "cell_type": "code",
   "execution_count": 25,
   "id": "dc3f7ee8",
   "metadata": {
    "id": "dc3f7ee8"
   },
   "outputs": [
    {
     "name": "stdout",
     "output_type": "stream",
     "text": [
      "           family_status  count  sum       res\n",
      "2         вдовец / вдова    951   63  6.624606\n",
      "1              в разводе   1189   84  7.064760\n",
      "4        женат / замужем  12266  927  7.557476\n",
      "3       гражданский брак   4146  385  9.286059\n",
      "0  Не женат / не замужем   2796  273  9.763948\n",
      "           family_status      debt\n",
      "0         вдовец / вдова  0.066246\n",
      "1              в разводе  0.070648\n",
      "2        женат / замужем  0.075575\n",
      "3       гражданский брак  0.092861\n",
      "4  Не женат / не замужем  0.097639\n"
     ]
    },
    {
     "data": {
      "text/plain": [
       "Text(0, 0.5, 'Процент наличия долгов')"
      ]
     },
     "execution_count": 25,
     "metadata": {},
     "output_type": "execute_result"
    },
    {
     "data": {
      "image/png": "[encoded data removed]",
      "text/plain": [
       "<Figure size 432x288 with 1 Axes>"
      ]
     },
     "metadata": {},
     "output_type": "display_data"
    }
   ],
   "source": [
    "# Ваш код будет здесь. Вы можете создавать новые ячейки.\n",
    "\n",
    "fam_status_debt = data.groupby(['family_status'])['debt'].agg(['count','sum'])\n",
    "fam_status_debt = fam_status_debt.assign(res=fam_status_debt['sum'] / fam_status_debt['count'] * 100).reset_index() \n",
    "print(fam_status_debt.sort_values('res'))\n",
    "# Второй способ\n",
    "fam_status_debt_1 = pd.pivot_table(data=data,\n",
    "               index=['family_status'],\n",
    "               values=['debt']).sort_values('debt').reset_index()\n",
    "print(fam_status_debt_1)\n",
    "\n",
    "\n",
    "seaborn.set_style(\"ticks\")\n",
    "seaborn.barplot(data=fam_status_debt, x='res', y='family_status')\n",
    "plt.title('Зависимость между семейным положением и возвратом кредита в срок', fontsize=16)\n",
    "plt.xlabel('Семейное положение', fontsize=14)\n",
    "plt.ylabel('Процент наличия долгов', fontsize=14)"
   ]
  },
  {
   "cell_type": "markdown",
   "id": "1cef7837",
   "metadata": {
    "deletable": false,
    "id": "1cef7837"
   },
   "source": [
    "__Вывод:__\n",
    "_Имеется зависимость между семейным положением и возвратом кредита в срок_\n",
    "\n",
    "Люди, не состоящие в браке и состоящие в гражданском браке чаще допускают просрочки по кредитам:\n",
    "___9,8%___ у не состоящих в браке, ___9,3%___ у состоящих в гражданском браке против ___7,6%___ у состоящих в браке.\n",
    "- - - \n",
    "\n",
    "Возможно, данные о разведенных и потерявших супруга связаны с различиями в возрасте этих групп заемщиков и неженатых."
   ]
  },
  {
   "cell_type": "markdown",
   "id": "1e8b2fca",
   "metadata": {
    "deletable": false,
    "editable": false,
    "id": "1e8b2fca"
   },
   "source": [
    "**Задание 21. Есть ли зависимость между уровнем дохода и возвратом кредита в срок?**"
   ]
  },
  {
   "cell_type": "code",
   "execution_count": 26,
   "id": "cd7e3720",
   "metadata": {
    "id": "cd7e3720"
   },
   "outputs": [
    {
     "name": "stdout",
     "output_type": "stream",
     "text": [
      "  total_income_category  count   sum       res\n",
      "3                     D    349    21  6.017192\n",
      "1                     B   5014   354  7.060231\n",
      "0                     A     25     2  8.000000\n",
      "2                     C  15938  1353  8.489145\n",
      "4                     E     22     2  9.090909\n",
      "  total_income_category      debt\n",
      "0                     D  0.060172\n",
      "1                     B  0.070602\n",
      "2                     A  0.080000\n",
      "3                     C  0.084891\n",
      "4                     E  0.090909\n"
     ]
    },
    {
     "data": {
      "text/plain": [
       "Text(-8.825000000000003, 0.5, 'Число заемщиков')"
      ]
     },
     "execution_count": 26,
     "metadata": {},
     "output_type": "execute_result"
    },
    {
     "data": {
      "image/png": "[encoded data removed]",
      "text/plain": [
       "<Figure size 432x288 with 1 Axes>"
      ]
     },
     "metadata": {},
     "output_type": "display_data"
    },
    {
     "data": {
      "image/png": "[encoded data removed]",
      "text/plain": [
       "<Figure size 360x360 with 1 Axes>"
      ]
     },
     "metadata": {},
     "output_type": "display_data"
    }
   ],
   "source": [
    "# Ваш код будет здесь. Вы можете создавать новые ячейки.\n",
    "total_incom_category_debt = data.groupby(['total_income_category'])['debt'].agg(['count','sum'])\n",
    "total_incom_category_debt = total_incom_category_debt.assign(res=total_incom_category_debt['sum'] / total_incom_category_debt['count'] * 100).reset_index() \n",
    "print(total_incom_category_debt.sort_values('res'))\n",
    "# Второй способ\n",
    "total_incom_category_debt_1 = pd.pivot_table(data=data,\n",
    "               index=['total_income_category'],\n",
    "               values=['debt']).sort_values('debt').reset_index()\n",
    "print(total_incom_category_debt_1)\n",
    "\n",
    "\n",
    "seaborn.set_style(\"darkgrid\")\n",
    "seaborn.barplot(data=total_incom_category_debt, x='total_income_category', y='res')\n",
    "plt.title('Зависимость между уровнем дохода и возвратом кредита в срок', fontsize=16)\n",
    "plt.xlabel('Уровень дохода', fontsize=14)\n",
    "plt.ylabel('Процент наличия долгов', fontsize=14)\n",
    "\n",
    "seaborn.displot(data['total_income_category'])\n",
    "plt.title('Распределение числа заемщиков по уровням дохода', fontsize=16)\n",
    "plt.xlabel('Уровень дохода', fontsize=14)\n",
    "plt.ylabel('Число заемщиков', fontsize=14)\n"
   ]
  },
  {
   "cell_type": "markdown",
   "id": "e8593def",
   "metadata": {
    "deletable": false,
    "id": "e8593def"
   },
   "source": [
    "**Вывод:** Зависимость не выявлена  \n",
    "В имеющейся выборке представлены в основном заемщики со средним уровнем дохода (категории В и С). Прочие категории представлены недостаточно. Данные в категориях с минимальным и максимальным доходом практически одинаковы. "
   ]
  },
  {
   "cell_type": "markdown",
   "id": "99ecbd1f",
   "metadata": {
    "deletable": false,
    "editable": false,
    "id": "99ecbd1f"
   },
   "source": [
    "**Задание 22. Как разные цели кредита влияют на его возврат в срок?**"
   ]
  },
  {
   "cell_type": "code",
   "execution_count": 27,
   "id": "2b687290",
   "metadata": {
    "id": "2b687290"
   },
   "outputs": [
    {
     "name": "stdout",
     "output_type": "stream",
     "text": [
      "           purpose_category  count  sum       res\n",
      "1  операции с недвижимостью  10754  780  7.253115\n",
      "3        проведение свадьбы   2324  183  7.874355\n",
      "2     получение образования   3989  369  9.250439\n",
      "0    операции с автомобилем   4281  400  9.343611\n",
      "           purpose_category      debt\n",
      "0  операции с недвижимостью  0.072531\n",
      "1        проведение свадьбы  0.078744\n",
      "2     получение образования  0.092504\n",
      "3    операции с автомобилем  0.093436\n"
     ]
    },
    {
     "data": {
      "text/plain": [
       "Text(0, 0.5, 'Процент наличия долгов')"
      ]
     },
     "execution_count": 27,
     "metadata": {},
     "output_type": "execute_result"
    },
    {
     "data": {
      "image/png": "[encoded data removed]",
      "text/plain": [
       "<Figure size 432x288 with 1 Axes>"
      ]
     },
     "metadata": {},
     "output_type": "display_data"
    }
   ],
   "source": [
    "# Ваш код будет здесь. Вы можете создавать новые ячейки.\n",
    "purpose_debt = data.groupby(['purpose_category'])['debt'].agg(['count','sum'])\n",
    "purpose_debt = purpose_debt.assign(res=purpose_debt['sum'] / purpose_debt['count'] * 100).reset_index() \n",
    "print(purpose_debt.sort_values('res'))\n",
    "# Второй способ\n",
    "purpose_debt_1 = pd.pivot_table(data=data,\n",
    "               index=['purpose_category'],\n",
    "               values=['debt']).sort_values('debt').reset_index()\n",
    "print(purpose_debt_1)\n",
    "\n",
    "\n",
    "seaborn.set_style(\"darkgrid\")\n",
    "seaborn.barplot(data=purpose_debt, x='res', y='purpose_category')\n",
    "plt.title('Зависимость между целями кредита и возвратом кредита в срок', fontsize=16)\n",
    "plt.xlabel('Цель кредита', fontsize=14)\n",
    "plt.ylabel('Процент наличия долгов', fontsize=14)\n"
   ]
  },
  {
   "cell_type": "markdown",
   "id": "b4bb2ce6",
   "metadata": {
    "deletable": false,
    "id": "b4bb2ce6"
   },
   "source": [
    "**Вывод:**   \n",
    "Наиболее частыми причнами просрочки являются кредит на образование и кредит на покупку автомобиля.\n",
    "Реже всего просрочки по кредитам на операции с недвижимостью, число которых превосходит остальные причины кредитования в приблизительно 2-5 раз."
   ]
  },
  {
   "cell_type": "markdown",
   "id": "09c3ac4c",
   "metadata": {
    "deletable": false,
    "editable": false,
    "id": "09c3ac4c"
   },
   "source": [
    "**Задание 23. Приведите возможные причины появления пропусков в исходных данных.**"
   ]
  },
  {
   "cell_type": "code",
   "execution_count": 28,
   "id": "e175e763",
   "metadata": {},
   "outputs": [
    {
     "name": "stdout",
     "output_type": "stream",
     "text": [
      "children               0\n",
      "days_employed       2174\n",
      "dob_years              0\n",
      "education              0\n",
      "education_id           0\n",
      "family_status          0\n",
      "family_status_id       0\n",
      "gender                 0\n",
      "income_type            0\n",
      "debt                   0\n",
      "total_income        2174\n",
      "purpose                0\n",
      "dtype: int64\n",
      "Количество строк, содержащих пропуски в обоих столбцах 2174\n"
     ]
    }
   ],
   "source": [
    "try:\n",
    "    data = pd.read_csv('/datasets/data.csv')\n",
    "except:\n",
    "    data = pd.read_csv('https://code.s3.yandex.net/datasets/data.csv')\n",
    "\n",
    "print(data.isna().sum())\n",
    "print('Количество строк, содержащих пропуски в обоих столбцах', len(data.loc[data['days_employed'].isna() & data['total_income'].isna()]))\n"
   ]
  },
  {
   "cell_type": "markdown",
   "id": "9da2ceda",
   "metadata": {
    "deletable": false,
    "id": "9da2ceda"
   },
   "source": [
    "***Ответ:***     \n",
    "Пропущенные данные встречаются в двух столбцах: `days_employed`, `total_income`.  \n",
    "Все пропуски находятся в одних и тех же строках.  \n",
    "На основании этого можно предположить, что при слиянии данных были допущены ошибки. Например, столбцы в одной из таблиц имели другие названия.\n"
   ]
  },
  {
   "cell_type": "markdown",
   "id": "7b0487d6",
   "metadata": {
    "deletable": false,
    "editable": false,
    "id": "7b0487d6"
   },
   "source": [
    "**Задание 24. Объясните, почему заполнить пропуски медианным значением — лучшее решение для количественных переменных.**"
   ]
  },
  {
   "cell_type": "markdown",
   "id": "7ecf2b8e",
   "metadata": {
    "deletable": false,
    "id": "7ecf2b8e"
   },
   "source": [
    "***Ответ:***   \n",
    "*Медиана* – значение, которое делит отсортированные по возрастанию данные на две равные части. При помощи этого метода можно нивелировать распределение данных, отличающееся от нормального. Например, при смещении влево."
   ]
  },
  {
   "cell_type": "markdown",
   "id": "6db5255a",
   "metadata": {
    "deletable": false,
    "editable": false,
    "id": "6db5255a"
   },
   "source": [
    "## Общий вывод."
   ]
  },
  {
   "cell_type": "markdown",
   "id": "bad65432",
   "metadata": {
    "id": "bad65432"
   },
   "source": [
    "***При анализе данных выявлены следующие закономерности просрочек по уплате долга:***\n",
    "1. Имеется зависимость  от наличия и количества детей - бездетные реже допускают просрочки по кредиту.\n",
    "2. Имеется зависимость от семейного положения - женатые/замужние реже допускают просрочки по кредиту. Самый высокий процент просрочек по кредиту в группе неженатых/незамужних и состоящих в гражданском браке людей. Возможно, это вызвано различиями в возрасте заемщиков.\n",
    "3. Не выявлена зависимость от уровня дохода. Скорее всего, это вызвано тем, что в выборке большинство данных о заемщиках со средним доходом.\n",
    "4. Имеется зависимость от цели кредитования. Реже всего должники встречаются в группе заемщиков, планирующих потратить кредит на операции с недвижимостью.\n"
   ]
  },
  {
   "cell_type": "markdown",
   "id": "73c2702f",
   "metadata": {},
   "source": [
    "<div style=\"background: #B0E0E6; padding: 5px; border: 1px solid SteelBlue; border-radius: 5px;\">\n",
    "    <font color='4682B4'><u><b>Новый общий вывод:</b></u></font>\n",
    "    <br />\n",
    "    <font color='4682B4'>Было проведено исследование, чтобы выявить влияние разных факторов на пограшение кредита в срок. Входные данные - статистика о платежеспособности клиентов. Результаты исследования будут учтены при построении модели кредитного скоринга - специальной системы, которая оценивает сособность потенциального заемщика вернуть долг банку.   \n",
    "    <br />   <br />  \n",
    "    Перед проведением исследования были поставлены несколько гипотез:<br />\n",
    "    - <b>Гипотеза 1</b> количество детей влияет на факт погашения кредита в срок;<br />\n",
    "    - <b>Гиптеза 2</b> семейное положение влияет на факт погашения кредита в срок;<br />\n",
    "    - <b>Гипотеза 3</b> уровень дохода влияет на факт погашения кредита в срок;<br />\n",
    "    - <b>Гипотеза 4</b> цель кредита влияет на факт погашения кредита в срок.<br /> <br />\n",
    "    В результате удалось выявить зависимости.<br /> <br />\n",
    "    <u><b>Гипотеза 1 частично подтверждена:</u></b> для более точных выводов необходимо больше данных по клиентам с 3, 4 и 5 детьми: <br /> <br />\n",
    "            - 7,5% - доля просроченных кредитов у бездетных заемщиков;<br />\n",
    "            - 9,2% - доля просроченных кредитов у заемщиков с 1 ребенком;<br />\n",
    "            - 9,4% - доля просроченных кредитов у заемщиков с 2 детьми.<br /> <br />\n",
    "    <i>Рекомендация:</i> провести дополнительное исследование на большей выборке данных. <br /><br />\n",
    "    <u><b>Гипотеза 2 подтверждена:</u></b><br /> \n",
    "        - у неженатых клиентов - 9,7% и тех, у кого брак официально не зарегистрирован - 9,2% выше вероятность стать должником;<br />\n",
    "        - те, кто в разводе - 7,1%, женат/замужем - 7,5% или вдовец/вдова - 6,6% менее вероятно становятся должниками.<br /><br />\n",
    "     <i>Рекомендация:</i> разница между между пунктами списка невелика - всего 3,1%, поэтому я не рекомендовала бы наделять этой зависимости высокий вес при принятии решения о кредитоспособности. <br /><br />   \n",
    "     <u><b>Гипотеза 3 частично подтверждена:</u></b> для более точных выводов необходимо больше данных по клиентам с уровнем дохода категории Е (до 30 000 руб.), D (от 30 001 до 50 000 руб.) и А (от 1 000 001 руб.). <br /> \n",
    "            - 7,1% доля просроченных кредитов у клиентов с уровнем дохода  от 50 001  до 200 000 руб. <br /> \n",
    "            - 8,5% доля просроченных кредитов у клиентов с уровнем дохода  от 200 001  до 1 000 000 руб. <br /> \n",
    "    <i>Рекомендация:</i> провести дополнительное исследование на большей выборке данных. <br /><br />\n",
    "    <u><b>Гипотеза 4 подтверждена:</u></b><br /> \n",
    "        - 7,2% доля просроченных кредитов, целью которых были операции с недвижимостью;<br />\n",
    "        - 7,9% доля просроченных кредитов, целью которых было проведение свадьбы;<br />\n",
    "        - 9,2% доля просроченных кредитов, целью которых было получение образования;<br />\n",
    "        - 9,3% доля просроченных кредитов, целью которых были операции с автомобилем.<br /><br />\n",
    "    <i>Рекомендация:</i> разница между между пунктами списка невелика - всего 2,1%, поэтому я не рекомендовала бы наделять этой зависимости высокий вес при принятии решения о кредитоспособности. <br /><br />\n",
    "    <font color='4682B4'><u><b>Общие рекомендации:</b></u></font>\n",
    "    <br />  \n",
    "    1. Специалистам, которые занимаются построением модели кредитного скоринга, можно использовать зависимости из второй и четвертой гипотезы (семейное положение и цели кредита); <br />\n",
    "    2. Необходимо собрать более полную выборку для повторной проверки первой и третьей гипотез.    \n",
    "    \n",
    "            \n",
    "            \n",
    "            \n",
    "   \n",
    "</div>"
   ]
  },
  {
   "cell_type": "code",
   "execution_count": null,
   "id": "7e6b244a",
   "metadata": {},
   "outputs": [],
   "source": []
  }
 ],
 "metadata": {
  "ExecuteTimeLog": [
   {
    "duration": 45,
    "start_time": "2022-08-05T07:42:23.057Z"
   },
   {
    "duration": 440,
    "start_time": "2022-08-05T07:42:40.917Z"
   },
   {
    "duration": 20,
    "start_time": "2022-08-05T07:42:41.359Z"
   },
   {
    "duration": 13,
    "start_time": "2022-08-05T07:42:41.380Z"
   },
   {
    "duration": 16,
    "start_time": "2022-08-05T07:42:41.394Z"
   },
   {
    "duration": 28,
    "start_time": "2022-08-05T07:42:41.412Z"
   },
   {
    "duration": 3,
    "start_time": "2022-08-05T07:42:41.442Z"
   },
   {
    "duration": 10,
    "start_time": "2022-08-05T07:42:41.446Z"
   },
   {
    "duration": 3,
    "start_time": "2022-08-05T07:42:41.457Z"
   },
   {
    "duration": 8,
    "start_time": "2022-08-05T07:42:41.461Z"
   },
   {
    "duration": 4,
    "start_time": "2022-08-05T07:42:41.470Z"
   },
   {
    "duration": 57,
    "start_time": "2022-08-05T07:42:41.475Z"
   },
   {
    "duration": 8,
    "start_time": "2022-08-05T07:42:41.533Z"
   },
   {
    "duration": 6,
    "start_time": "2022-08-05T07:42:41.542Z"
   },
   {
    "duration": 16,
    "start_time": "2022-08-05T07:42:41.550Z"
   },
   {
    "duration": 15,
    "start_time": "2022-08-05T07:42:41.567Z"
   },
   {
    "duration": 28,
    "start_time": "2022-08-05T07:42:41.583Z"
   },
   {
    "duration": 5,
    "start_time": "2022-08-05T07:42:41.613Z"
   },
   {
    "duration": 13,
    "start_time": "2022-08-05T07:42:41.619Z"
   },
   {
    "duration": 7,
    "start_time": "2022-08-05T07:42:41.634Z"
   },
   {
    "duration": 4,
    "start_time": "2022-08-05T07:42:41.642Z"
   },
   {
    "duration": 7,
    "start_time": "2022-08-05T07:42:46.204Z"
   },
   {
    "duration": 35,
    "start_time": "2022-08-05T07:42:49.997Z"
   },
   {
    "duration": 5,
    "start_time": "2022-08-05T07:43:51.178Z"
   },
   {
    "duration": 6,
    "start_time": "2022-08-05T07:44:25.876Z"
   },
   {
    "duration": 11,
    "start_time": "2022-08-05T07:52:29.513Z"
   },
   {
    "duration": 6,
    "start_time": "2022-08-05T07:53:02.207Z"
   },
   {
    "duration": 28,
    "start_time": "2022-08-05T07:53:29.416Z"
   },
   {
    "duration": 12,
    "start_time": "2022-08-05T08:05:55.702Z"
   },
   {
    "duration": 10,
    "start_time": "2022-08-05T08:06:37.541Z"
   },
   {
    "duration": 10,
    "start_time": "2022-08-05T08:07:00.073Z"
   },
   {
    "duration": 8,
    "start_time": "2022-08-05T08:11:49.032Z"
   },
   {
    "duration": 7,
    "start_time": "2022-08-05T08:12:10.131Z"
   },
   {
    "duration": 6,
    "start_time": "2022-08-05T08:12:13.831Z"
   },
   {
    "duration": 8,
    "start_time": "2022-08-05T08:13:16.940Z"
   },
   {
    "duration": 9,
    "start_time": "2022-08-05T08:14:47.679Z"
   },
   {
    "duration": 8,
    "start_time": "2022-08-05T08:15:33.863Z"
   },
   {
    "duration": 8,
    "start_time": "2022-08-05T08:15:45.817Z"
   },
   {
    "duration": 10,
    "start_time": "2022-08-05T08:16:23.620Z"
   },
   {
    "duration": 19,
    "start_time": "2022-08-05T08:17:03.862Z"
   },
   {
    "duration": 89,
    "start_time": "2022-08-05T08:17:44.813Z"
   },
   {
    "duration": 74,
    "start_time": "2022-08-05T08:18:07.264Z"
   },
   {
    "duration": 19,
    "start_time": "2022-08-05T08:19:03.280Z"
   },
   {
    "duration": 10,
    "start_time": "2022-08-05T08:20:55.800Z"
   },
   {
    "duration": 11,
    "start_time": "2022-08-05T08:22:44.901Z"
   },
   {
    "duration": 130,
    "start_time": "2022-08-05T08:25:44.972Z"
   },
   {
    "duration": 6,
    "start_time": "2022-08-05T08:26:13.192Z"
   },
   {
    "duration": 10,
    "start_time": "2022-08-05T08:27:14.645Z"
   },
   {
    "duration": 4,
    "start_time": "2022-08-05T08:27:38.081Z"
   },
   {
    "duration": 10,
    "start_time": "2022-08-05T08:27:53.189Z"
   },
   {
    "duration": 16,
    "start_time": "2022-08-05T08:28:30.620Z"
   },
   {
    "duration": 15,
    "start_time": "2022-08-05T08:29:06.600Z"
   },
   {
    "duration": 15,
    "start_time": "2022-08-05T08:29:43.124Z"
   },
   {
    "duration": 17,
    "start_time": "2022-08-05T08:30:03.380Z"
   },
   {
    "duration": 15,
    "start_time": "2022-08-05T08:31:09.990Z"
   },
   {
    "duration": 15,
    "start_time": "2022-08-05T08:39:04.964Z"
   },
   {
    "duration": 14,
    "start_time": "2022-08-05T08:41:41.075Z"
   },
   {
    "duration": 26,
    "start_time": "2022-08-05T08:45:22.521Z"
   },
   {
    "duration": 95,
    "start_time": "2022-08-05T08:45:49.921Z"
   },
   {
    "duration": 83,
    "start_time": "2022-08-05T08:47:54.912Z"
   },
   {
    "duration": 17,
    "start_time": "2022-08-05T08:51:22.310Z"
   },
   {
    "duration": 10,
    "start_time": "2022-08-05T08:52:04.662Z"
   },
   {
    "duration": 14,
    "start_time": "2022-08-05T08:52:43.311Z"
   },
   {
    "duration": 14,
    "start_time": "2022-08-05T08:54:41.541Z"
   },
   {
    "duration": 1457,
    "start_time": "2022-08-05T08:55:13.069Z"
   },
   {
    "duration": 15,
    "start_time": "2022-08-05T08:56:31.778Z"
   },
   {
    "duration": 17,
    "start_time": "2022-08-05T08:57:13.250Z"
   },
   {
    "duration": 16,
    "start_time": "2022-08-05T08:58:17.088Z"
   },
   {
    "duration": 4,
    "start_time": "2022-08-05T08:59:32.608Z"
   },
   {
    "duration": 14,
    "start_time": "2022-08-05T08:59:56.168Z"
   },
   {
    "duration": 16,
    "start_time": "2022-08-05T09:00:20.946Z"
   },
   {
    "duration": 17,
    "start_time": "2022-08-05T09:00:58.527Z"
   },
   {
    "duration": 16,
    "start_time": "2022-08-05T09:01:12.918Z"
   },
   {
    "duration": 16,
    "start_time": "2022-08-05T09:01:28.977Z"
   },
   {
    "duration": 13,
    "start_time": "2022-08-05T09:04:34.937Z"
   },
   {
    "duration": 46,
    "start_time": "2022-08-05T19:03:56.602Z"
   },
   {
    "duration": 733,
    "start_time": "2022-08-05T19:04:39.614Z"
   },
   {
    "duration": 22,
    "start_time": "2022-08-05T19:04:40.349Z"
   },
   {
    "duration": 14,
    "start_time": "2022-08-05T19:04:40.373Z"
   },
   {
    "duration": 10,
    "start_time": "2022-08-05T19:04:40.389Z"
   },
   {
    "duration": 49,
    "start_time": "2022-08-05T19:04:40.401Z"
   },
   {
    "duration": 3,
    "start_time": "2022-08-05T19:04:40.452Z"
   },
   {
    "duration": 15,
    "start_time": "2022-08-05T19:04:40.457Z"
   },
   {
    "duration": 9,
    "start_time": "2022-08-05T19:04:40.473Z"
   },
   {
    "duration": 14,
    "start_time": "2022-08-05T19:04:40.483Z"
   },
   {
    "duration": 5,
    "start_time": "2022-08-05T19:04:40.499Z"
   },
   {
    "duration": 60,
    "start_time": "2022-08-05T19:04:40.506Z"
   },
   {
    "duration": 9,
    "start_time": "2022-08-05T19:04:40.568Z"
   },
   {
    "duration": 6,
    "start_time": "2022-08-05T19:04:40.579Z"
   },
   {
    "duration": 21,
    "start_time": "2022-08-05T19:04:40.587Z"
   },
   {
    "duration": 31,
    "start_time": "2022-08-05T19:04:40.610Z"
   },
   {
    "duration": 11,
    "start_time": "2022-08-05T19:04:40.643Z"
   },
   {
    "duration": 9,
    "start_time": "2022-08-05T19:04:40.656Z"
   },
   {
    "duration": 15,
    "start_time": "2022-08-05T19:04:40.666Z"
   },
   {
    "duration": 5,
    "start_time": "2022-08-05T19:04:40.683Z"
   },
   {
    "duration": 3,
    "start_time": "2022-08-05T19:04:40.690Z"
   },
   {
    "duration": 12,
    "start_time": "2022-08-05T19:04:40.694Z"
   },
   {
    "duration": 1855,
    "start_time": "2022-08-05T19:04:54.546Z"
   },
   {
    "duration": 46,
    "start_time": "2022-08-05T19:06:11.284Z"
   },
   {
    "duration": 73,
    "start_time": "2022-08-05T19:06:27.000Z"
   },
   {
    "duration": 670,
    "start_time": "2022-08-05T19:12:30.645Z"
   },
   {
    "duration": 699,
    "start_time": "2022-08-05T19:14:24.107Z"
   },
   {
    "duration": 704,
    "start_time": "2022-08-05T19:14:47.778Z"
   },
   {
    "duration": 16,
    "start_time": "2022-08-05T19:15:57.888Z"
   },
   {
    "duration": 24,
    "start_time": "2022-08-05T19:16:38.466Z"
   },
   {
    "duration": 19,
    "start_time": "2022-08-05T19:17:16.277Z"
   },
   {
    "duration": 693,
    "start_time": "2022-08-05T19:18:36.089Z"
   },
   {
    "duration": 707,
    "start_time": "2022-08-05T19:21:22.664Z"
   },
   {
    "duration": 658,
    "start_time": "2022-08-05T19:23:10.360Z"
   },
   {
    "duration": 15,
    "start_time": "2022-08-05T19:23:47.995Z"
   },
   {
    "duration": 712,
    "start_time": "2022-08-05T19:28:41.302Z"
   },
   {
    "duration": 16,
    "start_time": "2022-08-05T19:34:43.960Z"
   },
   {
    "duration": 764,
    "start_time": "2022-08-05T19:35:16.000Z"
   },
   {
    "duration": 93,
    "start_time": "2022-08-05T19:36:10.375Z"
   },
   {
    "duration": 48,
    "start_time": "2022-08-05T19:38:33.071Z"
   },
   {
    "duration": 44,
    "start_time": "2022-08-05T19:38:40.770Z"
   },
   {
    "duration": 16,
    "start_time": "2022-08-05T19:41:26.484Z"
   },
   {
    "duration": 821,
    "start_time": "2022-08-05T19:43:15.141Z"
   },
   {
    "duration": 825,
    "start_time": "2022-08-05T19:44:55.874Z"
   },
   {
    "duration": 24,
    "start_time": "2022-08-05T19:45:24.548Z"
   },
   {
    "duration": 795,
    "start_time": "2022-08-05T19:45:57.090Z"
   },
   {
    "duration": 751,
    "start_time": "2022-08-05T19:46:59.002Z"
   },
   {
    "duration": 138,
    "start_time": "2022-08-05T19:47:23.141Z"
   },
   {
    "duration": 22,
    "start_time": "2022-08-05T19:48:19.132Z"
   },
   {
    "duration": 12,
    "start_time": "2022-08-05T19:48:52.882Z"
   },
   {
    "duration": 22,
    "start_time": "2022-08-05T19:51:17.060Z"
   },
   {
    "duration": 31,
    "start_time": "2022-08-05T19:51:56.083Z"
   },
   {
    "duration": 138,
    "start_time": "2022-08-05T20:01:24.890Z"
   },
   {
    "duration": 23,
    "start_time": "2022-08-05T20:02:13.902Z"
   },
   {
    "duration": 150,
    "start_time": "2022-08-05T20:02:50.680Z"
   },
   {
    "duration": 20,
    "start_time": "2022-08-05T20:03:58.547Z"
   },
   {
    "duration": 120,
    "start_time": "2022-08-05T20:04:18.842Z"
   },
   {
    "duration": 426,
    "start_time": "2022-08-05T20:05:46.805Z"
   },
   {
    "duration": 396,
    "start_time": "2022-08-05T20:06:18.601Z"
   },
   {
    "duration": 125,
    "start_time": "2022-08-05T20:07:18.460Z"
   },
   {
    "duration": 14,
    "start_time": "2022-08-05T20:11:25.682Z"
   },
   {
    "duration": 15,
    "start_time": "2022-08-05T20:12:47.212Z"
   },
   {
    "duration": 46,
    "start_time": "2022-08-05T20:12:59.125Z"
   },
   {
    "duration": 19,
    "start_time": "2022-08-05T20:13:36.706Z"
   },
   {
    "duration": 100,
    "start_time": "2022-08-05T20:24:49.345Z"
   },
   {
    "duration": 18,
    "start_time": "2022-08-05T20:27:15.931Z"
   },
   {
    "duration": 158,
    "start_time": "2022-08-05T20:38:47.837Z"
   },
   {
    "duration": 882,
    "start_time": "2022-08-05T20:49:40.897Z"
   },
   {
    "duration": 12,
    "start_time": "2022-08-05T20:50:28.326Z"
   },
   {
    "duration": 121,
    "start_time": "2022-08-05T20:52:19.604Z"
   },
   {
    "duration": 16,
    "start_time": "2022-08-05T20:53:57.474Z"
   },
   {
    "duration": 26,
    "start_time": "2022-08-05T20:54:10.245Z"
   },
   {
    "duration": 19,
    "start_time": "2022-08-05T21:03:23.215Z"
   },
   {
    "duration": 19,
    "start_time": "2022-08-05T21:05:22.508Z"
   },
   {
    "duration": 18,
    "start_time": "2022-08-05T21:05:37.259Z"
   },
   {
    "duration": 64,
    "start_time": "2022-08-05T21:12:35.041Z"
   },
   {
    "duration": 60,
    "start_time": "2022-08-05T21:14:40.992Z"
   },
   {
    "duration": 21,
    "start_time": "2022-08-05T21:15:07.649Z"
   },
   {
    "duration": 13,
    "start_time": "2022-08-05T21:16:21.191Z"
   },
   {
    "duration": 18,
    "start_time": "2022-08-05T21:16:48.045Z"
   },
   {
    "duration": 46,
    "start_time": "2022-08-05T21:17:42.600Z"
   },
   {
    "duration": 18,
    "start_time": "2022-08-05T21:17:57.361Z"
   },
   {
    "duration": 168,
    "start_time": "2022-08-05T21:20:39.775Z"
   },
   {
    "duration": 52,
    "start_time": "2022-08-05T21:30:31.483Z"
   },
   {
    "duration": 48,
    "start_time": "2022-08-05T21:30:50.563Z"
   },
   {
    "duration": 107,
    "start_time": "2022-08-05T21:31:10.392Z"
   },
   {
    "duration": 28,
    "start_time": "2022-08-05T21:32:46.230Z"
   },
   {
    "duration": 29,
    "start_time": "2022-08-05T21:33:18.377Z"
   },
   {
    "duration": 24,
    "start_time": "2022-08-05T21:35:25.154Z"
   },
   {
    "duration": 25,
    "start_time": "2022-08-05T21:36:27.214Z"
   },
   {
    "duration": 25,
    "start_time": "2022-08-05T21:37:10.684Z"
   },
   {
    "duration": 50,
    "start_time": "2022-08-05T21:37:51.201Z"
   },
   {
    "duration": 29,
    "start_time": "2022-08-05T21:38:28.403Z"
   },
   {
    "duration": 104,
    "start_time": "2022-08-05T21:38:58.653Z"
   },
   {
    "duration": 121,
    "start_time": "2022-08-05T21:39:34.245Z"
   },
   {
    "duration": 108,
    "start_time": "2022-08-05T21:42:52.499Z"
   },
   {
    "duration": 99,
    "start_time": "2022-08-05T21:44:18.702Z"
   },
   {
    "duration": 132,
    "start_time": "2022-08-05T21:44:58.851Z"
   },
   {
    "duration": 102,
    "start_time": "2022-08-05T21:45:28.000Z"
   },
   {
    "duration": 21,
    "start_time": "2022-08-05T21:47:43.050Z"
   },
   {
    "duration": 28,
    "start_time": "2022-08-05T22:06:18.623Z"
   },
   {
    "duration": 52,
    "start_time": "2022-08-05T22:07:40.865Z"
   },
   {
    "duration": 20,
    "start_time": "2022-08-05T22:07:56.261Z"
   },
   {
    "duration": 22,
    "start_time": "2022-08-05T22:13:33.691Z"
   },
   {
    "duration": 13,
    "start_time": "2022-08-05T22:15:23.338Z"
   },
   {
    "duration": 12,
    "start_time": "2022-08-05T22:15:53.522Z"
   },
   {
    "duration": 13,
    "start_time": "2022-08-05T22:16:24.459Z"
   },
   {
    "duration": 20,
    "start_time": "2022-08-05T22:17:23.185Z"
   },
   {
    "duration": 17,
    "start_time": "2022-08-05T22:18:03.474Z"
   },
   {
    "duration": 13,
    "start_time": "2022-08-05T22:18:14.156Z"
   },
   {
    "duration": 12,
    "start_time": "2022-08-05T22:18:50.114Z"
   },
   {
    "duration": 14,
    "start_time": "2022-08-05T22:20:21.349Z"
   },
   {
    "duration": 12,
    "start_time": "2022-08-05T22:21:55.505Z"
   },
   {
    "duration": 15,
    "start_time": "2022-08-05T22:22:29.454Z"
   },
   {
    "duration": 17,
    "start_time": "2022-08-05T22:22:59.506Z"
   },
   {
    "duration": 19,
    "start_time": "2022-08-05T22:23:29.514Z"
   },
   {
    "duration": 153,
    "start_time": "2022-08-05T22:25:54.324Z"
   },
   {
    "duration": 15,
    "start_time": "2022-08-05T22:25:54.478Z"
   },
   {
    "duration": 18,
    "start_time": "2022-08-05T22:25:54.494Z"
   },
   {
    "duration": 10,
    "start_time": "2022-08-05T22:25:54.514Z"
   },
   {
    "duration": 40,
    "start_time": "2022-08-05T22:25:54.525Z"
   },
   {
    "duration": 4,
    "start_time": "2022-08-05T22:25:54.566Z"
   },
   {
    "duration": 11,
    "start_time": "2022-08-05T22:25:54.571Z"
   },
   {
    "duration": 5,
    "start_time": "2022-08-05T22:25:54.583Z"
   },
   {
    "duration": 7,
    "start_time": "2022-08-05T22:25:54.589Z"
   },
   {
    "duration": 9,
    "start_time": "2022-08-05T22:25:54.598Z"
   },
   {
    "duration": 52,
    "start_time": "2022-08-05T22:25:54.609Z"
   },
   {
    "duration": 9,
    "start_time": "2022-08-05T22:25:54.663Z"
   },
   {
    "duration": 10,
    "start_time": "2022-08-05T22:25:54.673Z"
   },
   {
    "duration": 21,
    "start_time": "2022-08-05T22:25:54.685Z"
   },
   {
    "duration": 36,
    "start_time": "2022-08-05T22:25:54.708Z"
   },
   {
    "duration": 10,
    "start_time": "2022-08-05T22:25:54.746Z"
   },
   {
    "duration": 6,
    "start_time": "2022-08-05T22:25:54.758Z"
   },
   {
    "duration": 12,
    "start_time": "2022-08-05T22:25:54.766Z"
   },
   {
    "duration": 8,
    "start_time": "2022-08-05T22:25:54.779Z"
   },
   {
    "duration": 5,
    "start_time": "2022-08-05T22:25:54.788Z"
   },
   {
    "duration": 11,
    "start_time": "2022-08-05T22:25:54.794Z"
   },
   {
    "duration": 27,
    "start_time": "2022-08-05T22:25:58.937Z"
   },
   {
    "duration": 18,
    "start_time": "2022-08-05T22:26:07.144Z"
   },
   {
    "duration": 12,
    "start_time": "2022-08-07T07:17:16.013Z"
   },
   {
    "duration": 82,
    "start_time": "2022-08-07T07:18:37.005Z"
   },
   {
    "duration": 4,
    "start_time": "2022-08-07T07:35:54.391Z"
   },
   {
    "duration": 82,
    "start_time": "2022-08-07T07:36:30.531Z"
   },
   {
    "duration": 88,
    "start_time": "2022-08-07T07:57:20.498Z"
   },
   {
    "duration": 76,
    "start_time": "2022-08-07T07:57:38.712Z"
   },
   {
    "duration": 76,
    "start_time": "2022-08-07T07:58:20.253Z"
   },
   {
    "duration": 76,
    "start_time": "2022-08-07T07:58:36.458Z"
   },
   {
    "duration": 81,
    "start_time": "2022-08-07T07:59:39.613Z"
   },
   {
    "duration": 438,
    "start_time": "2022-08-07T13:52:20.664Z"
   },
   {
    "duration": 20,
    "start_time": "2022-08-07T13:52:21.104Z"
   },
   {
    "duration": 13,
    "start_time": "2022-08-07T13:52:21.125Z"
   },
   {
    "duration": 29,
    "start_time": "2022-08-07T13:52:21.139Z"
   },
   {
    "duration": 28,
    "start_time": "2022-08-07T13:52:21.172Z"
   },
   {
    "duration": 3,
    "start_time": "2022-08-07T13:52:21.201Z"
   },
   {
    "duration": 9,
    "start_time": "2022-08-07T13:52:21.206Z"
   },
   {
    "duration": 4,
    "start_time": "2022-08-07T13:52:21.217Z"
   },
   {
    "duration": 8,
    "start_time": "2022-08-07T13:52:21.223Z"
   },
   {
    "duration": 31,
    "start_time": "2022-08-07T13:52:21.232Z"
   },
   {
    "duration": 30,
    "start_time": "2022-08-07T13:52:21.266Z"
   },
   {
    "duration": 9,
    "start_time": "2022-08-07T13:52:21.297Z"
   },
   {
    "duration": 5,
    "start_time": "2022-08-07T13:52:21.307Z"
   },
   {
    "duration": 19,
    "start_time": "2022-08-07T13:52:21.315Z"
   },
   {
    "duration": 40,
    "start_time": "2022-08-07T13:52:21.335Z"
   },
   {
    "duration": 10,
    "start_time": "2022-08-07T13:52:21.377Z"
   },
   {
    "duration": 3,
    "start_time": "2022-08-07T13:52:21.389Z"
   },
   {
    "duration": 11,
    "start_time": "2022-08-07T13:52:21.394Z"
   },
   {
    "duration": 7,
    "start_time": "2022-08-07T13:52:21.406Z"
   },
   {
    "duration": 3,
    "start_time": "2022-08-07T13:52:21.415Z"
   },
   {
    "duration": 9,
    "start_time": "2022-08-07T13:52:21.419Z"
   },
   {
    "duration": 860,
    "start_time": "2022-08-07T13:52:21.430Z"
   },
   {
    "duration": 8,
    "start_time": "2022-08-07T13:52:22.291Z"
   },
   {
    "duration": 178,
    "start_time": "2022-08-07T13:52:22.301Z"
   },
   {
    "duration": 499,
    "start_time": "2022-08-07T13:52:22.481Z"
   },
   {
    "duration": 182,
    "start_time": "2022-08-07T13:52:22.982Z"
   },
   {
    "duration": 72,
    "start_time": "2022-08-07T13:52:23.166Z"
   },
   {
    "duration": 81,
    "start_time": "2022-08-08T19:03:58.510Z"
   },
   {
    "duration": 506,
    "start_time": "2022-08-08T19:04:08.618Z"
   },
   {
    "duration": 25,
    "start_time": "2022-08-08T19:04:09.126Z"
   },
   {
    "duration": 17,
    "start_time": "2022-08-08T19:04:09.153Z"
   },
   {
    "duration": 11,
    "start_time": "2022-08-08T19:04:09.172Z"
   },
   {
    "duration": 34,
    "start_time": "2022-08-08T19:04:09.186Z"
   },
   {
    "duration": 4,
    "start_time": "2022-08-08T19:04:09.222Z"
   },
   {
    "duration": 10,
    "start_time": "2022-08-08T19:04:09.228Z"
   },
   {
    "duration": 5,
    "start_time": "2022-08-08T19:04:09.268Z"
   },
   {
    "duration": 10,
    "start_time": "2022-08-08T19:04:09.275Z"
   },
   {
    "duration": 4,
    "start_time": "2022-08-08T19:04:09.289Z"
   },
   {
    "duration": 37,
    "start_time": "2022-08-08T19:04:09.296Z"
   },
   {
    "duration": 36,
    "start_time": "2022-08-08T19:04:09.335Z"
   },
   {
    "duration": 6,
    "start_time": "2022-08-08T19:04:09.373Z"
   },
   {
    "duration": 21,
    "start_time": "2022-08-08T19:04:09.381Z"
   },
   {
    "duration": 18,
    "start_time": "2022-08-08T19:04:09.404Z"
   },
   {
    "duration": 11,
    "start_time": "2022-08-08T19:04:09.424Z"
   },
   {
    "duration": 31,
    "start_time": "2022-08-08T19:04:09.437Z"
   },
   {
    "duration": 10,
    "start_time": "2022-08-08T19:04:09.470Z"
   },
   {
    "duration": 12,
    "start_time": "2022-08-08T19:04:09.482Z"
   },
   {
    "duration": 6,
    "start_time": "2022-08-08T19:04:09.495Z"
   },
   {
    "duration": 21,
    "start_time": "2022-08-08T19:04:09.503Z"
   },
   {
    "duration": 1181,
    "start_time": "2022-08-08T19:04:09.526Z"
   },
   {
    "duration": 23,
    "start_time": "2022-08-08T19:04:10.709Z"
   },
   {
    "duration": 180,
    "start_time": "2022-08-08T19:04:10.734Z"
   },
   {
    "duration": 642,
    "start_time": "2022-08-08T19:04:10.916Z"
   },
   {
    "duration": 203,
    "start_time": "2022-08-08T19:04:11.567Z"
   },
   {
    "duration": 81,
    "start_time": "2022-08-08T19:04:11.771Z"
   },
   {
    "duration": 75,
    "start_time": "2022-08-08T19:04:18.435Z"
   },
   {
    "duration": 80,
    "start_time": "2022-08-08T19:05:30.346Z"
   }
  ],
  "celltoolbar": "Edit Metadata",
  "colab": {
   "name": "dpp_template_part2.ipynb",
   "provenance": []
  },
  "kernelspec": {
   "display_name": "Python 3 (ipykernel)",
   "language": "python",
   "name": "python3"
  },
  "language_info": {
   "codemirror_mode": {
    "name": "ipython",
    "version": 3
   },
   "file_extension": ".py",
   "mimetype": "text/x-python",
   "name": "python",
   "nbconvert_exporter": "python",
   "pygments_lexer": "ipython3",
   "version": "3.11.3"
  },
  "toc": {
   "base_numbering": 1,
   "nav_menu": {},
   "number_sections": true,
   "sideBar": true,
   "skip_h1_title": true,
   "title_cell": "Table of Contents",
   "title_sidebar": "Contents",
   "toc_cell": false,
   "toc_position": {},
   "toc_section_display": true,
   "toc_window_display": false
  }
 },
 "nbformat": 4,
 "nbformat_minor": 5
}
