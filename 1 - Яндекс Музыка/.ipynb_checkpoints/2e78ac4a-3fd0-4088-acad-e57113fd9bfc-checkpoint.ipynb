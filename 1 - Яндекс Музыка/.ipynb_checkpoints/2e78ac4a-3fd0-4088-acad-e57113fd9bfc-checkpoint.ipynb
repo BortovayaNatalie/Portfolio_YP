{
 "cells": [
  {
   "cell_type": "markdown",
   "metadata": {
    "deletable": false,
    "editable": false,
    "id": "E0vqbgi9ay0H"
   },
   "source": [
    "# Яндекс Музыка"
   ]
  },
  {
   "cell_type": "markdown",
   "metadata": {
    "deletable": false,
    "editable": false,
    "id": "VUC88oWjTJw2"
   },
   "source": [
    "Сравнение Москвы и Петербурга окружено мифами. Например:\n",
    " * Москва — мегаполис, подчинённый жёсткому ритму рабочей недели;\n",
    " * Петербург — культурная столица, со своими вкусами.\n",
    "\n",
    "На данных Яндекс Музыки вы сравните поведение пользователей двух столиц.\n",
    "\n",
    "**Цель исследования** — проверьте три гипотезы:\n",
    "1. Активность пользователей зависит от дня недели. Причём в Москве и Петербурге это проявляется по-разному.\n",
    "2. В понедельник утром в Москве преобладают одни жанры, а в Петербурге — другие. Так же и вечером пятницы преобладают разные жанры — в зависимости от города. \n",
    "3. Москва и Петербург предпочитают разные жанры музыки. В Москве чаще слушают поп-музыку, в Петербурге — русский рэп.\n",
    "\n",
    "**Ход исследования**\n",
    "\n",
    "Данные о поведении пользователей вы получите из файла `yandex_music_project.csv`. О качестве данных ничего не известно. Поэтому перед проверкой гипотез понадобится обзор данных. \n",
    "\n",
    "Вы проверите данные на ошибки и оцените их влияние на исследование. Затем, на этапе предобработки вы поищете возможность исправить самые критичные ошибки данных.\n",
    " \n",
    "Таким образом, исследование пройдёт в три этапа:\n",
    " 1. Обзор данных.\n",
    " 2. Предобработка данных.\n",
    " 3. Проверка гипотез.\n",
    "\n"
   ]
  },
  {
   "cell_type": "markdown",
   "metadata": {
    "deletable": false,
    "editable": false,
    "id": "Ml1hmfXC_Zcs"
   },
   "source": [
    "## Обзор данных\n",
    "\n",
    "Составьте первое представление о данных Яндекс Музыки.\n",
    "\n",
    "\n"
   ]
  },
  {
   "cell_type": "markdown",
   "metadata": {
    "deletable": false,
    "editable": false,
    "id": "57eAOGIz_Zcs",
    "tags": [
     "start_task"
    ]
   },
   "source": [
    "**Задание 1**\n",
    "\n",
    "Основной инструмент аналитика — `pandas`. Импортируйте эту библиотеку."
   ]
  },
  {
   "cell_type": "code",
   "execution_count": 245,
   "metadata": {
    "deletable": false,
    "id": "AXN7PHPN_Zcs"
   },
   "outputs": [],
   "source": [
    "# импорт библиотеки pandas\n",
    "import pandas as pd"
   ]
  },
  {
   "cell_type": "markdown",
   "metadata": {
    "deletable": false,
    "editable": false,
    "id": "SG23P8tt_Zcs",
    "tags": [
     "start_task"
    ]
   },
   "source": [
    "**Задание 2**\n",
    "\n",
    "Прочитайте файл `yandex_music_project.csv` из папки `/datasets` и сохраните его в переменной `df`:"
   ]
  },
  {
   "cell_type": "code",
   "execution_count": 246,
   "metadata": {
    "deletable": false,
    "id": "fFVu7vqh_Zct"
   },
   "outputs": [],
   "source": [
    "# чтение файла с данными и сохранение в df\n",
    "df = pd.read_csv('/datasets/yandex_music_project.csv')"
   ]
  },
  {
   "cell_type": "markdown",
   "metadata": {
    "deletable": false,
    "editable": false,
    "id": "rDoOMd3uTqnZ",
    "tags": [
     "start_task"
    ]
   },
   "source": [
    "**Задание 3**\n",
    "\n",
    "\n",
    "Выведите на экран первые десять строк таблицы:"
   ]
  },
  {
   "cell_type": "code",
   "execution_count": 247,
   "metadata": {
    "deletable": false,
    "id": "oWTVX3gW_Zct"
   },
   "outputs": [
    {
     "name": "stdout",
     "output_type": "stream",
     "text": [
      "     userID                        Track            artist   genre  \\\n",
      "0  FFB692EC            Kamigata To Boots  The Mass Missile    rock   \n",
      "1  55204538  Delayed Because of Accident  Andreas Rönnberg    rock   \n",
      "2    20EC38            Funiculì funiculà       Mario Lanza     pop   \n",
      "3  A3DD03C9        Dragons in the Sunset        Fire + Ice    folk   \n",
      "4  E2DC1FAE                  Soul People        Space Echo   dance   \n",
      "5  842029A1                    Преданная         IMPERVTOR  rusrap   \n",
      "6  4CB90AA5                         True      Roman Messer   dance   \n",
      "7  F03E1C1F             Feeling This Way   Polina Griffith   dance   \n",
      "8  8FA1D3BE     И вновь продолжается бой               NaN  ruspop   \n",
      "9  E772D5C0                    Pessimist               NaN   dance   \n",
      "\n",
      "             City        time        Day  \n",
      "0  Saint-Petersburg  20:28:33  Wednesday  \n",
      "1            Moscow  14:07:09     Friday  \n",
      "2  Saint-Petersburg  20:58:07  Wednesday  \n",
      "3  Saint-Petersburg  08:37:09     Monday  \n",
      "4            Moscow  08:34:34     Monday  \n",
      "5  Saint-Petersburg  13:09:41     Friday  \n",
      "6            Moscow  13:00:07  Wednesday  \n",
      "7            Moscow  20:47:49  Wednesday  \n",
      "8            Moscow  09:17:40     Friday  \n",
      "9  Saint-Petersburg  21:20:49  Wednesday  \n"
     ]
    }
   ],
   "source": [
    "# получение первых 10 строк таблицы df\n",
    "print(df.head(10))"
   ]
  },
  {
   "cell_type": "markdown",
   "metadata": {
    "deletable": false,
    "editable": false,
    "id": "EO73Kwic_Zct",
    "tags": [
     "start_task"
    ]
   },
   "source": [
    "**Задание 4**\n",
    "\n",
    "\n",
    "Одной командой получить общую информацию о таблице c помощью метода `info()`:"
   ]
  },
  {
   "cell_type": "code",
   "execution_count": 211,
   "metadata": {
    "deletable": false,
    "id": "DSf2kIb-_Zct"
   },
   "outputs": [
    {
     "name": "stdout",
     "output_type": "stream",
     "text": [
      "<class 'pandas.core.frame.DataFrame'>\n",
      "RangeIndex: 65079 entries, 0 to 65078\n",
      "Data columns (total 7 columns):\n",
      " #   Column    Non-Null Count  Dtype \n",
      "---  ------    --------------  ----- \n",
      " 0     userID  65079 non-null  object\n",
      " 1   Track     63848 non-null  object\n",
      " 2   artist    57876 non-null  object\n",
      " 3   genre     63881 non-null  object\n",
      " 4     City    65079 non-null  object\n",
      " 5   time      65079 non-null  object\n",
      " 6   Day       65079 non-null  object\n",
      "dtypes: object(7)\n",
      "memory usage: 3.5+ MB\n"
     ]
    }
   ],
   "source": [
    "# получение общей информации о данных в таблице df\n",
    "df.info()"
   ]
  },
  {
   "cell_type": "markdown",
   "metadata": {
    "deletable": false,
    "editable": false,
    "id": "TaQ2Iwbr_Zct"
   },
   "source": [
    "Итак, в таблице семь столбцов. Тип данных во всех столбцах — `object`.\n",
    "\n",
    "Согласно документации к данным:\n",
    "* `userID` — идентификатор пользователя;\n",
    "* `Track` — название трека;  \n",
    "* `artist` — имя исполнителя;\n",
    "* `genre` — название жанра;\n",
    "* `City` — город пользователя;\n",
    "* `time` — время начала прослушивания;\n",
    "* `Day` — день недели.\n",
    "\n",
    "Количество значений в столбцах различается. Значит, в данных есть пропущенные значения."
   ]
  },
  {
   "cell_type": "markdown",
   "metadata": {
    "deletable": false,
    "editable": false,
    "id": "rAfziTBDmf2h",
    "tags": [
     "start_task"
    ]
   },
   "source": [
    "**Задание 5**\n",
    "\n",
    "**Вопрос со свободной формой ответа**\n",
    "\n",
    "В названиях колонок видны нарушения стиля:\n",
    "* Строчные буквы сочетаются с прописными.\n",
    "* Встречаются пробелы.\n",
    "\n",
    "Какое третье нарушение?"
   ]
  },
  {
   "cell_type": "code",
   "execution_count": 188,
   "metadata": {
    "id": "jD8EXEIvmf2h"
   },
   "outputs": [],
   "source": [
    "# Напишите ваш ответ здесь комментарием. Не удаляйте символ #. Не меняйте тип этой ячейки на Markdown.\n",
    "#В userID лучше применить snake_style"
   ]
  },
  {
   "cell_type": "markdown",
   "metadata": {
    "deletable": false,
    "editable": false,
    "id": "MCB6-dXG_Zct"
   },
   "source": [
    "**Выводы**\n",
    "\n",
    "В каждой строке таблицы — данные о прослушанном треке. Часть колонок описывает саму композицию: название, исполнителя и жанр. Остальные данные рассказывают о пользователе: из какого он города, когда он слушал музыку. \n",
    "\n",
    "Предварительно можно утверждать, что данных достаточно для проверки гипотез. Но встречаются пропуски в данных, а в названиях колонок — расхождения с хорошим стилем.\n",
    "\n",
    "Чтобы двигаться дальше, нужно устранить проблемы в данных."
   ]
  },
  {
   "cell_type": "markdown",
   "metadata": {
    "deletable": false,
    "editable": false,
    "id": "SjYF6Ub9_Zct"
   },
   "source": [
    "## Предобработка данных\n",
    "Исправьте стиль в заголовках столбцов, исключите пропуски. Затем проверьте данные на дубликаты."
   ]
  },
  {
   "cell_type": "markdown",
   "metadata": {
    "deletable": false,
    "editable": false,
    "id": "dIaKXr29_Zct",
    "tags": [
     "start_task"
    ]
   },
   "source": [
    "### Стиль заголовков\n",
    "\n",
    "**Задание 6**\n",
    "\n",
    "Выведите на экран названия столбцов:"
   ]
  },
  {
   "cell_type": "code",
   "execution_count": 248,
   "metadata": {
    "deletable": false,
    "id": "oKOTdF_Q_Zct"
   },
   "outputs": [
    {
     "name": "stdout",
     "output_type": "stream",
     "text": [
      "Index(['  userID', 'Track', 'artist', 'genre', '  City  ', 'time', 'Day'], dtype='object')\n"
     ]
    }
   ],
   "source": [
    "# перечень названий столбцов таблицы df\n",
    "print(df.columns)"
   ]
  },
  {
   "cell_type": "markdown",
   "metadata": {
    "deletable": false,
    "editable": false,
    "id": "zj5534cv_Zct",
    "tags": [
     "start_task"
    ]
   },
   "source": [
    "**Задание 7**\n",
    "\n",
    "\n",
    "Приведите названия в соответствие с хорошим стилем:\n",
    "* несколько слов в названии запишите в «змеином_регистре»,\n",
    "* все символы сделайте строчными,\n",
    "* устраните пробелы.\n",
    "\n",
    "Для этого переименуйте колонки так:\n",
    "* `'  userID'` → `'user_id'`;\n",
    "* `'Track'` → `'track'`;\n",
    "* `'  City  '` → `'city'`;\n",
    "* `'Day'` → `'day'`."
   ]
  },
  {
   "cell_type": "code",
   "execution_count": 249,
   "metadata": {
    "deletable": false,
    "id": "ISlFqs5y_Zct"
   },
   "outputs": [],
   "source": [
    "# переименование столбцов\n",
    "df = df.rename(\n",
    " columns={\n",
    "'  userID': 'user_id',\n",
    "'Track': 'track',\n",
    "'  City  ': 'city',\n",
    "'Day': 'day'     \n",
    " }\n",
    ")\n"
   ]
  },
  {
   "cell_type": "markdown",
   "metadata": {
    "deletable": false,
    "editable": false,
    "id": "1dqbh00J_Zct",
    "tags": [
     "start_task"
    ]
   },
   "source": [
    "**Задание 8**\n",
    "\n",
    "\n",
    "Проверьте результат. Для этого ещё раз выведите на экран названия столбцов:"
   ]
  },
  {
   "cell_type": "code",
   "execution_count": 250,
   "metadata": {
    "deletable": false,
    "id": "d4NOAmTW_Zct"
   },
   "outputs": [
    {
     "name": "stdout",
     "output_type": "stream",
     "text": [
      "Index(['user_id', 'track', 'artist', 'genre', 'city', 'time', 'day'], dtype='object')\n"
     ]
    }
   ],
   "source": [
    "# проверка результатов - перечень названий столбцов\n",
    "print(df.columns)"
   ]
  },
  {
   "cell_type": "markdown",
   "metadata": {
    "deletable": false,
    "editable": false,
    "id": "5ISfbcfY_Zct",
    "tags": [
     "start_task"
    ]
   },
   "source": [
    "### Пропуски значений\n",
    "\n",
    "**Задание 9**\n",
    "\n",
    "Сначала посчитайте, сколько в таблице пропущенных значений. Для этого достаточно двух методов `pandas`:"
   ]
  },
  {
   "cell_type": "code",
   "execution_count": 251,
   "metadata": {
    "deletable": false,
    "id": "RskX29qr_Zct"
   },
   "outputs": [
    {
     "data": {
      "text/plain": [
       "user_id       0\n",
       "track      1231\n",
       "artist     7203\n",
       "genre      1198\n",
       "city          0\n",
       "time          0\n",
       "day           0\n",
       "dtype: int64"
      ]
     },
     "execution_count": 251,
     "metadata": {},
     "output_type": "execute_result"
    }
   ],
   "source": [
    "# подсчёт пропусков\n",
    "df.isna()\n",
    "df.isna().sum()"
   ]
  },
  {
   "cell_type": "markdown",
   "metadata": {
    "deletable": false,
    "editable": false,
    "id": "qubhgnlO_Zct"
   },
   "source": [
    "Не все пропущенные значения влияют на исследование. Так в `track` и `artist` пропуски не важны для вашей работы. Достаточно заменить их явными обозначениями.\n",
    "\n",
    "Но пропуски в `genre` могут помешать сравнению музыкальных вкусов в Москве и Санкт-Петербурге. На практике было бы правильно установить причину пропусков и восстановить данные. Такой возможности нет в учебном проекте. Придётся:\n",
    "* заполнить и эти пропуски явными обозначениями;\n",
    "* оценить, насколько они повредят расчётам. "
   ]
  },
  {
   "cell_type": "markdown",
   "metadata": {
    "deletable": false,
    "editable": false,
    "id": "fSv2laPA_Zct",
    "tags": [
     "start_task"
    ]
   },
   "source": [
    "**Задание 10**\n",
    "\n",
    "Замените пропущенные значения в столбцах `track`, `artist` и `genre` на строку `'unknown'`. Для этого создайте список `columns_to_replace`, переберите его элементы циклом `for` и для каждого столбца выполните замену пропущенных значений:"
   ]
  },
  {
   "cell_type": "code",
   "execution_count": 252,
   "metadata": {
    "deletable": false,
    "id": "KplB5qWs_Zct"
   },
   "outputs": [],
   "source": [
    "# перебор названий столбцов в цикле и замена пропущенных значений на 'unknown'\n",
    "columns_to_replace = ['track', 'artist', 'genre']\n",
    "for column in columns_to_replace:\n",
    "    df[column] = df[column].fillna('unknown')    "
   ]
  },
  {
   "cell_type": "markdown",
   "metadata": {
    "deletable": false,
    "editable": false,
    "id": "Ilsm-MZo_Zct",
    "tags": [
     "start_task"
    ]
   },
   "source": [
    "**Задание 11**\n",
    "\n",
    "Убедитесь, что в таблице не осталось пропусков. Для этого ещё раз посчитайте пропущенные значения."
   ]
  },
  {
   "cell_type": "code",
   "execution_count": 253,
   "metadata": {
    "deletable": false,
    "id": "Tq4nYRX4_Zct"
   },
   "outputs": [
    {
     "data": {
      "text/plain": [
       "user_id    0\n",
       "track      0\n",
       "artist     0\n",
       "genre      0\n",
       "city       0\n",
       "time       0\n",
       "day        0\n",
       "dtype: int64"
      ]
     },
     "execution_count": 253,
     "metadata": {},
     "output_type": "execute_result"
    }
   ],
   "source": [
    "# подсчёт пропусков\n",
    "df.isna()\n",
    "df.isna().sum()\n",
    "#print(df)"
   ]
  },
  {
   "cell_type": "markdown",
   "metadata": {
    "deletable": false,
    "editable": false,
    "id": "BWKRtBJ3_Zct",
    "tags": [
     "start_task"
    ]
   },
   "source": [
    "### Дубликаты\n",
    "\n",
    "**Задание 12**\n",
    "\n",
    "Посчитайте явные дубликаты в таблице одной командой:"
   ]
  },
  {
   "cell_type": "code",
   "execution_count": 254,
   "metadata": {
    "deletable": false,
    "id": "36eES_S0_Zct"
   },
   "outputs": [
    {
     "data": {
      "text/plain": [
       "3826"
      ]
     },
     "execution_count": 254,
     "metadata": {},
     "output_type": "execute_result"
    }
   ],
   "source": [
    "# подсчёт явных дубликатов\n",
    "df.duplicated()\n",
    "df.duplicated().sum()\n",
    "#print(df)"
   ]
  },
  {
   "cell_type": "markdown",
   "metadata": {
    "deletable": false,
    "editable": false,
    "id": "Ot25h6XR_Zct",
    "tags": [
     "start_task"
    ]
   },
   "source": [
    "**Задание 13**\n",
    "\n",
    "Вызовите специальный метод `pandas`, чтобы удалить явные дубликаты:"
   ]
  },
  {
   "cell_type": "code",
   "execution_count": 255,
   "metadata": {
    "deletable": false,
    "id": "exFHq6tt_Zct"
   },
   "outputs": [],
   "source": [
    "# удаление явных дубликатов\n",
    "df = df.drop_duplicates().reset_index(drop=True)\n",
    "#print(df)"
   ]
  },
  {
   "cell_type": "markdown",
   "metadata": {
    "deletable": false,
    "editable": false,
    "id": "Im2YwBEG_Zct",
    "tags": [
     "start_task"
    ]
   },
   "source": [
    "**Задание 14**\n",
    "\n",
    "Ещё раз посчитайте явные дубликаты в таблице — убедитесь, что полностью от них избавились:"
   ]
  },
  {
   "cell_type": "code",
   "execution_count": 256,
   "metadata": {
    "deletable": false,
    "id": "-8PuNWQ0_Zct"
   },
   "outputs": [
    {
     "data": {
      "text/plain": [
       "0"
      ]
     },
     "execution_count": 256,
     "metadata": {},
     "output_type": "execute_result"
    }
   ],
   "source": [
    "# проверка на отсутствие дубликатов\n",
    "df.duplicated()\n",
    "df.duplicated().sum()"
   ]
  },
  {
   "cell_type": "markdown",
   "metadata": {
    "deletable": false,
    "editable": false,
    "id": "QlFBsxAr_Zct"
   },
   "source": [
    "Теперь избавьтесь от неявных дубликатов в колонке `genre`. Например, название одного и того же жанра может быть записано немного по-разному. Такие ошибки тоже повлияют на результат исследования."
   ]
  },
  {
   "cell_type": "markdown",
   "metadata": {
    "deletable": false,
    "editable": false,
    "id": "eSjWwsOh_Zct",
    "tags": [
     "start_task"
    ]
   },
   "source": [
    "**Задание 15**\n",
    "\n",
    "Выведите на экран список уникальных названий жанров, отсортированный в алфавитном порядке. Для этого:\n",
    "1. извлеките нужный столбец датафрейма; \n",
    "2. примените к нему метод сортировки;\n",
    "3. для отсортированного столбца вызовите метод, который вернёт уникальные значения из столбца."
   ]
  },
  {
   "cell_type": "code",
   "execution_count": 257,
   "metadata": {
    "deletable": false,
    "id": "JIUcqzZN_Zct"
   },
   "outputs": [
    {
     "name": "stdout",
     "output_type": "stream",
     "text": [
      "['acid' 'acoustic' 'action' 'adult' 'africa' 'afrikaans' 'alternative'\n",
      " 'alternativepunk' 'ambient' 'americana' 'animated' 'anime' 'arabesk'\n",
      " 'arabic' 'arena' 'argentinetango' 'art' 'audiobook' 'author' 'avantgarde'\n",
      " 'axé' 'baile' 'balkan' 'beats' 'bigroom' 'black' 'bluegrass' 'blues'\n",
      " 'bollywood' 'bossa' 'brazilian' 'breakbeat' 'breaks' 'broadway'\n",
      " 'cantautori' 'cantopop' 'canzone' 'caribbean' 'caucasian' 'celtic'\n",
      " 'chamber' 'chanson' 'children' 'chill' 'chinese' 'choral' 'christian'\n",
      " 'christmas' 'classical' 'classicmetal' 'club' 'colombian' 'comedy'\n",
      " 'conjazz' 'contemporary' 'country' 'cuban' 'dance' 'dancehall' 'dancepop'\n",
      " 'dark' 'death' 'deep' 'deutschrock' 'deutschspr' 'dirty' 'disco' 'dnb'\n",
      " 'documentary' 'downbeat' 'downtempo' 'drum' 'dub' 'dubstep' 'eastern'\n",
      " 'easy' 'electronic' 'electropop' 'emo' 'entehno' 'epicmetal' 'estrada'\n",
      " 'ethnic' 'eurofolk' 'european' 'experimental' 'extrememetal' 'fado'\n",
      " 'fairytail' 'film' 'fitness' 'flamenco' 'folk' 'folklore' 'folkmetal'\n",
      " 'folkrock' 'folktronica' 'forró' 'frankreich' 'französisch' 'french'\n",
      " 'funk' 'future' 'gangsta' 'garage' 'german' 'ghazal' 'gitarre' 'glitch'\n",
      " 'gospel' 'gothic' 'grime' 'grunge' 'gypsy' 'handsup' \"hard'n'heavy\"\n",
      " 'hardcore' 'hardstyle' 'hardtechno' 'hip' 'hip-hop' 'hiphop' 'historisch'\n",
      " 'holiday' 'hop' 'horror' 'house' 'hymn' 'idm' 'independent' 'indian'\n",
      " 'indie' 'indipop' 'industrial' 'inspirational' 'instrumental'\n",
      " 'international' 'irish' 'jam' 'japanese' 'jazz' 'jewish' 'jpop' 'jungle'\n",
      " 'k-pop' 'karadeniz' 'karaoke' 'kayokyoku' 'korean' 'laiko' 'latin'\n",
      " 'latino' 'leftfield' 'local' 'lounge' 'loungeelectronic' 'lovers'\n",
      " 'malaysian' 'mandopop' 'marschmusik' 'meditative' 'mediterranean'\n",
      " 'melodic' 'metal' 'metalcore' 'mexican' 'middle' 'minimal'\n",
      " 'miscellaneous' 'modern' 'mood' 'mpb' 'muslim' 'native' 'neoklassik'\n",
      " 'neue' 'new' 'newage' 'newwave' 'nu' 'nujazz' 'numetal' 'oceania' 'old'\n",
      " 'opera' 'orchestral' 'other' 'piano' 'podcasts' 'pop' 'popdance'\n",
      " 'popelectronic' 'popeurodance' 'poprussian' 'post' 'posthardcore'\n",
      " 'postrock' 'power' 'progmetal' 'progressive' 'psychedelic' 'punjabi'\n",
      " 'punk' 'quebecois' 'ragga' 'ram' 'rancheras' 'rap' 'rave' 'reggae'\n",
      " 'reggaeton' 'regional' 'relax' 'religious' 'retro' 'rhythm' 'rnb' 'rnr'\n",
      " 'rock' 'rockabilly' 'rockalternative' 'rockindie' 'rockother' 'romance'\n",
      " 'roots' 'ruspop' 'rusrap' 'rusrock' 'russian' 'salsa' 'samba' 'scenic'\n",
      " 'schlager' 'self' 'sertanejo' 'shanson' 'shoegazing' 'showtunes' 'singer'\n",
      " 'ska' 'skarock' 'slow' 'smooth' 'soft' 'soul' 'soulful' 'sound'\n",
      " 'soundtrack' 'southern' 'specialty' 'speech' 'spiritual' 'sport'\n",
      " 'stonerrock' 'surf' 'swing' 'synthpop' 'synthrock' 'sängerportrait'\n",
      " 'tango' 'tanzorchester' 'taraftar' 'tatar' 'tech' 'techno' 'teen'\n",
      " 'thrash' 'top' 'traditional' 'tradjazz' 'trance' 'tribal' 'trip'\n",
      " 'triphop' 'tropical' 'türk' 'türkçe' 'ukrrock' 'unknown' 'urban' 'uzbek'\n",
      " 'variété' 'vi' 'videogame' 'vocal' 'western' 'world' 'worldbeat' 'ïîï'\n",
      " 'электроника']\n"
     ]
    }
   ],
   "source": [
    "# Просмотр уникальных названий жанров\n",
    "genre = df['genre']\n",
    "genre = df['genre'].sort_values()\n",
    "#genre.unique()\n",
    "print(genre.unique())"
   ]
  },
  {
   "cell_type": "markdown",
   "metadata": {
    "deletable": false,
    "editable": false,
    "id": "qej-Qmuo_Zct",
    "tags": [
     "start_task"
    ]
   },
   "source": [
    "**Задание 16**\n",
    "\n",
    "Просмотрите список и найдите неявные дубликаты названия `hiphop`. Это могут быть названия с ошибками или альтернативные названия того же жанра.\n",
    "\n",
    "Вы увидите следующие неявные дубликаты:\n",
    "* *hip*,\n",
    "* *hop*,\n",
    "* *hip-hop*.\n",
    "\n",
    "Чтобы очистить от них таблицу используйте метод `replace()` с двумя аргументами: списком строк-дубликатов (включащий *hip*, *hop* и *hip-hop*) и строкой с правильным значением. Вам нужно исправить колонку `genre` в таблице `df`: заменить каждое значение из списка дубликатов на верное. Вместо `hip`, `hop` и `hip-hop` в таблице должно быть значение `hiphop`:"
   ]
  },
  {
   "cell_type": "code",
   "execution_count": 258,
   "metadata": {
    "deletable": false,
    "id": "ErNDkmns_Zct"
   },
   "outputs": [],
   "source": [
    "# Устранение неявных дубликатов\n",
    "duplicates = ['hip', 'hop', 'hip-hop'] # список неправильных имён\n",
    "name = 'hiphop' # правильное имя\n",
    "df = df.replace(duplicates, name) # замена всех значений из duplicates на name\n",
    " # датафрейм изменился, неявные дубликаты устранены \n"
   ]
  },
  {
   "cell_type": "markdown",
   "metadata": {
    "deletable": false,
    "editable": false,
    "id": "zQKF16_RG15m",
    "tags": [
     "start_task"
    ]
   },
   "source": [
    "**Задание 17**\n",
    "\n",
    "Проверьте, что заменили неправильные названия:\n",
    "\n",
    "*   hip,\n",
    "*   hop,\n",
    "*   hip-hop.\n",
    "\n",
    "Выведите отсортированный список уникальных значений столбца `genre`:"
   ]
  },
  {
   "cell_type": "code",
   "execution_count": 259,
   "metadata": {
    "deletable": false,
    "id": "wvixALnFG15m"
   },
   "outputs": [
    {
     "name": "stdout",
     "output_type": "stream",
     "text": [
      "['acid' 'acoustic' 'action' 'adult' 'africa' 'afrikaans' 'alternative'\n",
      " 'alternativepunk' 'ambient' 'americana' 'animated' 'anime' 'arabesk'\n",
      " 'arabic' 'arena' 'argentinetango' 'art' 'audiobook' 'author' 'avantgarde'\n",
      " 'axé' 'baile' 'balkan' 'beats' 'bigroom' 'black' 'bluegrass' 'blues'\n",
      " 'bollywood' 'bossa' 'brazilian' 'breakbeat' 'breaks' 'broadway'\n",
      " 'cantautori' 'cantopop' 'canzone' 'caribbean' 'caucasian' 'celtic'\n",
      " 'chamber' 'chanson' 'children' 'chill' 'chinese' 'choral' 'christian'\n",
      " 'christmas' 'classical' 'classicmetal' 'club' 'colombian' 'comedy'\n",
      " 'conjazz' 'contemporary' 'country' 'cuban' 'dance' 'dancehall' 'dancepop'\n",
      " 'dark' 'death' 'deep' 'deutschrock' 'deutschspr' 'dirty' 'disco' 'dnb'\n",
      " 'documentary' 'downbeat' 'downtempo' 'drum' 'dub' 'dubstep' 'eastern'\n",
      " 'easy' 'electronic' 'electropop' 'emo' 'entehno' 'epicmetal' 'estrada'\n",
      " 'ethnic' 'eurofolk' 'european' 'experimental' 'extrememetal' 'fado'\n",
      " 'fairytail' 'film' 'fitness' 'flamenco' 'folk' 'folklore' 'folkmetal'\n",
      " 'folkrock' 'folktronica' 'forró' 'frankreich' 'französisch' 'french'\n",
      " 'funk' 'future' 'gangsta' 'garage' 'german' 'ghazal' 'gitarre' 'glitch'\n",
      " 'gospel' 'gothic' 'grime' 'grunge' 'gypsy' 'handsup' \"hard'n'heavy\"\n",
      " 'hardcore' 'hardstyle' 'hardtechno' 'hiphop' 'historisch' 'holiday'\n",
      " 'horror' 'house' 'hymn' 'idm' 'independent' 'indian' 'indie' 'indipop'\n",
      " 'industrial' 'inspirational' 'instrumental' 'international' 'irish' 'jam'\n",
      " 'japanese' 'jazz' 'jewish' 'jpop' 'jungle' 'k-pop' 'karadeniz' 'karaoke'\n",
      " 'kayokyoku' 'korean' 'laiko' 'latin' 'latino' 'leftfield' 'local'\n",
      " 'lounge' 'loungeelectronic' 'lovers' 'malaysian' 'mandopop' 'marschmusik'\n",
      " 'meditative' 'mediterranean' 'melodic' 'metal' 'metalcore' 'mexican'\n",
      " 'middle' 'minimal' 'miscellaneous' 'modern' 'mood' 'mpb' 'muslim'\n",
      " 'native' 'neoklassik' 'neue' 'new' 'newage' 'newwave' 'nu' 'nujazz'\n",
      " 'numetal' 'oceania' 'old' 'opera' 'orchestral' 'other' 'piano' 'podcasts'\n",
      " 'pop' 'popdance' 'popelectronic' 'popeurodance' 'poprussian' 'post'\n",
      " 'posthardcore' 'postrock' 'power' 'progmetal' 'progressive' 'psychedelic'\n",
      " 'punjabi' 'punk' 'quebecois' 'ragga' 'ram' 'rancheras' 'rap' 'rave'\n",
      " 'reggae' 'reggaeton' 'regional' 'relax' 'religious' 'retro' 'rhythm'\n",
      " 'rnb' 'rnr' 'rock' 'rockabilly' 'rockalternative' 'rockindie' 'rockother'\n",
      " 'romance' 'roots' 'ruspop' 'rusrap' 'rusrock' 'russian' 'salsa' 'samba'\n",
      " 'scenic' 'schlager' 'self' 'sertanejo' 'shanson' 'shoegazing' 'showtunes'\n",
      " 'singer' 'ska' 'skarock' 'slow' 'smooth' 'soft' 'soul' 'soulful' 'sound'\n",
      " 'soundtrack' 'southern' 'specialty' 'speech' 'spiritual' 'sport'\n",
      " 'stonerrock' 'surf' 'swing' 'synthpop' 'synthrock' 'sängerportrait'\n",
      " 'tango' 'tanzorchester' 'taraftar' 'tatar' 'tech' 'techno' 'teen'\n",
      " 'thrash' 'top' 'traditional' 'tradjazz' 'trance' 'tribal' 'trip'\n",
      " 'triphop' 'tropical' 'türk' 'türkçe' 'ukrrock' 'unknown' 'urban' 'uzbek'\n",
      " 'variété' 'vi' 'videogame' 'vocal' 'western' 'world' 'worldbeat' 'ïîï'\n",
      " 'электроника']\n"
     ]
    }
   ],
   "source": [
    "# Проверка на неявные дубликаты\n",
    "genre = df['genre'].sort_values()\n",
    "print(genre.unique())"
   ]
  },
  {
   "cell_type": "markdown",
   "metadata": {
    "deletable": false,
    "editable": false,
    "id": "jz6a9-7HQUDd"
   },
   "source": [
    "**Выводы**\n",
    "\n",
    "Предобработка обнаружила три проблемы в данных:\n",
    "\n",
    "- нарушения в стиле заголовков,\n",
    "- пропущенные значения,\n",
    "- дубликаты — явные и неявные.\n",
    "\n",
    "Вы исправили заголовки, чтобы упростить работу с таблицей. Без дубликатов исследование станет более точным.\n",
    "\n",
    "Пропущенные значения вы заменили на `'unknown'`. Ещё предстоит увидеть, не повредят ли исследованию пропуски в колонке `genre`.\n",
    "\n",
    "Теперь можно перейти к проверке гипотез. "
   ]
  },
  {
   "cell_type": "markdown",
   "metadata": {
    "deletable": false,
    "editable": false,
    "id": "WttZHXH0SqKk"
   },
   "source": [
    "## Проверка гипотез"
   ]
  },
  {
   "cell_type": "markdown",
   "metadata": {
    "deletable": false,
    "editable": false,
    "id": "Im936VVi_Zcu"
   },
   "source": [
    "### Сравнение поведения пользователей двух столиц"
   ]
  },
  {
   "cell_type": "markdown",
   "metadata": {
    "deletable": false,
    "editable": false,
    "id": "nwt_MuaL_Zcu"
   },
   "source": [
    "Первая гипотеза утверждает, что пользователи по-разному слушают музыку в Москве и Санкт-Петербурге. Проверьте это предположение по данным о трёх днях недели — понедельнике, среде и пятнице. Для этого:\n",
    "\n",
    "* Разделите пользователей Москвы и Санкт-Петербурга.\n",
    "* Сравните, сколько треков послушала каждая группа пользователей в понедельник, среду и пятницу.\n"
   ]
  },
  {
   "cell_type": "markdown",
   "metadata": {
    "deletable": false,
    "editable": false,
    "id": "8Dw_YMmT_Zcu",
    "tags": [
     "start_task"
    ]
   },
   "source": [
    "**Задание 18**\n",
    "\n",
    "Для тренировки сначала выполните каждый из расчётов по отдельности. \n",
    "\n",
    "Оцените активность пользователей в каждом городе. Сгруппируйте данные по городу и посчитайте прослушивания в каждой группе.\n",
    "\n"
   ]
  },
  {
   "cell_type": "code",
   "execution_count": 277,
   "metadata": {
    "deletable": false,
    "id": "0_Qs96oh_Zcu"
   },
   "outputs": [
    {
     "data": {
      "text/plain": [
       "city\n",
       "Moscow              42741\n",
       "Saint-Petersburg    18512\n",
       "Name: track, dtype: int64"
      ]
     },
     "execution_count": 277,
     "metadata": {},
     "output_type": "execute_result"
    }
   ],
   "source": [
    "# Подсчёт прослушиваний в каждом городе\n",
    "df.groupby('city')['track'].count()"
   ]
  },
  {
   "cell_type": "markdown",
   "metadata": {
    "deletable": false,
    "editable": false,
    "id": "dzli3w8o_Zcu",
    "tags": [
     "start_task"
    ]
   },
   "source": [
    "В Москве прослушиваний больше, чем в Петербурге. Из этого не следует, что московские пользователи чаще слушают музыку. Просто самих пользователей в Москве больше.\n",
    "\n",
    "**Задание 19**\n",
    "\n",
    "Теперь сгруппируйте данные по дню недели и посчитайте прослушивания в понедельник, среду и пятницу. Учтите, что в данных есть информация о прослушиваниях только за эти дни.\n"
   ]
  },
  {
   "cell_type": "code",
   "execution_count": 278,
   "metadata": {
    "deletable": false,
    "id": "uZMKjiJz_Zcu"
   },
   "outputs": [
    {
     "data": {
      "text/plain": [
       "day\n",
       "Friday       21840\n",
       "Monday       21354\n",
       "Wednesday    18059\n",
       "Name: track, dtype: int64"
      ]
     },
     "execution_count": 278,
     "metadata": {},
     "output_type": "execute_result"
    }
   ],
   "source": [
    "# Подсчёт прослушиваний в каждый из трёх дней\n",
    "df.groupby('day')['track'].count()"
   ]
  },
  {
   "cell_type": "markdown",
   "metadata": {
    "deletable": false,
    "editable": false,
    "id": "cC2tNrlL_Zcu"
   },
   "source": [
    "В среднем пользователи из двух городов менее активны по средам. Но картина может измениться, если рассмотреть каждый город в отдельности."
   ]
  },
  {
   "cell_type": "markdown",
   "metadata": {
    "deletable": false,
    "editable": false,
    "id": "POzs8bGa_Zcu",
    "tags": [
     "start_task"
    ]
   },
   "source": [
    "**Задание 20**\n",
    "\n",
    "\n",
    "Вы видели, как работает группировка по городу и по дням недели. Теперь напишите функцию, которая объединит два эти расчёта.\n",
    "\n",
    "Создайте функцию `number_tracks()`, которая посчитает прослушивания для заданного дня и города. Ей понадобятся два параметра:\n",
    "* день недели,\n",
    "* название города.\n",
    "\n",
    "В функции сохраните в переменную строки исходной таблицы, у которых значение:\n",
    "  * в колонке `day` равно параметру `day`,\n",
    "  * в колонке `city` равно параметру `city`.\n",
    "\n",
    "Для этого примените последовательную фильтрацию с логической индексацией (или сложные логические выражения в одну строку, если вы уже знакомы с ними).\n",
    "\n",
    "Затем посчитайте значения в столбце `user_id` получившейся таблицы. Результат сохраните в новую переменную. Верните эту переменную из функции."
   ]
  },
  {
   "cell_type": "code",
   "execution_count": 261,
   "metadata": {
    "deletable": false,
    "id": "Nz3GdQB1_Zcu"
   },
   "outputs": [],
   "source": [
    "# <создание функции number_tracks()> \n",
    "# Объявляется функция с двумя параметрами: day, city.\n",
    "def number_tracks(day, city):\n",
    "# В переменной track_list сохраняются те строки таблицы df, для которых \n",
    "# значение в столбце 'day' равно параметру day и одновременно значение\n",
    "# в столбце 'city' равно параметру city (используйте последовательную фильтрацию\n",
    "# с помощью логической индексации или сложные логические выражения в одну строку, если вы уже знакомы с ними).\n",
    "    track_list = df[df['day'] == day]\n",
    "    track_list = track_list[track_list['city'] == city]   \n",
    "\n",
    "# В переменной track_list_count сохраняется число значений столбца 'user_id',\n",
    "# рассчитанное методом count() для таблицы track_list.\n",
    "    track_list_count = track_list['user_id'].count()\n",
    "\n",
    "# Функция возвращает число - значение track_list_count.\n",
    "    return(track_list_count)\n",
    "\n",
    "\n",
    "# Функция для подсчёта прослушиваний для конкретного города и дня.\n",
    "# С помощью последовательной фильтрации с логической индексацией она \n",
    "# сначала получит из исходной таблицы строки с нужным днём,\n",
    "# затем из результата отфильтрует строки с нужным городом,\n",
    "# методом count() посчитает количество значений в колонке user_id. \n",
    "# Это количество функция вернёт в качестве результата"
   ]
  },
  {
   "cell_type": "markdown",
   "metadata": {
    "deletable": false,
    "editable": false,
    "id": "ytf7xFrFJQ2r",
    "tags": [
     "start_task"
    ]
   },
   "source": [
    "**Задание 21**\n",
    "\n",
    "Вызовите `number_tracks()` шесть раз, меняя значение параметров — так, чтобы получить данные для каждого города в каждый из трёх дней."
   ]
  },
  {
   "cell_type": "code",
   "execution_count": 264,
   "metadata": {
    "deletable": false,
    "id": "rJcRATNQ_Zcu"
   },
   "outputs": [
    {
     "data": {
      "text/plain": [
       "15740"
      ]
     },
     "execution_count": 264,
     "metadata": {},
     "output_type": "execute_result"
    }
   ],
   "source": [
    "# количество прослушиваний в Москве по понедельникам\n",
    "\n",
    "number_tracks('Monday', 'Moscow')\n"
   ]
  },
  {
   "cell_type": "code",
   "execution_count": 265,
   "metadata": {
    "deletable": false,
    "id": "hq_ncZ5T_Zcu"
   },
   "outputs": [
    {
     "data": {
      "text/plain": [
       "5614"
      ]
     },
     "execution_count": 265,
     "metadata": {},
     "output_type": "execute_result"
    }
   ],
   "source": [
    "# количество прослушиваний в Санкт-Петербурге по понедельникам\n",
    "number_tracks('Monday', 'Saint-Petersburg')"
   ]
  },
  {
   "cell_type": "code",
   "execution_count": 266,
   "metadata": {
    "deletable": false,
    "id": "_NTy2VPU_Zcu"
   },
   "outputs": [
    {
     "data": {
      "text/plain": [
       "11056"
      ]
     },
     "execution_count": 266,
     "metadata": {},
     "output_type": "execute_result"
    }
   ],
   "source": [
    "# количество прослушиваний в Москве по средам\n",
    "number_tracks('Wednesday', 'Moscow')"
   ]
  },
  {
   "cell_type": "code",
   "execution_count": 267,
   "metadata": {
    "deletable": false,
    "id": "j2y3TAwo_Zcu"
   },
   "outputs": [
    {
     "data": {
      "text/plain": [
       "7003"
      ]
     },
     "execution_count": 267,
     "metadata": {},
     "output_type": "execute_result"
    }
   ],
   "source": [
    "# количество прослушиваний в Санкт-Петербурге по средам\n",
    "number_tracks('Wednesday', 'Saint-Petersburg')"
   ]
  },
  {
   "cell_type": "code",
   "execution_count": 268,
   "metadata": {
    "deletable": false,
    "id": "vYDw5u_K_Zcu"
   },
   "outputs": [
    {
     "data": {
      "text/plain": [
       "15945"
      ]
     },
     "execution_count": 268,
     "metadata": {},
     "output_type": "execute_result"
    }
   ],
   "source": [
    "# количество прослушиваний в Москве по пятницам\n",
    "number_tracks('Friday', 'Moscow')"
   ]
  },
  {
   "cell_type": "code",
   "execution_count": 269,
   "metadata": {
    "deletable": false,
    "id": "8_yzFtW3_Zcu"
   },
   "outputs": [
    {
     "data": {
      "text/plain": [
       "5895"
      ]
     },
     "execution_count": 269,
     "metadata": {},
     "output_type": "execute_result"
    }
   ],
   "source": [
    "# количество прослушиваний в Санкт-Петербурге по пятницам\n",
    "number_tracks('Friday', 'Saint-Petersburg')"
   ]
  },
  {
   "cell_type": "markdown",
   "metadata": {
    "deletable": false,
    "editable": false,
    "id": "7QXffbO-_Zcu",
    "tags": [
     "start_task"
    ]
   },
   "source": [
    "**Задание 22**\n",
    "\n",
    "Создайте c помощью конструктора `pd.DataFrame` таблицу, где\n",
    "* названия колонок — `['city', 'monday', 'wednesday', 'friday']`;\n",
    "* данные — результаты, которые вы получили с помощью `number_tracks`."
   ]
  },
  {
   "cell_type": "code",
   "execution_count": 270,
   "metadata": {
    "deletable": false,
    "id": "APAcLpOr_Zcu"
   },
   "outputs": [
    {
     "name": "stdout",
     "output_type": "stream",
     "text": [
      "               city  monday  wednesday  friday\n",
      "0            Moscow   15740      11056   15945\n",
      "1  Saint-Petersburg    5614       7003    5895\n"
     ]
    }
   ],
   "source": [
    "# Таблица с результатами\n",
    "columns = ['city', 'monday', 'wednesday', 'friday']\n",
    "data = [\n",
    "    ['Moscow', 15740, 11056, 15945],\n",
    "    ['Saint-Petersburg', 5614, 7003, 5895]\n",
    "]\n",
    "info = pd.DataFrame(data=data, columns=columns)\n",
    "print(info)"
   ]
  },
  {
   "cell_type": "markdown",
   "metadata": {
    "deletable": false,
    "editable": false,
    "id": "-EgPIHYu_Zcu"
   },
   "source": [
    "**Выводы**\n",
    "\n",
    "Данные показывают разницу поведения пользователей:\n",
    "\n",
    "- В Москве пик прослушиваний приходится на понедельник и пятницу, а в среду заметен спад.\n",
    "- В Петербурге, наоборот, больше слушают музыку по средам. Активность в понедельник и пятницу здесь почти в равной мере уступает среде.\n",
    "\n",
    "Значит, данные говорят в пользу первой гипотезы."
   ]
  },
  {
   "cell_type": "markdown",
   "metadata": {
    "deletable": false,
    "editable": false,
    "id": "atZAxtq4_Zcu"
   },
   "source": [
    "### Музыка в начале и в конце недели"
   ]
  },
  {
   "cell_type": "markdown",
   "metadata": {
    "deletable": false,
    "editable": false,
    "id": "eXrQqXFH_Zcu"
   },
   "source": [
    "Согласно второй гипотезе, утром в понедельник в Москве преобладают одни жанры, а в Петербурге — другие. Так же и вечером пятницы преобладают разные жанры — в зависимости от города."
   ]
  },
  {
   "cell_type": "markdown",
   "metadata": {
    "deletable": false,
    "editable": false,
    "id": "S8UcW6Hw_Zcu",
    "tags": [
     "start_task"
    ]
   },
   "source": [
    "**Задание 23**\n",
    "\n",
    "Сохраните таблицы с данными в две переменные:\n",
    "* по Москве — в `moscow_general`;\n",
    "* по Санкт-Петербургу — в `spb_general`."
   ]
  },
  {
   "cell_type": "code",
   "execution_count": 279,
   "metadata": {
    "deletable": false,
    "id": "qeaFfM_P_Zcu"
   },
   "outputs": [],
   "source": [
    "# получение таблицы moscow_general из тех строк таблицы df, \n",
    "# для которых значение в столбце 'city' равно 'Moscow'\n",
    "moscow_general = df[df['city'] == 'Moscow']\n",
    "#print(moscow_general)"
   ]
  },
  {
   "cell_type": "code",
   "execution_count": 281,
   "metadata": {
    "deletable": false,
    "id": "ORaVRKto_Zcu"
   },
   "outputs": [
    {
     "name": "stdout",
     "output_type": "stream",
     "text": [
      "        user_id                              track            artist  \\\n",
      "0      FFB692EC                  Kamigata To Boots  The Mass Missile   \n",
      "1      55204538        Delayed Because of Accident  Andreas Rönnberg   \n",
      "2        20EC38                  Funiculì funiculà       Mario Lanza   \n",
      "3      A3DD03C9              Dragons in the Sunset        Fire + Ice   \n",
      "4      E2DC1FAE                        Soul People        Space Echo   \n",
      "...         ...                                ...               ...   \n",
      "61248  729CBB09                            My Name            McLean   \n",
      "61249  D08D4A55  Maybe One Day (feat. Black Spade)       Blu & Exile   \n",
      "61250  C5E3A0D5                          Jalopiina           unknown   \n",
      "61251  321D0506                      Freight Train     Chas McDevitt   \n",
      "61252  3A64EF84          Tell Me Sweet Little Lies      Monica Lopez   \n",
      "\n",
      "            genre              city      time        day  \n",
      "0            rock  Saint-Petersburg  20:28:33  Wednesday  \n",
      "1            rock            Moscow  14:07:09     Friday  \n",
      "2             pop  Saint-Petersburg  20:58:07  Wednesday  \n",
      "3            folk  Saint-Petersburg  08:37:09     Monday  \n",
      "4           dance            Moscow  08:34:34     Monday  \n",
      "...           ...               ...       ...        ...  \n",
      "61248         rnb            Moscow  13:32:28  Wednesday  \n",
      "61249      hiphop  Saint-Petersburg  10:00:00     Monday  \n",
      "61250  industrial            Moscow  20:09:26     Friday  \n",
      "61251        rock            Moscow  21:43:59     Friday  \n",
      "61252     country            Moscow  21:59:46     Friday  \n",
      "\n",
      "[61253 rows x 7 columns]\n"
     ]
    }
   ],
   "source": [
    "# получение таблицы spb_general из тех строк таблицы df,\n",
    "# для которых значение в столбце 'city' равно 'Saint-Petersburg'\n",
    "spb_general = df[df['city'] == 'Saint-Petersburg']\n",
    "#print(df)"
   ]
  },
  {
   "cell_type": "markdown",
   "metadata": {
    "deletable": false,
    "editable": false,
    "id": "MEJV-CX2_Zcu",
    "tags": [
     "start_task"
    ]
   },
   "source": [
    "**Задание 24**\n",
    "\n",
    "Создайте функцию `genre_weekday()` с четырьмя параметрами:\n",
    "* таблица (датафрейм) с данными,\n",
    "* день недели,\n",
    "* начальная временная метка в формате 'hh:mm', \n",
    "* последняя временная метка в формате 'hh:mm'.\n",
    "\n",
    "Функция должна вернуть информацию о топ-10 жанров тех треков, которые прослушивали в указанный день, в промежутке между двумя отметками времени."
   ]
  },
  {
   "cell_type": "code",
   "execution_count": 295,
   "metadata": {
    "deletable": false,
    "id": "laJT9BYl_Zcu"
   },
   "outputs": [],
   "source": [
    "# Объявление функции genre_weekday() с параметрами table, day, time1, time2,\n",
    "# которая возвращает информацию о самых популярных жанрах в указанный день в\n",
    "# заданное время:\n",
    "# 1) в переменную genre_df сохраняются те строки переданного датафрейма table, для\n",
    "#    которых одновременно:\n",
    "#    - значение в столбце day равно значению аргумента day\n",
    "#    - значение в столбце time больше значения аргумента time1\n",
    "#    - значение в столбце time меньше значения аргумента time2\n",
    "#    Используйте последовательную фильтрацию с помощью логической индексации.\n",
    "# 2) сгруппировать датафрейм genre_df по столбцу genre, взять один из его\n",
    "#    столбцов и посчитать методом count() количество записей для каждого из\n",
    "#    присутствующих жанров, получившийся Series записать в переменную\n",
    "#    genre_df_count\n",
    "# 3) отсортировать genre_df_count по убыванию встречаемости и сохранить\n",
    "#    в переменную genre_df_sorted\n",
    "# 4) вернуть Series из 10 первых значений genre_df_sorted, это будут топ-10\n",
    "#    популярных жанров (в указанный день, в заданное время)\n",
    "\n",
    "def genre_weekday(df, day, time1, time2):\n",
    "    # последовательная фильтрация\n",
    "    # оставляем в genre_df только те строки df, у которых день равен day\n",
    "    genre_df = df[df['day'] == day] # ваш код здесь\n",
    "#print(genre_df)\n",
    "    # оставляем в genre_df только те строки genre_df, у которых время меньше time2\n",
    "    genre_df = genre_df[genre_df['time'] < time2] # ваш код здесь\n",
    "#print(genre_df)\n",
    "    # оставляем в genre_df только те строки genre_df, у которых время больше time1\n",
    "    genre_df = genre_df[genre_df['time'] > time1] # ваш код здесь\n",
    "#print(genre_df)\n",
    "    # сгруппируем отфильтрованный датафрейм по столбцу с названиями жанров, возьмём столбец genre и посчитаем кол-во строк для каждого жанра методом count()\n",
    "    genre_df_grouped = genre_df.groupby('genre')['genre'].count() # ваш код здесь\n",
    "#print(genre_df_grouped)\n",
    "    # отсортируем результат по убыванию (чтобы в начале Series оказались самые популярные жанры)\n",
    "    genre_df_sorted = genre_df_grouped.sort_values(ascending=False) # ваш код здесь\n",
    "#print(genre_df_sorted)\n",
    "    # вернём Series с 10 самыми популярными жанрами в указанный отрезок времени заданного дня\n",
    "    return genre_df_sorted[:10]"
   ]
  },
  {
   "cell_type": "markdown",
   "metadata": {
    "deletable": false,
    "editable": false,
    "id": "la2s2_PF_Zcu",
    "tags": [
     "start_task"
    ]
   },
   "source": [
    "**Задание 25**\n",
    "\n",
    "\n",
    "Cравните результаты функции `genre_weekday()` для Москвы и Санкт-Петербурга в понедельник утром (с 7:00 до 11:00) и в пятницу вечером (с 17:00 до 23:00):"
   ]
  },
  {
   "cell_type": "code",
   "execution_count": 296,
   "metadata": {
    "deletable": false,
    "id": "yz7itPUQ_Zcu"
   },
   "outputs": [
    {
     "data": {
      "text/plain": [
       "genre\n",
       "pop            781\n",
       "dance          549\n",
       "electronic     480\n",
       "rock           474\n",
       "hiphop         286\n",
       "ruspop         186\n",
       "world          181\n",
       "rusrap         175\n",
       "alternative    164\n",
       "unknown        161\n",
       "Name: genre, dtype: int64"
      ]
     },
     "execution_count": 296,
     "metadata": {},
     "output_type": "execute_result"
    }
   ],
   "source": [
    "# вызов функции для утра понедельника в Москве (вместо df — таблица moscow_general)\n",
    "# объекты, хранящие время, являются строками и сравниваются как строки\n",
    "# пример вызова: genre_weekday(moscow_general, 'Monday', '07:00', '11:00')\n",
    "genre_weekday(moscow_general, 'Monday', '07:00', '11:00') "
   ]
  },
  {
   "cell_type": "code",
   "execution_count": 297,
   "metadata": {
    "deletable": false,
    "id": "kwUcHPdy_Zcu"
   },
   "outputs": [
    {
     "data": {
      "text/plain": [
       "genre\n",
       "pop            218\n",
       "dance          182\n",
       "rock           162\n",
       "electronic     147\n",
       "hiphop          80\n",
       "ruspop          64\n",
       "alternative     58\n",
       "rusrap          55\n",
       "jazz            44\n",
       "classical       40\n",
       "Name: genre, dtype: int64"
      ]
     },
     "execution_count": 297,
     "metadata": {},
     "output_type": "execute_result"
    }
   ],
   "source": [
    "# вызов функции для утра понедельника в Петербурге (вместо df — таблица spb_general)\n",
    "genre_weekday(spb_general, 'Monday', '07:00', '11:00') "
   ]
  },
  {
   "cell_type": "code",
   "execution_count": 298,
   "metadata": {
    "deletable": false,
    "id": "EzXVRE1o_Zcu"
   },
   "outputs": [
    {
     "data": {
      "text/plain": [
       "genre\n",
       "pop            713\n",
       "rock           517\n",
       "dance          495\n",
       "electronic     482\n",
       "hiphop         273\n",
       "world          208\n",
       "ruspop         170\n",
       "alternative    163\n",
       "classical      163\n",
       "rusrap         142\n",
       "Name: genre, dtype: int64"
      ]
     },
     "execution_count": 298,
     "metadata": {},
     "output_type": "execute_result"
    }
   ],
   "source": [
    "# вызов функции для вечера пятницы в Москве\n",
    "genre_weekday(moscow_general, 'Friday', '17:00', '23:00')"
   ]
  },
  {
   "cell_type": "code",
   "execution_count": 299,
   "metadata": {
    "deletable": false,
    "id": "JZaEKu5v_Zcu"
   },
   "outputs": [
    {
     "data": {
      "text/plain": [
       "genre\n",
       "pop            256\n",
       "electronic     216\n",
       "rock           216\n",
       "dance          210\n",
       "hiphop          97\n",
       "alternative     63\n",
       "jazz            61\n",
       "classical       60\n",
       "rusrap          59\n",
       "world           54\n",
       "Name: genre, dtype: int64"
      ]
     },
     "execution_count": 299,
     "metadata": {},
     "output_type": "execute_result"
    }
   ],
   "source": [
    "# вызов функции для вечера пятницы в Петербурге\n",
    "genre_weekday(spb_general, 'Friday', '17:00', '23:00') "
   ]
  },
  {
   "cell_type": "markdown",
   "metadata": {
    "deletable": false,
    "editable": false,
    "id": "wrCe4MNX_Zcu"
   },
   "source": [
    "**Выводы**\n",
    "\n",
    "Если сравнить топ-10 жанров в понедельник утром, можно сделать такие выводы:\n",
    "\n",
    "1. В Москве и Петербурге слушают похожую музыку. Единственное отличие — в московский рейтинг вошёл жанр “world”, а в петербургский — джаз и классика.\n",
    "\n",
    "2. В Москве пропущенных значений оказалось так много, что значение `'unknown'` заняло десятое место среди самых популярных жанров. Значит, пропущенные значения занимают существенную долю в данных и угрожают достоверности исследования.\n",
    "\n",
    "Вечер пятницы не меняет эту картину. Некоторые жанры поднимаются немного выше, другие спускаются, но в целом топ-10 остаётся тем же самым.\n",
    "\n",
    "Таким образом, вторая гипотеза подтвердилась лишь частично:\n",
    "* Пользователи слушают похожую музыку в начале недели и в конце.\n",
    "* Разница между Москвой и Петербургом не слишком выражена. В Москве чаще слушают русскую популярную музыку, в Петербурге — джаз.\n",
    "\n",
    "Однако пропуски в данных ставят под сомнение этот результат. В Москве их так много, что рейтинг топ-10 мог бы выглядеть иначе, если бы не утерянные  данные о жанрах."
   ]
  },
  {
   "cell_type": "markdown",
   "metadata": {
    "deletable": false,
    "editable": false,
    "id": "JolODAqr_Zcu"
   },
   "source": [
    "### Жанровые предпочтения в Москве и Петербурге\n",
    "\n",
    "Гипотеза: Петербург — столица рэпа, музыку этого жанра там слушают чаще, чем в Москве.  А Москва — город контрастов, в котором, тем не менее, преобладает поп-музыка."
   ]
  },
  {
   "cell_type": "markdown",
   "metadata": {
    "deletable": false,
    "editable": false,
    "id": "DlegSvaT_Zcu",
    "tags": [
     "start_task"
    ]
   },
   "source": [
    "**Задание 26**\n",
    "\n",
    "Сгруппируйте таблицу `moscow_general` по жанру и посчитайте прослушивания треков каждого жанра методом `count()`. Затем отсортируйте результат в порядке убывания и сохраните его в таблице `moscow_genres`."
   ]
  },
  {
   "cell_type": "code",
   "execution_count": 304,
   "metadata": {
    "deletable": false,
    "id": "r19lIPke_Zcu"
   },
   "outputs": [],
   "source": [
    "# одной строкой: группировка таблицы moscow_general по столбцу 'genre', \n",
    "# подсчёт числа значений 'genre' в этой группировке методом count(), \n",
    "# сортировка получившегося Series в порядке убывания и сохранение в moscow_genres\n",
    "moscow_genres = moscow_general.groupby('genre')['genre'].count().sort_values(ascending=False)\n",
    "#print(moscow_genres)"
   ]
  },
  {
   "cell_type": "markdown",
   "metadata": {
    "deletable": false,
    "editable": false,
    "id": "6kMuomxTiIr8",
    "tags": [
     "start_task"
    ]
   },
   "source": [
    "**Задание 27**\n",
    "\n",
    "Выведите на экран первые десять строк `moscow_genres`:"
   ]
  },
  {
   "cell_type": "code",
   "execution_count": 305,
   "metadata": {
    "deletable": false,
    "id": "WhCSooF8_Zcv"
   },
   "outputs": [
    {
     "data": {
      "text/plain": [
       "genre\n",
       "pop            5892\n",
       "dance          4435\n",
       "rock           3965\n",
       "electronic     3786\n",
       "hiphop         2096\n",
       "classical      1616\n",
       "world          1432\n",
       "alternative    1379\n",
       "ruspop         1372\n",
       "rusrap         1161\n",
       "Name: genre, dtype: int64"
      ]
     },
     "execution_count": 305,
     "metadata": {},
     "output_type": "execute_result"
    }
   ],
   "source": [
    "# просмотр первых 10 строк moscow_genres\n",
    "moscow_genres.head(10)"
   ]
  },
  {
   "cell_type": "markdown",
   "metadata": {
    "deletable": false,
    "editable": false,
    "id": "cnPG2vnN_Zcv",
    "tags": [
     "start_task"
    ]
   },
   "source": [
    "**Задание 28**\n",
    "\n",
    "\n",
    "Теперь повторите то же и для Петербурга.\n",
    "\n",
    "Сгруппируйте таблицу `spb_general` по жанру. Посчитайте прослушивания треков каждого жанра. Результат отсортируйте в порядке убывания и сохраните в таблице `spb_genres`:\n"
   ]
  },
  {
   "cell_type": "code",
   "execution_count": 306,
   "metadata": {
    "deletable": false,
    "id": "gluLIpE7_Zcv"
   },
   "outputs": [],
   "source": [
    "# одной строкой: группировка таблицы spb_general по столбцу 'genre', \n",
    "# подсчёт числа значений 'genre' в этой группировке методом count(), \n",
    "# сортировка получившегося Series в порядке убывания и сохранение в spb_genres\n",
    "spb_genres = spb_general.groupby('genre')['genre'].count().sort_values(ascending=False)"
   ]
  },
  {
   "cell_type": "markdown",
   "metadata": {
    "deletable": false,
    "editable": false,
    "id": "5Doha_ODgyQ8",
    "tags": [
     "start_task"
    ]
   },
   "source": [
    "**Задание 29**\n",
    "\n",
    "Выведите на экран первые десять строк `spb_genres`:"
   ]
  },
  {
   "cell_type": "code",
   "execution_count": 307,
   "metadata": {
    "deletable": false,
    "id": "uaGJHjVU_Zcv"
   },
   "outputs": [
    {
     "data": {
      "text/plain": [
       "genre\n",
       "pop            2431\n",
       "dance          1932\n",
       "rock           1879\n",
       "electronic     1736\n",
       "hiphop          960\n",
       "alternative     649\n",
       "classical       646\n",
       "rusrap          564\n",
       "ruspop          538\n",
       "world           515\n",
       "Name: genre, dtype: int64"
      ]
     },
     "execution_count": 307,
     "metadata": {},
     "output_type": "execute_result"
    }
   ],
   "source": [
    "# просмотр первых 10 строк spb_genres\n",
    "spb_genres.head(10)"
   ]
  },
  {
   "cell_type": "markdown",
   "metadata": {
    "deletable": false,
    "editable": false,
    "id": "RY51YJYu_Zcv"
   },
   "source": [
    "**Выводы**"
   ]
  },
  {
   "cell_type": "markdown",
   "metadata": {
    "deletable": false,
    "editable": false,
    "id": "nVhnJEm__Zcv"
   },
   "source": [
    "Гипотеза частично подтвердилась:\n",
    "* Поп-музыка — самый популярный жанр в Москве, как и предполагала гипотеза. Более того, в топ-10 жанров встречается близкий жанр — русская популярная музыка.\n",
    "* Вопреки ожиданиям, рэп одинаково популярен в Москве и Петербурге. \n"
   ]
  },
  {
   "cell_type": "markdown",
   "metadata": {
    "deletable": false,
    "editable": false,
    "id": "ykKQ0N65_Zcv"
   },
   "source": [
    "## Итоги исследования"
   ]
  },
  {
   "cell_type": "markdown",
   "metadata": {
    "deletable": false,
    "editable": false,
    "id": "tjUwbHb3_Zcv"
   },
   "source": [
    "Вы проверили три гипотезы и установили:\n",
    "\n",
    "1. День недели по-разному влияет на активность пользователей в Москве и Петербурге. \n",
    "\n",
    "Первая гипотеза полностью подтвердилась.\n",
    "\n",
    "2. Музыкальные предпочтения не сильно меняются в течение недели — будь то Москва или Петербург. Небольшие различия заметны в начале недели, по понедельникам:\n",
    "* в Москве слушают музыку жанра “world”,\n",
    "* в Петербурге — джаз и классику.\n",
    "\n",
    "Таким образом, вторая гипотеза подтвердилась лишь отчасти. Этот результат мог оказаться иным, если бы не пропуски в данных.\n",
    "\n",
    "3. Во вкусах пользователей Москвы и Петербурга больше общего чем различий. Вопреки ожиданиям, предпочтения жанров в Петербурге напоминают московские.\n",
    "\n",
    "Третья гипотеза не подтвердилась. Если различия в предпочтениях и существуют, на основной массе пользователей они незаметны.\n",
    "\n",
    "**На практике исследования содержат проверки статистических гипотез.**\n",
    "Из данных одного сервиса не всегда можно сделать вывод о всех жителях города.\n",
    "Проверки статистических гипотез покажут, насколько они достоверны, исходя из имеющихся данных. \n",
    "С методами проверок гипотез вы ещё познакомитесь в следующих темах."
   ]
  }
 ],
 "metadata": {
  "ExecuteTimeLog": [
   {
    "duration": 434,
    "start_time": "2022-07-14T07:57:29.729Z"
   },
   {
    "duration": 241,
    "start_time": "2022-07-14T07:59:42.033Z"
   },
   {
    "duration": 197,
    "start_time": "2022-07-14T08:00:07.754Z"
   },
   {
    "duration": 186,
    "start_time": "2022-07-14T08:00:42.401Z"
   },
   {
    "duration": 14,
    "start_time": "2022-07-14T08:04:56.122Z"
   },
   {
    "duration": 184,
    "start_time": "2022-07-14T08:05:01.821Z"
   },
   {
    "duration": 180,
    "start_time": "2022-07-14T08:05:11.459Z"
   },
   {
    "duration": 31,
    "start_time": "2022-07-14T08:05:32.947Z"
   },
   {
    "duration": 60,
    "start_time": "2022-07-14T08:10:59.964Z"
   },
   {
    "duration": 8,
    "start_time": "2022-07-14T08:11:14.124Z"
   },
   {
    "duration": 4,
    "start_time": "2022-07-14T08:12:27.496Z"
   },
   {
    "duration": 10,
    "start_time": "2022-07-14T08:18:12.892Z"
   },
   {
    "duration": 4,
    "start_time": "2022-07-14T08:18:48.829Z"
   },
   {
    "duration": 49,
    "start_time": "2022-07-14T08:20:03.019Z"
   },
   {
    "duration": 427,
    "start_time": "2022-07-14T10:26:30.564Z"
   },
   {
    "duration": 238,
    "start_time": "2022-07-14T10:26:32.030Z"
   },
   {
    "duration": 2,
    "start_time": "2022-07-14T10:26:35.511Z"
   },
   {
    "duration": 166,
    "start_time": "2022-07-14T10:26:36.910Z"
   },
   {
    "duration": 7,
    "start_time": "2022-07-14T10:26:39.623Z"
   },
   {
    "duration": 42,
    "start_time": "2022-07-14T10:26:43.632Z"
   },
   {
    "duration": 3,
    "start_time": "2022-07-14T10:26:47.363Z"
   },
   {
    "duration": 3,
    "start_time": "2022-07-14T10:26:54.392Z"
   },
   {
    "duration": 12,
    "start_time": "2022-07-14T10:26:56.590Z"
   },
   {
    "duration": 4,
    "start_time": "2022-07-14T10:26:59.991Z"
   },
   {
    "duration": 52,
    "start_time": "2022-07-14T10:27:02.431Z"
   },
   {
    "duration": 22,
    "start_time": "2022-07-14T11:00:11.820Z"
   },
   {
    "duration": 2,
    "start_time": "2022-07-14T11:00:48.882Z"
   },
   {
    "duration": 179,
    "start_time": "2022-07-14T11:00:48.886Z"
   },
   {
    "duration": 12,
    "start_time": "2022-07-14T11:00:49.071Z"
   },
   {
    "duration": 34,
    "start_time": "2022-07-14T11:00:49.085Z"
   },
   {
    "duration": 9,
    "start_time": "2022-07-14T11:00:49.121Z"
   },
   {
    "duration": 17,
    "start_time": "2022-07-14T11:00:49.132Z"
   },
   {
    "duration": 11,
    "start_time": "2022-07-14T11:00:49.151Z"
   },
   {
    "duration": 7,
    "start_time": "2022-07-14T11:00:49.169Z"
   },
   {
    "duration": 50,
    "start_time": "2022-07-14T11:00:49.179Z"
   },
   {
    "duration": 62,
    "start_time": "2022-07-14T11:01:28.975Z"
   },
   {
    "duration": 28,
    "start_time": "2022-07-14T11:01:41.646Z"
   },
   {
    "duration": 20,
    "start_time": "2022-07-14T11:01:54.605Z"
   },
   {
    "duration": 61,
    "start_time": "2022-07-14T11:01:59.325Z"
   },
   {
    "duration": 125,
    "start_time": "2022-07-14T11:03:29.133Z"
   },
   {
    "duration": 64,
    "start_time": "2022-07-14T11:04:38.177Z"
   },
   {
    "duration": 137,
    "start_time": "2022-07-14T11:05:01.285Z"
   },
   {
    "duration": 10,
    "start_time": "2022-07-14T11:07:28.557Z"
   },
   {
    "duration": 46,
    "start_time": "2022-07-14T11:08:59.007Z"
   },
   {
    "duration": 49,
    "start_time": "2022-07-14T11:10:15.757Z"
   },
   {
    "duration": 5,
    "start_time": "2022-07-14T11:11:23.388Z"
   },
   {
    "duration": 62,
    "start_time": "2022-07-14T11:12:08.940Z"
   },
   {
    "duration": 39,
    "start_time": "2022-07-14T11:12:18.073Z"
   },
   {
    "duration": 38,
    "start_time": "2022-07-14T11:13:21.717Z"
   },
   {
    "duration": 43,
    "start_time": "2022-07-14T11:13:50.817Z"
   },
   {
    "duration": 51,
    "start_time": "2022-07-14T11:18:40.088Z"
   },
   {
    "duration": 74,
    "start_time": "2022-07-14T11:19:57.818Z"
   },
   {
    "duration": 11,
    "start_time": "2022-07-14T11:20:31.505Z"
   },
   {
    "duration": 10,
    "start_time": "2022-07-14T11:22:06.729Z"
   },
   {
    "duration": 10,
    "start_time": "2022-07-14T11:22:25.388Z"
   },
   {
    "duration": 5,
    "start_time": "2022-07-14T11:22:50.055Z"
   },
   {
    "duration": 12,
    "start_time": "2022-07-14T11:23:00.811Z"
   },
   {
    "duration": 6,
    "start_time": "2022-07-14T11:23:10.569Z"
   },
   {
    "duration": 13,
    "start_time": "2022-07-14T11:29:30.956Z"
   },
   {
    "duration": 15,
    "start_time": "2022-07-14T11:30:29.689Z"
   },
   {
    "duration": 11,
    "start_time": "2022-07-14T11:30:51.947Z"
   },
   {
    "duration": 10,
    "start_time": "2022-07-14T13:29:31.928Z"
   },
   {
    "duration": 11,
    "start_time": "2022-07-14T13:30:25.118Z"
   },
   {
    "duration": 10,
    "start_time": "2022-07-14T13:30:52.187Z"
   },
   {
    "duration": 7,
    "start_time": "2022-07-14T13:31:16.038Z"
   },
   {
    "duration": 5,
    "start_time": "2022-07-14T13:31:22.136Z"
   },
   {
    "duration": 3,
    "start_time": "2022-07-14T13:31:44.498Z"
   },
   {
    "duration": 155,
    "start_time": "2022-07-14T13:31:44.503Z"
   },
   {
    "duration": 8,
    "start_time": "2022-07-14T13:31:44.659Z"
   },
   {
    "duration": 40,
    "start_time": "2022-07-14T13:31:44.668Z"
   },
   {
    "duration": 2,
    "start_time": "2022-07-14T13:31:44.710Z"
   },
   {
    "duration": 7,
    "start_time": "2022-07-14T13:31:44.714Z"
   },
   {
    "duration": 12,
    "start_time": "2022-07-14T13:31:44.722Z"
   },
   {
    "duration": 4,
    "start_time": "2022-07-14T13:31:44.735Z"
   },
   {
    "duration": 64,
    "start_time": "2022-07-14T13:31:44.740Z"
   },
   {
    "duration": 24,
    "start_time": "2022-07-14T13:31:44.805Z"
   },
   {
    "duration": 46,
    "start_time": "2022-07-14T13:31:52.785Z"
   },
   {
    "duration": 119,
    "start_time": "2022-07-14T13:31:56.548Z"
   },
   {
    "duration": 72,
    "start_time": "2022-07-14T13:32:02.226Z"
   },
   {
    "duration": 101,
    "start_time": "2022-07-14T13:32:06.569Z"
   },
   {
    "duration": 38,
    "start_time": "2022-07-14T13:32:11.499Z"
   },
   {
    "duration": 49,
    "start_time": "2022-07-14T13:32:41.617Z"
   },
   {
    "duration": 6,
    "start_time": "2022-07-14T13:34:04.007Z"
   },
   {
    "duration": 7,
    "start_time": "2022-07-14T13:34:30.957Z"
   },
   {
    "duration": 5,
    "start_time": "2022-07-14T13:34:43.944Z"
   },
   {
    "duration": 11,
    "start_time": "2022-07-14T14:00:38.017Z"
   },
   {
    "duration": 11,
    "start_time": "2022-07-14T14:00:56.386Z"
   },
   {
    "duration": 3,
    "start_time": "2022-07-14T14:01:17.547Z"
   },
   {
    "duration": 187,
    "start_time": "2022-07-14T14:01:21.097Z"
   },
   {
    "duration": 10,
    "start_time": "2022-07-14T14:01:23.476Z"
   },
   {
    "duration": 3,
    "start_time": "2022-07-14T14:01:37.087Z"
   },
   {
    "duration": 8,
    "start_time": "2022-07-14T14:01:43.907Z"
   },
   {
    "duration": 5,
    "start_time": "2022-07-14T14:01:47.807Z"
   },
   {
    "duration": 72,
    "start_time": "2022-07-14T14:01:52.657Z"
   },
   {
    "duration": 20,
    "start_time": "2022-07-14T14:01:59.427Z"
   },
   {
    "duration": 48,
    "start_time": "2022-07-14T14:02:06.366Z"
   },
   {
    "duration": 49,
    "start_time": "2022-07-14T14:02:18.967Z"
   },
   {
    "duration": 127,
    "start_time": "2022-07-14T14:02:34.235Z"
   },
   {
    "duration": 114,
    "start_time": "2022-07-14T14:02:43.537Z"
   },
   {
    "duration": 97,
    "start_time": "2022-07-14T14:02:49.137Z"
   },
   {
    "duration": 148,
    "start_time": "2022-07-14T14:03:02.547Z"
   },
   {
    "duration": 51,
    "start_time": "2022-07-14T14:03:41.936Z"
   },
   {
    "duration": 11,
    "start_time": "2022-07-14T14:04:22.765Z"
   },
   {
    "duration": 11,
    "start_time": "2022-07-14T14:05:29.416Z"
   },
   {
    "duration": 756,
    "start_time": "2022-07-14T14:06:25.897Z"
   },
   {
    "duration": 11,
    "start_time": "2022-07-14T14:07:50.026Z"
   },
   {
    "duration": 12,
    "start_time": "2022-07-14T14:08:28.376Z"
   },
   {
    "duration": 10,
    "start_time": "2022-07-14T14:08:45.726Z"
   },
   {
    "duration": 875,
    "start_time": "2022-07-14T15:40:08.105Z"
   },
   {
    "duration": 3,
    "start_time": "2022-07-14T15:40:16.338Z"
   },
   {
    "duration": 204,
    "start_time": "2022-07-14T15:40:16.343Z"
   },
   {
    "duration": 7,
    "start_time": "2022-07-14T15:40:16.550Z"
   },
   {
    "duration": 59,
    "start_time": "2022-07-14T15:40:16.563Z"
   },
   {
    "duration": 27,
    "start_time": "2022-07-14T15:40:16.625Z"
   },
   {
    "duration": 31,
    "start_time": "2022-07-14T15:40:16.654Z"
   },
   {
    "duration": 25,
    "start_time": "2022-07-14T15:40:16.687Z"
   },
   {
    "duration": 31,
    "start_time": "2022-07-14T15:40:16.714Z"
   },
   {
    "duration": 97,
    "start_time": "2022-07-14T15:40:16.747Z"
   },
   {
    "duration": 51,
    "start_time": "2022-07-14T15:40:16.846Z"
   },
   {
    "duration": 82,
    "start_time": "2022-07-14T15:40:16.900Z"
   },
   {
    "duration": 161,
    "start_time": "2022-07-14T15:40:16.984Z"
   },
   {
    "duration": 105,
    "start_time": "2022-07-14T15:40:17.147Z"
   },
   {
    "duration": 165,
    "start_time": "2022-07-14T15:40:17.254Z"
   },
   {
    "duration": 70,
    "start_time": "2022-07-14T15:40:17.421Z"
   },
   {
    "duration": 109,
    "start_time": "2022-07-14T15:40:17.493Z"
   },
   {
    "duration": 3,
    "start_time": "2022-07-14T15:40:27.879Z"
   },
   {
    "duration": 184,
    "start_time": "2022-07-14T15:40:31.580Z"
   },
   {
    "duration": 7,
    "start_time": "2022-07-14T15:40:35.241Z"
   },
   {
    "duration": 48,
    "start_time": "2022-07-14T15:40:39.638Z"
   },
   {
    "duration": 4,
    "start_time": "2022-07-14T15:40:47.357Z"
   },
   {
    "duration": 9,
    "start_time": "2022-07-14T15:40:51.639Z"
   },
   {
    "duration": 4,
    "start_time": "2022-07-14T15:40:57.206Z"
   },
   {
    "duration": 47,
    "start_time": "2022-07-14T15:41:01.117Z"
   },
   {
    "duration": 19,
    "start_time": "2022-07-14T15:41:10.981Z"
   },
   {
    "duration": 47,
    "start_time": "2022-07-14T15:41:16.315Z"
   },
   {
    "duration": 134,
    "start_time": "2022-07-14T15:41:19.678Z"
   },
   {
    "duration": 78,
    "start_time": "2022-07-14T15:41:23.012Z"
   },
   {
    "duration": 136,
    "start_time": "2022-07-14T15:41:27.383Z"
   },
   {
    "duration": 64,
    "start_time": "2022-07-14T15:41:31.246Z"
   },
   {
    "duration": 75,
    "start_time": "2022-07-14T15:41:38.380Z"
   },
   {
    "duration": 53,
    "start_time": "2022-07-14T15:41:43.358Z"
   },
   {
    "duration": 41,
    "start_time": "2022-07-14T15:42:27.779Z"
   },
   {
    "duration": 36,
    "start_time": "2022-07-14T18:05:28.238Z"
   },
   {
    "duration": 4402,
    "start_time": "2022-07-14T18:06:02.420Z"
   },
   {
    "duration": 36,
    "start_time": "2022-07-14T18:06:41.691Z"
   },
   {
    "duration": 13,
    "start_time": "2022-07-14T18:08:00.909Z"
   },
   {
    "duration": 14,
    "start_time": "2022-07-14T18:09:07.599Z"
   },
   {
    "duration": 9,
    "start_time": "2022-07-14T19:41:20.138Z"
   },
   {
    "duration": 9,
    "start_time": "2022-07-14T19:42:41.050Z"
   },
   {
    "duration": 13,
    "start_time": "2022-07-14T19:43:08.662Z"
   },
   {
    "duration": 25,
    "start_time": "2022-07-14T19:45:02.996Z"
   },
   {
    "duration": 24,
    "start_time": "2022-07-14T19:48:32.130Z"
   },
   {
    "duration": 4,
    "start_time": "2022-07-14T19:52:58.360Z"
   },
   {
    "duration": 11,
    "start_time": "2022-07-14T19:55:35.709Z"
   },
   {
    "duration": 11,
    "start_time": "2022-07-14T19:56:03.832Z"
   },
   {
    "duration": 8,
    "start_time": "2022-07-14T20:01:05.956Z"
   },
   {
    "duration": 8,
    "start_time": "2022-07-14T20:01:48.928Z"
   },
   {
    "duration": 11,
    "start_time": "2022-07-14T20:06:59.027Z"
   },
   {
    "duration": 11,
    "start_time": "2022-07-14T20:09:32.850Z"
   },
   {
    "duration": 3,
    "start_time": "2022-07-14T20:27:56.927Z"
   },
   {
    "duration": 157,
    "start_time": "2022-07-14T20:27:56.931Z"
   },
   {
    "duration": 7,
    "start_time": "2022-07-14T20:27:57.089Z"
   },
   {
    "duration": 31,
    "start_time": "2022-07-14T20:27:57.098Z"
   },
   {
    "duration": 2,
    "start_time": "2022-07-14T20:27:57.132Z"
   },
   {
    "duration": 10,
    "start_time": "2022-07-14T20:27:57.135Z"
   },
   {
    "duration": 28,
    "start_time": "2022-07-14T20:27:57.146Z"
   },
   {
    "duration": 4,
    "start_time": "2022-07-14T20:27:57.176Z"
   },
   {
    "duration": 52,
    "start_time": "2022-07-14T20:27:57.181Z"
   },
   {
    "duration": 30,
    "start_time": "2022-07-14T20:27:57.235Z"
   },
   {
    "duration": 47,
    "start_time": "2022-07-14T20:27:57.267Z"
   },
   {
    "duration": 129,
    "start_time": "2022-07-14T20:27:57.316Z"
   },
   {
    "duration": 79,
    "start_time": "2022-07-14T20:27:57.447Z"
   },
   {
    "duration": 121,
    "start_time": "2022-07-14T20:27:57.527Z"
   },
   {
    "duration": 43,
    "start_time": "2022-07-14T20:27:57.649Z"
   },
   {
    "duration": 95,
    "start_time": "2022-07-14T20:27:57.693Z"
   },
   {
    "duration": 40,
    "start_time": "2022-07-14T20:27:57.789Z"
   },
   {
    "duration": 15,
    "start_time": "2022-07-14T20:28:10.837Z"
   },
   {
    "duration": 4,
    "start_time": "2022-07-14T20:31:11.435Z"
   },
   {
    "duration": 50,
    "start_time": "2022-07-14T20:31:57.644Z"
   },
   {
    "duration": 49,
    "start_time": "2022-07-14T20:32:26.508Z"
   },
   {
    "duration": 45,
    "start_time": "2022-07-14T20:32:37.377Z"
   },
   {
    "duration": 14,
    "start_time": "2022-07-14T20:37:35.082Z"
   },
   {
    "duration": 14,
    "start_time": "2022-07-14T20:38:17.437Z"
   },
   {
    "duration": 4,
    "start_time": "2022-07-14T20:38:49.628Z"
   },
   {
    "duration": 10,
    "start_time": "2022-07-14T20:38:58.107Z"
   },
   {
    "duration": 12,
    "start_time": "2022-07-14T20:39:16.315Z"
   },
   {
    "duration": 20,
    "start_time": "2022-07-14T20:39:24.816Z"
   },
   {
    "duration": 11,
    "start_time": "2022-07-14T20:39:28.505Z"
   },
   {
    "duration": 18,
    "start_time": "2022-07-14T20:39:32.738Z"
   },
   {
    "duration": 19,
    "start_time": "2022-07-14T20:39:36.075Z"
   },
   {
    "duration": 26,
    "start_time": "2022-07-14T20:39:38.855Z"
   },
   {
    "duration": 48,
    "start_time": "2022-07-14T20:40:33.346Z"
   },
   {
    "duration": 4,
    "start_time": "2022-07-14T20:40:42.053Z"
   },
   {
    "duration": 11,
    "start_time": "2022-07-14T20:40:52.255Z"
   },
   {
    "duration": 2,
    "start_time": "2022-07-14T20:47:57.145Z"
   },
   {
    "duration": 165,
    "start_time": "2022-07-14T20:47:57.150Z"
   },
   {
    "duration": 7,
    "start_time": "2022-07-14T20:47:57.317Z"
   },
   {
    "duration": 58,
    "start_time": "2022-07-14T20:47:57.326Z"
   },
   {
    "duration": 3,
    "start_time": "2022-07-14T20:47:57.387Z"
   },
   {
    "duration": 7,
    "start_time": "2022-07-14T20:47:57.392Z"
   },
   {
    "duration": 33,
    "start_time": "2022-07-14T20:47:57.400Z"
   },
   {
    "duration": 7,
    "start_time": "2022-07-14T20:47:57.436Z"
   },
   {
    "duration": 50,
    "start_time": "2022-07-14T20:47:57.445Z"
   },
   {
    "duration": 18,
    "start_time": "2022-07-14T20:47:57.497Z"
   },
   {
    "duration": 58,
    "start_time": "2022-07-14T20:47:57.517Z"
   },
   {
    "duration": 125,
    "start_time": "2022-07-14T20:47:57.577Z"
   },
   {
    "duration": 80,
    "start_time": "2022-07-14T20:47:57.704Z"
   },
   {
    "duration": 118,
    "start_time": "2022-07-14T20:47:57.787Z"
   },
   {
    "duration": 38,
    "start_time": "2022-07-14T20:47:57.907Z"
   },
   {
    "duration": 100,
    "start_time": "2022-07-14T20:47:57.947Z"
   },
   {
    "duration": 48,
    "start_time": "2022-07-14T20:47:58.050Z"
   },
   {
    "duration": 13,
    "start_time": "2022-07-14T20:47:58.100Z"
   },
   {
    "duration": 13,
    "start_time": "2022-07-14T20:48:08.623Z"
   },
   {
    "duration": 4,
    "start_time": "2022-07-14T20:50:42.434Z"
   },
   {
    "duration": 61,
    "start_time": "2022-07-14T20:50:48.155Z"
   },
   {
    "duration": 12,
    "start_time": "2022-07-14T20:50:59.204Z"
   },
   {
    "duration": 12,
    "start_time": "2022-07-14T20:51:04.133Z"
   },
   {
    "duration": 8,
    "start_time": "2022-07-14T20:51:50.523Z"
   },
   {
    "duration": 4,
    "start_time": "2022-07-14T20:52:20.403Z"
   },
   {
    "duration": 168,
    "start_time": "2022-07-14T20:52:24.285Z"
   },
   {
    "duration": 8,
    "start_time": "2022-07-14T20:52:28.396Z"
   },
   {
    "duration": 32,
    "start_time": "2022-07-14T20:52:34.080Z"
   },
   {
    "duration": 3,
    "start_time": "2022-07-14T20:52:44.651Z"
   },
   {
    "duration": 9,
    "start_time": "2022-07-14T20:52:49.503Z"
   },
   {
    "duration": 3,
    "start_time": "2022-07-14T20:52:52.776Z"
   },
   {
    "duration": 50,
    "start_time": "2022-07-14T20:52:56.083Z"
   },
   {
    "duration": 32,
    "start_time": "2022-07-14T20:53:00.653Z"
   },
   {
    "duration": 61,
    "start_time": "2022-07-14T20:53:05.763Z"
   },
   {
    "duration": 135,
    "start_time": "2022-07-14T20:53:10.005Z"
   },
   {
    "duration": 78,
    "start_time": "2022-07-14T20:53:14.105Z"
   },
   {
    "duration": 121,
    "start_time": "2022-07-14T20:53:18.277Z"
   },
   {
    "duration": 37,
    "start_time": "2022-07-14T20:53:23.694Z"
   },
   {
    "duration": 128,
    "start_time": "2022-07-14T20:53:30.653Z"
   },
   {
    "duration": 51,
    "start_time": "2022-07-14T20:53:35.455Z"
   },
   {
    "duration": 15,
    "start_time": "2022-07-14T20:53:43.553Z"
   },
   {
    "duration": 16,
    "start_time": "2022-07-14T20:53:47.444Z"
   },
   {
    "duration": 3,
    "start_time": "2022-07-14T20:53:54.385Z"
   },
   {
    "duration": 8,
    "start_time": "2022-07-14T20:53:57.783Z"
   },
   {
    "duration": 9,
    "start_time": "2022-07-14T20:54:00.595Z"
   },
   {
    "duration": 8,
    "start_time": "2022-07-14T20:54:03.433Z"
   },
   {
    "duration": 10,
    "start_time": "2022-07-14T20:54:07.094Z"
   },
   {
    "duration": 28,
    "start_time": "2022-07-14T20:58:03.618Z"
   },
   {
    "duration": 51,
    "start_time": "2022-07-14T20:59:22.760Z"
   },
   {
    "duration": 54,
    "start_time": "2022-07-14T20:59:36.642Z"
   },
   {
    "duration": 4,
    "start_time": "2022-07-14T20:59:43.300Z"
   },
   {
    "duration": 9,
    "start_time": "2022-07-14T20:59:49.391Z"
   },
   {
    "duration": 11,
    "start_time": "2022-07-14T21:00:27.972Z"
   },
   {
    "duration": 4,
    "start_time": "2022-07-14T21:01:01.663Z"
   },
   {
    "duration": 24,
    "start_time": "2022-07-14T21:01:05.722Z"
   },
   {
    "duration": 24,
    "start_time": "2022-07-14T21:01:11.532Z"
   },
   {
    "duration": 17,
    "start_time": "2022-07-14T21:01:15.197Z"
   },
   {
    "duration": 15,
    "start_time": "2022-07-14T21:01:19.142Z"
   },
   {
    "duration": 17,
    "start_time": "2022-07-14T21:01:21.904Z"
   },
   {
    "duration": 24,
    "start_time": "2022-07-14T21:01:25.232Z"
   },
   {
    "duration": 11,
    "start_time": "2022-07-14T21:05:31.881Z"
   },
   {
    "duration": 2,
    "start_time": "2022-07-14T21:18:03.499Z"
   },
   {
    "duration": 166,
    "start_time": "2022-07-14T21:18:06.617Z"
   },
   {
    "duration": 7,
    "start_time": "2022-07-14T21:18:10.399Z"
   },
   {
    "duration": 4,
    "start_time": "2022-07-14T21:18:25.409Z"
   },
   {
    "duration": 14,
    "start_time": "2022-07-14T21:18:29.087Z"
   },
   {
    "duration": 4,
    "start_time": "2022-07-14T21:18:33.288Z"
   },
   {
    "duration": 53,
    "start_time": "2022-07-14T21:18:38.620Z"
   },
   {
    "duration": 31,
    "start_time": "2022-07-14T21:18:43.644Z"
   },
   {
    "duration": 55,
    "start_time": "2022-07-14T21:18:48.865Z"
   },
   {
    "duration": 132,
    "start_time": "2022-07-14T21:18:52.358Z"
   },
   {
    "duration": 88,
    "start_time": "2022-07-14T21:18:56.130Z"
   },
   {
    "duration": 128,
    "start_time": "2022-07-14T21:19:00.779Z"
   },
   {
    "duration": 38,
    "start_time": "2022-07-14T21:19:05.978Z"
   },
   {
    "duration": 113,
    "start_time": "2022-07-14T21:19:13.888Z"
   },
   {
    "duration": 38,
    "start_time": "2022-07-14T21:19:23.001Z"
   },
   {
    "duration": 15,
    "start_time": "2022-07-14T21:19:30.932Z"
   },
   {
    "duration": 5,
    "start_time": "2022-07-14T21:19:37.298Z"
   },
   {
    "duration": 4,
    "start_time": "2022-07-14T21:24:35.789Z"
   },
   {
    "duration": 7,
    "start_time": "2022-07-14T21:24:56.399Z"
   },
   {
    "duration": 22,
    "start_time": "2022-07-14T21:25:37.599Z"
   },
   {
    "duration": 15,
    "start_time": "2022-07-14T21:25:41.229Z"
   },
   {
    "duration": 16,
    "start_time": "2022-07-14T21:25:44.508Z"
   },
   {
    "duration": 16,
    "start_time": "2022-07-14T21:25:46.790Z"
   },
   {
    "duration": 18,
    "start_time": "2022-07-14T21:25:50.289Z"
   },
   {
    "duration": 17,
    "start_time": "2022-07-14T21:25:53.738Z"
   },
   {
    "duration": 6,
    "start_time": "2022-07-14T21:25:59.859Z"
   },
   {
    "duration": 16,
    "start_time": "2022-07-14T21:28:18.848Z"
   },
   {
    "duration": 15,
    "start_time": "2022-07-14T21:28:37.067Z"
   },
   {
    "duration": 15,
    "start_time": "2022-07-14T21:29:33.710Z"
   },
   {
    "duration": 13,
    "start_time": "2022-07-14T21:29:40.740Z"
   },
   {
    "duration": 5,
    "start_time": "2022-07-14T22:35:48.838Z"
   },
   {
    "duration": 14,
    "start_time": "2022-07-14T22:40:32.976Z"
   },
   {
    "duration": 16,
    "start_time": "2022-07-14T22:40:40.640Z"
   },
   {
    "duration": 23,
    "start_time": "2022-07-14T22:40:46.461Z"
   },
   {
    "duration": 13,
    "start_time": "2022-07-14T22:41:06.350Z"
   },
   {
    "duration": 10,
    "start_time": "2022-07-14T22:41:10.920Z"
   },
   {
    "duration": 14,
    "start_time": "2022-07-14T22:42:31.650Z"
   },
   {
    "duration": 51,
    "start_time": "2022-07-14T22:44:35.865Z"
   },
   {
    "duration": 9,
    "start_time": "2022-07-14T22:44:45.475Z"
   },
   {
    "duration": 22,
    "start_time": "2022-07-14T22:45:19.968Z"
   },
   {
    "duration": 5,
    "start_time": "2022-07-14T22:46:39.356Z"
   },
   {
    "duration": 243,
    "start_time": "2022-07-14T22:47:08.630Z"
   },
   {
    "duration": 26,
    "start_time": "2022-07-14T22:47:49.429Z"
   },
   {
    "duration": 35,
    "start_time": "2022-07-14T22:48:53.901Z"
   },
   {
    "duration": 31,
    "start_time": "2022-07-14T22:49:37.227Z"
   },
   {
    "duration": 34,
    "start_time": "2022-07-14T22:50:25.427Z"
   },
   {
    "duration": 28,
    "start_time": "2022-07-14T22:50:52.380Z"
   },
   {
    "duration": 803,
    "start_time": "2022-07-14T22:51:33.916Z"
   },
   {
    "duration": 34,
    "start_time": "2022-07-14T22:52:13.590Z"
   },
   {
    "duration": 5,
    "start_time": "2022-07-14T22:53:49.239Z"
   },
   {
    "duration": 6,
    "start_time": "2022-07-14T22:54:40.678Z"
   },
   {
    "duration": 17,
    "start_time": "2022-07-14T22:57:46.147Z"
   },
   {
    "duration": 14,
    "start_time": "2022-07-14T22:59:25.827Z"
   },
   {
    "duration": 20,
    "start_time": "2022-07-14T23:00:22.948Z"
   },
   {
    "duration": 12,
    "start_time": "2022-07-14T23:00:55.138Z"
   },
   {
    "duration": 8,
    "start_time": "2022-07-14T23:04:27.733Z"
   },
   {
    "duration": 13,
    "start_time": "2022-07-14T23:05:24.484Z"
   },
   {
    "duration": 8,
    "start_time": "2022-07-14T23:05:47.444Z"
   },
   {
    "duration": 12,
    "start_time": "2022-07-14T23:06:12.612Z"
   },
   {
    "duration": 9,
    "start_time": "2022-07-14T23:06:20.033Z"
   },
   {
    "duration": 4,
    "start_time": "2022-07-14T23:06:54.853Z"
   },
   {
    "duration": 6,
    "start_time": "2022-07-14T23:08:04.173Z"
   },
   {
    "duration": 6,
    "start_time": "2022-07-14T23:08:24.243Z"
   }
  ],
  "colab": {
   "collapsed_sections": [
    "E0vqbgi9ay0H",
    "VUC88oWjTJw2"
   ],
   "name": "automatization_template_upd4.ipynb",
   "provenance": []
  },
  "kernelspec": {
   "display_name": "Python 3 (ipykernel)",
   "language": "python",
   "name": "python3"
  },
  "language_info": {
   "codemirror_mode": {
    "name": "ipython",
    "version": 3
   },
   "file_extension": ".py",
   "mimetype": "text/x-python",
   "name": "python",
   "nbconvert_exporter": "python",
   "pygments_lexer": "ipython3",
   "version": "3.9.5"
  },
  "toc": {
   "base_numbering": 1,
   "nav_menu": {
    "height": "215px",
    "width": "403px"
   },
   "number_sections": true,
   "sideBar": true,
   "skip_h1_title": true,
   "title_cell": "Table of Contents",
   "title_sidebar": "Contents",
   "toc_cell": false,
   "toc_position": {
    "height": "calc(100% - 180px)",
    "left": "10px",
    "top": "150px",
    "width": "285.825px"
   },
   "toc_section_display": true,
   "toc_window_display": false
  }
 },
 "nbformat": 4,
 "nbformat_minor": 1
}
