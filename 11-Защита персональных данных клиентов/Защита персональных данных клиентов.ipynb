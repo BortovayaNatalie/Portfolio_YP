{
 "cells": [
  {
   "cell_type": "markdown",
   "metadata": {
    "toc": true
   },
   "source": [
    "<h1>Содержание<span class=\"tocSkip\"></span></h1>\n",
    "<div class=\"toc\"><ul class=\"toc-item\"><li><span><a href=\"#Загрузка-данных\" data-toc-modified-id=\"Загрузка-данных-1\"><span class=\"toc-item-num\">1&nbsp;&nbsp;</span>Загрузка данных</a></span></li><li><span><a href=\"#Умножение-матриц\" data-toc-modified-id=\"Умножение-матриц-2\"><span class=\"toc-item-num\">2&nbsp;&nbsp;</span>Умножение матриц</a></span></li><li><span><a href=\"#Алгоритм-преобразования\" data-toc-modified-id=\"Алгоритм-преобразования-3\"><span class=\"toc-item-num\">3&nbsp;&nbsp;</span>Алгоритм преобразования</a></span></li><li><span><a href=\"#Проверка-алгоритма\" data-toc-modified-id=\"Проверка-алгоритма-4\"><span class=\"toc-item-num\">4&nbsp;&nbsp;</span>Проверка алгоритма</a></span></li><li><span><a href=\"#Чек-лист-проверки\" data-toc-modified-id=\"Чек-лист-проверки-5\"><span class=\"toc-item-num\">5&nbsp;&nbsp;</span>Чек-лист проверки</a></span></li></ul></div>"
   ]
  },
  {
   "cell_type": "markdown",
   "metadata": {},
   "source": [
    "# Защита персональных данных клиентов"
   ]
  },
  {
   "cell_type": "markdown",
   "metadata": {},
   "source": [
    "Вам нужно защитить данные клиентов страховой компании «Хоть потоп». Разработайте такой метод преобразования данных, чтобы по ним было сложно восстановить персональную информацию. Обоснуйте корректность его работы.\n",
    "\n",
    "Нужно защитить данные, чтобы при преобразовании качество моделей машинного обучения не ухудшилось. Подбирать наилучшую модель не требуется."
   ]
  },
  {
   "cell_type": "markdown",
   "metadata": {},
   "source": [
    "## Загрузка данных"
   ]
  },
  {
   "cell_type": "code",
   "execution_count": 1,
   "metadata": {},
   "outputs": [],
   "source": [
    "import pandas as pd\n",
    "import numpy as np\n",
    "import warnings\n",
    "warnings.filterwarnings('ignore')\n",
    "\n",
    "import seaborn as sns\n",
    "import matplotlib.pyplot as plt\n",
    "%matplotlib inline\n",
    "\n",
    "pd.set_option('display.max_rows', None)\n",
    "pd.set_option('display.max_columns', None)\n",
    "pd.set_option('display.max_colwidth', None)\n",
    "pd.set_option('display.float_format', lambda x: '%.2f' % x)\n",
    "\n",
    "\n",
    "from sklearn.linear_model import LinearRegression\n",
    "from sklearn.model_selection import train_test_split\n",
    "from sklearn.preprocessing import StandardScaler\n",
    "from sklearn.metrics import r2_score"
   ]
  },
  {
   "cell_type": "code",
   "execution_count": 2,
   "metadata": {},
   "outputs": [],
   "source": [
    "data = pd.read_csv('/datasets/insurance.csv')"
   ]
  },
  {
   "cell_type": "code",
   "execution_count": 3,
   "metadata": {},
   "outputs": [
    {
     "data": {
      "text/html": [
       "<div>\n",
       "<style scoped>\n",
       "    .dataframe tbody tr th:only-of-type {\n",
       "        vertical-align: middle;\n",
       "    }\n",
       "\n",
       "    .dataframe tbody tr th {\n",
       "        vertical-align: top;\n",
       "    }\n",
       "\n",
       "    .dataframe thead th {\n",
       "        text-align: right;\n",
       "    }\n",
       "</style>\n",
       "<table border=\"1\" class=\"dataframe\">\n",
       "  <thead>\n",
       "    <tr style=\"text-align: right;\">\n",
       "      <th></th>\n",
       "      <th>Пол</th>\n",
       "      <th>Возраст</th>\n",
       "      <th>Зарплата</th>\n",
       "      <th>Члены семьи</th>\n",
       "      <th>Страховые выплаты</th>\n",
       "    </tr>\n",
       "  </thead>\n",
       "  <tbody>\n",
       "    <tr>\n",
       "      <th>0</th>\n",
       "      <td>1</td>\n",
       "      <td>41.00</td>\n",
       "      <td>49600.00</td>\n",
       "      <td>1</td>\n",
       "      <td>0</td>\n",
       "    </tr>\n",
       "    <tr>\n",
       "      <th>1</th>\n",
       "      <td>0</td>\n",
       "      <td>46.00</td>\n",
       "      <td>38000.00</td>\n",
       "      <td>1</td>\n",
       "      <td>1</td>\n",
       "    </tr>\n",
       "    <tr>\n",
       "      <th>2</th>\n",
       "      <td>0</td>\n",
       "      <td>29.00</td>\n",
       "      <td>21000.00</td>\n",
       "      <td>0</td>\n",
       "      <td>0</td>\n",
       "    </tr>\n",
       "    <tr>\n",
       "      <th>3</th>\n",
       "      <td>0</td>\n",
       "      <td>21.00</td>\n",
       "      <td>41700.00</td>\n",
       "      <td>2</td>\n",
       "      <td>0</td>\n",
       "    </tr>\n",
       "    <tr>\n",
       "      <th>4</th>\n",
       "      <td>1</td>\n",
       "      <td>28.00</td>\n",
       "      <td>26100.00</td>\n",
       "      <td>0</td>\n",
       "      <td>0</td>\n",
       "    </tr>\n",
       "  </tbody>\n",
       "</table>\n",
       "</div>"
      ],
      "text/plain": [
       "   Пол  Возраст  Зарплата  Члены семьи  Страховые выплаты\n",
       "0    1    41.00  49600.00            1                  0\n",
       "1    0    46.00  38000.00            1                  1\n",
       "2    0    29.00  21000.00            0                  0\n",
       "3    0    21.00  41700.00            2                  0\n",
       "4    1    28.00  26100.00            0                  0"
      ]
     },
     "metadata": {},
     "output_type": "display_data"
    }
   ],
   "source": [
    "display(data.head())"
   ]
  },
  {
   "cell_type": "code",
   "execution_count": 4,
   "metadata": {},
   "outputs": [
    {
     "name": "stdout",
     "output_type": "stream",
     "text": [
      "<class 'pandas.core.frame.DataFrame'>\n",
      "RangeIndex: 5000 entries, 0 to 4999\n",
      "Data columns (total 5 columns):\n",
      " #   Column             Non-Null Count  Dtype  \n",
      "---  ------             --------------  -----  \n",
      " 0   Пол                5000 non-null   int64  \n",
      " 1   Возраст            5000 non-null   float64\n",
      " 2   Зарплата           5000 non-null   float64\n",
      " 3   Члены семьи        5000 non-null   int64  \n",
      " 4   Страховые выплаты  5000 non-null   int64  \n",
      "dtypes: float64(2), int64(3)\n",
      "memory usage: 195.4 KB\n"
     ]
    },
    {
     "data": {
      "text/plain": [
       "None"
      ]
     },
     "metadata": {},
     "output_type": "display_data"
    }
   ],
   "source": [
    "display(data.info())"
   ]
  },
  {
   "cell_type": "code",
   "execution_count": 5,
   "metadata": {},
   "outputs": [
    {
     "data": {
      "text/plain": [
       "Пол                  0\n",
       "Возраст              0\n",
       "Зарплата             0\n",
       "Члены семьи          0\n",
       "Страховые выплаты    0\n",
       "dtype: int64"
      ]
     },
     "metadata": {},
     "output_type": "display_data"
    }
   ],
   "source": [
    "display(data.isnull().sum())"
   ]
  },
  {
   "cell_type": "code",
   "execution_count": 6,
   "metadata": {},
   "outputs": [
    {
     "data": {
      "text/html": [
       "<div>\n",
       "<style scoped>\n",
       "    .dataframe tbody tr th:only-of-type {\n",
       "        vertical-align: middle;\n",
       "    }\n",
       "\n",
       "    .dataframe tbody tr th {\n",
       "        vertical-align: top;\n",
       "    }\n",
       "\n",
       "    .dataframe thead th {\n",
       "        text-align: right;\n",
       "    }\n",
       "</style>\n",
       "<table border=\"1\" class=\"dataframe\">\n",
       "  <thead>\n",
       "    <tr style=\"text-align: right;\">\n",
       "      <th></th>\n",
       "      <th>Пол</th>\n",
       "      <th>Возраст</th>\n",
       "      <th>Зарплата</th>\n",
       "      <th>Члены семьи</th>\n",
       "      <th>Страховые выплаты</th>\n",
       "    </tr>\n",
       "  </thead>\n",
       "  <tbody>\n",
       "    <tr>\n",
       "      <th>count</th>\n",
       "      <td>5000.00</td>\n",
       "      <td>5000.00</td>\n",
       "      <td>5000.00</td>\n",
       "      <td>5000.00</td>\n",
       "      <td>5000.00</td>\n",
       "    </tr>\n",
       "    <tr>\n",
       "      <th>mean</th>\n",
       "      <td>0.50</td>\n",
       "      <td>30.95</td>\n",
       "      <td>39916.36</td>\n",
       "      <td>1.19</td>\n",
       "      <td>0.15</td>\n",
       "    </tr>\n",
       "    <tr>\n",
       "      <th>std</th>\n",
       "      <td>0.50</td>\n",
       "      <td>8.44</td>\n",
       "      <td>9900.08</td>\n",
       "      <td>1.09</td>\n",
       "      <td>0.46</td>\n",
       "    </tr>\n",
       "    <tr>\n",
       "      <th>min</th>\n",
       "      <td>0.00</td>\n",
       "      <td>18.00</td>\n",
       "      <td>5300.00</td>\n",
       "      <td>0.00</td>\n",
       "      <td>0.00</td>\n",
       "    </tr>\n",
       "    <tr>\n",
       "      <th>25%</th>\n",
       "      <td>0.00</td>\n",
       "      <td>24.00</td>\n",
       "      <td>33300.00</td>\n",
       "      <td>0.00</td>\n",
       "      <td>0.00</td>\n",
       "    </tr>\n",
       "    <tr>\n",
       "      <th>50%</th>\n",
       "      <td>0.00</td>\n",
       "      <td>30.00</td>\n",
       "      <td>40200.00</td>\n",
       "      <td>1.00</td>\n",
       "      <td>0.00</td>\n",
       "    </tr>\n",
       "    <tr>\n",
       "      <th>75%</th>\n",
       "      <td>1.00</td>\n",
       "      <td>37.00</td>\n",
       "      <td>46600.00</td>\n",
       "      <td>2.00</td>\n",
       "      <td>0.00</td>\n",
       "    </tr>\n",
       "    <tr>\n",
       "      <th>max</th>\n",
       "      <td>1.00</td>\n",
       "      <td>65.00</td>\n",
       "      <td>79000.00</td>\n",
       "      <td>6.00</td>\n",
       "      <td>5.00</td>\n",
       "    </tr>\n",
       "  </tbody>\n",
       "</table>\n",
       "</div>"
      ],
      "text/plain": [
       "          Пол  Возраст  Зарплата  Члены семьи  Страховые выплаты\n",
       "count 5000.00  5000.00   5000.00      5000.00            5000.00\n",
       "mean     0.50    30.95  39916.36         1.19               0.15\n",
       "std      0.50     8.44   9900.08         1.09               0.46\n",
       "min      0.00    18.00   5300.00         0.00               0.00\n",
       "25%      0.00    24.00  33300.00         0.00               0.00\n",
       "50%      0.00    30.00  40200.00         1.00               0.00\n",
       "75%      1.00    37.00  46600.00         2.00               0.00\n",
       "max      1.00    65.00  79000.00         6.00               5.00"
      ]
     },
     "execution_count": 6,
     "metadata": {},
     "output_type": "execute_result"
    }
   ],
   "source": [
    "data.describe(include='all')"
   ]
  },
  {
   "cell_type": "markdown",
   "metadata": {},
   "source": [
    "В таблице данных 5тыс. строк и 5 столбцов. Пропусков данных нет. Типы данных в изменении не нуждаются. "
   ]
  },
  {
   "cell_type": "markdown",
   "metadata": {},
   "source": [
    "Данные практически равномерно распределены по признаку пола. Средний возраст застрахованного составляет 30 лет. Размах по возрасту  составляет от 18 до 65 лет. Средняя зарплата 40 200 руб. Минимальная зарплата - 9 900 руб., максимальная 79 000 руб. Наибольшее число членов семьи - 6 человек. В среднем, у застрахованного имеется один член семьи. Наибольшее число обращений за страховыми выплатами - 5 раз."
   ]
  },
  {
   "cell_type": "markdown",
   "metadata": {},
   "source": [
    "Проверим данные на выбросы."
   ]
  },
  {
   "cell_type": "code",
   "execution_count": 7,
   "metadata": {},
   "outputs": [],
   "source": [
    "#data.hist(column=data.columns.to_list(), figsize=(20, 15), bins=25)\n",
    "#plt.suptitle('Гистограмма признаков', fontsize=19, fontweight='bold')\n",
    "#plt.show()"
   ]
  },
  {
   "cell_type": "code",
   "execution_count": 8,
   "metadata": {},
   "outputs": [
    {
     "data": {
      "image/png": "[encoded data removed]",
      "text/plain": [
       "<Figure size 720x432 with 1 Axes>"
      ]
     },
     "metadata": {
      "needs_background": "light"
     },
     "output_type": "display_data"
    },
    {
     "data": {
      "image/png": "[encoded data removed]",
      "text/plain": [
       "<Figure size 720x432 with 1 Axes>"
      ]
     },
     "metadata": {
      "needs_background": "light"
     },
     "output_type": "display_data"
    },
    {
     "data": {
      "image/png": "[encoded data removed]",
      "text/plain": [
       "<Figure size 720x432 with 1 Axes>"
      ]
     },
     "metadata": {
      "needs_background": "light"
     },
     "output_type": "display_data"
    },
    {
     "data": {
      "image/png": "[encoded data removed]",
      "text/plain": [
       "<Figure size 720x432 with 1 Axes>"
      ]
     },
     "metadata": {
      "needs_background": "light"
     },
     "output_type": "display_data"
    },
    {
     "data": {
      "image/png": "[encoded data removed]",
      "text/plain": [
       "<Figure size 720x432 with 1 Axes>"
      ]
     },
     "metadata": {
      "needs_background": "light"
     },
     "output_type": "display_data"
    }
   ],
   "source": [
    "columns=data.columns.to_list()\n",
    "for col in columns:\n",
    "    plt.figure(figsize=(10,6))\n",
    "    sns.histplot(data[col])\n",
    "    plt.title(f'Гисторамма признака {col}')\n",
    "    plt.show()"
   ]
  },
  {
   "cell_type": "markdown",
   "metadata": {},
   "source": [
    "Выбросов в данных не выявлено. Смещение выборки по признаку возраст обусловлено тем, что страховаться могут только совершеннолетние. В данных о зарплате имеется два пика. Может быть вызвано тем, что объединены данные из двух источников (например, из двух страховых пунктов, расположенных в бедном и богатом районах). Вызывают сомнения данные о членах семьи. Вполне возможны погрешности при регистрации данного признака."
   ]
  },
  {
   "cell_type": "markdown",
   "metadata": {},
   "source": [
    "Исследуем целевой признак."
   ]
  },
  {
   "cell_type": "code",
   "execution_count": 9,
   "metadata": {},
   "outputs": [
    {
     "data": {
      "text/plain": [
       "0   0.88720\n",
       "1   0.08460\n",
       "2   0.02300\n",
       "3   0.00360\n",
       "4   0.00140\n",
       "5   0.00020\n",
       "Name: Страховые выплаты, dtype: float64"
      ]
     },
     "execution_count": 9,
     "metadata": {},
     "output_type": "execute_result"
    }
   ],
   "source": [
    "pd.set_option('display.float_format', lambda x: '%.5f' % x)\n",
    "data['Страховые выплаты'].value_counts(normalize=True)"
   ]
  },
  {
   "cell_type": "markdown",
   "metadata": {},
   "source": [
    "88,7% клиентов не получали страховых выплат за последние 5 лет. 8,4% клиентов получили одну выплату. Менее 3% клиентов получили две и более выплат."
   ]
  },
  {
   "cell_type": "code",
   "execution_count": 10,
   "metadata": {},
   "outputs": [
    {
     "data": {
      "text/html": [
       "<div>\n",
       "<style scoped>\n",
       "    .dataframe tbody tr th:only-of-type {\n",
       "        vertical-align: middle;\n",
       "    }\n",
       "\n",
       "    .dataframe tbody tr th {\n",
       "        vertical-align: top;\n",
       "    }\n",
       "\n",
       "    .dataframe thead th {\n",
       "        text-align: right;\n",
       "    }\n",
       "</style>\n",
       "<table border=\"1\" class=\"dataframe\">\n",
       "  <thead>\n",
       "    <tr style=\"text-align: right;\">\n",
       "      <th></th>\n",
       "      <th>Пол</th>\n",
       "      <th>Возраст</th>\n",
       "      <th>Зарплата</th>\n",
       "      <th>Члены семьи</th>\n",
       "      <th>Страховые выплаты</th>\n",
       "    </tr>\n",
       "  </thead>\n",
       "  <tbody>\n",
       "    <tr>\n",
       "      <th>281</th>\n",
       "      <td>1</td>\n",
       "      <td>39.00</td>\n",
       "      <td>48100.00</td>\n",
       "      <td>1</td>\n",
       "      <td>0</td>\n",
       "    </tr>\n",
       "    <tr>\n",
       "      <th>488</th>\n",
       "      <td>1</td>\n",
       "      <td>24.00</td>\n",
       "      <td>32900.00</td>\n",
       "      <td>1</td>\n",
       "      <td>0</td>\n",
       "    </tr>\n",
       "    <tr>\n",
       "      <th>513</th>\n",
       "      <td>0</td>\n",
       "      <td>31.00</td>\n",
       "      <td>37400.00</td>\n",
       "      <td>2</td>\n",
       "      <td>0</td>\n",
       "    </tr>\n",
       "    <tr>\n",
       "      <th>718</th>\n",
       "      <td>1</td>\n",
       "      <td>22.00</td>\n",
       "      <td>32600.00</td>\n",
       "      <td>1</td>\n",
       "      <td>0</td>\n",
       "    </tr>\n",
       "    <tr>\n",
       "      <th>785</th>\n",
       "      <td>0</td>\n",
       "      <td>20.00</td>\n",
       "      <td>35800.00</td>\n",
       "      <td>0</td>\n",
       "      <td>0</td>\n",
       "    </tr>\n",
       "  </tbody>\n",
       "</table>\n",
       "</div>"
      ],
      "text/plain": [
       "     Пол  Возраст  Зарплата  Члены семьи  Страховые выплаты\n",
       "281    1    39.00  48100.00            1                  0\n",
       "488    1    24.00  32900.00            1                  0\n",
       "513    0    31.00  37400.00            2                  0\n",
       "718    1    22.00  32600.00            1                  0\n",
       "785    0    20.00  35800.00            0                  0"
      ]
     },
     "metadata": {},
     "output_type": "display_data"
    }
   ],
   "source": [
    "pd.set_option('display.float_format', lambda x: '%.2f' % x)\n",
    "display(data[data.duplicated()].head())"
   ]
  },
  {
   "cell_type": "code",
   "execution_count": 11,
   "metadata": {},
   "outputs": [
    {
     "data": {
      "text/plain": [
       "153"
      ]
     },
     "execution_count": 11,
     "metadata": {},
     "output_type": "execute_result"
    }
   ],
   "source": [
    "data.duplicated().sum()"
   ]
  },
  {
   "cell_type": "markdown",
   "metadata": {},
   "source": [
    "В данных имеется 153 дубликата. Удалим их."
   ]
  },
  {
   "cell_type": "code",
   "execution_count": 12,
   "metadata": {},
   "outputs": [],
   "source": [
    "data.drop_duplicates(inplace=True)"
   ]
  },
  {
   "cell_type": "markdown",
   "metadata": {},
   "source": [
    "Подготовым данные для модели"
   ]
  },
  {
   "cell_type": "code",
   "execution_count": 13,
   "metadata": {},
   "outputs": [],
   "source": [
    "features = data.drop('Страховые выплаты', axis=1)"
   ]
  },
  {
   "cell_type": "code",
   "execution_count": 14,
   "metadata": {},
   "outputs": [],
   "source": [
    "target = data['Страховые выплаты']"
   ]
  },
  {
   "cell_type": "markdown",
   "metadata": {},
   "source": [
    "## Умножение матриц"
   ]
  },
  {
   "cell_type": "markdown",
   "metadata": {},
   "source": [
    "В этом задании вы можете записывать формулы в *Jupyter Notebook.*\n",
    "\n",
    "Чтобы записать формулу внутри текста, окружите её символами доллара \\\\$; если снаружи —  двойными символами \\\\$\\\\$. Эти формулы записываются на языке вёрстки *LaTeX.* \n",
    "\n",
    "Для примера мы записали формулы линейной регрессии. Можете их скопировать и отредактировать, чтобы решить задачу.\n",
    "\n",
    "Работать в *LaTeX* необязательно."
   ]
  },
  {
   "cell_type": "markdown",
   "metadata": {},
   "source": [
    "Обозначения:\n",
    "\n",
    "- $X$ — матрица признаков (нулевой столбец состоит из единиц)\n",
    "\n",
    "- $y$ — вектор целевого признака\n",
    "\n",
    "- $P$ — матрица, на которую умножаются признаки\n",
    "\n",
    "- $w$ — вектор весов линейной регрессии (нулевой элемент равен сдвигу)"
   ]
  },
  {
   "cell_type": "markdown",
   "metadata": {},
   "source": [
    "Предсказания:\n",
    "\n",
    "$$\n",
    "a = Xw\n",
    "$$\n",
    "\n",
    "Задача обучения:\n",
    "\n",
    "$$\n",
    "w = \\arg\\min_w MSE(Xw, y)\n",
    "$$\n",
    "\n",
    "Формула обучения:\n",
    "\n",
    "$$\n",
    "w = (X^T X)^{-1} X^T y\n",
    "$$"
   ]
  },
  {
   "cell_type": "markdown",
   "metadata": {},
   "source": [
    "Признаки умножают на обратимую матрицу. Изменится ли качество линейной регрессии? (Её можно обучить заново.)\n",
    "\n",
    "**Ответ:** Не изменится\n",
    "\n",
    "**Обоснование:** \n",
    "необходимо доказать, что новый вектор предсказаний A после преобразований матрицы признаков равен вектору предсказаний до преобразований a.\n",
    "\n",
    "Запишем новое представление матрицы признаков с учетом умножения на обратимую матрицу: $Z = XP$  \n",
    "Тогда новый вектор с предсказаниями: $A = ZW$, где $W = (Z^𝑇 Z)^{−1} Z^𝑇 𝑦$   \n",
    "$A = Z (Z^T Z)^{-1} Z^T y = XP ((XP)^T (XP))^{-1} (XP)^T y $   \n",
    "Учитывая, что $(AB)^{-1} = B^{-1} A^{-1}$, раскроем $A = XP ((XP)^T (XP))^{-1} (XP)^T y$  \n",
    "$A = XP(XP)^{-1}((XP)^T)^{-1} (XP)^T y = XPP^{-1}X^{-1}((XP)^T)^{-1} (XP)^T y$ $((XP)^T (XP))^{-1}$  \n",
    "При умножении матрицы на обратную ей получается единичная матрица $A A^{-1} = A^{-1} A = E$, умножение на которую не меняет матрицу так как $AE = EA = A$  \n",
    "Учитывая, что $(AB)^T=B^T A^T$ раскроем $((XP)^T)^{-1} (XP)^T$  \n",
    "$A = XEX^{-1}((XP)^T)^{-1} (XP)^T y = XX^{-1}(P^T X^T)^{-1} P^T X^T y = XX^{-1} (X^T)^{-1} (P^T)^{-1}  P^T X^T y$  \n",
    "Вновь получается единичная матрица  $(P^T)^{-1}  P^T = E$  \n",
    "Заканчиваем преобразование:$A = XX^{-1} (X^T)^{-1} E X^T y = X(X^T X)^{-1} X^T y = Xw = a$\n"
   ]
  },
  {
   "cell_type": "markdown",
   "metadata": {},
   "source": [
    "<div class=\"alert alert-info\">\n",
    "<b>Комментарий студента №2</b>\n",
    "    \n",
    "Попробуем снова.\n",
    "    \n",
    "Запишем новое представление матрицы признаков с учетом умножения на обратимую матрицу: $Z = XP$  \n",
    "Тогда новый вектор с предсказаниями: $A = ZW$, где $W = (Z^𝑇 Z)^{−1} Z^𝑇 𝑦$ \n",
    "    \n",
    "$W =  ((XP)^T XP)^{-1} (XP)^T y = (X^T P^T X P)^{-1} (XP)^T y = (X^T X P^T P)^{-1} (XP)^T y ,$  \n",
    "где $(X^T X), P^T, P $  - обратимые квадратные матрицы.  \n",
    "\n",
    "Учитывая, что $(ABC)^{-1} = C^{-1}(AB)^{-1} = (BC)^{-1}A^{-1} = C^{-1}B^{-1}A^{-1}$,  \n",
    "    \n",
    "$W = P^{-1} (P^T)^{-1} (X^T X)^{-1}  P^T X^T y  $  \n",
    "    \n",
    "Так как $w = (X^T X)^{-1} X^T y $, а $(P^T)^{-1}  P^T = E$,  тогда $W =  P^{-1} w   $  \n",
    "    \n",
    "$ A = X P W = X P  P^{-1} w = X E w = X w = a$ , что и требовалось доказать   \n",
    "\n",
    "</div>\n"
   ]
  },
  {
   "cell_type": "markdown",
   "metadata": {},
   "source": [
    "<div class=\"alert alert-info\">\n",
    "<b>Комментарий студента №2</b>  \n",
    "    \n",
    "$W =  ((XP)^T XP)^{-1} (XP)^T y = ({ P^T X^T} X P)^{-1} (XP)^T y $\n",
    "</div>    "
   ]
  },
  {
   "cell_type": "markdown",
   "metadata": {},
   "source": [
    "<div class=\"alert alert-success\">\n",
    "<b>Комментарий ревьюера №4</b> ✅\n",
    "    \n",
    "Запишем новое представление матрицы признаков с учетом умножения на обратимую матрицу: $Z = XP$  \n",
    "Тогда новый вектор с предсказаниями: $A = ZW$, где $W = (Z^𝑇 Z)^{−1} Z^𝑇 𝑦$ \n",
    "    \n",
    "$W =  ((XP)^T XP)^{-1} (XP)^T y = (P^T X^T X P)^{-1} (XP)^T y = (P^T (X^T X) P)^{-1} (XP)^T y ,$  \n",
    "где $(X^T X), P^T, P $  - обратимые квадратные матрицы.  \n",
    "\n",
    "Учитывая, что $(ABC)^{-1} = C^{-1}(AB)^{-1} = (BC)^{-1}A^{-1} = C^{-1}B^{-1}A^{-1}$,  \n",
    "    \n",
    "$W = P^{-1} (X^T X)^{-1} (P^T)^{-1} P^T X^T y  $  \n",
    "    \n",
    "Так как $w = (X^T X)^{-1} X^T y $, а $(P^T)^{-1}  P^T = E$,  тогда $W =  P^{-1} w   $  \n",
    "    \n",
    "$ A = X P W = X P  P^{-1} w = X E w = X w = a$ , что и требовалось доказать   \n",
    "</div>"
   ]
  },
  {
   "cell_type": "markdown",
   "metadata": {},
   "source": [
    "Данное преобразование выполняет масштабирование признаков. Соответственно, расстояния хоть и изменятся в абсолютном выражении, но относительно друг друга не изменятся. Масштабирование признаков не повлияет на качество модели."
   ]
  },
  {
   "cell_type": "markdown",
   "metadata": {},
   "source": [
    "## Алгоритм преобразования"
   ]
  },
  {
   "cell_type": "markdown",
   "metadata": {},
   "source": [
    "**Алгоритм**\n",
    "\n"
   ]
  },
  {
   "cell_type": "markdown",
   "metadata": {},
   "source": [
    "Шифрование данных случайно созданной матрицей позволит нам быть уверенными, что персональные данные не похитят, так как ключ будет полностью случайным и не будет нигде храниться."
   ]
  },
  {
   "cell_type": "code",
   "execution_count": 15,
   "metadata": {},
   "outputs": [],
   "source": [
    "  def matrix_mult(features):\n",
    "    \n",
    "        columns = features.columns\n",
    "        #matrix = np.zeros(shape = (len(features.columns), len(features.columns)))\n",
    "        invert_exsist = True\n",
    "        while invert_exsist:\n",
    "            try:\n",
    "                matrix = np.random.normal(size=(len(columns), len(columns)))\n",
    "                np.linalg.inv(matrix)\n",
    "                invert_exsist = False\n",
    "            except:\n",
    "                invert_exsist = True\n",
    "                \n",
    "                    \n",
    "        data = features.values @ matrix\n",
    "        data = pd.DataFrame(data=data, columns = columns)\n",
    "               \n",
    "        return data        "
   ]
  },
  {
   "cell_type": "code",
   "execution_count": 16,
   "metadata": {},
   "outputs": [
    {
     "name": "stdout",
     "output_type": "stream",
     "text": [
      "   Пол  Возраст  Зарплата  Члены семьи\n",
      "0    1    41.00  49600.00            1\n",
      "1    0    46.00  38000.00            1\n",
      "2    0    29.00  21000.00            0\n",
      "3    0    21.00  41700.00            2\n",
      "4    1    28.00  26100.00            0\n"
     ]
    }
   ],
   "source": [
    "print(features.head())"
   ]
  },
  {
   "cell_type": "code",
   "execution_count": 17,
   "metadata": {},
   "outputs": [],
   "source": [
    "matrix = matrix_mult(features)"
   ]
  },
  {
   "cell_type": "code",
   "execution_count": 18,
   "metadata": {},
   "outputs": [
    {
     "name": "stdout",
     "output_type": "stream",
     "text": [
      "      Пол  Возраст  Зарплата  Члены семьи\n",
      "0 7761.23 68234.42 -23907.77      6426.61\n",
      "1 5946.48 52282.78 -18320.98      4915.61\n",
      "2 3286.44 28894.65 -10126.01      2714.67\n",
      "3 6525.37 57362.06 -20095.62      5411.20\n",
      "4 4083.82 35907.60 -12582.50      3377.76\n"
     ]
    }
   ],
   "source": [
    "print(matrix.head())"
   ]
  },
  {
   "cell_type": "markdown",
   "metadata": {},
   "source": [
    "**Обоснование**\n",
    "\n",
    "Для защиты данных достаточно будет умножить таблицу признаков на случайную обратимую матрицу, содержащую столько жк строк, сколько таблица признаков имеет столбцов. Обратимая матрица должна быть квадратной. Исходя их анализа данных, создадим случайную обратимую матрицу размером 4 х 4 и умножим таблицу признаков на случайную матрицу. Ранее мы доказали, что при умножении исходных признаков на обратимую матрицу качество модели не изменится. Так есть небольшая вероятность того, что созданная случайным образом матрица не будет иметь обратной, то мы осуществляем проверку наличия обратной матрицы. И только убедившись в том, что такая существует - умножаем исходные признаки на сгенерированную матрицу."
   ]
  },
  {
   "cell_type": "markdown",
   "metadata": {},
   "source": [
    "## Проверка алгоритма"
   ]
  },
  {
   "cell_type": "code",
   "execution_count": 19,
   "metadata": {},
   "outputs": [],
   "source": [
    "def check_alg(features, target):\n",
    "    \n",
    "    features_train, features_test, target_train, target_test = train_test_split(features, target, test_size=0.25, random_state=12345)\n",
    "    scaler = StandardScaler()\n",
    "    scaler.fit(features_train)\n",
    "    features_train = scaler.transform(features_train)\n",
    "    features_test = scaler.transform(features_test)\n",
    "    model = LinearRegression()\n",
    "    model.fit(features_train, target_train)\n",
    "    predictions = model.predict(features_test)\n",
    "    r2 = r2_score(target_test, predictions)\n",
    "    return round(r2, 10)"
   ]
  },
  {
   "cell_type": "code",
   "execution_count": 20,
   "metadata": {},
   "outputs": [
    {
     "name": "stdout",
     "output_type": "stream",
     "text": [
      "0.4230772749\n"
     ]
    }
   ],
   "source": [
    "native_alg_r2 = check_alg(features, target)\n",
    "print(native_alg_r2)"
   ]
  },
  {
   "cell_type": "code",
   "execution_count": 21,
   "metadata": {},
   "outputs": [
    {
     "name": "stdout",
     "output_type": "stream",
     "text": [
      "0.4230772749\n"
     ]
    }
   ],
   "source": [
    "matrix_alg_r2 = check_alg(matrix, target)\n",
    "print(matrix_alg_r2)"
   ]
  },
  {
   "cell_type": "markdown",
   "metadata": {},
   "source": [
    "Проверяем равенство метрик."
   ]
  },
  {
   "cell_type": "code",
   "execution_count": 22,
   "metadata": {},
   "outputs": [
    {
     "name": "stdout",
     "output_type": "stream",
     "text": [
      "True\n"
     ]
    }
   ],
   "source": [
    "print(native_alg_r2==matrix_alg_r2)"
   ]
  },
  {
   "cell_type": "markdown",
   "metadata": {},
   "source": [
    "**Вывод**\n",
    "В данном проекте в качестве алгоритма шифрования предлагается умножение матрицы признаков на обратимую квадратную матрицу. Приведено теоретическое обоснование данного алгоритма. \n",
    "\n",
    "Предложены два варианта его реализации. На практике подтверждено, что шифрование данных не повлияло на качество прогноза линейной регрессии. Для оценки применялась метрика качества R2.\n",
    "\n",
    "Показатели r2 модели матрицы признаков и модели на зашифрованных данных совпали. Это подтверждает наше утверждение, что умножение на матрицы признаков на случайную квадратную матрицу зашифровывает данные, и не влияет на качество оценки модели машинного обучения. "
   ]
  }
 ],
 "metadata": {
  "ExecuteTimeLog": [
   {
    "duration": 1141,
    "start_time": "2023-04-01T23:42:34.595Z"
   },
   {
    "duration": 111,
    "start_time": "2023-04-01T23:42:36.465Z"
   },
   {
    "duration": 18,
    "start_time": "2023-04-01T23:42:37.355Z"
   },
   {
    "duration": 15,
    "start_time": "2023-04-01T23:43:09.794Z"
   },
   {
    "duration": 98,
    "start_time": "2023-04-01T23:43:44.391Z"
   },
   {
    "duration": 7,
    "start_time": "2023-04-01T23:44:04.591Z"
   },
   {
    "duration": 6,
    "start_time": "2023-04-02T08:50:00.714Z"
   },
   {
    "duration": 55,
    "start_time": "2023-04-02T08:50:01.374Z"
   },
   {
    "duration": 22,
    "start_time": "2023-04-02T08:50:01.938Z"
   },
   {
    "duration": 13,
    "start_time": "2023-04-02T08:50:03.011Z"
   },
   {
    "duration": 7,
    "start_time": "2023-04-02T08:50:04.132Z"
   },
   {
    "duration": 5,
    "start_time": "2023-04-02T08:54:37.496Z"
   },
   {
    "duration": 62,
    "start_time": "2023-04-02T08:54:38.136Z"
   },
   {
    "duration": 20,
    "start_time": "2023-04-02T08:54:38.861Z"
   },
   {
    "duration": 22,
    "start_time": "2023-04-02T08:54:39.583Z"
   },
   {
    "duration": 8,
    "start_time": "2023-04-02T08:54:40.408Z"
   },
   {
    "duration": 27,
    "start_time": "2023-04-02T08:54:50.166Z"
   },
   {
    "duration": 36,
    "start_time": "2023-04-02T08:55:14.469Z"
   },
   {
    "duration": 7,
    "start_time": "2023-04-02T09:50:09.999Z"
   },
   {
    "duration": 650,
    "start_time": "2023-04-02T09:56:39.332Z"
   },
   {
    "duration": 11,
    "start_time": "2023-04-02T10:06:49.524Z"
   },
   {
    "duration": 32,
    "start_time": "2023-04-02T10:33:25.507Z"
   },
   {
    "duration": 8,
    "start_time": "2023-04-02T10:34:14.519Z"
   },
   {
    "duration": 8,
    "start_time": "2023-04-02T10:34:18.090Z"
   },
   {
    "duration": 12,
    "start_time": "2023-04-02T10:34:23.714Z"
   },
   {
    "duration": 4,
    "start_time": "2023-04-02T10:34:32.014Z"
   },
   {
    "duration": 1885,
    "start_time": "2023-04-02T10:34:32.738Z"
   },
   {
    "duration": 1579,
    "start_time": "2023-04-02T10:34:45.976Z"
   },
   {
    "duration": 10,
    "start_time": "2023-04-02T10:35:24.782Z"
   },
   {
    "duration": 38,
    "start_time": "2023-04-02T10:35:25.299Z"
   },
   {
    "duration": 20,
    "start_time": "2023-04-02T10:35:25.799Z"
   },
   {
    "duration": 20,
    "start_time": "2023-04-02T10:35:26.704Z"
   },
   {
    "duration": 14,
    "start_time": "2023-04-02T10:35:27.583Z"
   },
   {
    "duration": 41,
    "start_time": "2023-04-02T10:35:28.055Z"
   },
   {
    "duration": 1556,
    "start_time": "2023-04-02T10:35:30.727Z"
   },
   {
    "duration": 2190,
    "start_time": "2023-04-02T10:36:45.399Z"
   },
   {
    "duration": 3047,
    "start_time": "2023-04-02T10:36:59.072Z"
   },
   {
    "duration": 5,
    "start_time": "2023-04-02T10:44:21.846Z"
   },
   {
    "duration": 2700,
    "start_time": "2023-04-02T10:44:22.668Z"
   },
   {
    "duration": 3391,
    "start_time": "2023-04-02T10:45:17.585Z"
   },
   {
    "duration": 2407,
    "start_time": "2023-04-02T10:45:33.223Z"
   },
   {
    "duration": 2276,
    "start_time": "2023-04-02T10:46:01.627Z"
   },
   {
    "duration": 2635,
    "start_time": "2023-04-02T10:46:39.062Z"
   },
   {
    "duration": 3104,
    "start_time": "2023-04-02T10:50:22.668Z"
   },
   {
    "duration": 3039,
    "start_time": "2023-04-02T10:50:31.322Z"
   },
   {
    "duration": 2676,
    "start_time": "2023-04-02T10:53:00.789Z"
   },
   {
    "duration": 3329,
    "start_time": "2023-04-02T10:53:26.110Z"
   },
   {
    "duration": 2609,
    "start_time": "2023-04-02T10:54:01.390Z"
   },
   {
    "duration": 3062,
    "start_time": "2023-04-02T11:09:44.826Z"
   },
   {
    "duration": 3551,
    "start_time": "2023-04-02T11:10:40.773Z"
   },
   {
    "duration": 3356,
    "start_time": "2023-04-02T11:11:37.891Z"
   },
   {
    "duration": 2848,
    "start_time": "2023-04-02T11:11:53.764Z"
   },
   {
    "duration": 2275,
    "start_time": "2023-04-02T11:13:35.954Z"
   },
   {
    "duration": 2728,
    "start_time": "2023-04-02T11:13:55.279Z"
   },
   {
    "duration": 3126,
    "start_time": "2023-04-02T11:14:41.082Z"
   },
   {
    "duration": 3852,
    "start_time": "2023-04-02T11:15:00.309Z"
   },
   {
    "duration": 1863,
    "start_time": "2023-04-02T11:15:13.367Z"
   },
   {
    "duration": 1615,
    "start_time": "2023-04-02T11:15:33.276Z"
   },
   {
    "duration": 1145,
    "start_time": "2023-04-02T11:15:52.338Z"
   },
   {
    "duration": 1105,
    "start_time": "2023-04-02T11:16:01.419Z"
   },
   {
    "duration": 1247,
    "start_time": "2023-04-02T11:16:18.660Z"
   },
   {
    "duration": 975,
    "start_time": "2023-04-02T11:16:32.328Z"
   },
   {
    "duration": 1000,
    "start_time": "2023-04-02T11:17:09.093Z"
   },
   {
    "duration": 1340,
    "start_time": "2023-04-02T11:17:37.973Z"
   },
   {
    "duration": 1306,
    "start_time": "2023-04-02T11:18:35.894Z"
   },
   {
    "duration": 1770,
    "start_time": "2023-04-02T11:23:03.965Z"
   },
   {
    "duration": 27,
    "start_time": "2023-04-02T11:23:37.226Z"
   },
   {
    "duration": 1216,
    "start_time": "2023-04-02T11:24:30.095Z"
   },
   {
    "duration": 9,
    "start_time": "2023-04-02T11:35:49.624Z"
   },
   {
    "duration": 6,
    "start_time": "2023-04-02T11:36:51.717Z"
   },
   {
    "duration": 8,
    "start_time": "2023-04-02T11:36:58.782Z"
   },
   {
    "duration": 8,
    "start_time": "2023-04-02T11:37:09.604Z"
   },
   {
    "duration": 1530,
    "start_time": "2023-04-04T23:26:37.787Z"
   },
   {
    "duration": 83,
    "start_time": "2023-04-04T23:26:48.656Z"
   },
   {
    "duration": 12,
    "start_time": "2023-04-04T23:26:50.018Z"
   },
   {
    "duration": 12,
    "start_time": "2023-04-04T23:26:50.935Z"
   },
   {
    "duration": 6,
    "start_time": "2023-04-04T23:26:51.947Z"
   },
   {
    "duration": 17,
    "start_time": "2023-04-04T23:26:53.553Z"
   },
   {
    "duration": 3,
    "start_time": "2023-04-04T23:26:57.828Z"
   },
   {
    "duration": 772,
    "start_time": "2023-04-04T23:26:58.594Z"
   },
   {
    "duration": 5,
    "start_time": "2023-04-04T23:27:02.148Z"
   },
   {
    "duration": 8,
    "start_time": "2023-04-04T23:27:05.628Z"
   },
   {
    "duration": 5,
    "start_time": "2023-04-04T23:27:06.767Z"
   },
   {
    "duration": 5,
    "start_time": "2023-04-04T23:27:08.718Z"
   },
   {
    "duration": 4,
    "start_time": "2023-04-04T23:27:11.372Z"
   },
   {
    "duration": 3,
    "start_time": "2023-04-04T23:27:12.903Z"
   },
   {
    "duration": 4,
    "start_time": "2023-04-04T23:45:14.801Z"
   },
   {
    "duration": 87,
    "start_time": "2023-04-04T23:45:37.948Z"
   },
   {
    "duration": 5,
    "start_time": "2023-04-04T23:46:41.978Z"
   },
   {
    "duration": 5,
    "start_time": "2023-04-04T23:47:03.231Z"
   },
   {
    "duration": 5,
    "start_time": "2023-04-04T23:47:16.342Z"
   },
   {
    "duration": 6,
    "start_time": "2023-04-04T23:49:21.263Z"
   },
   {
    "duration": 7,
    "start_time": "2023-04-04T23:50:05.948Z"
   },
   {
    "duration": 29,
    "start_time": "2023-04-04T23:50:06.631Z"
   },
   {
    "duration": 8,
    "start_time": "2023-04-04T23:50:07.354Z"
   },
   {
    "duration": 11,
    "start_time": "2023-04-04T23:50:08.903Z"
   },
   {
    "duration": 6,
    "start_time": "2023-04-04T23:50:09.885Z"
   },
   {
    "duration": 24,
    "start_time": "2023-04-04T23:50:10.653Z"
   },
   {
    "duration": 7,
    "start_time": "2023-04-04T23:50:27.144Z"
   },
   {
    "duration": 5,
    "start_time": "2023-04-05T00:01:58.627Z"
   },
   {
    "duration": 119,
    "start_time": "2023-04-05T00:01:59.473Z"
   },
   {
    "duration": 6,
    "start_time": "2023-04-05T00:03:32.251Z"
   },
   {
    "duration": 5,
    "start_time": "2023-04-05T00:03:50.139Z"
   },
   {
    "duration": 26,
    "start_time": "2023-04-05T00:03:50.744Z"
   },
   {
    "duration": 8,
    "start_time": "2023-04-05T00:03:51.390Z"
   },
   {
    "duration": 13,
    "start_time": "2023-04-05T00:03:54.039Z"
   },
   {
    "duration": 6,
    "start_time": "2023-04-05T00:03:55.126Z"
   },
   {
    "duration": 18,
    "start_time": "2023-04-05T00:03:56.426Z"
   },
   {
    "duration": 3,
    "start_time": "2023-04-05T00:04:10.304Z"
   },
   {
    "duration": 878,
    "start_time": "2023-04-05T00:04:11.338Z"
   },
   {
    "duration": 6,
    "start_time": "2023-04-05T00:04:15.736Z"
   },
   {
    "duration": 6,
    "start_time": "2023-04-05T00:04:48.031Z"
   },
   {
    "duration": 5,
    "start_time": "2023-04-05T00:05:03.414Z"
   },
   {
    "duration": 9,
    "start_time": "2023-04-05T00:05:31.226Z"
   },
   {
    "duration": 5,
    "start_time": "2023-04-05T00:05:35.538Z"
   },
   {
    "duration": 6,
    "start_time": "2023-04-05T00:05:37.081Z"
   },
   {
    "duration": 4,
    "start_time": "2023-04-05T00:05:39.673Z"
   },
   {
    "duration": 3,
    "start_time": "2023-04-05T00:05:40.775Z"
   },
   {
    "duration": 4,
    "start_time": "2023-04-05T00:05:46.854Z"
   },
   {
    "duration": 5,
    "start_time": "2023-04-05T00:05:48.198Z"
   },
   {
    "duration": 3,
    "start_time": "2023-04-05T00:05:49.350Z"
   },
   {
    "duration": 5,
    "start_time": "2023-04-05T00:05:50.770Z"
   },
   {
    "duration": 4,
    "start_time": "2023-04-05T00:06:22.511Z"
   },
   {
    "duration": 5,
    "start_time": "2023-04-05T00:06:23.988Z"
   },
   {
    "duration": 11,
    "start_time": "2023-04-05T00:06:25.997Z"
   },
   {
    "duration": 3,
    "start_time": "2023-04-05T00:06:35.034Z"
   },
   {
    "duration": 5,
    "start_time": "2023-04-05T00:06:44.111Z"
   },
   {
    "duration": 3,
    "start_time": "2023-04-05T00:06:47.305Z"
   },
   {
    "duration": 5,
    "start_time": "2023-04-05T00:06:49.683Z"
   },
   {
    "duration": 14,
    "start_time": "2023-04-05T00:06:51.659Z"
   },
   {
    "duration": 4,
    "start_time": "2023-04-05T00:08:16.542Z"
   },
   {
    "duration": 8,
    "start_time": "2023-04-05T00:08:17.425Z"
   },
   {
    "duration": 11,
    "start_time": "2023-04-05T00:08:31.234Z"
   },
   {
    "duration": 11,
    "start_time": "2023-04-05T00:09:11.309Z"
   },
   {
    "duration": 2,
    "start_time": "2023-04-05T00:11:38.832Z"
   },
   {
    "duration": 5,
    "start_time": "2023-04-05T00:17:06.835Z"
   },
   {
    "duration": 40,
    "start_time": "2023-04-05T00:17:06.842Z"
   },
   {
    "duration": 7,
    "start_time": "2023-04-05T00:17:06.883Z"
   },
   {
    "duration": 32,
    "start_time": "2023-04-05T00:17:06.891Z"
   },
   {
    "duration": 23,
    "start_time": "2023-04-05T00:17:06.925Z"
   },
   {
    "duration": 33,
    "start_time": "2023-04-05T00:17:06.950Z"
   },
   {
    "duration": 14,
    "start_time": "2023-04-05T00:17:06.984Z"
   },
   {
    "duration": 767,
    "start_time": "2023-04-05T00:17:06.999Z"
   },
   {
    "duration": 5,
    "start_time": "2023-04-05T00:17:07.771Z"
   },
   {
    "duration": 48,
    "start_time": "2023-04-05T00:17:07.778Z"
   },
   {
    "duration": 4,
    "start_time": "2023-04-05T00:17:07.828Z"
   },
   {
    "duration": 10,
    "start_time": "2023-04-05T00:17:07.834Z"
   },
   {
    "duration": 5,
    "start_time": "2023-04-05T00:17:07.846Z"
   },
   {
    "duration": 11,
    "start_time": "2023-04-05T00:17:07.853Z"
   },
   {
    "duration": 11,
    "start_time": "2023-04-05T00:17:07.865Z"
   },
   {
    "duration": 11,
    "start_time": "2023-04-05T00:17:07.878Z"
   },
   {
    "duration": 5,
    "start_time": "2023-04-05T00:17:07.891Z"
   },
   {
    "duration": 8,
    "start_time": "2023-04-05T00:17:07.898Z"
   },
   {
    "duration": 65,
    "start_time": "2023-04-05T00:17:07.908Z"
   },
   {
    "duration": 11,
    "start_time": "2023-04-05T00:17:07.975Z"
   },
   {
    "duration": 92,
    "start_time": "2023-04-05T00:17:07.988Z"
   },
   {
    "duration": 15,
    "start_time": "2023-04-05T00:17:08.081Z"
   },
   {
    "duration": 6,
    "start_time": "2023-04-05T00:17:08.098Z"
   },
   {
    "duration": 3,
    "start_time": "2023-04-05T00:18:45.331Z"
   },
   {
    "duration": 6,
    "start_time": "2023-04-05T00:18:50.589Z"
   },
   {
    "duration": 34,
    "start_time": "2023-04-05T00:18:50.597Z"
   },
   {
    "duration": 7,
    "start_time": "2023-04-05T00:18:50.633Z"
   },
   {
    "duration": 17,
    "start_time": "2023-04-05T00:18:50.642Z"
   },
   {
    "duration": 19,
    "start_time": "2023-04-05T00:18:50.661Z"
   },
   {
    "duration": 18,
    "start_time": "2023-04-05T00:18:50.682Z"
   },
   {
    "duration": 3,
    "start_time": "2023-04-05T00:18:51.069Z"
   },
   {
    "duration": 825,
    "start_time": "2023-04-05T00:18:51.073Z"
   },
   {
    "duration": 6,
    "start_time": "2023-04-05T00:18:51.899Z"
   },
   {
    "duration": 24,
    "start_time": "2023-04-05T00:18:51.906Z"
   },
   {
    "duration": 5,
    "start_time": "2023-04-05T00:18:51.932Z"
   },
   {
    "duration": 13,
    "start_time": "2023-04-05T00:18:51.938Z"
   },
   {
    "duration": 12,
    "start_time": "2023-04-05T00:18:51.953Z"
   },
   {
    "duration": 7,
    "start_time": "2023-04-05T00:18:51.966Z"
   },
   {
    "duration": 12,
    "start_time": "2023-04-05T00:18:51.975Z"
   },
   {
    "duration": 9,
    "start_time": "2023-04-05T00:18:51.988Z"
   },
   {
    "duration": 4,
    "start_time": "2023-04-05T00:18:51.999Z"
   },
   {
    "duration": 69,
    "start_time": "2023-04-05T00:18:52.005Z"
   },
   {
    "duration": 10,
    "start_time": "2023-04-05T00:18:52.076Z"
   },
   {
    "duration": 83,
    "start_time": "2023-04-05T00:18:52.089Z"
   },
   {
    "duration": 10,
    "start_time": "2023-04-05T00:18:52.173Z"
   },
   {
    "duration": 14,
    "start_time": "2023-04-05T00:18:52.185Z"
   },
   {
    "duration": 3,
    "start_time": "2023-04-05T00:18:52.201Z"
   },
   {
    "duration": 5,
    "start_time": "2023-04-05T00:19:59.679Z"
   },
   {
    "duration": 10,
    "start_time": "2023-04-05T00:20:01.660Z"
   },
   {
    "duration": 10,
    "start_time": "2023-04-05T00:20:03.195Z"
   },
   {
    "duration": 3,
    "start_time": "2023-04-05T00:20:08.025Z"
   },
   {
    "duration": 8,
    "start_time": "2023-04-05T00:21:28.672Z"
   },
   {
    "duration": 52,
    "start_time": "2023-04-05T00:21:28.683Z"
   },
   {
    "duration": 7,
    "start_time": "2023-04-05T00:21:28.737Z"
   },
   {
    "duration": 42,
    "start_time": "2023-04-05T00:21:28.746Z"
   },
   {
    "duration": 10,
    "start_time": "2023-04-05T00:21:28.790Z"
   },
   {
    "duration": 19,
    "start_time": "2023-04-05T00:21:28.801Z"
   },
   {
    "duration": 2,
    "start_time": "2023-04-05T00:21:28.821Z"
   },
   {
    "duration": 786,
    "start_time": "2023-04-05T00:21:28.825Z"
   },
   {
    "duration": 7,
    "start_time": "2023-04-05T00:21:29.613Z"
   },
   {
    "duration": 17,
    "start_time": "2023-04-05T00:21:29.622Z"
   },
   {
    "duration": 25,
    "start_time": "2023-04-05T00:21:29.640Z"
   },
   {
    "duration": 11,
    "start_time": "2023-04-05T00:21:29.667Z"
   },
   {
    "duration": 12,
    "start_time": "2023-04-05T00:21:29.679Z"
   },
   {
    "duration": 8,
    "start_time": "2023-04-05T00:21:29.695Z"
   },
   {
    "duration": 6,
    "start_time": "2023-04-05T00:21:29.706Z"
   },
   {
    "duration": 11,
    "start_time": "2023-04-05T00:21:29.713Z"
   },
   {
    "duration": 12,
    "start_time": "2023-04-05T00:21:29.726Z"
   },
   {
    "duration": 34,
    "start_time": "2023-04-05T00:21:29.740Z"
   },
   {
    "duration": 12,
    "start_time": "2023-04-05T00:21:29.776Z"
   },
   {
    "duration": 90,
    "start_time": "2023-04-05T00:21:29.790Z"
   },
   {
    "duration": 11,
    "start_time": "2023-04-05T00:21:29.881Z"
   },
   {
    "duration": 8,
    "start_time": "2023-04-05T00:21:29.894Z"
   },
   {
    "duration": 8,
    "start_time": "2023-04-05T00:22:19.375Z"
   },
   {
    "duration": 28,
    "start_time": "2023-04-05T00:22:20.297Z"
   },
   {
    "duration": 10,
    "start_time": "2023-04-05T00:22:20.996Z"
   },
   {
    "duration": 15,
    "start_time": "2023-04-05T00:22:25.008Z"
   },
   {
    "duration": 6,
    "start_time": "2023-04-05T00:22:28.576Z"
   },
   {
    "duration": 16,
    "start_time": "2023-04-05T00:22:31.338Z"
   },
   {
    "duration": 3,
    "start_time": "2023-04-05T00:22:36.515Z"
   },
   {
    "duration": 843,
    "start_time": "2023-04-05T00:22:38.236Z"
   },
   {
    "duration": 5,
    "start_time": "2023-04-05T00:23:13.941Z"
   },
   {
    "duration": 5,
    "start_time": "2023-04-05T00:23:34.720Z"
   },
   {
    "duration": 5,
    "start_time": "2023-04-05T00:24:41.390Z"
   },
   {
    "duration": 6,
    "start_time": "2023-04-05T00:25:10.414Z"
   },
   {
    "duration": 57,
    "start_time": "2023-04-05T00:25:30.454Z"
   },
   {
    "duration": 11,
    "start_time": "2023-04-05T00:25:44.907Z"
   },
   {
    "duration": 6,
    "start_time": "2023-04-05T00:25:48.374Z"
   },
   {
    "duration": 7,
    "start_time": "2023-04-05T00:25:49.706Z"
   },
   {
    "duration": 4,
    "start_time": "2023-04-05T00:25:50.817Z"
   },
   {
    "duration": 2,
    "start_time": "2023-04-05T00:25:51.372Z"
   },
   {
    "duration": 6,
    "start_time": "2023-04-05T00:25:57.304Z"
   },
   {
    "duration": 5,
    "start_time": "2023-04-05T00:25:59.467Z"
   },
   {
    "duration": 3,
    "start_time": "2023-04-05T00:26:02.689Z"
   },
   {
    "duration": 5,
    "start_time": "2023-04-05T00:26:03.463Z"
   },
   {
    "duration": 3,
    "start_time": "2023-04-05T00:26:08.179Z"
   },
   {
    "duration": 10,
    "start_time": "2023-04-05T00:26:09.244Z"
   },
   {
    "duration": 10,
    "start_time": "2023-04-05T00:26:10.368Z"
   },
   {
    "duration": 3,
    "start_time": "2023-04-05T00:26:18.261Z"
   },
   {
    "duration": 2322,
    "start_time": "2023-04-05T12:27:20.956Z"
   },
   {
    "duration": 26,
    "start_time": "2023-04-05T12:27:23.279Z"
   },
   {
    "duration": 14,
    "start_time": "2023-04-05T12:27:23.306Z"
   },
   {
    "duration": 21,
    "start_time": "2023-04-05T12:27:23.322Z"
   },
   {
    "duration": 30,
    "start_time": "2023-04-05T12:27:23.346Z"
   },
   {
    "duration": 34,
    "start_time": "2023-04-05T12:27:23.378Z"
   },
   {
    "duration": 6,
    "start_time": "2023-04-05T12:27:23.414Z"
   },
   {
    "duration": 1010,
    "start_time": "2023-04-05T12:27:23.422Z"
   },
   {
    "duration": 8,
    "start_time": "2023-04-05T12:27:24.434Z"
   },
   {
    "duration": 24,
    "start_time": "2023-04-05T12:27:24.444Z"
   },
   {
    "duration": 10,
    "start_time": "2023-04-05T12:27:24.470Z"
   },
   {
    "duration": 8,
    "start_time": "2023-04-05T12:27:24.482Z"
   },
   {
    "duration": 14,
    "start_time": "2023-04-05T12:27:24.492Z"
   },
   {
    "duration": 22,
    "start_time": "2023-04-05T12:27:24.509Z"
   },
   {
    "duration": 44,
    "start_time": "2023-04-05T12:27:24.533Z"
   },
   {
    "duration": 20,
    "start_time": "2023-04-05T12:27:24.579Z"
   },
   {
    "duration": 8,
    "start_time": "2023-04-05T12:27:24.601Z"
   },
   {
    "duration": 56,
    "start_time": "2023-04-05T12:27:24.610Z"
   },
   {
    "duration": 6,
    "start_time": "2023-04-05T12:27:24.669Z"
   },
   {
    "duration": 181,
    "start_time": "2023-04-05T12:27:24.676Z"
   },
   {
    "duration": 14,
    "start_time": "2023-04-05T12:27:24.862Z"
   },
   {
    "duration": 3,
    "start_time": "2023-04-05T12:27:24.878Z"
   },
   {
    "duration": 28,
    "start_time": "2023-04-05T12:30:18.646Z"
   },
   {
    "duration": 23,
    "start_time": "2023-04-05T12:30:31.504Z"
   },
   {
    "duration": 2221,
    "start_time": "2023-04-05T12:30:56.587Z"
   },
   {
    "duration": 25,
    "start_time": "2023-04-05T12:30:58.810Z"
   },
   {
    "duration": 11,
    "start_time": "2023-04-05T12:30:58.837Z"
   },
   {
    "duration": 12,
    "start_time": "2023-04-05T12:30:58.850Z"
   },
   {
    "duration": 7,
    "start_time": "2023-04-05T12:30:58.864Z"
   },
   {
    "duration": 23,
    "start_time": "2023-04-05T12:30:58.872Z"
   },
   {
    "duration": 3,
    "start_time": "2023-04-05T12:30:58.897Z"
   },
   {
    "duration": 1003,
    "start_time": "2023-04-05T12:30:58.901Z"
   },
   {
    "duration": 8,
    "start_time": "2023-04-05T12:30:59.905Z"
   },
   {
    "duration": 19,
    "start_time": "2023-04-05T12:30:59.915Z"
   },
   {
    "duration": 24,
    "start_time": "2023-04-05T12:30:59.937Z"
   },
   {
    "duration": 5,
    "start_time": "2023-04-05T12:30:59.964Z"
   },
   {
    "duration": 6,
    "start_time": "2023-04-05T12:30:59.971Z"
   },
   {
    "duration": 10,
    "start_time": "2023-04-05T12:30:59.980Z"
   },
   {
    "duration": 4,
    "start_time": "2023-04-05T12:30:59.992Z"
   },
   {
    "duration": 35,
    "start_time": "2023-04-05T12:30:59.998Z"
   },
   {
    "duration": 48,
    "start_time": "2023-04-05T12:31:00.035Z"
   },
   {
    "duration": 17,
    "start_time": "2023-04-05T12:31:00.086Z"
   },
   {
    "duration": 157,
    "start_time": "2023-04-05T12:31:00.105Z"
   },
   {
    "duration": 105,
    "start_time": "2023-04-05T12:31:00.264Z"
   },
   {
    "duration": 13,
    "start_time": "2023-04-05T12:31:00.371Z"
   },
   {
    "duration": 13,
    "start_time": "2023-04-05T12:31:00.385Z"
   },
   {
    "duration": 4,
    "start_time": "2023-04-05T12:34:35.164Z"
   },
   {
    "duration": 8,
    "start_time": "2023-04-05T12:39:22.679Z"
   },
   {
    "duration": 5,
    "start_time": "2023-04-05T12:52:57.357Z"
   },
   {
    "duration": 113,
    "start_time": "2023-04-05T12:53:18.844Z"
   },
   {
    "duration": 2055,
    "start_time": "2023-04-05T12:55:09.365Z"
   },
   {
    "duration": 26,
    "start_time": "2023-04-05T12:55:11.422Z"
   },
   {
    "duration": 22,
    "start_time": "2023-04-05T12:55:11.450Z"
   },
   {
    "duration": 14,
    "start_time": "2023-04-05T12:55:11.474Z"
   },
   {
    "duration": 6,
    "start_time": "2023-04-05T12:55:11.491Z"
   },
   {
    "duration": 25,
    "start_time": "2023-04-05T12:55:11.499Z"
   },
   {
    "duration": 2,
    "start_time": "2023-04-05T12:55:11.526Z"
   },
   {
    "duration": 1005,
    "start_time": "2023-04-05T12:55:11.530Z"
   },
   {
    "duration": 7,
    "start_time": "2023-04-05T12:55:12.537Z"
   },
   {
    "duration": 21,
    "start_time": "2023-04-05T12:55:12.546Z"
   },
   {
    "duration": 7,
    "start_time": "2023-04-05T12:55:12.569Z"
   },
   {
    "duration": 5,
    "start_time": "2023-04-05T12:55:12.578Z"
   },
   {
    "duration": 4,
    "start_time": "2023-04-05T12:55:12.585Z"
   },
   {
    "duration": 4,
    "start_time": "2023-04-05T12:55:12.591Z"
   },
   {
    "duration": 6,
    "start_time": "2023-04-05T12:55:12.596Z"
   },
   {
    "duration": 8,
    "start_time": "2023-04-05T12:55:12.603Z"
   },
   {
    "duration": 50,
    "start_time": "2023-04-05T12:55:12.612Z"
   },
   {
    "duration": 10,
    "start_time": "2023-04-05T12:55:12.664Z"
   },
   {
    "duration": 86,
    "start_time": "2023-04-05T12:55:12.676Z"
   },
   {
    "duration": 13,
    "start_time": "2023-04-05T12:55:12.763Z"
   },
   {
    "duration": 112,
    "start_time": "2023-04-05T12:55:12.777Z"
   },
   {
    "duration": 4,
    "start_time": "2023-04-05T12:55:12.891Z"
   },
   {
    "duration": 4,
    "start_time": "2023-04-05T13:23:50.276Z"
   },
   {
    "duration": 14,
    "start_time": "2023-04-05T13:23:52.218Z"
   },
   {
    "duration": 13,
    "start_time": "2023-04-05T13:23:54.250Z"
   },
   {
    "duration": 3,
    "start_time": "2023-04-05T13:23:58.029Z"
   },
   {
    "duration": 2145,
    "start_time": "2023-04-05T13:25:05.428Z"
   },
   {
    "duration": 28,
    "start_time": "2023-04-05T13:25:07.575Z"
   },
   {
    "duration": 13,
    "start_time": "2023-04-05T13:25:07.605Z"
   },
   {
    "duration": 18,
    "start_time": "2023-04-05T13:25:07.620Z"
   },
   {
    "duration": 11,
    "start_time": "2023-04-05T13:25:07.640Z"
   },
   {
    "duration": 52,
    "start_time": "2023-04-05T13:25:07.653Z"
   },
   {
    "duration": 3,
    "start_time": "2023-04-05T13:25:07.706Z"
   },
   {
    "duration": 981,
    "start_time": "2023-04-05T13:25:07.711Z"
   },
   {
    "duration": 7,
    "start_time": "2023-04-05T13:25:08.694Z"
   },
   {
    "duration": 81,
    "start_time": "2023-04-05T13:25:08.703Z"
   },
   {
    "duration": 6,
    "start_time": "2023-04-05T13:25:08.786Z"
   },
   {
    "duration": 5,
    "start_time": "2023-04-05T13:25:08.794Z"
   },
   {
    "duration": 4,
    "start_time": "2023-04-05T13:25:08.800Z"
   },
   {
    "duration": 6,
    "start_time": "2023-04-05T13:25:08.806Z"
   },
   {
    "duration": 9,
    "start_time": "2023-04-05T13:25:08.814Z"
   },
   {
    "duration": 17,
    "start_time": "2023-04-05T13:25:08.825Z"
   },
   {
    "duration": 19,
    "start_time": "2023-04-05T13:25:08.844Z"
   },
   {
    "duration": 18,
    "start_time": "2023-04-05T13:25:08.865Z"
   },
   {
    "duration": 222,
    "start_time": "2023-04-05T13:25:08.885Z"
   },
   {
    "duration": 25,
    "start_time": "2023-04-05T13:25:09.109Z"
   },
   {
    "duration": 28,
    "start_time": "2023-04-05T13:25:09.137Z"
   },
   {
    "duration": 3,
    "start_time": "2023-04-05T13:25:09.167Z"
   },
   {
    "duration": 1603,
    "start_time": "2023-04-05T22:11:35.343Z"
   },
   {
    "duration": 82,
    "start_time": "2023-04-05T22:11:36.948Z"
   },
   {
    "duration": 12,
    "start_time": "2023-04-05T22:11:37.032Z"
   },
   {
    "duration": 19,
    "start_time": "2023-04-05T22:11:37.045Z"
   },
   {
    "duration": 5,
    "start_time": "2023-04-05T22:11:37.067Z"
   },
   {
    "duration": 20,
    "start_time": "2023-04-05T22:11:37.073Z"
   },
   {
    "duration": 6,
    "start_time": "2023-04-05T22:11:37.094Z"
   },
   {
    "duration": 808,
    "start_time": "2023-04-05T22:11:37.101Z"
   },
   {
    "duration": 5,
    "start_time": "2023-04-05T22:11:37.910Z"
   },
   {
    "duration": 25,
    "start_time": "2023-04-05T22:11:37.917Z"
   },
   {
    "duration": 8,
    "start_time": "2023-04-05T22:11:37.944Z"
   },
   {
    "duration": 8,
    "start_time": "2023-04-05T22:11:37.953Z"
   },
   {
    "duration": 13,
    "start_time": "2023-04-05T22:11:37.963Z"
   },
   {
    "duration": 26,
    "start_time": "2023-04-05T22:11:37.978Z"
   },
   {
    "duration": 20,
    "start_time": "2023-04-05T22:11:38.005Z"
   },
   {
    "duration": 53,
    "start_time": "2023-04-05T22:11:38.026Z"
   },
   {
    "duration": 8,
    "start_time": "2023-04-05T22:11:38.080Z"
   },
   {
    "duration": 189,
    "start_time": "2023-04-05T22:11:38.089Z"
   },
   {
    "duration": 9,
    "start_time": "2023-04-05T22:11:38.279Z"
   },
   {
    "duration": 13,
    "start_time": "2023-04-05T22:11:38.289Z"
   },
   {
    "duration": 224,
    "start_time": "2023-04-05T22:11:38.303Z"
   },
   {
    "duration": 2,
    "start_time": "2023-04-05T22:11:38.529Z"
   },
   {
    "duration": 2414,
    "start_time": "2023-04-06T12:14:07.918Z"
   },
   {
    "duration": 104,
    "start_time": "2023-04-06T12:14:10.334Z"
   },
   {
    "duration": 10,
    "start_time": "2023-04-06T12:14:10.439Z"
   },
   {
    "duration": 11,
    "start_time": "2023-04-06T12:14:10.450Z"
   },
   {
    "duration": 5,
    "start_time": "2023-04-06T12:14:10.463Z"
   },
   {
    "duration": 18,
    "start_time": "2023-04-06T12:14:10.470Z"
   },
   {
    "duration": 3,
    "start_time": "2023-04-06T12:14:10.490Z"
   },
   {
    "duration": 831,
    "start_time": "2023-04-06T12:14:10.495Z"
   },
   {
    "duration": 5,
    "start_time": "2023-04-06T12:14:11.327Z"
   },
   {
    "duration": 11,
    "start_time": "2023-04-06T12:14:11.333Z"
   },
   {
    "duration": 21,
    "start_time": "2023-04-06T12:14:11.346Z"
   },
   {
    "duration": 20,
    "start_time": "2023-04-06T12:14:11.369Z"
   },
   {
    "duration": 23,
    "start_time": "2023-04-06T12:14:11.390Z"
   },
   {
    "duration": 17,
    "start_time": "2023-04-06T12:14:11.415Z"
   },
   {
    "duration": 17,
    "start_time": "2023-04-06T12:14:11.433Z"
   },
   {
    "duration": 17,
    "start_time": "2023-04-06T12:14:11.451Z"
   },
   {
    "duration": 15,
    "start_time": "2023-04-06T12:14:11.470Z"
   },
   {
    "duration": 186,
    "start_time": "2023-04-06T12:14:11.487Z"
   },
   {
    "duration": 5,
    "start_time": "2023-04-06T12:14:11.675Z"
   },
   {
    "duration": 13,
    "start_time": "2023-04-06T12:14:11.681Z"
   },
   {
    "duration": 82,
    "start_time": "2023-04-06T12:14:11.695Z"
   },
   {
    "duration": 103,
    "start_time": "2023-04-06T12:14:11.779Z"
   },
   {
    "duration": 2177,
    "start_time": "2023-04-06T22:10:15.960Z"
   },
   {
    "duration": 31,
    "start_time": "2023-04-06T22:10:18.140Z"
   },
   {
    "duration": 11,
    "start_time": "2023-04-06T22:10:18.173Z"
   },
   {
    "duration": 14,
    "start_time": "2023-04-06T22:10:18.187Z"
   },
   {
    "duration": 9,
    "start_time": "2023-04-06T22:10:18.202Z"
   },
   {
    "duration": 28,
    "start_time": "2023-04-06T22:10:18.212Z"
   },
   {
    "duration": 4,
    "start_time": "2023-04-06T22:10:18.242Z"
   },
   {
    "duration": 998,
    "start_time": "2023-04-06T22:10:18.248Z"
   },
   {
    "duration": 7,
    "start_time": "2023-04-06T22:10:19.248Z"
   },
   {
    "duration": 13,
    "start_time": "2023-04-06T22:10:19.258Z"
   },
   {
    "duration": 7,
    "start_time": "2023-04-06T22:10:19.273Z"
   },
   {
    "duration": 6,
    "start_time": "2023-04-06T22:10:19.282Z"
   },
   {
    "duration": 33,
    "start_time": "2023-04-06T22:10:19.290Z"
   },
   {
    "duration": 17,
    "start_time": "2023-04-06T22:10:19.325Z"
   },
   {
    "duration": 8,
    "start_time": "2023-04-06T22:10:19.344Z"
   },
   {
    "duration": 8,
    "start_time": "2023-04-06T22:10:19.354Z"
   },
   {
    "duration": 8,
    "start_time": "2023-04-06T22:10:19.364Z"
   },
   {
    "duration": 53,
    "start_time": "2023-04-06T22:10:19.374Z"
   },
   {
    "duration": 160,
    "start_time": "2023-04-06T22:10:19.429Z"
   },
   {
    "duration": 32,
    "start_time": "2023-04-06T22:10:19.590Z"
   },
   {
    "duration": 15,
    "start_time": "2023-04-06T22:10:19.623Z"
   },
   {
    "duration": 3,
    "start_time": "2023-04-06T22:10:19.640Z"
   }
  ],
  "kernelspec": {
   "display_name": "Python 3 (ipykernel)",
   "language": "python",
   "name": "python3"
  },
  "language_info": {
   "codemirror_mode": {
    "name": "ipython",
    "version": 3
   },
   "file_extension": ".py",
   "mimetype": "text/x-python",
   "name": "python",
   "nbconvert_exporter": "python",
   "pygments_lexer": "ipython3",
   "version": "3.11.3"
  },
  "toc": {
   "base_numbering": 1,
   "nav_menu": {},
   "number_sections": true,
   "sideBar": true,
   "skip_h1_title": true,
   "title_cell": "Содержание",
   "title_sidebar": "Contents",
   "toc_cell": true,
   "toc_position": {},
   "toc_section_display": true,
   "toc_window_display": true
  }
 },
 "nbformat": 4,
 "nbformat_minor": 2
}
