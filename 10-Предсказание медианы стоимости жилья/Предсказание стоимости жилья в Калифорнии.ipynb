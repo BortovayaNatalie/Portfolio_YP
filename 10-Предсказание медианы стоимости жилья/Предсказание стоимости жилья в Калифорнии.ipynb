{
 "cells": [
  {
   "cell_type": "markdown",
   "id": "GEqQaHzsZ_bA",
   "metadata": {
    "id": "GEqQaHzsZ_bA"
   },
   "source": [
    "## Описание проекта\n",
    "\n",
    "В проекте нужно обучить модель линейной регрессии на данных о жилье в Калифорнии в 1990 году. На основе данных нужно предсказать медианную стоимость дома в жилом массиве. Нужно обучить модель и сделать предсказания на тестовой выборке. Для оценки качества модели нужно использовать метрики RMSE, MAE и R2."
   ]
  },
  {
   "cell_type": "markdown",
   "id": "ecdd7449",
   "metadata": {},
   "source": [
    "### Описание дасета.\n",
    "\n",
    "В колонках датасета содержатся следующие данные:\n",
    "\n",
    "`longitude` — широта;  \n",
    "`latitude` — долгота;  \n",
    "`housing_median_age` — медианный возраст жителей жилого массива;  \n",
    "`total_rooms` — общее количество комнат в домах жилого массива;  \n",
    "`total_bedrooms` — общее количество спален в домах жилого массива;  \n",
    "`population` — количество человек, которые проживают в жилом массиве;  \n",
    "`households` — количество домовладений в жилом массиве;  \n",
    "`median_income` — медианный доход жителей жилого массива;  \n",
    "`median_house_value` — медианная стоимость дома в жилом массиве;  \n",
    "`ocean_proximity` — близость к океану.\n",
    "\n",
    "На основе данных нужно предсказать медианную стоимость дома в жилом массиве — `median_house_value`. "
   ]
  },
  {
   "cell_type": "markdown",
   "id": "b40a8be1",
   "metadata": {},
   "source": [
    "### План проекта\n",
    "\n",
    "1. Инициализировать локальную Spark-сессию.\n",
    "2. Вывести типы данных колонок датасета, используя методы pySpark.\n",
    "3. Вывести типы данных колонок датасета, используйте методы pySpark\n",
    "4. Выполнить предобработку данных:\n",
    "    * Исследовать данные на наличие пропусков и заполнить их, выбрав значения по своему усмотрению.\n",
    "    * Преобразовать колонку с категориальными значениями техникой `One hot encoding`.\n",
    "5. Построить две модели линейной регрессии на разных наборах данных:\n",
    "    * используя все данные из файла;\n",
    "    * используя только числовые переменные, исключив категориальные.   \n",
    "    Для построения модели использовать оценщик `LinearRegression` из библиотеки MLlib. \n",
    "6. Сравнить результаты работы линейной регрессии на двух наборах данных по метрикам `RMSE`, `MAE` и `R2`. Сделать выводы.\n",
    "\n"
   ]
  },
  {
   "cell_type": "markdown",
   "id": "53871372",
   "metadata": {
    "id": "53871372"
   },
   "source": [
    "## Подготовка данных"
   ]
  },
  {
   "cell_type": "markdown",
   "id": "3bf06a41",
   "metadata": {
    "id": "df92e3ec"
   },
   "source": [
    "### Подключаем библиотеки"
   ]
  },
  {
   "cell_type": "code",
   "execution_count": 250,
   "id": "05f41459",
   "metadata": {},
   "outputs": [],
   "source": [
    "import pandas as pd \n",
    "import numpy as np\n",
    "from joblib import dump\n",
    "import warnings\n",
    "warnings.filterwarnings('ignore')\n",
    "\n",
    "import seaborn as sns\n",
    "import matplotlib.pyplot as plt\n",
    "%matplotlib inline\n",
    "\n",
    "pd.set_option('display.max_rows', None)\n",
    "pd.set_option('display.max_columns', None)\n",
    "pd.set_option('display.max_colwidth', None)\n",
    "pd.set_option('display.float_format', lambda x: '%.3f' % x)\n",
    "\n",
    "import pyspark\n",
    "from pyspark.sql import SparkSession\n",
    "from pyspark.sql.types import *\n",
    "import pyspark.sql.functions as F\n",
    "\n",
    "from pyspark.ml.feature import StringIndexer, VectorAssembler, StandardScaler\n",
    "from pyspark.ml.feature import OneHotEncoder\n",
    "from pyspark.ml.regression import LinearRegression\n",
    "from pyspark.ml.evaluation import RegressionEvaluator\n",
    "from pyspark.mllib.evaluation import RegressionMetrics\n",
    "from pyspark.ml.tuning import CrossValidator, ParamGridBuilder\n",
    "\n",
    "RANDOM_SEED = 42"
   ]
  },
  {
   "cell_type": "markdown",
   "id": "836de516",
   "metadata": {},
   "source": [
    "### Инициализируем Spark-сессию"
   ]
  },
  {
   "cell_type": "code",
   "execution_count": 251,
   "id": "b67087c0",
   "metadata": {},
   "outputs": [],
   "source": [
    "spark = SparkSession.builder \\\n",
    "                    .master(\"local\") \\\n",
    "                    .appName(\"California Housing\") \\\n",
    "                    .getOrCreate()"
   ]
  },
  {
   "cell_type": "markdown",
   "id": "ffd36dad",
   "metadata": {},
   "source": [
    "### Загружаем датасет"
   ]
  },
  {
   "cell_type": "code",
   "execution_count": 252,
   "id": "9b37d642",
   "metadata": {},
   "outputs": [
    {
     "name": "stdout",
     "output_type": "stream",
     "text": [
      "root\n",
      " |-- longitude: double (nullable = true)\n",
      " |-- latitude: double (nullable = true)\n",
      " |-- housing_median_age: double (nullable = true)\n",
      " |-- total_rooms: double (nullable = true)\n",
      " |-- total_bedrooms: double (nullable = true)\n",
      " |-- population: double (nullable = true)\n",
      " |-- households: double (nullable = true)\n",
      " |-- median_income: double (nullable = true)\n",
      " |-- median_house_value: double (nullable = true)\n",
      " |-- ocean_proximity: string (nullable = true)\n",
      "\n"
     ]
    }
   ],
   "source": [
    "data_calif = spark.read.load('/datasets/housing.csv',\n",
    "                                        format='csv',\n",
    "                                             sep=',',\n",
    "                                    inferSchema=True,\n",
    "                                         header=True)\n",
    "\n",
    "#вывод схемы датафрейма\n",
    "data_calif.printSchema()"
   ]
  },
  {
   "cell_type": "markdown",
   "id": "d140d67a",
   "metadata": {},
   "source": [
    "### Выводим типы данных колонок датасета"
   ]
  },
  {
   "cell_type": "code",
   "execution_count": 253,
   "id": "2c9f277b",
   "metadata": {},
   "outputs": [
    {
     "data": {
      "text/html": [
       "<div>\n",
       "<style scoped>\n",
       "    .dataframe tbody tr th:only-of-type {\n",
       "        vertical-align: middle;\n",
       "    }\n",
       "\n",
       "    .dataframe tbody tr th {\n",
       "        vertical-align: top;\n",
       "    }\n",
       "\n",
       "    .dataframe thead th {\n",
       "        text-align: right;\n",
       "    }\n",
       "</style>\n",
       "<table border=\"1\" class=\"dataframe\">\n",
       "  <thead>\n",
       "    <tr style=\"text-align: right;\">\n",
       "      <th></th>\n",
       "      <th>column</th>\n",
       "      <th>type</th>\n",
       "    </tr>\n",
       "  </thead>\n",
       "  <tbody>\n",
       "    <tr>\n",
       "      <th>0</th>\n",
       "      <td>longitude</td>\n",
       "      <td>double</td>\n",
       "    </tr>\n",
       "    <tr>\n",
       "      <th>1</th>\n",
       "      <td>latitude</td>\n",
       "      <td>double</td>\n",
       "    </tr>\n",
       "    <tr>\n",
       "      <th>2</th>\n",
       "      <td>housing_median_age</td>\n",
       "      <td>double</td>\n",
       "    </tr>\n",
       "    <tr>\n",
       "      <th>3</th>\n",
       "      <td>total_rooms</td>\n",
       "      <td>double</td>\n",
       "    </tr>\n",
       "    <tr>\n",
       "      <th>4</th>\n",
       "      <td>total_bedrooms</td>\n",
       "      <td>double</td>\n",
       "    </tr>\n",
       "    <tr>\n",
       "      <th>5</th>\n",
       "      <td>population</td>\n",
       "      <td>double</td>\n",
       "    </tr>\n",
       "    <tr>\n",
       "      <th>6</th>\n",
       "      <td>households</td>\n",
       "      <td>double</td>\n",
       "    </tr>\n",
       "    <tr>\n",
       "      <th>7</th>\n",
       "      <td>median_income</td>\n",
       "      <td>double</td>\n",
       "    </tr>\n",
       "    <tr>\n",
       "      <th>8</th>\n",
       "      <td>median_house_value</td>\n",
       "      <td>double</td>\n",
       "    </tr>\n",
       "    <tr>\n",
       "      <th>9</th>\n",
       "      <td>ocean_proximity</td>\n",
       "      <td>string</td>\n",
       "    </tr>\n",
       "  </tbody>\n",
       "</table>\n",
       "</div>"
      ],
      "text/plain": [
       "               column    type\n",
       "0           longitude  double\n",
       "1            latitude  double\n",
       "2  housing_median_age  double\n",
       "3         total_rooms  double\n",
       "4      total_bedrooms  double\n",
       "5          population  double\n",
       "6          households  double\n",
       "7       median_income  double\n",
       "8  median_house_value  double\n",
       "9     ocean_proximity  string"
      ]
     },
     "execution_count": 253,
     "metadata": {},
     "output_type": "execute_result"
    }
   ],
   "source": [
    "pd.DataFrame(data_calif.dtypes, columns=['column', 'type'])"
   ]
  },
  {
   "cell_type": "markdown",
   "id": "1fc18489",
   "metadata": {},
   "source": [
    "Имеется всего один качественный признак `ocean_proximity`, имеющий тип `string`"
   ]
  },
  {
   "cell_type": "markdown",
   "id": "5915fc67",
   "metadata": {},
   "source": [
    "### Первичный анализ данных"
   ]
  },
  {
   "cell_type": "code",
   "execution_count": 254,
   "id": "a1a0ef80",
   "metadata": {},
   "outputs": [
    {
     "data": {
      "text/html": [
       "<div>\n",
       "<style scoped>\n",
       "    .dataframe tbody tr th:only-of-type {\n",
       "        vertical-align: middle;\n",
       "    }\n",
       "\n",
       "    .dataframe tbody tr th {\n",
       "        vertical-align: top;\n",
       "    }\n",
       "\n",
       "    .dataframe thead th {\n",
       "        text-align: right;\n",
       "    }\n",
       "</style>\n",
       "<table border=\"1\" class=\"dataframe\">\n",
       "  <thead>\n",
       "    <tr style=\"text-align: right;\">\n",
       "      <th></th>\n",
       "      <th>0</th>\n",
       "      <th>1</th>\n",
       "      <th>2</th>\n",
       "      <th>3</th>\n",
       "      <th>4</th>\n",
       "    </tr>\n",
       "  </thead>\n",
       "  <tbody>\n",
       "    <tr>\n",
       "      <th>longitude</th>\n",
       "      <td>-122.230</td>\n",
       "      <td>-122.220</td>\n",
       "      <td>-122.240</td>\n",
       "      <td>-122.250</td>\n",
       "      <td>-122.250</td>\n",
       "    </tr>\n",
       "    <tr>\n",
       "      <th>latitude</th>\n",
       "      <td>37.880</td>\n",
       "      <td>37.860</td>\n",
       "      <td>37.850</td>\n",
       "      <td>37.850</td>\n",
       "      <td>37.850</td>\n",
       "    </tr>\n",
       "    <tr>\n",
       "      <th>housing_median_age</th>\n",
       "      <td>41.000</td>\n",
       "      <td>21.000</td>\n",
       "      <td>52.000</td>\n",
       "      <td>52.000</td>\n",
       "      <td>52.000</td>\n",
       "    </tr>\n",
       "    <tr>\n",
       "      <th>total_rooms</th>\n",
       "      <td>880.000</td>\n",
       "      <td>7099.000</td>\n",
       "      <td>1467.000</td>\n",
       "      <td>1274.000</td>\n",
       "      <td>1627.000</td>\n",
       "    </tr>\n",
       "    <tr>\n",
       "      <th>total_bedrooms</th>\n",
       "      <td>129.000</td>\n",
       "      <td>1106.000</td>\n",
       "      <td>190.000</td>\n",
       "      <td>235.000</td>\n",
       "      <td>280.000</td>\n",
       "    </tr>\n",
       "    <tr>\n",
       "      <th>population</th>\n",
       "      <td>322.000</td>\n",
       "      <td>2401.000</td>\n",
       "      <td>496.000</td>\n",
       "      <td>558.000</td>\n",
       "      <td>565.000</td>\n",
       "    </tr>\n",
       "    <tr>\n",
       "      <th>households</th>\n",
       "      <td>126.000</td>\n",
       "      <td>1138.000</td>\n",
       "      <td>177.000</td>\n",
       "      <td>219.000</td>\n",
       "      <td>259.000</td>\n",
       "    </tr>\n",
       "    <tr>\n",
       "      <th>median_income</th>\n",
       "      <td>8.325</td>\n",
       "      <td>8.301</td>\n",
       "      <td>7.257</td>\n",
       "      <td>5.643</td>\n",
       "      <td>3.846</td>\n",
       "    </tr>\n",
       "    <tr>\n",
       "      <th>median_house_value</th>\n",
       "      <td>452600.000</td>\n",
       "      <td>358500.000</td>\n",
       "      <td>352100.000</td>\n",
       "      <td>341300.000</td>\n",
       "      <td>342200.000</td>\n",
       "    </tr>\n",
       "    <tr>\n",
       "      <th>ocean_proximity</th>\n",
       "      <td>NEAR BAY</td>\n",
       "      <td>NEAR BAY</td>\n",
       "      <td>NEAR BAY</td>\n",
       "      <td>NEAR BAY</td>\n",
       "      <td>NEAR BAY</td>\n",
       "    </tr>\n",
       "  </tbody>\n",
       "</table>\n",
       "</div>"
      ],
      "text/plain": [
       "                            0          1          2          3          4\n",
       "longitude            -122.230   -122.220   -122.240   -122.250   -122.250\n",
       "latitude               37.880     37.860     37.850     37.850     37.850\n",
       "housing_median_age     41.000     21.000     52.000     52.000     52.000\n",
       "total_rooms           880.000   7099.000   1467.000   1274.000   1627.000\n",
       "total_bedrooms        129.000   1106.000    190.000    235.000    280.000\n",
       "population            322.000   2401.000    496.000    558.000    565.000\n",
       "households            126.000   1138.000    177.000    219.000    259.000\n",
       "median_income           8.325      8.301      7.257      5.643      3.846\n",
       "median_house_value 452600.000 358500.000 352100.000 341300.000 342200.000\n",
       "ocean_proximity      NEAR BAY   NEAR BAY   NEAR BAY   NEAR BAY   NEAR BAY"
      ]
     },
     "execution_count": 254,
     "metadata": {},
     "output_type": "execute_result"
    }
   ],
   "source": [
    "# выводим первые пять строк датасета\n",
    "pd.DataFrame(data_calif.take(5), columns=data_calif.columns).T"
   ]
  },
  {
   "cell_type": "code",
   "execution_count": 255,
   "id": "1832f1ef",
   "metadata": {},
   "outputs": [
    {
     "name": "stdout",
     "output_type": "stream",
     "text": [
      "Количество строк данных 20640\n",
      "Количество столбцов данных 10\n"
     ]
    }
   ],
   "source": [
    "# выводим размеры датасета\n",
    "print('Количество строк данных', data_calif.count())\n",
    "print('Количество столбцов данных', len(data_calif.columns))"
   ]
  },
  {
   "cell_type": "code",
   "execution_count": 256,
   "id": "bfd1dfea",
   "metadata": {},
   "outputs": [
    {
     "name": "stderr",
     "output_type": "stream",
     "text": [
      "                                                                                \r"
     ]
    },
    {
     "data": {
      "text/html": [
       "<div>\n",
       "<style scoped>\n",
       "    .dataframe tbody tr th:only-of-type {\n",
       "        vertical-align: middle;\n",
       "    }\n",
       "\n",
       "    .dataframe tbody tr th {\n",
       "        vertical-align: top;\n",
       "    }\n",
       "\n",
       "    .dataframe thead th {\n",
       "        text-align: right;\n",
       "    }\n",
       "</style>\n",
       "<table border=\"1\" class=\"dataframe\">\n",
       "  <thead>\n",
       "    <tr style=\"text-align: right;\">\n",
       "      <th></th>\n",
       "      <th>ocean_proximity</th>\n",
       "      <th>count</th>\n",
       "    </tr>\n",
       "  </thead>\n",
       "  <tbody>\n",
       "    <tr>\n",
       "      <th>0</th>\n",
       "      <td>ISLAND</td>\n",
       "      <td>5</td>\n",
       "    </tr>\n",
       "    <tr>\n",
       "      <th>1</th>\n",
       "      <td>NEAR OCEAN</td>\n",
       "      <td>2658</td>\n",
       "    </tr>\n",
       "    <tr>\n",
       "      <th>2</th>\n",
       "      <td>NEAR BAY</td>\n",
       "      <td>2290</td>\n",
       "    </tr>\n",
       "    <tr>\n",
       "      <th>3</th>\n",
       "      <td>&lt;1H OCEAN</td>\n",
       "      <td>9136</td>\n",
       "    </tr>\n",
       "    <tr>\n",
       "      <th>4</th>\n",
       "      <td>INLAND</td>\n",
       "      <td>6551</td>\n",
       "    </tr>\n",
       "  </tbody>\n",
       "</table>\n",
       "</div>"
      ],
      "text/plain": [
       "  ocean_proximity  count\n",
       "0          ISLAND      5\n",
       "1      NEAR OCEAN   2658\n",
       "2        NEAR BAY   2290\n",
       "3       <1H OCEAN   9136\n",
       "4          INLAND   6551"
      ]
     },
     "execution_count": 256,
     "metadata": {},
     "output_type": "execute_result"
    }
   ],
   "source": [
    "# проверим данные, содержащиеся в единственном категориальном признаке\n",
    "data_calif.groupBy('ocean_proximity').count().toPandas()"
   ]
  },
  {
   "cell_type": "markdown",
   "id": "437505b5",
   "metadata": {},
   "source": [
    "Большинство недвижимости расположено в пределах часа езды от океана или на берегу океана. Тем не менее, вдалеке от океана расположено более 6500 домовладений. Обращает на себя очень маленькое количество домов на островах. С этими данными нужно быть острожнее."
   ]
  },
  {
   "cell_type": "code",
   "execution_count": 257,
   "id": "e7d6866e",
   "metadata": {},
   "outputs": [
    {
     "name": "stdout",
     "output_type": "stream",
     "text": [
      "Столбцы с количественными признаками: \n",
      " ['longitude', 'latitude', 'housing_median_age', 'total_rooms', 'total_bedrooms', 'population', 'households', 'median_income', 'median_house_value']\n"
     ]
    }
   ],
   "source": [
    "# отбор числовых колонок датасета\n",
    "small_tab = pd.DataFrame(data_calif.take(5), columns=data_calif.columns)\n",
    "numeric_cols = small_tab.select_dtypes(include=[np.number])\n",
    "data_calif_numeric_cols = numeric_cols.columns.values.tolist()\n",
    "print('Столбцы с количественными признаками: \\n', data_calif_numeric_cols)"
   ]
  },
  {
   "cell_type": "code",
   "execution_count": 258,
   "id": "df448c9a",
   "metadata": {
    "scrolled": true
   },
   "outputs": [
    {
     "name": "stderr",
     "output_type": "stream",
     "text": [
      "                                                                                \r"
     ]
    },
    {
     "data": {
      "text/html": [
       "<div>\n",
       "<style scoped>\n",
       "    .dataframe tbody tr th:only-of-type {\n",
       "        vertical-align: middle;\n",
       "    }\n",
       "\n",
       "    .dataframe tbody tr th {\n",
       "        vertical-align: top;\n",
       "    }\n",
       "\n",
       "    .dataframe thead th {\n",
       "        text-align: right;\n",
       "    }\n",
       "</style>\n",
       "<table border=\"1\" class=\"dataframe\">\n",
       "  <thead>\n",
       "    <tr style=\"text-align: right;\">\n",
       "      <th></th>\n",
       "      <th>0</th>\n",
       "      <th>1</th>\n",
       "      <th>2</th>\n",
       "      <th>3</th>\n",
       "      <th>4</th>\n",
       "      <th>5</th>\n",
       "      <th>6</th>\n",
       "      <th>7</th>\n",
       "    </tr>\n",
       "  </thead>\n",
       "  <tbody>\n",
       "    <tr>\n",
       "      <th>summary</th>\n",
       "      <td>count</td>\n",
       "      <td>mean</td>\n",
       "      <td>stddev</td>\n",
       "      <td>min</td>\n",
       "      <td>25%</td>\n",
       "      <td>50%</td>\n",
       "      <td>75%</td>\n",
       "      <td>max</td>\n",
       "    </tr>\n",
       "    <tr>\n",
       "      <th>longitude</th>\n",
       "      <td>20640</td>\n",
       "      <td>-119.56970445736148</td>\n",
       "      <td>2.003531723502584</td>\n",
       "      <td>-124.35</td>\n",
       "      <td>-121.8</td>\n",
       "      <td>-118.49</td>\n",
       "      <td>-118.01</td>\n",
       "      <td>-114.31</td>\n",
       "    </tr>\n",
       "    <tr>\n",
       "      <th>latitude</th>\n",
       "      <td>20640</td>\n",
       "      <td>35.6318614341087</td>\n",
       "      <td>2.135952397457101</td>\n",
       "      <td>32.54</td>\n",
       "      <td>33.93</td>\n",
       "      <td>34.26</td>\n",
       "      <td>37.71</td>\n",
       "      <td>41.95</td>\n",
       "    </tr>\n",
       "    <tr>\n",
       "      <th>housing_median_age</th>\n",
       "      <td>20640</td>\n",
       "      <td>28.639486434108527</td>\n",
       "      <td>12.58555761211163</td>\n",
       "      <td>1.0</td>\n",
       "      <td>18.0</td>\n",
       "      <td>29.0</td>\n",
       "      <td>37.0</td>\n",
       "      <td>52.0</td>\n",
       "    </tr>\n",
       "    <tr>\n",
       "      <th>total_rooms</th>\n",
       "      <td>20640</td>\n",
       "      <td>2635.7630813953488</td>\n",
       "      <td>2181.6152515827944</td>\n",
       "      <td>2.0</td>\n",
       "      <td>1447.0</td>\n",
       "      <td>2127.0</td>\n",
       "      <td>3146.0</td>\n",
       "      <td>39320.0</td>\n",
       "    </tr>\n",
       "    <tr>\n",
       "      <th>total_bedrooms</th>\n",
       "      <td>20433</td>\n",
       "      <td>537.8705525375618</td>\n",
       "      <td>421.38507007403115</td>\n",
       "      <td>1.0</td>\n",
       "      <td>296.0</td>\n",
       "      <td>435.0</td>\n",
       "      <td>647.0</td>\n",
       "      <td>6445.0</td>\n",
       "    </tr>\n",
       "    <tr>\n",
       "      <th>population</th>\n",
       "      <td>20640</td>\n",
       "      <td>1425.4767441860465</td>\n",
       "      <td>1132.46212176534</td>\n",
       "      <td>3.0</td>\n",
       "      <td>787.0</td>\n",
       "      <td>1166.0</td>\n",
       "      <td>1724.0</td>\n",
       "      <td>35682.0</td>\n",
       "    </tr>\n",
       "    <tr>\n",
       "      <th>households</th>\n",
       "      <td>20640</td>\n",
       "      <td>499.5396802325581</td>\n",
       "      <td>382.3297528316098</td>\n",
       "      <td>1.0</td>\n",
       "      <td>280.0</td>\n",
       "      <td>409.0</td>\n",
       "      <td>605.0</td>\n",
       "      <td>6082.0</td>\n",
       "    </tr>\n",
       "    <tr>\n",
       "      <th>median_income</th>\n",
       "      <td>20640</td>\n",
       "      <td>3.8706710029070246</td>\n",
       "      <td>1.899821717945263</td>\n",
       "      <td>0.4999</td>\n",
       "      <td>2.5625</td>\n",
       "      <td>3.5347</td>\n",
       "      <td>4.7426</td>\n",
       "      <td>15.0001</td>\n",
       "    </tr>\n",
       "    <tr>\n",
       "      <th>median_house_value</th>\n",
       "      <td>20640</td>\n",
       "      <td>206855.81690891474</td>\n",
       "      <td>115395.61587441359</td>\n",
       "      <td>14999.0</td>\n",
       "      <td>119600.0</td>\n",
       "      <td>179700.0</td>\n",
       "      <td>264700.0</td>\n",
       "      <td>500001.0</td>\n",
       "    </tr>\n",
       "  </tbody>\n",
       "</table>\n",
       "</div>"
      ],
      "text/plain": [
       "                        0                    1                   2        3  \\\n",
       "summary             count                 mean              stddev      min   \n",
       "longitude           20640  -119.56970445736148   2.003531723502584  -124.35   \n",
       "latitude            20640     35.6318614341087   2.135952397457101    32.54   \n",
       "housing_median_age  20640   28.639486434108527   12.58555761211163      1.0   \n",
       "total_rooms         20640   2635.7630813953488  2181.6152515827944      2.0   \n",
       "total_bedrooms      20433    537.8705525375618  421.38507007403115      1.0   \n",
       "population          20640   1425.4767441860465    1132.46212176534      3.0   \n",
       "households          20640    499.5396802325581   382.3297528316098      1.0   \n",
       "median_income       20640   3.8706710029070246   1.899821717945263   0.4999   \n",
       "median_house_value  20640   206855.81690891474  115395.61587441359  14999.0   \n",
       "\n",
       "                           4         5         6         7  \n",
       "summary                  25%       50%       75%       max  \n",
       "longitude             -121.8   -118.49   -118.01   -114.31  \n",
       "latitude               33.93     34.26     37.71     41.95  \n",
       "housing_median_age      18.0      29.0      37.0      52.0  \n",
       "total_rooms           1447.0    2127.0    3146.0   39320.0  \n",
       "total_bedrooms         296.0     435.0     647.0    6445.0  \n",
       "population             787.0    1166.0    1724.0   35682.0  \n",
       "households             280.0     409.0     605.0    6082.0  \n",
       "median_income         2.5625    3.5347    4.7426   15.0001  \n",
       "median_house_value  119600.0  179700.0  264700.0  500001.0  "
      ]
     },
     "execution_count": 258,
     "metadata": {},
     "output_type": "execute_result"
    }
   ],
   "source": [
    "# описание числовых колонок датасета\n",
    "data_calif.select(data_calif_numeric_cols).summary().toPandas().T"
   ]
  },
  {
   "cell_type": "markdown",
   "id": "da9bb17c",
   "metadata": {},
   "source": [
    "В столбце `total_bedrooms` выявлены пропуски."
   ]
  },
  {
   "cell_type": "markdown",
   "id": "7c042843",
   "metadata": {},
   "source": [
    "### Устраняем пропуски данных"
   ]
  },
  {
   "cell_type": "code",
   "execution_count": 259,
   "id": "1cc5a277",
   "metadata": {},
   "outputs": [
    {
     "data": {
      "text/html": [
       "<div>\n",
       "<style scoped>\n",
       "    .dataframe tbody tr th:only-of-type {\n",
       "        vertical-align: middle;\n",
       "    }\n",
       "\n",
       "    .dataframe tbody tr th {\n",
       "        vertical-align: top;\n",
       "    }\n",
       "\n",
       "    .dataframe thead th {\n",
       "        text-align: right;\n",
       "    }\n",
       "</style>\n",
       "<table border=\"1\" class=\"dataframe\">\n",
       "  <thead>\n",
       "    <tr style=\"text-align: right;\">\n",
       "      <th></th>\n",
       "      <th>longitude</th>\n",
       "      <th>latitude</th>\n",
       "      <th>housing_median_age</th>\n",
       "      <th>total_rooms</th>\n",
       "      <th>total_bedrooms</th>\n",
       "      <th>population</th>\n",
       "      <th>households</th>\n",
       "      <th>median_income</th>\n",
       "      <th>median_house_value</th>\n",
       "      <th>ocean_proximity</th>\n",
       "    </tr>\n",
       "  </thead>\n",
       "  <tbody>\n",
       "    <tr>\n",
       "      <th>0</th>\n",
       "      <td>-122.160</td>\n",
       "      <td>37.770</td>\n",
       "      <td>47.000</td>\n",
       "      <td>1256.000</td>\n",
       "      <td>NaN</td>\n",
       "      <td>570.000</td>\n",
       "      <td>218.000</td>\n",
       "      <td>4.375</td>\n",
       "      <td>161900.000</td>\n",
       "      <td>NEAR BAY</td>\n",
       "    </tr>\n",
       "    <tr>\n",
       "      <th>1</th>\n",
       "      <td>-122.170</td>\n",
       "      <td>37.750</td>\n",
       "      <td>38.000</td>\n",
       "      <td>992.000</td>\n",
       "      <td>NaN</td>\n",
       "      <td>732.000</td>\n",
       "      <td>259.000</td>\n",
       "      <td>1.620</td>\n",
       "      <td>85100.000</td>\n",
       "      <td>NEAR BAY</td>\n",
       "    </tr>\n",
       "    <tr>\n",
       "      <th>2</th>\n",
       "      <td>-122.280</td>\n",
       "      <td>37.780</td>\n",
       "      <td>29.000</td>\n",
       "      <td>5154.000</td>\n",
       "      <td>NaN</td>\n",
       "      <td>3741.000</td>\n",
       "      <td>1273.000</td>\n",
       "      <td>2.576</td>\n",
       "      <td>173400.000</td>\n",
       "      <td>NEAR BAY</td>\n",
       "    </tr>\n",
       "    <tr>\n",
       "      <th>3</th>\n",
       "      <td>-122.240</td>\n",
       "      <td>37.750</td>\n",
       "      <td>45.000</td>\n",
       "      <td>891.000</td>\n",
       "      <td>NaN</td>\n",
       "      <td>384.000</td>\n",
       "      <td>146.000</td>\n",
       "      <td>4.949</td>\n",
       "      <td>247100.000</td>\n",
       "      <td>NEAR BAY</td>\n",
       "    </tr>\n",
       "    <tr>\n",
       "      <th>4</th>\n",
       "      <td>-122.100</td>\n",
       "      <td>37.690</td>\n",
       "      <td>41.000</td>\n",
       "      <td>746.000</td>\n",
       "      <td>NaN</td>\n",
       "      <td>387.000</td>\n",
       "      <td>161.000</td>\n",
       "      <td>3.906</td>\n",
       "      <td>178400.000</td>\n",
       "      <td>NEAR BAY</td>\n",
       "    </tr>\n",
       "  </tbody>\n",
       "</table>\n",
       "</div>"
      ],
      "text/plain": [
       "   longitude  latitude  housing_median_age  total_rooms  total_bedrooms  \\\n",
       "0   -122.160    37.770              47.000     1256.000             NaN   \n",
       "1   -122.170    37.750              38.000      992.000             NaN   \n",
       "2   -122.280    37.780              29.000     5154.000             NaN   \n",
       "3   -122.240    37.750              45.000      891.000             NaN   \n",
       "4   -122.100    37.690              41.000      746.000             NaN   \n",
       "\n",
       "   population  households  median_income  median_house_value ocean_proximity  \n",
       "0     570.000     218.000          4.375          161900.000        NEAR BAY  \n",
       "1     732.000     259.000          1.620           85100.000        NEAR BAY  \n",
       "2    3741.000    1273.000          2.576          173400.000        NEAR BAY  \n",
       "3     384.000     146.000          4.949          247100.000        NEAR BAY  \n",
       "4     387.000     161.000          3.906          178400.000        NEAR BAY  "
      ]
     },
     "execution_count": 259,
     "metadata": {},
     "output_type": "execute_result"
    }
   ],
   "source": [
    "# посмотрим внимательнее на пропуски\n",
    "data_calif.filter(data_calif.total_bedrooms.isNull()).toPandas().head()"
   ]
  },
  {
   "cell_type": "code",
   "execution_count": 260,
   "id": "c1f9f1a1",
   "metadata": {},
   "outputs": [
    {
     "name": "stdout",
     "output_type": "stream",
     "text": [
      "Количество пропусков 207\n"
     ]
    }
   ],
   "source": [
    "print('Количество пропусков', data_calif.filter(data_calif.total_bedrooms.isNull()).count())"
   ]
  },
  {
   "cell_type": "code",
   "execution_count": 261,
   "id": "0caad4e9",
   "metadata": {},
   "outputs": [
    {
     "name": "stdout",
     "output_type": "stream",
     "text": [
      "Количество пропусков 0\n"
     ]
    }
   ],
   "source": [
    "# заменим пропуски средним значением\n",
    "mean = data_calif.select(F.mean('total_bedrooms')).collect()[0][0]\n",
    "data_calif = data_calif.na.fill({'total_bedrooms': mean})\n",
    "print('Количество пропусков', data_calif.filter(data_calif.total_bedrooms.isNull()).count())"
   ]
  },
  {
   "cell_type": "markdown",
   "id": "3bb50282",
   "metadata": {},
   "source": [
    "### Разделяем датасет на выборки"
   ]
  },
  {
   "cell_type": "code",
   "execution_count": 262,
   "id": "f5306809",
   "metadata": {},
   "outputs": [
    {
     "name": "stdout",
     "output_type": "stream",
     "text": [
      "16560 4080\n"
     ]
    }
   ],
   "source": [
    "train, test = data_calif.randomSplit([.8,.2], seed=RANDOM_SEED)\n",
    "print(train.count(), test.count())"
   ]
  },
  {
   "cell_type": "code",
   "execution_count": 263,
   "id": "408997e0",
   "metadata": {},
   "outputs": [
    {
     "data": {
      "text/html": [
       "<div>\n",
       "<style scoped>\n",
       "    .dataframe tbody tr th:only-of-type {\n",
       "        vertical-align: middle;\n",
       "    }\n",
       "\n",
       "    .dataframe tbody tr th {\n",
       "        vertical-align: top;\n",
       "    }\n",
       "\n",
       "    .dataframe thead th {\n",
       "        text-align: right;\n",
       "    }\n",
       "</style>\n",
       "<table border=\"1\" class=\"dataframe\">\n",
       "  <thead>\n",
       "    <tr style=\"text-align: right;\">\n",
       "      <th></th>\n",
       "      <th>0</th>\n",
       "      <th>1</th>\n",
       "      <th>2</th>\n",
       "      <th>3</th>\n",
       "      <th>4</th>\n",
       "    </tr>\n",
       "  </thead>\n",
       "  <tbody>\n",
       "    <tr>\n",
       "      <th>longitude</th>\n",
       "      <td>-124.350</td>\n",
       "      <td>-124.300</td>\n",
       "      <td>-124.270</td>\n",
       "      <td>-124.260</td>\n",
       "      <td>-124.250</td>\n",
       "    </tr>\n",
       "    <tr>\n",
       "      <th>latitude</th>\n",
       "      <td>40.540</td>\n",
       "      <td>41.800</td>\n",
       "      <td>40.690</td>\n",
       "      <td>40.580</td>\n",
       "      <td>40.280</td>\n",
       "    </tr>\n",
       "    <tr>\n",
       "      <th>housing_median_age</th>\n",
       "      <td>52.000</td>\n",
       "      <td>19.000</td>\n",
       "      <td>36.000</td>\n",
       "      <td>52.000</td>\n",
       "      <td>32.000</td>\n",
       "    </tr>\n",
       "    <tr>\n",
       "      <th>total_rooms</th>\n",
       "      <td>1820.000</td>\n",
       "      <td>2672.000</td>\n",
       "      <td>2349.000</td>\n",
       "      <td>2217.000</td>\n",
       "      <td>1430.000</td>\n",
       "    </tr>\n",
       "    <tr>\n",
       "      <th>total_bedrooms</th>\n",
       "      <td>300.000</td>\n",
       "      <td>552.000</td>\n",
       "      <td>528.000</td>\n",
       "      <td>394.000</td>\n",
       "      <td>419.000</td>\n",
       "    </tr>\n",
       "    <tr>\n",
       "      <th>population</th>\n",
       "      <td>806.000</td>\n",
       "      <td>1298.000</td>\n",
       "      <td>1194.000</td>\n",
       "      <td>907.000</td>\n",
       "      <td>434.000</td>\n",
       "    </tr>\n",
       "    <tr>\n",
       "      <th>households</th>\n",
       "      <td>270.000</td>\n",
       "      <td>478.000</td>\n",
       "      <td>465.000</td>\n",
       "      <td>369.000</td>\n",
       "      <td>187.000</td>\n",
       "    </tr>\n",
       "    <tr>\n",
       "      <th>median_income</th>\n",
       "      <td>3.015</td>\n",
       "      <td>1.980</td>\n",
       "      <td>2.518</td>\n",
       "      <td>2.357</td>\n",
       "      <td>1.942</td>\n",
       "    </tr>\n",
       "    <tr>\n",
       "      <th>median_house_value</th>\n",
       "      <td>94600.000</td>\n",
       "      <td>85800.000</td>\n",
       "      <td>79000.000</td>\n",
       "      <td>111400.000</td>\n",
       "      <td>76100.000</td>\n",
       "    </tr>\n",
       "    <tr>\n",
       "      <th>ocean_proximity</th>\n",
       "      <td>NEAR OCEAN</td>\n",
       "      <td>NEAR OCEAN</td>\n",
       "      <td>NEAR OCEAN</td>\n",
       "      <td>NEAR OCEAN</td>\n",
       "      <td>NEAR OCEAN</td>\n",
       "    </tr>\n",
       "  </tbody>\n",
       "</table>\n",
       "</div>"
      ],
      "text/plain": [
       "                             0           1           2           3           4\n",
       "longitude             -124.350    -124.300    -124.270    -124.260    -124.250\n",
       "latitude                40.540      41.800      40.690      40.580      40.280\n",
       "housing_median_age      52.000      19.000      36.000      52.000      32.000\n",
       "total_rooms           1820.000    2672.000    2349.000    2217.000    1430.000\n",
       "total_bedrooms         300.000     552.000     528.000     394.000     419.000\n",
       "population             806.000    1298.000    1194.000     907.000     434.000\n",
       "households             270.000     478.000     465.000     369.000     187.000\n",
       "median_income            3.015       1.980       2.518       2.357       1.942\n",
       "median_house_value   94600.000   85800.000   79000.000  111400.000   76100.000\n",
       "ocean_proximity     NEAR OCEAN  NEAR OCEAN  NEAR OCEAN  NEAR OCEAN  NEAR OCEAN"
      ]
     },
     "execution_count": 263,
     "metadata": {},
     "output_type": "execute_result"
    }
   ],
   "source": [
    "pd.DataFrame(train.take(5), columns=train.columns).T"
   ]
  },
  {
   "cell_type": "code",
   "execution_count": 264,
   "id": "55b17a94",
   "metadata": {},
   "outputs": [
    {
     "data": {
      "text/html": [
       "<div>\n",
       "<style scoped>\n",
       "    .dataframe tbody tr th:only-of-type {\n",
       "        vertical-align: middle;\n",
       "    }\n",
       "\n",
       "    .dataframe tbody tr th {\n",
       "        vertical-align: top;\n",
       "    }\n",
       "\n",
       "    .dataframe thead th {\n",
       "        text-align: right;\n",
       "    }\n",
       "</style>\n",
       "<table border=\"1\" class=\"dataframe\">\n",
       "  <thead>\n",
       "    <tr style=\"text-align: right;\">\n",
       "      <th></th>\n",
       "      <th>0</th>\n",
       "      <th>1</th>\n",
       "      <th>2</th>\n",
       "      <th>3</th>\n",
       "      <th>4</th>\n",
       "    </tr>\n",
       "  </thead>\n",
       "  <tbody>\n",
       "    <tr>\n",
       "      <th>longitude</th>\n",
       "      <td>-124.300</td>\n",
       "      <td>-124.230</td>\n",
       "      <td>-124.230</td>\n",
       "      <td>-124.190</td>\n",
       "      <td>-124.180</td>\n",
       "    </tr>\n",
       "    <tr>\n",
       "      <th>latitude</th>\n",
       "      <td>41.840</td>\n",
       "      <td>40.540</td>\n",
       "      <td>41.750</td>\n",
       "      <td>40.730</td>\n",
       "      <td>40.780</td>\n",
       "    </tr>\n",
       "    <tr>\n",
       "      <th>housing_median_age</th>\n",
       "      <td>17.000</td>\n",
       "      <td>52.000</td>\n",
       "      <td>11.000</td>\n",
       "      <td>21.000</td>\n",
       "      <td>34.000</td>\n",
       "    </tr>\n",
       "    <tr>\n",
       "      <th>total_rooms</th>\n",
       "      <td>2677.000</td>\n",
       "      <td>2694.000</td>\n",
       "      <td>3159.000</td>\n",
       "      <td>5694.000</td>\n",
       "      <td>1592.000</td>\n",
       "    </tr>\n",
       "    <tr>\n",
       "      <th>total_bedrooms</th>\n",
       "      <td>531.000</td>\n",
       "      <td>453.000</td>\n",
       "      <td>616.000</td>\n",
       "      <td>1056.000</td>\n",
       "      <td>364.000</td>\n",
       "    </tr>\n",
       "    <tr>\n",
       "      <th>population</th>\n",
       "      <td>1244.000</td>\n",
       "      <td>1152.000</td>\n",
       "      <td>1343.000</td>\n",
       "      <td>2907.000</td>\n",
       "      <td>950.000</td>\n",
       "    </tr>\n",
       "    <tr>\n",
       "      <th>households</th>\n",
       "      <td>456.000</td>\n",
       "      <td>435.000</td>\n",
       "      <td>479.000</td>\n",
       "      <td>972.000</td>\n",
       "      <td>317.000</td>\n",
       "    </tr>\n",
       "    <tr>\n",
       "      <th>median_income</th>\n",
       "      <td>3.031</td>\n",
       "      <td>3.081</td>\n",
       "      <td>2.481</td>\n",
       "      <td>3.536</td>\n",
       "      <td>2.161</td>\n",
       "    </tr>\n",
       "    <tr>\n",
       "      <th>median_house_value</th>\n",
       "      <td>103600.000</td>\n",
       "      <td>106700.000</td>\n",
       "      <td>73200.000</td>\n",
       "      <td>90100.000</td>\n",
       "      <td>67000.000</td>\n",
       "    </tr>\n",
       "    <tr>\n",
       "      <th>ocean_proximity</th>\n",
       "      <td>NEAR OCEAN</td>\n",
       "      <td>NEAR OCEAN</td>\n",
       "      <td>NEAR OCEAN</td>\n",
       "      <td>NEAR OCEAN</td>\n",
       "      <td>NEAR OCEAN</td>\n",
       "    </tr>\n",
       "  </tbody>\n",
       "</table>\n",
       "</div>"
      ],
      "text/plain": [
       "                             0           1           2           3           4\n",
       "longitude             -124.300    -124.230    -124.230    -124.190    -124.180\n",
       "latitude                41.840      40.540      41.750      40.730      40.780\n",
       "housing_median_age      17.000      52.000      11.000      21.000      34.000\n",
       "total_rooms           2677.000    2694.000    3159.000    5694.000    1592.000\n",
       "total_bedrooms         531.000     453.000     616.000    1056.000     364.000\n",
       "population            1244.000    1152.000    1343.000    2907.000     950.000\n",
       "households             456.000     435.000     479.000     972.000     317.000\n",
       "median_income            3.031       3.081       2.481       3.536       2.161\n",
       "median_house_value  103600.000  106700.000   73200.000   90100.000   67000.000\n",
       "ocean_proximity     NEAR OCEAN  NEAR OCEAN  NEAR OCEAN  NEAR OCEAN  NEAR OCEAN"
      ]
     },
     "execution_count": 264,
     "metadata": {},
     "output_type": "execute_result"
    }
   ],
   "source": [
    "pd.DataFrame(test.take(5), columns=test.columns).T"
   ]
  },
  {
   "cell_type": "markdown",
   "id": "4fd06b06",
   "metadata": {},
   "source": [
    "### Преобразование категориальных значений"
   ]
  },
  {
   "cell_type": "markdown",
   "id": "4363c7b2",
   "metadata": {},
   "source": [
    "#### StringIndexer  - преобразуем категориальный признак ocean_proximity из строковых значений в числовые."
   ]
  },
  {
   "cell_type": "code",
   "execution_count": 265,
   "id": "0e3244c6",
   "metadata": {},
   "outputs": [],
   "source": [
    "indexer = StringIndexer(inputCol = 'ocean_proximity', \n",
    "                        outputCol= 'ocean_proximity_idx')\n",
    "\n",
    "indexerModel = indexer.fit(train)\n",
    "\n",
    "train_idx = indexerModel.transform(train)\n",
    "train_idx = train_idx.drop('ocean_proximity')\n",
    "\n",
    "test_idx = indexerModel.transform(test)\n",
    "test_idx = test_idx.drop('ocean_proximity')"
   ]
  },
  {
   "cell_type": "code",
   "execution_count": 266,
   "id": "c0c643c3",
   "metadata": {},
   "outputs": [
    {
     "name": "stderr",
     "output_type": "stream",
     "text": [
      "                                                                                \r"
     ]
    },
    {
     "data": {
      "text/html": [
       "<div>\n",
       "<style scoped>\n",
       "    .dataframe tbody tr th:only-of-type {\n",
       "        vertical-align: middle;\n",
       "    }\n",
       "\n",
       "    .dataframe tbody tr th {\n",
       "        vertical-align: top;\n",
       "    }\n",
       "\n",
       "    .dataframe thead th {\n",
       "        text-align: right;\n",
       "    }\n",
       "</style>\n",
       "<table border=\"1\" class=\"dataframe\">\n",
       "  <thead>\n",
       "    <tr style=\"text-align: right;\">\n",
       "      <th></th>\n",
       "      <th>ocean_proximity_idx</th>\n",
       "      <th>count</th>\n",
       "    </tr>\n",
       "  </thead>\n",
       "  <tbody>\n",
       "    <tr>\n",
       "      <th>0</th>\n",
       "      <td>0.000</td>\n",
       "      <td>7268</td>\n",
       "    </tr>\n",
       "    <tr>\n",
       "      <th>1</th>\n",
       "      <td>1.000</td>\n",
       "      <td>5316</td>\n",
       "    </tr>\n",
       "    <tr>\n",
       "      <th>2</th>\n",
       "      <td>4.000</td>\n",
       "      <td>4</td>\n",
       "    </tr>\n",
       "    <tr>\n",
       "      <th>3</th>\n",
       "      <td>3.000</td>\n",
       "      <td>1855</td>\n",
       "    </tr>\n",
       "    <tr>\n",
       "      <th>4</th>\n",
       "      <td>2.000</td>\n",
       "      <td>2117</td>\n",
       "    </tr>\n",
       "  </tbody>\n",
       "</table>\n",
       "</div>"
      ],
      "text/plain": [
       "   ocean_proximity_idx  count\n",
       "0                0.000   7268\n",
       "1                1.000   5316\n",
       "2                4.000      4\n",
       "3                3.000   1855\n",
       "4                2.000   2117"
      ]
     },
     "execution_count": 266,
     "metadata": {},
     "output_type": "execute_result"
    }
   ],
   "source": [
    "train_idx.groupBy('ocean_proximity_idx').count().toPandas()"
   ]
  },
  {
   "cell_type": "code",
   "execution_count": 267,
   "id": "9e499cb9",
   "metadata": {},
   "outputs": [
    {
     "name": "stdout",
     "output_type": "stream",
     "text": [
      "root\n",
      " |-- longitude: double (nullable = true)\n",
      " |-- latitude: double (nullable = true)\n",
      " |-- housing_median_age: double (nullable = true)\n",
      " |-- total_rooms: double (nullable = true)\n",
      " |-- total_bedrooms: double (nullable = false)\n",
      " |-- population: double (nullable = true)\n",
      " |-- households: double (nullable = true)\n",
      " |-- median_income: double (nullable = true)\n",
      " |-- median_house_value: double (nullable = true)\n",
      " |-- ocean_proximity_idx: double (nullable = false)\n",
      "\n"
     ]
    }
   ],
   "source": [
    "train_idx.printSchema()"
   ]
  },
  {
   "cell_type": "code",
   "execution_count": 268,
   "id": "625e9eca",
   "metadata": {},
   "outputs": [
    {
     "name": "stderr",
     "output_type": "stream",
     "text": [
      "                                                                                \r"
     ]
    },
    {
     "data": {
      "text/html": [
       "<div>\n",
       "<style scoped>\n",
       "    .dataframe tbody tr th:only-of-type {\n",
       "        vertical-align: middle;\n",
       "    }\n",
       "\n",
       "    .dataframe tbody tr th {\n",
       "        vertical-align: top;\n",
       "    }\n",
       "\n",
       "    .dataframe thead th {\n",
       "        text-align: right;\n",
       "    }\n",
       "</style>\n",
       "<table border=\"1\" class=\"dataframe\">\n",
       "  <thead>\n",
       "    <tr style=\"text-align: right;\">\n",
       "      <th></th>\n",
       "      <th>ocean_proximity_idx</th>\n",
       "      <th>count</th>\n",
       "    </tr>\n",
       "  </thead>\n",
       "  <tbody>\n",
       "    <tr>\n",
       "      <th>0</th>\n",
       "      <td>0.000</td>\n",
       "      <td>1868</td>\n",
       "    </tr>\n",
       "    <tr>\n",
       "      <th>1</th>\n",
       "      <td>1.000</td>\n",
       "      <td>1235</td>\n",
       "    </tr>\n",
       "    <tr>\n",
       "      <th>2</th>\n",
       "      <td>4.000</td>\n",
       "      <td>1</td>\n",
       "    </tr>\n",
       "    <tr>\n",
       "      <th>3</th>\n",
       "      <td>3.000</td>\n",
       "      <td>435</td>\n",
       "    </tr>\n",
       "    <tr>\n",
       "      <th>4</th>\n",
       "      <td>2.000</td>\n",
       "      <td>541</td>\n",
       "    </tr>\n",
       "  </tbody>\n",
       "</table>\n",
       "</div>"
      ],
      "text/plain": [
       "   ocean_proximity_idx  count\n",
       "0                0.000   1868\n",
       "1                1.000   1235\n",
       "2                4.000      1\n",
       "3                3.000    435\n",
       "4                2.000    541"
      ]
     },
     "execution_count": 268,
     "metadata": {},
     "output_type": "execute_result"
    }
   ],
   "source": [
    "test_idx.groupBy('ocean_proximity_idx').count().toPandas()"
   ]
  },
  {
   "cell_type": "code",
   "execution_count": 269,
   "id": "e88385ec",
   "metadata": {},
   "outputs": [
    {
     "name": "stdout",
     "output_type": "stream",
     "text": [
      "root\n",
      " |-- longitude: double (nullable = true)\n",
      " |-- latitude: double (nullable = true)\n",
      " |-- housing_median_age: double (nullable = true)\n",
      " |-- total_rooms: double (nullable = true)\n",
      " |-- total_bedrooms: double (nullable = false)\n",
      " |-- population: double (nullable = true)\n",
      " |-- households: double (nullable = true)\n",
      " |-- median_income: double (nullable = true)\n",
      " |-- median_house_value: double (nullable = true)\n",
      " |-- ocean_proximity_idx: double (nullable = false)\n",
      "\n"
     ]
    }
   ],
   "source": [
    "test_idx.printSchema()"
   ]
  },
  {
   "cell_type": "markdown",
   "id": "b866cff1",
   "metadata": {},
   "source": [
    "#### OneHotEncoding - продолжаем преобразование категориального признака"
   ]
  },
  {
   "cell_type": "code",
   "execution_count": 270,
   "id": "811ae305",
   "metadata": {},
   "outputs": [],
   "source": [
    "encoder = OneHotEncoder(inputCol = 'ocean_proximity_idx', \n",
    "                        outputCol = 'ocean_proximity_ohe')\n",
    "encoderModel = encoder.fit(train_idx)\n",
    "\n",
    "train_ohe = encoderModel.transform(train_idx)\n",
    "\n",
    "test_ohe = encoderModel.transform(test_idx)"
   ]
  },
  {
   "cell_type": "code",
   "execution_count": 271,
   "id": "6f77fb4d",
   "metadata": {},
   "outputs": [
    {
     "data": {
      "text/html": [
       "<div>\n",
       "<style scoped>\n",
       "    .dataframe tbody tr th:only-of-type {\n",
       "        vertical-align: middle;\n",
       "    }\n",
       "\n",
       "    .dataframe tbody tr th {\n",
       "        vertical-align: top;\n",
       "    }\n",
       "\n",
       "    .dataframe thead th {\n",
       "        text-align: right;\n",
       "    }\n",
       "</style>\n",
       "<table border=\"1\" class=\"dataframe\">\n",
       "  <thead>\n",
       "    <tr style=\"text-align: right;\">\n",
       "      <th></th>\n",
       "      <th>0</th>\n",
       "      <th>1</th>\n",
       "      <th>2</th>\n",
       "      <th>3</th>\n",
       "      <th>4</th>\n",
       "    </tr>\n",
       "  </thead>\n",
       "  <tbody>\n",
       "    <tr>\n",
       "      <th>longitude</th>\n",
       "      <td>-124.350</td>\n",
       "      <td>-124.300</td>\n",
       "      <td>-124.270</td>\n",
       "      <td>-124.260</td>\n",
       "      <td>-124.250</td>\n",
       "    </tr>\n",
       "    <tr>\n",
       "      <th>latitude</th>\n",
       "      <td>40.540</td>\n",
       "      <td>41.800</td>\n",
       "      <td>40.690</td>\n",
       "      <td>40.580</td>\n",
       "      <td>40.280</td>\n",
       "    </tr>\n",
       "    <tr>\n",
       "      <th>housing_median_age</th>\n",
       "      <td>52.000</td>\n",
       "      <td>19.000</td>\n",
       "      <td>36.000</td>\n",
       "      <td>52.000</td>\n",
       "      <td>32.000</td>\n",
       "    </tr>\n",
       "    <tr>\n",
       "      <th>total_rooms</th>\n",
       "      <td>1820.000</td>\n",
       "      <td>2672.000</td>\n",
       "      <td>2349.000</td>\n",
       "      <td>2217.000</td>\n",
       "      <td>1430.000</td>\n",
       "    </tr>\n",
       "    <tr>\n",
       "      <th>total_bedrooms</th>\n",
       "      <td>300.000</td>\n",
       "      <td>552.000</td>\n",
       "      <td>528.000</td>\n",
       "      <td>394.000</td>\n",
       "      <td>419.000</td>\n",
       "    </tr>\n",
       "    <tr>\n",
       "      <th>population</th>\n",
       "      <td>806.000</td>\n",
       "      <td>1298.000</td>\n",
       "      <td>1194.000</td>\n",
       "      <td>907.000</td>\n",
       "      <td>434.000</td>\n",
       "    </tr>\n",
       "    <tr>\n",
       "      <th>households</th>\n",
       "      <td>270.000</td>\n",
       "      <td>478.000</td>\n",
       "      <td>465.000</td>\n",
       "      <td>369.000</td>\n",
       "      <td>187.000</td>\n",
       "    </tr>\n",
       "    <tr>\n",
       "      <th>median_income</th>\n",
       "      <td>3.015</td>\n",
       "      <td>1.980</td>\n",
       "      <td>2.518</td>\n",
       "      <td>2.357</td>\n",
       "      <td>1.942</td>\n",
       "    </tr>\n",
       "    <tr>\n",
       "      <th>median_house_value</th>\n",
       "      <td>94600.000</td>\n",
       "      <td>85800.000</td>\n",
       "      <td>79000.000</td>\n",
       "      <td>111400.000</td>\n",
       "      <td>76100.000</td>\n",
       "    </tr>\n",
       "    <tr>\n",
       "      <th>ocean_proximity_idx</th>\n",
       "      <td>2.000</td>\n",
       "      <td>2.000</td>\n",
       "      <td>2.000</td>\n",
       "      <td>2.000</td>\n",
       "      <td>2.000</td>\n",
       "    </tr>\n",
       "    <tr>\n",
       "      <th>ocean_proximity_ohe</th>\n",
       "      <td>(0.0, 0.0, 1.0, 0.0)</td>\n",
       "      <td>(0.0, 0.0, 1.0, 0.0)</td>\n",
       "      <td>(0.0, 0.0, 1.0, 0.0)</td>\n",
       "      <td>(0.0, 0.0, 1.0, 0.0)</td>\n",
       "      <td>(0.0, 0.0, 1.0, 0.0)</td>\n",
       "    </tr>\n",
       "  </tbody>\n",
       "</table>\n",
       "</div>"
      ],
      "text/plain": [
       "                                        0                     1  \\\n",
       "longitude                        -124.350              -124.300   \n",
       "latitude                           40.540                41.800   \n",
       "housing_median_age                 52.000                19.000   \n",
       "total_rooms                      1820.000              2672.000   \n",
       "total_bedrooms                    300.000               552.000   \n",
       "population                        806.000              1298.000   \n",
       "households                        270.000               478.000   \n",
       "median_income                       3.015                 1.980   \n",
       "median_house_value              94600.000             85800.000   \n",
       "ocean_proximity_idx                 2.000                 2.000   \n",
       "ocean_proximity_ohe  (0.0, 0.0, 1.0, 0.0)  (0.0, 0.0, 1.0, 0.0)   \n",
       "\n",
       "                                        2                     3  \\\n",
       "longitude                        -124.270              -124.260   \n",
       "latitude                           40.690                40.580   \n",
       "housing_median_age                 36.000                52.000   \n",
       "total_rooms                      2349.000              2217.000   \n",
       "total_bedrooms                    528.000               394.000   \n",
       "population                       1194.000               907.000   \n",
       "households                        465.000               369.000   \n",
       "median_income                       2.518                 2.357   \n",
       "median_house_value              79000.000            111400.000   \n",
       "ocean_proximity_idx                 2.000                 2.000   \n",
       "ocean_proximity_ohe  (0.0, 0.0, 1.0, 0.0)  (0.0, 0.0, 1.0, 0.0)   \n",
       "\n",
       "                                        4  \n",
       "longitude                        -124.250  \n",
       "latitude                           40.280  \n",
       "housing_median_age                 32.000  \n",
       "total_rooms                      1430.000  \n",
       "total_bedrooms                    419.000  \n",
       "population                        434.000  \n",
       "households                        187.000  \n",
       "median_income                       1.942  \n",
       "median_house_value              76100.000  \n",
       "ocean_proximity_idx                 2.000  \n",
       "ocean_proximity_ohe  (0.0, 0.0, 1.0, 0.0)  "
      ]
     },
     "execution_count": 271,
     "metadata": {},
     "output_type": "execute_result"
    }
   ],
   "source": [
    "pd.DataFrame(train_ohe.take(5), columns=train_ohe.columns).T"
   ]
  },
  {
   "cell_type": "code",
   "execution_count": 272,
   "id": "4ce29177",
   "metadata": {},
   "outputs": [
    {
     "data": {
      "text/html": [
       "<div>\n",
       "<style scoped>\n",
       "    .dataframe tbody tr th:only-of-type {\n",
       "        vertical-align: middle;\n",
       "    }\n",
       "\n",
       "    .dataframe tbody tr th {\n",
       "        vertical-align: top;\n",
       "    }\n",
       "\n",
       "    .dataframe thead th {\n",
       "        text-align: right;\n",
       "    }\n",
       "</style>\n",
       "<table border=\"1\" class=\"dataframe\">\n",
       "  <thead>\n",
       "    <tr style=\"text-align: right;\">\n",
       "      <th></th>\n",
       "      <th>0</th>\n",
       "      <th>1</th>\n",
       "      <th>2</th>\n",
       "      <th>3</th>\n",
       "      <th>4</th>\n",
       "    </tr>\n",
       "  </thead>\n",
       "  <tbody>\n",
       "    <tr>\n",
       "      <th>longitude</th>\n",
       "      <td>-124.300</td>\n",
       "      <td>-124.230</td>\n",
       "      <td>-124.230</td>\n",
       "      <td>-124.190</td>\n",
       "      <td>-124.180</td>\n",
       "    </tr>\n",
       "    <tr>\n",
       "      <th>latitude</th>\n",
       "      <td>41.840</td>\n",
       "      <td>40.540</td>\n",
       "      <td>41.750</td>\n",
       "      <td>40.730</td>\n",
       "      <td>40.780</td>\n",
       "    </tr>\n",
       "    <tr>\n",
       "      <th>housing_median_age</th>\n",
       "      <td>17.000</td>\n",
       "      <td>52.000</td>\n",
       "      <td>11.000</td>\n",
       "      <td>21.000</td>\n",
       "      <td>34.000</td>\n",
       "    </tr>\n",
       "    <tr>\n",
       "      <th>total_rooms</th>\n",
       "      <td>2677.000</td>\n",
       "      <td>2694.000</td>\n",
       "      <td>3159.000</td>\n",
       "      <td>5694.000</td>\n",
       "      <td>1592.000</td>\n",
       "    </tr>\n",
       "    <tr>\n",
       "      <th>total_bedrooms</th>\n",
       "      <td>531.000</td>\n",
       "      <td>453.000</td>\n",
       "      <td>616.000</td>\n",
       "      <td>1056.000</td>\n",
       "      <td>364.000</td>\n",
       "    </tr>\n",
       "    <tr>\n",
       "      <th>population</th>\n",
       "      <td>1244.000</td>\n",
       "      <td>1152.000</td>\n",
       "      <td>1343.000</td>\n",
       "      <td>2907.000</td>\n",
       "      <td>950.000</td>\n",
       "    </tr>\n",
       "    <tr>\n",
       "      <th>households</th>\n",
       "      <td>456.000</td>\n",
       "      <td>435.000</td>\n",
       "      <td>479.000</td>\n",
       "      <td>972.000</td>\n",
       "      <td>317.000</td>\n",
       "    </tr>\n",
       "    <tr>\n",
       "      <th>median_income</th>\n",
       "      <td>3.031</td>\n",
       "      <td>3.081</td>\n",
       "      <td>2.481</td>\n",
       "      <td>3.536</td>\n",
       "      <td>2.161</td>\n",
       "    </tr>\n",
       "    <tr>\n",
       "      <th>median_house_value</th>\n",
       "      <td>103600.000</td>\n",
       "      <td>106700.000</td>\n",
       "      <td>73200.000</td>\n",
       "      <td>90100.000</td>\n",
       "      <td>67000.000</td>\n",
       "    </tr>\n",
       "    <tr>\n",
       "      <th>ocean_proximity_idx</th>\n",
       "      <td>2.000</td>\n",
       "      <td>2.000</td>\n",
       "      <td>2.000</td>\n",
       "      <td>2.000</td>\n",
       "      <td>2.000</td>\n",
       "    </tr>\n",
       "    <tr>\n",
       "      <th>ocean_proximity_ohe</th>\n",
       "      <td>(0.0, 0.0, 1.0, 0.0)</td>\n",
       "      <td>(0.0, 0.0, 1.0, 0.0)</td>\n",
       "      <td>(0.0, 0.0, 1.0, 0.0)</td>\n",
       "      <td>(0.0, 0.0, 1.0, 0.0)</td>\n",
       "      <td>(0.0, 0.0, 1.0, 0.0)</td>\n",
       "    </tr>\n",
       "  </tbody>\n",
       "</table>\n",
       "</div>"
      ],
      "text/plain": [
       "                                        0                     1  \\\n",
       "longitude                        -124.300              -124.230   \n",
       "latitude                           41.840                40.540   \n",
       "housing_median_age                 17.000                52.000   \n",
       "total_rooms                      2677.000              2694.000   \n",
       "total_bedrooms                    531.000               453.000   \n",
       "population                       1244.000              1152.000   \n",
       "households                        456.000               435.000   \n",
       "median_income                       3.031                 3.081   \n",
       "median_house_value             103600.000            106700.000   \n",
       "ocean_proximity_idx                 2.000                 2.000   \n",
       "ocean_proximity_ohe  (0.0, 0.0, 1.0, 0.0)  (0.0, 0.0, 1.0, 0.0)   \n",
       "\n",
       "                                        2                     3  \\\n",
       "longitude                        -124.230              -124.190   \n",
       "latitude                           41.750                40.730   \n",
       "housing_median_age                 11.000                21.000   \n",
       "total_rooms                      3159.000              5694.000   \n",
       "total_bedrooms                    616.000              1056.000   \n",
       "population                       1343.000              2907.000   \n",
       "households                        479.000               972.000   \n",
       "median_income                       2.481                 3.536   \n",
       "median_house_value              73200.000             90100.000   \n",
       "ocean_proximity_idx                 2.000                 2.000   \n",
       "ocean_proximity_ohe  (0.0, 0.0, 1.0, 0.0)  (0.0, 0.0, 1.0, 0.0)   \n",
       "\n",
       "                                        4  \n",
       "longitude                        -124.180  \n",
       "latitude                           40.780  \n",
       "housing_median_age                 34.000  \n",
       "total_rooms                      1592.000  \n",
       "total_bedrooms                    364.000  \n",
       "population                        950.000  \n",
       "households                        317.000  \n",
       "median_income                       2.161  \n",
       "median_house_value              67000.000  \n",
       "ocean_proximity_idx                 2.000  \n",
       "ocean_proximity_ohe  (0.0, 0.0, 1.0, 0.0)  "
      ]
     },
     "execution_count": 272,
     "metadata": {},
     "output_type": "execute_result"
    }
   ],
   "source": [
    "pd.DataFrame(test_ohe.take(5), columns=test_ohe.columns).T"
   ]
  },
  {
   "cell_type": "markdown",
   "id": "2746a861",
   "metadata": {},
   "source": [
    "#### VectorAssembler - преобразуем признак в вектор"
   ]
  },
  {
   "cell_type": "code",
   "execution_count": 273,
   "id": "a209416e",
   "metadata": {},
   "outputs": [],
   "source": [
    "categorical_assembler = \\\n",
    "    VectorAssembler(inputCols=['ocean_proximity_ohe'],\n",
    "                    outputCol='ocean_proximity_va')\n",
    "\n",
    "train_va = categorical_assembler.transform(train_ohe)\n",
    "test_va = categorical_assembler.transform(test_ohe)"
   ]
  },
  {
   "cell_type": "code",
   "execution_count": 274,
   "id": "e62ec797",
   "metadata": {},
   "outputs": [
    {
     "data": {
      "text/html": [
       "<div>\n",
       "<style scoped>\n",
       "    .dataframe tbody tr th:only-of-type {\n",
       "        vertical-align: middle;\n",
       "    }\n",
       "\n",
       "    .dataframe tbody tr th {\n",
       "        vertical-align: top;\n",
       "    }\n",
       "\n",
       "    .dataframe thead th {\n",
       "        text-align: right;\n",
       "    }\n",
       "</style>\n",
       "<table border=\"1\" class=\"dataframe\">\n",
       "  <thead>\n",
       "    <tr style=\"text-align: right;\">\n",
       "      <th></th>\n",
       "      <th>0</th>\n",
       "      <th>1</th>\n",
       "      <th>2</th>\n",
       "      <th>3</th>\n",
       "      <th>4</th>\n",
       "    </tr>\n",
       "  </thead>\n",
       "  <tbody>\n",
       "    <tr>\n",
       "      <th>longitude</th>\n",
       "      <td>-124.350</td>\n",
       "      <td>-124.300</td>\n",
       "      <td>-124.270</td>\n",
       "      <td>-124.260</td>\n",
       "      <td>-124.250</td>\n",
       "    </tr>\n",
       "    <tr>\n",
       "      <th>latitude</th>\n",
       "      <td>40.540</td>\n",
       "      <td>41.800</td>\n",
       "      <td>40.690</td>\n",
       "      <td>40.580</td>\n",
       "      <td>40.280</td>\n",
       "    </tr>\n",
       "    <tr>\n",
       "      <th>housing_median_age</th>\n",
       "      <td>52.000</td>\n",
       "      <td>19.000</td>\n",
       "      <td>36.000</td>\n",
       "      <td>52.000</td>\n",
       "      <td>32.000</td>\n",
       "    </tr>\n",
       "    <tr>\n",
       "      <th>total_rooms</th>\n",
       "      <td>1820.000</td>\n",
       "      <td>2672.000</td>\n",
       "      <td>2349.000</td>\n",
       "      <td>2217.000</td>\n",
       "      <td>1430.000</td>\n",
       "    </tr>\n",
       "    <tr>\n",
       "      <th>total_bedrooms</th>\n",
       "      <td>300.000</td>\n",
       "      <td>552.000</td>\n",
       "      <td>528.000</td>\n",
       "      <td>394.000</td>\n",
       "      <td>419.000</td>\n",
       "    </tr>\n",
       "    <tr>\n",
       "      <th>population</th>\n",
       "      <td>806.000</td>\n",
       "      <td>1298.000</td>\n",
       "      <td>1194.000</td>\n",
       "      <td>907.000</td>\n",
       "      <td>434.000</td>\n",
       "    </tr>\n",
       "    <tr>\n",
       "      <th>households</th>\n",
       "      <td>270.000</td>\n",
       "      <td>478.000</td>\n",
       "      <td>465.000</td>\n",
       "      <td>369.000</td>\n",
       "      <td>187.000</td>\n",
       "    </tr>\n",
       "    <tr>\n",
       "      <th>median_income</th>\n",
       "      <td>3.015</td>\n",
       "      <td>1.980</td>\n",
       "      <td>2.518</td>\n",
       "      <td>2.357</td>\n",
       "      <td>1.942</td>\n",
       "    </tr>\n",
       "    <tr>\n",
       "      <th>median_house_value</th>\n",
       "      <td>94600.000</td>\n",
       "      <td>85800.000</td>\n",
       "      <td>79000.000</td>\n",
       "      <td>111400.000</td>\n",
       "      <td>76100.000</td>\n",
       "    </tr>\n",
       "    <tr>\n",
       "      <th>ocean_proximity_idx</th>\n",
       "      <td>2.000</td>\n",
       "      <td>2.000</td>\n",
       "      <td>2.000</td>\n",
       "      <td>2.000</td>\n",
       "      <td>2.000</td>\n",
       "    </tr>\n",
       "    <tr>\n",
       "      <th>ocean_proximity_ohe</th>\n",
       "      <td>(0.0, 0.0, 1.0, 0.0)</td>\n",
       "      <td>(0.0, 0.0, 1.0, 0.0)</td>\n",
       "      <td>(0.0, 0.0, 1.0, 0.0)</td>\n",
       "      <td>(0.0, 0.0, 1.0, 0.0)</td>\n",
       "      <td>(0.0, 0.0, 1.0, 0.0)</td>\n",
       "    </tr>\n",
       "    <tr>\n",
       "      <th>ocean_proximity_va</th>\n",
       "      <td>(0.0, 0.0, 1.0, 0.0)</td>\n",
       "      <td>(0.0, 0.0, 1.0, 0.0)</td>\n",
       "      <td>(0.0, 0.0, 1.0, 0.0)</td>\n",
       "      <td>(0.0, 0.0, 1.0, 0.0)</td>\n",
       "      <td>(0.0, 0.0, 1.0, 0.0)</td>\n",
       "    </tr>\n",
       "  </tbody>\n",
       "</table>\n",
       "</div>"
      ],
      "text/plain": [
       "                                        0                     1  \\\n",
       "longitude                        -124.350              -124.300   \n",
       "latitude                           40.540                41.800   \n",
       "housing_median_age                 52.000                19.000   \n",
       "total_rooms                      1820.000              2672.000   \n",
       "total_bedrooms                    300.000               552.000   \n",
       "population                        806.000              1298.000   \n",
       "households                        270.000               478.000   \n",
       "median_income                       3.015                 1.980   \n",
       "median_house_value              94600.000             85800.000   \n",
       "ocean_proximity_idx                 2.000                 2.000   \n",
       "ocean_proximity_ohe  (0.0, 0.0, 1.0, 0.0)  (0.0, 0.0, 1.0, 0.0)   \n",
       "ocean_proximity_va   (0.0, 0.0, 1.0, 0.0)  (0.0, 0.0, 1.0, 0.0)   \n",
       "\n",
       "                                        2                     3  \\\n",
       "longitude                        -124.270              -124.260   \n",
       "latitude                           40.690                40.580   \n",
       "housing_median_age                 36.000                52.000   \n",
       "total_rooms                      2349.000              2217.000   \n",
       "total_bedrooms                    528.000               394.000   \n",
       "population                       1194.000               907.000   \n",
       "households                        465.000               369.000   \n",
       "median_income                       2.518                 2.357   \n",
       "median_house_value              79000.000            111400.000   \n",
       "ocean_proximity_idx                 2.000                 2.000   \n",
       "ocean_proximity_ohe  (0.0, 0.0, 1.0, 0.0)  (0.0, 0.0, 1.0, 0.0)   \n",
       "ocean_proximity_va   (0.0, 0.0, 1.0, 0.0)  (0.0, 0.0, 1.0, 0.0)   \n",
       "\n",
       "                                        4  \n",
       "longitude                        -124.250  \n",
       "latitude                           40.280  \n",
       "housing_median_age                 32.000  \n",
       "total_rooms                      1430.000  \n",
       "total_bedrooms                    419.000  \n",
       "population                        434.000  \n",
       "households                        187.000  \n",
       "median_income                       1.942  \n",
       "median_house_value              76100.000  \n",
       "ocean_proximity_idx                 2.000  \n",
       "ocean_proximity_ohe  (0.0, 0.0, 1.0, 0.0)  \n",
       "ocean_proximity_va   (0.0, 0.0, 1.0, 0.0)  "
      ]
     },
     "execution_count": 274,
     "metadata": {},
     "output_type": "execute_result"
    }
   ],
   "source": [
    "pd.DataFrame(train_va.take(5), columns=train_va.columns).T"
   ]
  },
  {
   "cell_type": "code",
   "execution_count": 275,
   "id": "f902e953",
   "metadata": {},
   "outputs": [
    {
     "data": {
      "text/html": [
       "<div>\n",
       "<style scoped>\n",
       "    .dataframe tbody tr th:only-of-type {\n",
       "        vertical-align: middle;\n",
       "    }\n",
       "\n",
       "    .dataframe tbody tr th {\n",
       "        vertical-align: top;\n",
       "    }\n",
       "\n",
       "    .dataframe thead th {\n",
       "        text-align: right;\n",
       "    }\n",
       "</style>\n",
       "<table border=\"1\" class=\"dataframe\">\n",
       "  <thead>\n",
       "    <tr style=\"text-align: right;\">\n",
       "      <th></th>\n",
       "      <th>0</th>\n",
       "      <th>1</th>\n",
       "      <th>2</th>\n",
       "      <th>3</th>\n",
       "      <th>4</th>\n",
       "    </tr>\n",
       "  </thead>\n",
       "  <tbody>\n",
       "    <tr>\n",
       "      <th>longitude</th>\n",
       "      <td>-124.300</td>\n",
       "      <td>-124.230</td>\n",
       "      <td>-124.230</td>\n",
       "      <td>-124.190</td>\n",
       "      <td>-124.180</td>\n",
       "    </tr>\n",
       "    <tr>\n",
       "      <th>latitude</th>\n",
       "      <td>41.840</td>\n",
       "      <td>40.540</td>\n",
       "      <td>41.750</td>\n",
       "      <td>40.730</td>\n",
       "      <td>40.780</td>\n",
       "    </tr>\n",
       "    <tr>\n",
       "      <th>housing_median_age</th>\n",
       "      <td>17.000</td>\n",
       "      <td>52.000</td>\n",
       "      <td>11.000</td>\n",
       "      <td>21.000</td>\n",
       "      <td>34.000</td>\n",
       "    </tr>\n",
       "    <tr>\n",
       "      <th>total_rooms</th>\n",
       "      <td>2677.000</td>\n",
       "      <td>2694.000</td>\n",
       "      <td>3159.000</td>\n",
       "      <td>5694.000</td>\n",
       "      <td>1592.000</td>\n",
       "    </tr>\n",
       "    <tr>\n",
       "      <th>total_bedrooms</th>\n",
       "      <td>531.000</td>\n",
       "      <td>453.000</td>\n",
       "      <td>616.000</td>\n",
       "      <td>1056.000</td>\n",
       "      <td>364.000</td>\n",
       "    </tr>\n",
       "    <tr>\n",
       "      <th>population</th>\n",
       "      <td>1244.000</td>\n",
       "      <td>1152.000</td>\n",
       "      <td>1343.000</td>\n",
       "      <td>2907.000</td>\n",
       "      <td>950.000</td>\n",
       "    </tr>\n",
       "    <tr>\n",
       "      <th>households</th>\n",
       "      <td>456.000</td>\n",
       "      <td>435.000</td>\n",
       "      <td>479.000</td>\n",
       "      <td>972.000</td>\n",
       "      <td>317.000</td>\n",
       "    </tr>\n",
       "    <tr>\n",
       "      <th>median_income</th>\n",
       "      <td>3.031</td>\n",
       "      <td>3.081</td>\n",
       "      <td>2.481</td>\n",
       "      <td>3.536</td>\n",
       "      <td>2.161</td>\n",
       "    </tr>\n",
       "    <tr>\n",
       "      <th>median_house_value</th>\n",
       "      <td>103600.000</td>\n",
       "      <td>106700.000</td>\n",
       "      <td>73200.000</td>\n",
       "      <td>90100.000</td>\n",
       "      <td>67000.000</td>\n",
       "    </tr>\n",
       "    <tr>\n",
       "      <th>ocean_proximity_idx</th>\n",
       "      <td>2.000</td>\n",
       "      <td>2.000</td>\n",
       "      <td>2.000</td>\n",
       "      <td>2.000</td>\n",
       "      <td>2.000</td>\n",
       "    </tr>\n",
       "    <tr>\n",
       "      <th>ocean_proximity_ohe</th>\n",
       "      <td>(0.0, 0.0, 1.0, 0.0)</td>\n",
       "      <td>(0.0, 0.0, 1.0, 0.0)</td>\n",
       "      <td>(0.0, 0.0, 1.0, 0.0)</td>\n",
       "      <td>(0.0, 0.0, 1.0, 0.0)</td>\n",
       "      <td>(0.0, 0.0, 1.0, 0.0)</td>\n",
       "    </tr>\n",
       "    <tr>\n",
       "      <th>ocean_proximity_va</th>\n",
       "      <td>(0.0, 0.0, 1.0, 0.0)</td>\n",
       "      <td>(0.0, 0.0, 1.0, 0.0)</td>\n",
       "      <td>(0.0, 0.0, 1.0, 0.0)</td>\n",
       "      <td>(0.0, 0.0, 1.0, 0.0)</td>\n",
       "      <td>(0.0, 0.0, 1.0, 0.0)</td>\n",
       "    </tr>\n",
       "  </tbody>\n",
       "</table>\n",
       "</div>"
      ],
      "text/plain": [
       "                                        0                     1  \\\n",
       "longitude                        -124.300              -124.230   \n",
       "latitude                           41.840                40.540   \n",
       "housing_median_age                 17.000                52.000   \n",
       "total_rooms                      2677.000              2694.000   \n",
       "total_bedrooms                    531.000               453.000   \n",
       "population                       1244.000              1152.000   \n",
       "households                        456.000               435.000   \n",
       "median_income                       3.031                 3.081   \n",
       "median_house_value             103600.000            106700.000   \n",
       "ocean_proximity_idx                 2.000                 2.000   \n",
       "ocean_proximity_ohe  (0.0, 0.0, 1.0, 0.0)  (0.0, 0.0, 1.0, 0.0)   \n",
       "ocean_proximity_va   (0.0, 0.0, 1.0, 0.0)  (0.0, 0.0, 1.0, 0.0)   \n",
       "\n",
       "                                        2                     3  \\\n",
       "longitude                        -124.230              -124.190   \n",
       "latitude                           41.750                40.730   \n",
       "housing_median_age                 11.000                21.000   \n",
       "total_rooms                      3159.000              5694.000   \n",
       "total_bedrooms                    616.000              1056.000   \n",
       "population                       1343.000              2907.000   \n",
       "households                        479.000               972.000   \n",
       "median_income                       2.481                 3.536   \n",
       "median_house_value              73200.000             90100.000   \n",
       "ocean_proximity_idx                 2.000                 2.000   \n",
       "ocean_proximity_ohe  (0.0, 0.0, 1.0, 0.0)  (0.0, 0.0, 1.0, 0.0)   \n",
       "ocean_proximity_va   (0.0, 0.0, 1.0, 0.0)  (0.0, 0.0, 1.0, 0.0)   \n",
       "\n",
       "                                        4  \n",
       "longitude                        -124.180  \n",
       "latitude                           40.780  \n",
       "housing_median_age                 34.000  \n",
       "total_rooms                      1592.000  \n",
       "total_bedrooms                    364.000  \n",
       "population                        950.000  \n",
       "households                        317.000  \n",
       "median_income                       2.161  \n",
       "median_house_value              67000.000  \n",
       "ocean_proximity_idx                 2.000  \n",
       "ocean_proximity_ohe  (0.0, 0.0, 1.0, 0.0)  \n",
       "ocean_proximity_va   (0.0, 0.0, 1.0, 0.0)  "
      ]
     },
     "execution_count": 275,
     "metadata": {},
     "output_type": "execute_result"
    }
   ],
   "source": [
    "pd.DataFrame(test_va.take(5), columns=test_va.columns).T"
   ]
  },
  {
   "cell_type": "markdown",
   "id": "83c5eb46",
   "metadata": {},
   "source": [
    "### StandardScaler - масштабирование числовых признаков"
   ]
  },
  {
   "cell_type": "markdown",
   "id": "f393ae0f",
   "metadata": {},
   "source": [
    "Нам задано предсказать медианную стоимость дома, поэтому целевой переменой будет `median_house_value`"
   ]
  },
  {
   "cell_type": "code",
   "execution_count": 276,
   "id": "729a5e79",
   "metadata": {},
   "outputs": [],
   "source": [
    "# убираем таргет из выборок\n",
    "target_train = train_va.select('median_house_value')\n",
    "features_train = train_va.drop('median_house_value')\n",
    "\n",
    "\n",
    "target_test =  test_va.select('median_house_value')\n",
    "features_test = test_va.drop('median_house_value')\n"
   ]
  },
  {
   "cell_type": "code",
   "execution_count": 277,
   "id": "2f9587e0",
   "metadata": {
    "scrolled": true
   },
   "outputs": [
    {
     "data": {
      "text/html": [
       "<div>\n",
       "<style scoped>\n",
       "    .dataframe tbody tr th:only-of-type {\n",
       "        vertical-align: middle;\n",
       "    }\n",
       "\n",
       "    .dataframe tbody tr th {\n",
       "        vertical-align: top;\n",
       "    }\n",
       "\n",
       "    .dataframe thead th {\n",
       "        text-align: right;\n",
       "    }\n",
       "</style>\n",
       "<table border=\"1\" class=\"dataframe\">\n",
       "  <thead>\n",
       "    <tr style=\"text-align: right;\">\n",
       "      <th></th>\n",
       "      <th>0</th>\n",
       "      <th>1</th>\n",
       "      <th>2</th>\n",
       "      <th>3</th>\n",
       "      <th>4</th>\n",
       "    </tr>\n",
       "  </thead>\n",
       "  <tbody>\n",
       "    <tr>\n",
       "      <th>longitude</th>\n",
       "      <td>-124.350</td>\n",
       "      <td>-124.300</td>\n",
       "      <td>-124.270</td>\n",
       "      <td>-124.260</td>\n",
       "      <td>-124.250</td>\n",
       "    </tr>\n",
       "    <tr>\n",
       "      <th>latitude</th>\n",
       "      <td>40.540</td>\n",
       "      <td>41.800</td>\n",
       "      <td>40.690</td>\n",
       "      <td>40.580</td>\n",
       "      <td>40.280</td>\n",
       "    </tr>\n",
       "    <tr>\n",
       "      <th>housing_median_age</th>\n",
       "      <td>52.000</td>\n",
       "      <td>19.000</td>\n",
       "      <td>36.000</td>\n",
       "      <td>52.000</td>\n",
       "      <td>32.000</td>\n",
       "    </tr>\n",
       "    <tr>\n",
       "      <th>total_rooms</th>\n",
       "      <td>1820.000</td>\n",
       "      <td>2672.000</td>\n",
       "      <td>2349.000</td>\n",
       "      <td>2217.000</td>\n",
       "      <td>1430.000</td>\n",
       "    </tr>\n",
       "    <tr>\n",
       "      <th>total_bedrooms</th>\n",
       "      <td>300.000</td>\n",
       "      <td>552.000</td>\n",
       "      <td>528.000</td>\n",
       "      <td>394.000</td>\n",
       "      <td>419.000</td>\n",
       "    </tr>\n",
       "    <tr>\n",
       "      <th>population</th>\n",
       "      <td>806.000</td>\n",
       "      <td>1298.000</td>\n",
       "      <td>1194.000</td>\n",
       "      <td>907.000</td>\n",
       "      <td>434.000</td>\n",
       "    </tr>\n",
       "    <tr>\n",
       "      <th>households</th>\n",
       "      <td>270.000</td>\n",
       "      <td>478.000</td>\n",
       "      <td>465.000</td>\n",
       "      <td>369.000</td>\n",
       "      <td>187.000</td>\n",
       "    </tr>\n",
       "    <tr>\n",
       "      <th>median_income</th>\n",
       "      <td>3.015</td>\n",
       "      <td>1.980</td>\n",
       "      <td>2.518</td>\n",
       "      <td>2.357</td>\n",
       "      <td>1.942</td>\n",
       "    </tr>\n",
       "    <tr>\n",
       "      <th>ocean_proximity_idx</th>\n",
       "      <td>2.000</td>\n",
       "      <td>2.000</td>\n",
       "      <td>2.000</td>\n",
       "      <td>2.000</td>\n",
       "      <td>2.000</td>\n",
       "    </tr>\n",
       "    <tr>\n",
       "      <th>ocean_proximity_ohe</th>\n",
       "      <td>(0.0, 0.0, 1.0, 0.0)</td>\n",
       "      <td>(0.0, 0.0, 1.0, 0.0)</td>\n",
       "      <td>(0.0, 0.0, 1.0, 0.0)</td>\n",
       "      <td>(0.0, 0.0, 1.0, 0.0)</td>\n",
       "      <td>(0.0, 0.0, 1.0, 0.0)</td>\n",
       "    </tr>\n",
       "    <tr>\n",
       "      <th>ocean_proximity_va</th>\n",
       "      <td>(0.0, 0.0, 1.0, 0.0)</td>\n",
       "      <td>(0.0, 0.0, 1.0, 0.0)</td>\n",
       "      <td>(0.0, 0.0, 1.0, 0.0)</td>\n",
       "      <td>(0.0, 0.0, 1.0, 0.0)</td>\n",
       "      <td>(0.0, 0.0, 1.0, 0.0)</td>\n",
       "    </tr>\n",
       "  </tbody>\n",
       "</table>\n",
       "</div>"
      ],
      "text/plain": [
       "                                        0                     1  \\\n",
       "longitude                        -124.350              -124.300   \n",
       "latitude                           40.540                41.800   \n",
       "housing_median_age                 52.000                19.000   \n",
       "total_rooms                      1820.000              2672.000   \n",
       "total_bedrooms                    300.000               552.000   \n",
       "population                        806.000              1298.000   \n",
       "households                        270.000               478.000   \n",
       "median_income                       3.015                 1.980   \n",
       "ocean_proximity_idx                 2.000                 2.000   \n",
       "ocean_proximity_ohe  (0.0, 0.0, 1.0, 0.0)  (0.0, 0.0, 1.0, 0.0)   \n",
       "ocean_proximity_va   (0.0, 0.0, 1.0, 0.0)  (0.0, 0.0, 1.0, 0.0)   \n",
       "\n",
       "                                        2                     3  \\\n",
       "longitude                        -124.270              -124.260   \n",
       "latitude                           40.690                40.580   \n",
       "housing_median_age                 36.000                52.000   \n",
       "total_rooms                      2349.000              2217.000   \n",
       "total_bedrooms                    528.000               394.000   \n",
       "population                       1194.000               907.000   \n",
       "households                        465.000               369.000   \n",
       "median_income                       2.518                 2.357   \n",
       "ocean_proximity_idx                 2.000                 2.000   \n",
       "ocean_proximity_ohe  (0.0, 0.0, 1.0, 0.0)  (0.0, 0.0, 1.0, 0.0)   \n",
       "ocean_proximity_va   (0.0, 0.0, 1.0, 0.0)  (0.0, 0.0, 1.0, 0.0)   \n",
       "\n",
       "                                        4  \n",
       "longitude                        -124.250  \n",
       "latitude                           40.280  \n",
       "housing_median_age                 32.000  \n",
       "total_rooms                      1430.000  \n",
       "total_bedrooms                    419.000  \n",
       "population                        434.000  \n",
       "households                        187.000  \n",
       "median_income                       1.942  \n",
       "ocean_proximity_idx                 2.000  \n",
       "ocean_proximity_ohe  (0.0, 0.0, 1.0, 0.0)  \n",
       "ocean_proximity_va   (0.0, 0.0, 1.0, 0.0)  "
      ]
     },
     "execution_count": 277,
     "metadata": {},
     "output_type": "execute_result"
    }
   ],
   "source": [
    "pd.DataFrame(features_train.take(5), columns=features_train.columns).T"
   ]
  },
  {
   "cell_type": "code",
   "execution_count": 278,
   "id": "26bbe23c",
   "metadata": {},
   "outputs": [
    {
     "data": {
      "text/html": [
       "<div>\n",
       "<style scoped>\n",
       "    .dataframe tbody tr th:only-of-type {\n",
       "        vertical-align: middle;\n",
       "    }\n",
       "\n",
       "    .dataframe tbody tr th {\n",
       "        vertical-align: top;\n",
       "    }\n",
       "\n",
       "    .dataframe thead th {\n",
       "        text-align: right;\n",
       "    }\n",
       "</style>\n",
       "<table border=\"1\" class=\"dataframe\">\n",
       "  <thead>\n",
       "    <tr style=\"text-align: right;\">\n",
       "      <th></th>\n",
       "      <th>0</th>\n",
       "      <th>1</th>\n",
       "      <th>2</th>\n",
       "      <th>3</th>\n",
       "      <th>4</th>\n",
       "    </tr>\n",
       "  </thead>\n",
       "  <tbody>\n",
       "    <tr>\n",
       "      <th>median_house_value</th>\n",
       "      <td>94600.000</td>\n",
       "      <td>85800.000</td>\n",
       "      <td>79000.000</td>\n",
       "      <td>111400.000</td>\n",
       "      <td>76100.000</td>\n",
       "    </tr>\n",
       "  </tbody>\n",
       "</table>\n",
       "</div>"
      ],
      "text/plain": [
       "                           0         1         2          3         4\n",
       "median_house_value 94600.000 85800.000 79000.000 111400.000 76100.000"
      ]
     },
     "execution_count": 278,
     "metadata": {},
     "output_type": "execute_result"
    }
   ],
   "source": [
    "pd.DataFrame(target_train.take(5), columns=target_train.columns).T"
   ]
  },
  {
   "cell_type": "code",
   "execution_count": 279,
   "id": "1482bde5",
   "metadata": {},
   "outputs": [
    {
     "data": {
      "text/html": [
       "<div>\n",
       "<style scoped>\n",
       "    .dataframe tbody tr th:only-of-type {\n",
       "        vertical-align: middle;\n",
       "    }\n",
       "\n",
       "    .dataframe tbody tr th {\n",
       "        vertical-align: top;\n",
       "    }\n",
       "\n",
       "    .dataframe thead th {\n",
       "        text-align: right;\n",
       "    }\n",
       "</style>\n",
       "<table border=\"1\" class=\"dataframe\">\n",
       "  <thead>\n",
       "    <tr style=\"text-align: right;\">\n",
       "      <th></th>\n",
       "      <th>0</th>\n",
       "      <th>1</th>\n",
       "      <th>2</th>\n",
       "      <th>3</th>\n",
       "      <th>4</th>\n",
       "    </tr>\n",
       "  </thead>\n",
       "  <tbody>\n",
       "    <tr>\n",
       "      <th>longitude</th>\n",
       "      <td>-124.300</td>\n",
       "      <td>-124.230</td>\n",
       "      <td>-124.230</td>\n",
       "      <td>-124.190</td>\n",
       "      <td>-124.180</td>\n",
       "    </tr>\n",
       "    <tr>\n",
       "      <th>latitude</th>\n",
       "      <td>41.840</td>\n",
       "      <td>40.540</td>\n",
       "      <td>41.750</td>\n",
       "      <td>40.730</td>\n",
       "      <td>40.780</td>\n",
       "    </tr>\n",
       "    <tr>\n",
       "      <th>housing_median_age</th>\n",
       "      <td>17.000</td>\n",
       "      <td>52.000</td>\n",
       "      <td>11.000</td>\n",
       "      <td>21.000</td>\n",
       "      <td>34.000</td>\n",
       "    </tr>\n",
       "    <tr>\n",
       "      <th>total_rooms</th>\n",
       "      <td>2677.000</td>\n",
       "      <td>2694.000</td>\n",
       "      <td>3159.000</td>\n",
       "      <td>5694.000</td>\n",
       "      <td>1592.000</td>\n",
       "    </tr>\n",
       "    <tr>\n",
       "      <th>total_bedrooms</th>\n",
       "      <td>531.000</td>\n",
       "      <td>453.000</td>\n",
       "      <td>616.000</td>\n",
       "      <td>1056.000</td>\n",
       "      <td>364.000</td>\n",
       "    </tr>\n",
       "    <tr>\n",
       "      <th>population</th>\n",
       "      <td>1244.000</td>\n",
       "      <td>1152.000</td>\n",
       "      <td>1343.000</td>\n",
       "      <td>2907.000</td>\n",
       "      <td>950.000</td>\n",
       "    </tr>\n",
       "    <tr>\n",
       "      <th>households</th>\n",
       "      <td>456.000</td>\n",
       "      <td>435.000</td>\n",
       "      <td>479.000</td>\n",
       "      <td>972.000</td>\n",
       "      <td>317.000</td>\n",
       "    </tr>\n",
       "    <tr>\n",
       "      <th>median_income</th>\n",
       "      <td>3.031</td>\n",
       "      <td>3.081</td>\n",
       "      <td>2.481</td>\n",
       "      <td>3.536</td>\n",
       "      <td>2.161</td>\n",
       "    </tr>\n",
       "    <tr>\n",
       "      <th>ocean_proximity_idx</th>\n",
       "      <td>2.000</td>\n",
       "      <td>2.000</td>\n",
       "      <td>2.000</td>\n",
       "      <td>2.000</td>\n",
       "      <td>2.000</td>\n",
       "    </tr>\n",
       "    <tr>\n",
       "      <th>ocean_proximity_ohe</th>\n",
       "      <td>(0.0, 0.0, 1.0, 0.0)</td>\n",
       "      <td>(0.0, 0.0, 1.0, 0.0)</td>\n",
       "      <td>(0.0, 0.0, 1.0, 0.0)</td>\n",
       "      <td>(0.0, 0.0, 1.0, 0.0)</td>\n",
       "      <td>(0.0, 0.0, 1.0, 0.0)</td>\n",
       "    </tr>\n",
       "    <tr>\n",
       "      <th>ocean_proximity_va</th>\n",
       "      <td>(0.0, 0.0, 1.0, 0.0)</td>\n",
       "      <td>(0.0, 0.0, 1.0, 0.0)</td>\n",
       "      <td>(0.0, 0.0, 1.0, 0.0)</td>\n",
       "      <td>(0.0, 0.0, 1.0, 0.0)</td>\n",
       "      <td>(0.0, 0.0, 1.0, 0.0)</td>\n",
       "    </tr>\n",
       "  </tbody>\n",
       "</table>\n",
       "</div>"
      ],
      "text/plain": [
       "                                        0                     1  \\\n",
       "longitude                        -124.300              -124.230   \n",
       "latitude                           41.840                40.540   \n",
       "housing_median_age                 17.000                52.000   \n",
       "total_rooms                      2677.000              2694.000   \n",
       "total_bedrooms                    531.000               453.000   \n",
       "population                       1244.000              1152.000   \n",
       "households                        456.000               435.000   \n",
       "median_income                       3.031                 3.081   \n",
       "ocean_proximity_idx                 2.000                 2.000   \n",
       "ocean_proximity_ohe  (0.0, 0.0, 1.0, 0.0)  (0.0, 0.0, 1.0, 0.0)   \n",
       "ocean_proximity_va   (0.0, 0.0, 1.0, 0.0)  (0.0, 0.0, 1.0, 0.0)   \n",
       "\n",
       "                                        2                     3  \\\n",
       "longitude                        -124.230              -124.190   \n",
       "latitude                           41.750                40.730   \n",
       "housing_median_age                 11.000                21.000   \n",
       "total_rooms                      3159.000              5694.000   \n",
       "total_bedrooms                    616.000              1056.000   \n",
       "population                       1343.000              2907.000   \n",
       "households                        479.000               972.000   \n",
       "median_income                       2.481                 3.536   \n",
       "ocean_proximity_idx                 2.000                 2.000   \n",
       "ocean_proximity_ohe  (0.0, 0.0, 1.0, 0.0)  (0.0, 0.0, 1.0, 0.0)   \n",
       "ocean_proximity_va   (0.0, 0.0, 1.0, 0.0)  (0.0, 0.0, 1.0, 0.0)   \n",
       "\n",
       "                                        4  \n",
       "longitude                        -124.180  \n",
       "latitude                           40.780  \n",
       "housing_median_age                 34.000  \n",
       "total_rooms                      1592.000  \n",
       "total_bedrooms                    364.000  \n",
       "population                        950.000  \n",
       "households                        317.000  \n",
       "median_income                       2.161  \n",
       "ocean_proximity_idx                 2.000  \n",
       "ocean_proximity_ohe  (0.0, 0.0, 1.0, 0.0)  \n",
       "ocean_proximity_va   (0.0, 0.0, 1.0, 0.0)  "
      ]
     },
     "execution_count": 279,
     "metadata": {},
     "output_type": "execute_result"
    }
   ],
   "source": [
    "pd.DataFrame(features_test.take(5), columns=features_test.columns).T"
   ]
  },
  {
   "cell_type": "code",
   "execution_count": 280,
   "id": "dd47574a",
   "metadata": {},
   "outputs": [
    {
     "data": {
      "text/html": [
       "<div>\n",
       "<style scoped>\n",
       "    .dataframe tbody tr th:only-of-type {\n",
       "        vertical-align: middle;\n",
       "    }\n",
       "\n",
       "    .dataframe tbody tr th {\n",
       "        vertical-align: top;\n",
       "    }\n",
       "\n",
       "    .dataframe thead th {\n",
       "        text-align: right;\n",
       "    }\n",
       "</style>\n",
       "<table border=\"1\" class=\"dataframe\">\n",
       "  <thead>\n",
       "    <tr style=\"text-align: right;\">\n",
       "      <th></th>\n",
       "      <th>0</th>\n",
       "      <th>1</th>\n",
       "      <th>2</th>\n",
       "      <th>3</th>\n",
       "      <th>4</th>\n",
       "    </tr>\n",
       "  </thead>\n",
       "  <tbody>\n",
       "    <tr>\n",
       "      <th>median_house_value</th>\n",
       "      <td>103600.000</td>\n",
       "      <td>106700.000</td>\n",
       "      <td>73200.000</td>\n",
       "      <td>90100.000</td>\n",
       "      <td>67000.000</td>\n",
       "    </tr>\n",
       "  </tbody>\n",
       "</table>\n",
       "</div>"
      ],
      "text/plain": [
       "                            0          1         2         3         4\n",
       "median_house_value 103600.000 106700.000 73200.000 90100.000 67000.000"
      ]
     },
     "execution_count": 280,
     "metadata": {},
     "output_type": "execute_result"
    }
   ],
   "source": [
    "pd.DataFrame(target_test.take(5), columns=target_test.columns).T"
   ]
  },
  {
   "cell_type": "code",
   "execution_count": 281,
   "id": "a702749c",
   "metadata": {},
   "outputs": [
    {
     "name": "stdout",
     "output_type": "stream",
     "text": [
      "['longitude', 'latitude', 'housing_median_age', 'total_rooms', 'total_bedrooms', 'population', 'households', 'median_income']\n"
     ]
    }
   ],
   "source": [
    "data_calif_numeric_cols.remove('median_house_value')\n",
    "print(data_calif_numeric_cols)"
   ]
  },
  {
   "cell_type": "code",
   "execution_count": 282,
   "id": "3c9bb249",
   "metadata": {},
   "outputs": [],
   "source": [
    "numerical_assembler = VectorAssembler(inputCols=data_calif_numeric_cols,\n",
    "                                      outputCol='numerical_features')\n",
    "\n",
    "\n",
    "features_train = numerical_assembler.transform(features_train)\n",
    "features_test = numerical_assembler.transform(features_test)\n",
    "\n",
    "standard_scaler = StandardScaler(inputCol='numerical_features',\n",
    "                                 outputCol='numerical_features_scaled')\n",
    "\n",
    "scalerModel = standard_scaler.fit(features_train)\n",
    "\n",
    "features_train = scalerModel.transform(features_train)\n",
    "features_test = scalerModel.transform(features_test)"
   ]
  },
  {
   "cell_type": "code",
   "execution_count": 283,
   "id": "68862a28",
   "metadata": {},
   "outputs": [
    {
     "name": "stdout",
     "output_type": "stream",
     "text": [
      "root\n",
      " |-- longitude: double (nullable = true)\n",
      " |-- latitude: double (nullable = true)\n",
      " |-- housing_median_age: double (nullable = true)\n",
      " |-- total_rooms: double (nullable = true)\n",
      " |-- total_bedrooms: double (nullable = false)\n",
      " |-- population: double (nullable = true)\n",
      " |-- households: double (nullable = true)\n",
      " |-- median_income: double (nullable = true)\n",
      " |-- ocean_proximity_idx: double (nullable = false)\n",
      " |-- ocean_proximity_ohe: vector (nullable = true)\n",
      " |-- ocean_proximity_va: vector (nullable = true)\n",
      " |-- numerical_features: vector (nullable = true)\n",
      " |-- numerical_features_scaled: vector (nullable = true)\n",
      "\n"
     ]
    }
   ],
   "source": [
    "features_train.printSchema()"
   ]
  },
  {
   "cell_type": "code",
   "execution_count": 284,
   "id": "87061e01",
   "metadata": {},
   "outputs": [
    {
     "data": {
      "text/html": [
       "<div>\n",
       "<style scoped>\n",
       "    .dataframe tbody tr th:only-of-type {\n",
       "        vertical-align: middle;\n",
       "    }\n",
       "\n",
       "    .dataframe tbody tr th {\n",
       "        vertical-align: top;\n",
       "    }\n",
       "\n",
       "    .dataframe thead th {\n",
       "        text-align: right;\n",
       "    }\n",
       "</style>\n",
       "<table border=\"1\" class=\"dataframe\">\n",
       "  <thead>\n",
       "    <tr style=\"text-align: right;\">\n",
       "      <th></th>\n",
       "      <th>0</th>\n",
       "      <th>1</th>\n",
       "      <th>2</th>\n",
       "      <th>3</th>\n",
       "      <th>4</th>\n",
       "    </tr>\n",
       "  </thead>\n",
       "  <tbody>\n",
       "    <tr>\n",
       "      <th>longitude</th>\n",
       "      <td>-124.350</td>\n",
       "      <td>-124.300</td>\n",
       "      <td>-124.270</td>\n",
       "      <td>-124.260</td>\n",
       "      <td>-124.250</td>\n",
       "    </tr>\n",
       "    <tr>\n",
       "      <th>latitude</th>\n",
       "      <td>40.540</td>\n",
       "      <td>41.800</td>\n",
       "      <td>40.690</td>\n",
       "      <td>40.580</td>\n",
       "      <td>40.280</td>\n",
       "    </tr>\n",
       "    <tr>\n",
       "      <th>housing_median_age</th>\n",
       "      <td>52.000</td>\n",
       "      <td>19.000</td>\n",
       "      <td>36.000</td>\n",
       "      <td>52.000</td>\n",
       "      <td>32.000</td>\n",
       "    </tr>\n",
       "    <tr>\n",
       "      <th>total_rooms</th>\n",
       "      <td>1820.000</td>\n",
       "      <td>2672.000</td>\n",
       "      <td>2349.000</td>\n",
       "      <td>2217.000</td>\n",
       "      <td>1430.000</td>\n",
       "    </tr>\n",
       "    <tr>\n",
       "      <th>total_bedrooms</th>\n",
       "      <td>300.000</td>\n",
       "      <td>552.000</td>\n",
       "      <td>528.000</td>\n",
       "      <td>394.000</td>\n",
       "      <td>419.000</td>\n",
       "    </tr>\n",
       "    <tr>\n",
       "      <th>population</th>\n",
       "      <td>806.000</td>\n",
       "      <td>1298.000</td>\n",
       "      <td>1194.000</td>\n",
       "      <td>907.000</td>\n",
       "      <td>434.000</td>\n",
       "    </tr>\n",
       "    <tr>\n",
       "      <th>households</th>\n",
       "      <td>270.000</td>\n",
       "      <td>478.000</td>\n",
       "      <td>465.000</td>\n",
       "      <td>369.000</td>\n",
       "      <td>187.000</td>\n",
       "    </tr>\n",
       "    <tr>\n",
       "      <th>median_income</th>\n",
       "      <td>3.015</td>\n",
       "      <td>1.980</td>\n",
       "      <td>2.518</td>\n",
       "      <td>2.357</td>\n",
       "      <td>1.942</td>\n",
       "    </tr>\n",
       "    <tr>\n",
       "      <th>ocean_proximity_idx</th>\n",
       "      <td>2.000</td>\n",
       "      <td>2.000</td>\n",
       "      <td>2.000</td>\n",
       "      <td>2.000</td>\n",
       "      <td>2.000</td>\n",
       "    </tr>\n",
       "    <tr>\n",
       "      <th>ocean_proximity_ohe</th>\n",
       "      <td>(0.0, 0.0, 1.0, 0.0)</td>\n",
       "      <td>(0.0, 0.0, 1.0, 0.0)</td>\n",
       "      <td>(0.0, 0.0, 1.0, 0.0)</td>\n",
       "      <td>(0.0, 0.0, 1.0, 0.0)</td>\n",
       "      <td>(0.0, 0.0, 1.0, 0.0)</td>\n",
       "    </tr>\n",
       "    <tr>\n",
       "      <th>ocean_proximity_va</th>\n",
       "      <td>(0.0, 0.0, 1.0, 0.0)</td>\n",
       "      <td>(0.0, 0.0, 1.0, 0.0)</td>\n",
       "      <td>(0.0, 0.0, 1.0, 0.0)</td>\n",
       "      <td>(0.0, 0.0, 1.0, 0.0)</td>\n",
       "      <td>(0.0, 0.0, 1.0, 0.0)</td>\n",
       "    </tr>\n",
       "    <tr>\n",
       "      <th>numerical_features</th>\n",
       "      <td>[-124.35, 40.54, 52.0, 1820.0, 300.0, 806.0, 270.0, 3.0147]</td>\n",
       "      <td>[-124.3, 41.8, 19.0, 2672.0, 552.0, 1298.0, 478.0, 1.9797]</td>\n",
       "      <td>[-124.27, 40.69, 36.0, 2349.0, 528.0, 1194.0, 465.0, 2.5179]</td>\n",
       "      <td>[-124.26, 40.58, 52.0, 2217.0, 394.0, 907.0, 369.0, 2.3571]</td>\n",
       "      <td>[-124.25, 40.28, 32.0, 1430.0, 419.0, 434.0, 187.0, 1.9417]</td>\n",
       "    </tr>\n",
       "    <tr>\n",
       "      <th>numerical_features_scaled</th>\n",
       "      <td>[-61.93195228665311, 18.90166089690822, 4.13040546908436, 0.8371996643785807, 0.7178732476340831, 0.7395727660314623, 0.7094142631969466, 1.6007431444753377]</td>\n",
       "      <td>[-61.90705001392024, 19.48913235053684, 1.5091866137039007, 1.2291195072634988, 1.3208867756467129, 1.1910241318968213, 1.2559259918820018, 1.0511796208968807]</td>\n",
       "      <td>[-61.89210865028051, 18.97159797472115, 2.8595114785968647, 1.0805395668270803, 1.2634569158359863, 1.0955953878927618, 1.2217690088391857, 1.3369526531576783]</td>\n",
       "      <td>[-61.88712819573394, 18.920310784325, 4.13040546908436, 1.0198195911688537, 0.9428068652260958, 0.8322487578046356, 0.9695328263691604, 1.2515711897843296]</td>\n",
       "      <td>[-61.88214774118737, 18.78043662869914, 2.541787980974991, 0.6577997362974564, 1.0026296358622695, 0.3982314894015566, 0.49133506376973707, 1.0310024094031789]</td>\n",
       "    </tr>\n",
       "  </tbody>\n",
       "</table>\n",
       "</div>"
      ],
      "text/plain": [
       "                                                                                                                                                                                       0  \\\n",
       "longitude                                                                                                                                                                       -124.350   \n",
       "latitude                                                                                                                                                                          40.540   \n",
       "housing_median_age                                                                                                                                                                52.000   \n",
       "total_rooms                                                                                                                                                                     1820.000   \n",
       "total_bedrooms                                                                                                                                                                   300.000   \n",
       "population                                                                                                                                                                       806.000   \n",
       "households                                                                                                                                                                       270.000   \n",
       "median_income                                                                                                                                                                      3.015   \n",
       "ocean_proximity_idx                                                                                                                                                                2.000   \n",
       "ocean_proximity_ohe                                                                                                                                                 (0.0, 0.0, 1.0, 0.0)   \n",
       "ocean_proximity_va                                                                                                                                                  (0.0, 0.0, 1.0, 0.0)   \n",
       "numerical_features                                                                                                           [-124.35, 40.54, 52.0, 1820.0, 300.0, 806.0, 270.0, 3.0147]   \n",
       "numerical_features_scaled  [-61.93195228665311, 18.90166089690822, 4.13040546908436, 0.8371996643785807, 0.7178732476340831, 0.7395727660314623, 0.7094142631969466, 1.6007431444753377]   \n",
       "\n",
       "                                                                                                                                                                                         1  \\\n",
       "longitude                                                                                                                                                                         -124.300   \n",
       "latitude                                                                                                                                                                            41.800   \n",
       "housing_median_age                                                                                                                                                                  19.000   \n",
       "total_rooms                                                                                                                                                                       2672.000   \n",
       "total_bedrooms                                                                                                                                                                     552.000   \n",
       "population                                                                                                                                                                        1298.000   \n",
       "households                                                                                                                                                                         478.000   \n",
       "median_income                                                                                                                                                                        1.980   \n",
       "ocean_proximity_idx                                                                                                                                                                  2.000   \n",
       "ocean_proximity_ohe                                                                                                                                                   (0.0, 0.0, 1.0, 0.0)   \n",
       "ocean_proximity_va                                                                                                                                                    (0.0, 0.0, 1.0, 0.0)   \n",
       "numerical_features                                                                                                              [-124.3, 41.8, 19.0, 2672.0, 552.0, 1298.0, 478.0, 1.9797]   \n",
       "numerical_features_scaled  [-61.90705001392024, 19.48913235053684, 1.5091866137039007, 1.2291195072634988, 1.3208867756467129, 1.1910241318968213, 1.2559259918820018, 1.0511796208968807]   \n",
       "\n",
       "                                                                                                                                                                                         2  \\\n",
       "longitude                                                                                                                                                                         -124.270   \n",
       "latitude                                                                                                                                                                            40.690   \n",
       "housing_median_age                                                                                                                                                                  36.000   \n",
       "total_rooms                                                                                                                                                                       2349.000   \n",
       "total_bedrooms                                                                                                                                                                     528.000   \n",
       "population                                                                                                                                                                        1194.000   \n",
       "households                                                                                                                                                                         465.000   \n",
       "median_income                                                                                                                                                                        2.518   \n",
       "ocean_proximity_idx                                                                                                                                                                  2.000   \n",
       "ocean_proximity_ohe                                                                                                                                                   (0.0, 0.0, 1.0, 0.0)   \n",
       "ocean_proximity_va                                                                                                                                                    (0.0, 0.0, 1.0, 0.0)   \n",
       "numerical_features                                                                                                            [-124.27, 40.69, 36.0, 2349.0, 528.0, 1194.0, 465.0, 2.5179]   \n",
       "numerical_features_scaled  [-61.89210865028051, 18.97159797472115, 2.8595114785968647, 1.0805395668270803, 1.2634569158359863, 1.0955953878927618, 1.2217690088391857, 1.3369526531576783]   \n",
       "\n",
       "                                                                                                                                                                                     3  \\\n",
       "longitude                                                                                                                                                                     -124.260   \n",
       "latitude                                                                                                                                                                        40.580   \n",
       "housing_median_age                                                                                                                                                              52.000   \n",
       "total_rooms                                                                                                                                                                   2217.000   \n",
       "total_bedrooms                                                                                                                                                                 394.000   \n",
       "population                                                                                                                                                                     907.000   \n",
       "households                                                                                                                                                                     369.000   \n",
       "median_income                                                                                                                                                                    2.357   \n",
       "ocean_proximity_idx                                                                                                                                                              2.000   \n",
       "ocean_proximity_ohe                                                                                                                                               (0.0, 0.0, 1.0, 0.0)   \n",
       "ocean_proximity_va                                                                                                                                                (0.0, 0.0, 1.0, 0.0)   \n",
       "numerical_features                                                                                                         [-124.26, 40.58, 52.0, 2217.0, 394.0, 907.0, 369.0, 2.3571]   \n",
       "numerical_features_scaled  [-61.88712819573394, 18.920310784325, 4.13040546908436, 1.0198195911688537, 0.9428068652260958, 0.8322487578046356, 0.9695328263691604, 1.2515711897843296]   \n",
       "\n",
       "                                                                                                                                                                                         4  \n",
       "longitude                                                                                                                                                                         -124.250  \n",
       "latitude                                                                                                                                                                            40.280  \n",
       "housing_median_age                                                                                                                                                                  32.000  \n",
       "total_rooms                                                                                                                                                                       1430.000  \n",
       "total_bedrooms                                                                                                                                                                     419.000  \n",
       "population                                                                                                                                                                         434.000  \n",
       "households                                                                                                                                                                         187.000  \n",
       "median_income                                                                                                                                                                        1.942  \n",
       "ocean_proximity_idx                                                                                                                                                                  2.000  \n",
       "ocean_proximity_ohe                                                                                                                                                   (0.0, 0.0, 1.0, 0.0)  \n",
       "ocean_proximity_va                                                                                                                                                    (0.0, 0.0, 1.0, 0.0)  \n",
       "numerical_features                                                                                                             [-124.25, 40.28, 32.0, 1430.0, 419.0, 434.0, 187.0, 1.9417]  \n",
       "numerical_features_scaled  [-61.88214774118737, 18.78043662869914, 2.541787980974991, 0.6577997362974564, 1.0026296358622695, 0.3982314894015566, 0.49133506376973707, 1.0310024094031789]  "
      ]
     },
     "execution_count": 284,
     "metadata": {},
     "output_type": "execute_result"
    }
   ],
   "source": [
    "pd.DataFrame(features_train.take(5), columns=features_train.columns).T"
   ]
  },
  {
   "cell_type": "code",
   "execution_count": 285,
   "id": "5df6d9f4",
   "metadata": {},
   "outputs": [
    {
     "data": {
      "text/html": [
       "<div>\n",
       "<style scoped>\n",
       "    .dataframe tbody tr th:only-of-type {\n",
       "        vertical-align: middle;\n",
       "    }\n",
       "\n",
       "    .dataframe tbody tr th {\n",
       "        vertical-align: top;\n",
       "    }\n",
       "\n",
       "    .dataframe thead th {\n",
       "        text-align: right;\n",
       "    }\n",
       "</style>\n",
       "<table border=\"1\" class=\"dataframe\">\n",
       "  <thead>\n",
       "    <tr style=\"text-align: right;\">\n",
       "      <th></th>\n",
       "      <th>0</th>\n",
       "      <th>1</th>\n",
       "      <th>2</th>\n",
       "      <th>3</th>\n",
       "      <th>4</th>\n",
       "    </tr>\n",
       "  </thead>\n",
       "  <tbody>\n",
       "    <tr>\n",
       "      <th>longitude</th>\n",
       "      <td>-124.300</td>\n",
       "      <td>-124.230</td>\n",
       "      <td>-124.230</td>\n",
       "      <td>-124.190</td>\n",
       "      <td>-124.180</td>\n",
       "    </tr>\n",
       "    <tr>\n",
       "      <th>latitude</th>\n",
       "      <td>41.840</td>\n",
       "      <td>40.540</td>\n",
       "      <td>41.750</td>\n",
       "      <td>40.730</td>\n",
       "      <td>40.780</td>\n",
       "    </tr>\n",
       "    <tr>\n",
       "      <th>housing_median_age</th>\n",
       "      <td>17.000</td>\n",
       "      <td>52.000</td>\n",
       "      <td>11.000</td>\n",
       "      <td>21.000</td>\n",
       "      <td>34.000</td>\n",
       "    </tr>\n",
       "    <tr>\n",
       "      <th>total_rooms</th>\n",
       "      <td>2677.000</td>\n",
       "      <td>2694.000</td>\n",
       "      <td>3159.000</td>\n",
       "      <td>5694.000</td>\n",
       "      <td>1592.000</td>\n",
       "    </tr>\n",
       "    <tr>\n",
       "      <th>total_bedrooms</th>\n",
       "      <td>531.000</td>\n",
       "      <td>453.000</td>\n",
       "      <td>616.000</td>\n",
       "      <td>1056.000</td>\n",
       "      <td>364.000</td>\n",
       "    </tr>\n",
       "    <tr>\n",
       "      <th>population</th>\n",
       "      <td>1244.000</td>\n",
       "      <td>1152.000</td>\n",
       "      <td>1343.000</td>\n",
       "      <td>2907.000</td>\n",
       "      <td>950.000</td>\n",
       "    </tr>\n",
       "    <tr>\n",
       "      <th>households</th>\n",
       "      <td>456.000</td>\n",
       "      <td>435.000</td>\n",
       "      <td>479.000</td>\n",
       "      <td>972.000</td>\n",
       "      <td>317.000</td>\n",
       "    </tr>\n",
       "    <tr>\n",
       "      <th>median_income</th>\n",
       "      <td>3.031</td>\n",
       "      <td>3.081</td>\n",
       "      <td>2.481</td>\n",
       "      <td>3.536</td>\n",
       "      <td>2.161</td>\n",
       "    </tr>\n",
       "    <tr>\n",
       "      <th>ocean_proximity_idx</th>\n",
       "      <td>2.000</td>\n",
       "      <td>2.000</td>\n",
       "      <td>2.000</td>\n",
       "      <td>2.000</td>\n",
       "      <td>2.000</td>\n",
       "    </tr>\n",
       "    <tr>\n",
       "      <th>ocean_proximity_ohe</th>\n",
       "      <td>(0.0, 0.0, 1.0, 0.0)</td>\n",
       "      <td>(0.0, 0.0, 1.0, 0.0)</td>\n",
       "      <td>(0.0, 0.0, 1.0, 0.0)</td>\n",
       "      <td>(0.0, 0.0, 1.0, 0.0)</td>\n",
       "      <td>(0.0, 0.0, 1.0, 0.0)</td>\n",
       "    </tr>\n",
       "    <tr>\n",
       "      <th>ocean_proximity_va</th>\n",
       "      <td>(0.0, 0.0, 1.0, 0.0)</td>\n",
       "      <td>(0.0, 0.0, 1.0, 0.0)</td>\n",
       "      <td>(0.0, 0.0, 1.0, 0.0)</td>\n",
       "      <td>(0.0, 0.0, 1.0, 0.0)</td>\n",
       "      <td>(0.0, 0.0, 1.0, 0.0)</td>\n",
       "    </tr>\n",
       "    <tr>\n",
       "      <th>numerical_features</th>\n",
       "      <td>[-124.3, 41.84, 17.0, 2677.0, 531.0, 1244.0, 456.0, 3.0313]</td>\n",
       "      <td>[-124.23, 40.54, 52.0, 2694.0, 453.0, 1152.0, 435.0, 3.0806]</td>\n",
       "      <td>[-124.23, 41.75, 11.0, 3159.0, 616.0, 1343.0, 479.0, 2.4805]</td>\n",
       "      <td>[-124.19, 40.73, 21.0, 5694.0, 1056.0, 2907.0, 972.0, 3.5363]</td>\n",
       "      <td>[-124.18, 40.78, 34.0, 1592.0, 364.0, 950.0, 317.0, 2.1607]</td>\n",
       "    </tr>\n",
       "    <tr>\n",
       "      <th>numerical_features_scaled</th>\n",
       "      <td>[-61.90705001392024, 19.507782237953624, 1.3503248648929638, 1.231419506341462, 1.2706356483123271, 1.1414745917408673, 1.198121866732621, 1.6095574000225863]</td>\n",
       "      <td>[-61.87218683209422, 18.90166089690822, 4.13040546908436, 1.2392395032065366, 1.0839886039274655, 1.057056856660353, 1.1429452018173027, 1.6357346770394152]</td>\n",
       "      <td>[-61.87218683209422, 19.465819991265864, 0.8737396184601531, 1.453139417457108, 1.4740330684753173, 1.2323154153601164, 1.2585534521160644, 1.317094029213877]</td>\n",
       "      <td>[-61.85226501390792, 18.99024786213793, 1.6680483625148377, 2.619238949984417, 2.5269138316719726, 2.6674169117288593, 2.553891347509008, 1.8777019211888868]</td>\n",
       "      <td>[-61.84728455936135, 19.01356022140891, 2.7006497297859275, 0.7323197064234619, 0.8710195404626875, 0.8717048731140064, 0.8329048941978966, 1.1472868651168813]</td>\n",
       "    </tr>\n",
       "  </tbody>\n",
       "</table>\n",
       "</div>"
      ],
      "text/plain": [
       "                                                                                                                                                                                        0  \\\n",
       "longitude                                                                                                                                                                        -124.300   \n",
       "latitude                                                                                                                                                                           41.840   \n",
       "housing_median_age                                                                                                                                                                 17.000   \n",
       "total_rooms                                                                                                                                                                      2677.000   \n",
       "total_bedrooms                                                                                                                                                                    531.000   \n",
       "population                                                                                                                                                                       1244.000   \n",
       "households                                                                                                                                                                        456.000   \n",
       "median_income                                                                                                                                                                       3.031   \n",
       "ocean_proximity_idx                                                                                                                                                                 2.000   \n",
       "ocean_proximity_ohe                                                                                                                                                  (0.0, 0.0, 1.0, 0.0)   \n",
       "ocean_proximity_va                                                                                                                                                   (0.0, 0.0, 1.0, 0.0)   \n",
       "numerical_features                                                                                                            [-124.3, 41.84, 17.0, 2677.0, 531.0, 1244.0, 456.0, 3.0313]   \n",
       "numerical_features_scaled  [-61.90705001392024, 19.507782237953624, 1.3503248648929638, 1.231419506341462, 1.2706356483123271, 1.1414745917408673, 1.198121866732621, 1.6095574000225863]   \n",
       "\n",
       "                                                                                                                                                                                      1  \\\n",
       "longitude                                                                                                                                                                      -124.230   \n",
       "latitude                                                                                                                                                                         40.540   \n",
       "housing_median_age                                                                                                                                                               52.000   \n",
       "total_rooms                                                                                                                                                                    2694.000   \n",
       "total_bedrooms                                                                                                                                                                  453.000   \n",
       "population                                                                                                                                                                     1152.000   \n",
       "households                                                                                                                                                                      435.000   \n",
       "median_income                                                                                                                                                                     3.081   \n",
       "ocean_proximity_idx                                                                                                                                                               2.000   \n",
       "ocean_proximity_ohe                                                                                                                                                (0.0, 0.0, 1.0, 0.0)   \n",
       "ocean_proximity_va                                                                                                                                                 (0.0, 0.0, 1.0, 0.0)   \n",
       "numerical_features                                                                                                         [-124.23, 40.54, 52.0, 2694.0, 453.0, 1152.0, 435.0, 3.0806]   \n",
       "numerical_features_scaled  [-61.87218683209422, 18.90166089690822, 4.13040546908436, 1.2392395032065366, 1.0839886039274655, 1.057056856660353, 1.1429452018173027, 1.6357346770394152]   \n",
       "\n",
       "                                                                                                                                                                                        2  \\\n",
       "longitude                                                                                                                                                                        -124.230   \n",
       "latitude                                                                                                                                                                           41.750   \n",
       "housing_median_age                                                                                                                                                                 11.000   \n",
       "total_rooms                                                                                                                                                                      3159.000   \n",
       "total_bedrooms                                                                                                                                                                    616.000   \n",
       "population                                                                                                                                                                       1343.000   \n",
       "households                                                                                                                                                                        479.000   \n",
       "median_income                                                                                                                                                                       2.481   \n",
       "ocean_proximity_idx                                                                                                                                                                 2.000   \n",
       "ocean_proximity_ohe                                                                                                                                                  (0.0, 0.0, 1.0, 0.0)   \n",
       "ocean_proximity_va                                                                                                                                                   (0.0, 0.0, 1.0, 0.0)   \n",
       "numerical_features                                                                                                           [-124.23, 41.75, 11.0, 3159.0, 616.0, 1343.0, 479.0, 2.4805]   \n",
       "numerical_features_scaled  [-61.87218683209422, 19.465819991265864, 0.8737396184601531, 1.453139417457108, 1.4740330684753173, 1.2323154153601164, 1.2585534521160644, 1.317094029213877]   \n",
       "\n",
       "                                                                                                                                                                                       3  \\\n",
       "longitude                                                                                                                                                                       -124.190   \n",
       "latitude                                                                                                                                                                          40.730   \n",
       "housing_median_age                                                                                                                                                                21.000   \n",
       "total_rooms                                                                                                                                                                     5694.000   \n",
       "total_bedrooms                                                                                                                                                                  1056.000   \n",
       "population                                                                                                                                                                      2907.000   \n",
       "households                                                                                                                                                                       972.000   \n",
       "median_income                                                                                                                                                                      3.536   \n",
       "ocean_proximity_idx                                                                                                                                                                2.000   \n",
       "ocean_proximity_ohe                                                                                                                                                 (0.0, 0.0, 1.0, 0.0)   \n",
       "ocean_proximity_va                                                                                                                                                  (0.0, 0.0, 1.0, 0.0)   \n",
       "numerical_features                                                                                                         [-124.19, 40.73, 21.0, 5694.0, 1056.0, 2907.0, 972.0, 3.5363]   \n",
       "numerical_features_scaled  [-61.85226501390792, 18.99024786213793, 1.6680483625148377, 2.619238949984417, 2.5269138316719726, 2.6674169117288593, 2.553891347509008, 1.8777019211888868]   \n",
       "\n",
       "                                                                                                                                                                                         4  \n",
       "longitude                                                                                                                                                                         -124.180  \n",
       "latitude                                                                                                                                                                            40.780  \n",
       "housing_median_age                                                                                                                                                                  34.000  \n",
       "total_rooms                                                                                                                                                                       1592.000  \n",
       "total_bedrooms                                                                                                                                                                     364.000  \n",
       "population                                                                                                                                                                         950.000  \n",
       "households                                                                                                                                                                         317.000  \n",
       "median_income                                                                                                                                                                        2.161  \n",
       "ocean_proximity_idx                                                                                                                                                                  2.000  \n",
       "ocean_proximity_ohe                                                                                                                                                   (0.0, 0.0, 1.0, 0.0)  \n",
       "ocean_proximity_va                                                                                                                                                    (0.0, 0.0, 1.0, 0.0)  \n",
       "numerical_features                                                                                                             [-124.18, 40.78, 34.0, 1592.0, 364.0, 950.0, 317.0, 2.1607]  \n",
       "numerical_features_scaled  [-61.84728455936135, 19.01356022140891, 2.7006497297859275, 0.7323197064234619, 0.8710195404626875, 0.8717048731140064, 0.8329048941978966, 1.1472868651168813]  "
      ]
     },
     "execution_count": 285,
     "metadata": {},
     "output_type": "execute_result"
    }
   ],
   "source": [
    "pd.DataFrame(features_test.take(5), columns=features_test.columns).T"
   ]
  },
  {
   "cell_type": "markdown",
   "id": "d4e009e9",
   "metadata": {},
   "source": [
    "### Преобразование категориальных и численных признаков в один вектор"
   ]
  },
  {
   "cell_type": "code",
   "execution_count": 286,
   "id": "3211339d",
   "metadata": {},
   "outputs": [
    {
     "data": {
      "text/html": [
       "<div>\n",
       "<style scoped>\n",
       "    .dataframe tbody tr th:only-of-type {\n",
       "        vertical-align: middle;\n",
       "    }\n",
       "\n",
       "    .dataframe tbody tr th {\n",
       "        vertical-align: top;\n",
       "    }\n",
       "\n",
       "    .dataframe thead th {\n",
       "        text-align: right;\n",
       "    }\n",
       "</style>\n",
       "<table border=\"1\" class=\"dataframe\">\n",
       "  <thead>\n",
       "    <tr style=\"text-align: right;\">\n",
       "      <th></th>\n",
       "      <th>categorical</th>\n",
       "      <th>numerical</th>\n",
       "    </tr>\n",
       "  </thead>\n",
       "  <tbody>\n",
       "    <tr>\n",
       "      <th>0</th>\n",
       "      <td>(0.0, 0.0, 1.0, 0.0)</td>\n",
       "      <td>[-61.93195228665311, 18.90166089690822, 4.13040546908436, 0.8371996643785807, 0.7178732476340831, 0.7395727660314623, 0.7094142631969466, 1.6007431444753377]</td>\n",
       "    </tr>\n",
       "    <tr>\n",
       "      <th>1</th>\n",
       "      <td>(0.0, 0.0, 1.0, 0.0)</td>\n",
       "      <td>[-61.90705001392024, 19.48913235053684, 1.5091866137039007, 1.2291195072634988, 1.3208867756467129, 1.1910241318968213, 1.2559259918820018, 1.0511796208968807]</td>\n",
       "    </tr>\n",
       "    <tr>\n",
       "      <th>2</th>\n",
       "      <td>(0.0, 0.0, 1.0, 0.0)</td>\n",
       "      <td>[-61.89210865028051, 18.97159797472115, 2.8595114785968647, 1.0805395668270803, 1.2634569158359863, 1.0955953878927618, 1.2217690088391857, 1.3369526531576783]</td>\n",
       "    </tr>\n",
       "    <tr>\n",
       "      <th>3</th>\n",
       "      <td>(0.0, 0.0, 1.0, 0.0)</td>\n",
       "      <td>[-61.88712819573394, 18.920310784325, 4.13040546908436, 1.0198195911688537, 0.9428068652260958, 0.8322487578046356, 0.9695328263691604, 1.2515711897843296]</td>\n",
       "    </tr>\n",
       "    <tr>\n",
       "      <th>4</th>\n",
       "      <td>(0.0, 0.0, 1.0, 0.0)</td>\n",
       "      <td>[-61.88214774118737, 18.78043662869914, 2.541787980974991, 0.6577997362974564, 1.0026296358622695, 0.3982314894015566, 0.49133506376973707, 1.0310024094031789]</td>\n",
       "    </tr>\n",
       "  </tbody>\n",
       "</table>\n",
       "</div>"
      ],
      "text/plain": [
       "            categorical  \\\n",
       "0  (0.0, 0.0, 1.0, 0.0)   \n",
       "1  (0.0, 0.0, 1.0, 0.0)   \n",
       "2  (0.0, 0.0, 1.0, 0.0)   \n",
       "3  (0.0, 0.0, 1.0, 0.0)   \n",
       "4  (0.0, 0.0, 1.0, 0.0)   \n",
       "\n",
       "                                                                                                                                                         numerical  \n",
       "0    [-61.93195228665311, 18.90166089690822, 4.13040546908436, 0.8371996643785807, 0.7178732476340831, 0.7395727660314623, 0.7094142631969466, 1.6007431444753377]  \n",
       "1  [-61.90705001392024, 19.48913235053684, 1.5091866137039007, 1.2291195072634988, 1.3208867756467129, 1.1910241318968213, 1.2559259918820018, 1.0511796208968807]  \n",
       "2  [-61.89210865028051, 18.97159797472115, 2.8595114785968647, 1.0805395668270803, 1.2634569158359863, 1.0955953878927618, 1.2217690088391857, 1.3369526531576783]  \n",
       "3      [-61.88712819573394, 18.920310784325, 4.13040546908436, 1.0198195911688537, 0.9428068652260958, 0.8322487578046356, 0.9695328263691604, 1.2515711897843296]  \n",
       "4  [-61.88214774118737, 18.78043662869914, 2.541787980974991, 0.6577997362974564, 1.0026296358622695, 0.3982314894015566, 0.49133506376973707, 1.0310024094031789]  "
      ]
     },
     "execution_count": 286,
     "metadata": {},
     "output_type": "execute_result"
    }
   ],
   "source": [
    "# все признаки\n",
    "all_features = ['ocean_proximity_va', 'numerical_features_scaled']\n",
    "\n",
    "final_assembler = VectorAssembler(inputCols=all_features,\n",
    "                                  outputCol='all_features')\n",
    "\n",
    "features_train = final_assembler.transform(features_train)\n",
    "features_test = final_assembler.transform(features_test)\n",
    "\n",
    "pd.DataFrame(features_train.select(all_features).take(5), columns=['categorical','numerical'])"
   ]
  },
  {
   "cell_type": "code",
   "execution_count": 287,
   "id": "1de9062d",
   "metadata": {},
   "outputs": [
    {
     "data": {
      "text/html": [
       "<div>\n",
       "<style scoped>\n",
       "    .dataframe tbody tr th:only-of-type {\n",
       "        vertical-align: middle;\n",
       "    }\n",
       "\n",
       "    .dataframe tbody tr th {\n",
       "        vertical-align: top;\n",
       "    }\n",
       "\n",
       "    .dataframe thead th {\n",
       "        text-align: right;\n",
       "    }\n",
       "</style>\n",
       "<table border=\"1\" class=\"dataframe\">\n",
       "  <thead>\n",
       "    <tr style=\"text-align: right;\">\n",
       "      <th></th>\n",
       "      <th>categorical</th>\n",
       "      <th>numerical</th>\n",
       "    </tr>\n",
       "  </thead>\n",
       "  <tbody>\n",
       "    <tr>\n",
       "      <th>0</th>\n",
       "      <td>(0.0, 0.0, 1.0, 0.0)</td>\n",
       "      <td>[-61.90705001392024, 19.507782237953624, 1.3503248648929638, 1.231419506341462, 1.2706356483123271, 1.1414745917408673, 1.198121866732621, 1.6095574000225863]</td>\n",
       "    </tr>\n",
       "    <tr>\n",
       "      <th>1</th>\n",
       "      <td>(0.0, 0.0, 1.0, 0.0)</td>\n",
       "      <td>[-61.87218683209422, 18.90166089690822, 4.13040546908436, 1.2392395032065366, 1.0839886039274655, 1.057056856660353, 1.1429452018173027, 1.6357346770394152]</td>\n",
       "    </tr>\n",
       "    <tr>\n",
       "      <th>2</th>\n",
       "      <td>(0.0, 0.0, 1.0, 0.0)</td>\n",
       "      <td>[-61.87218683209422, 19.465819991265864, 0.8737396184601531, 1.453139417457108, 1.4740330684753173, 1.2323154153601164, 1.2585534521160644, 1.317094029213877]</td>\n",
       "    </tr>\n",
       "    <tr>\n",
       "      <th>3</th>\n",
       "      <td>(0.0, 0.0, 1.0, 0.0)</td>\n",
       "      <td>[-61.85226501390792, 18.99024786213793, 1.6680483625148377, 2.619238949984417, 2.5269138316719726, 2.6674169117288593, 2.553891347509008, 1.8777019211888868]</td>\n",
       "    </tr>\n",
       "    <tr>\n",
       "      <th>4</th>\n",
       "      <td>(0.0, 0.0, 1.0, 0.0)</td>\n",
       "      <td>[-61.84728455936135, 19.01356022140891, 2.7006497297859275, 0.7323197064234619, 0.8710195404626875, 0.8717048731140064, 0.8329048941978966, 1.1472868651168813]</td>\n",
       "    </tr>\n",
       "  </tbody>\n",
       "</table>\n",
       "</div>"
      ],
      "text/plain": [
       "            categorical  \\\n",
       "0  (0.0, 0.0, 1.0, 0.0)   \n",
       "1  (0.0, 0.0, 1.0, 0.0)   \n",
       "2  (0.0, 0.0, 1.0, 0.0)   \n",
       "3  (0.0, 0.0, 1.0, 0.0)   \n",
       "4  (0.0, 0.0, 1.0, 0.0)   \n",
       "\n",
       "                                                                                                                                                         numerical  \n",
       "0   [-61.90705001392024, 19.507782237953624, 1.3503248648929638, 1.231419506341462, 1.2706356483123271, 1.1414745917408673, 1.198121866732621, 1.6095574000225863]  \n",
       "1     [-61.87218683209422, 18.90166089690822, 4.13040546908436, 1.2392395032065366, 1.0839886039274655, 1.057056856660353, 1.1429452018173027, 1.6357346770394152]  \n",
       "2   [-61.87218683209422, 19.465819991265864, 0.8737396184601531, 1.453139417457108, 1.4740330684753173, 1.2323154153601164, 1.2585534521160644, 1.317094029213877]  \n",
       "3    [-61.85226501390792, 18.99024786213793, 1.6680483625148377, 2.619238949984417, 2.5269138316719726, 2.6674169117288593, 2.553891347509008, 1.8777019211888868]  \n",
       "4  [-61.84728455936135, 19.01356022140891, 2.7006497297859275, 0.7323197064234619, 0.8710195404626875, 0.8717048731140064, 0.8329048941978966, 1.1472868651168813]  "
      ]
     },
     "execution_count": 287,
     "metadata": {},
     "output_type": "execute_result"
    }
   ],
   "source": [
    "pd.DataFrame(features_test.select(all_features).take(5), columns=['categorical','numerical'])"
   ]
  },
  {
   "cell_type": "code",
   "execution_count": 288,
   "id": "9efd78b3",
   "metadata": {},
   "outputs": [
    {
     "data": {
      "text/html": [
       "<div>\n",
       "<style scoped>\n",
       "    .dataframe tbody tr th:only-of-type {\n",
       "        vertical-align: middle;\n",
       "    }\n",
       "\n",
       "    .dataframe tbody tr th {\n",
       "        vertical-align: top;\n",
       "    }\n",
       "\n",
       "    .dataframe thead th {\n",
       "        text-align: right;\n",
       "    }\n",
       "</style>\n",
       "<table border=\"1\" class=\"dataframe\">\n",
       "  <thead>\n",
       "    <tr style=\"text-align: right;\">\n",
       "      <th></th>\n",
       "      <th>0</th>\n",
       "      <th>1</th>\n",
       "      <th>2</th>\n",
       "      <th>3</th>\n",
       "      <th>4</th>\n",
       "    </tr>\n",
       "  </thead>\n",
       "  <tbody>\n",
       "    <tr>\n",
       "      <th>longitude</th>\n",
       "      <td>-124.350</td>\n",
       "      <td>-124.300</td>\n",
       "      <td>-124.270</td>\n",
       "      <td>-124.260</td>\n",
       "      <td>-124.250</td>\n",
       "    </tr>\n",
       "    <tr>\n",
       "      <th>latitude</th>\n",
       "      <td>40.540</td>\n",
       "      <td>41.800</td>\n",
       "      <td>40.690</td>\n",
       "      <td>40.580</td>\n",
       "      <td>40.280</td>\n",
       "    </tr>\n",
       "    <tr>\n",
       "      <th>housing_median_age</th>\n",
       "      <td>52.000</td>\n",
       "      <td>19.000</td>\n",
       "      <td>36.000</td>\n",
       "      <td>52.000</td>\n",
       "      <td>32.000</td>\n",
       "    </tr>\n",
       "    <tr>\n",
       "      <th>total_rooms</th>\n",
       "      <td>1820.000</td>\n",
       "      <td>2672.000</td>\n",
       "      <td>2349.000</td>\n",
       "      <td>2217.000</td>\n",
       "      <td>1430.000</td>\n",
       "    </tr>\n",
       "    <tr>\n",
       "      <th>total_bedrooms</th>\n",
       "      <td>300.000</td>\n",
       "      <td>552.000</td>\n",
       "      <td>528.000</td>\n",
       "      <td>394.000</td>\n",
       "      <td>419.000</td>\n",
       "    </tr>\n",
       "    <tr>\n",
       "      <th>population</th>\n",
       "      <td>806.000</td>\n",
       "      <td>1298.000</td>\n",
       "      <td>1194.000</td>\n",
       "      <td>907.000</td>\n",
       "      <td>434.000</td>\n",
       "    </tr>\n",
       "    <tr>\n",
       "      <th>households</th>\n",
       "      <td>270.000</td>\n",
       "      <td>478.000</td>\n",
       "      <td>465.000</td>\n",
       "      <td>369.000</td>\n",
       "      <td>187.000</td>\n",
       "    </tr>\n",
       "    <tr>\n",
       "      <th>median_income</th>\n",
       "      <td>3.015</td>\n",
       "      <td>1.980</td>\n",
       "      <td>2.518</td>\n",
       "      <td>2.357</td>\n",
       "      <td>1.942</td>\n",
       "    </tr>\n",
       "    <tr>\n",
       "      <th>ocean_proximity_idx</th>\n",
       "      <td>2.000</td>\n",
       "      <td>2.000</td>\n",
       "      <td>2.000</td>\n",
       "      <td>2.000</td>\n",
       "      <td>2.000</td>\n",
       "    </tr>\n",
       "    <tr>\n",
       "      <th>ocean_proximity_ohe</th>\n",
       "      <td>(0.0, 0.0, 1.0, 0.0)</td>\n",
       "      <td>(0.0, 0.0, 1.0, 0.0)</td>\n",
       "      <td>(0.0, 0.0, 1.0, 0.0)</td>\n",
       "      <td>(0.0, 0.0, 1.0, 0.0)</td>\n",
       "      <td>(0.0, 0.0, 1.0, 0.0)</td>\n",
       "    </tr>\n",
       "    <tr>\n",
       "      <th>ocean_proximity_va</th>\n",
       "      <td>(0.0, 0.0, 1.0, 0.0)</td>\n",
       "      <td>(0.0, 0.0, 1.0, 0.0)</td>\n",
       "      <td>(0.0, 0.0, 1.0, 0.0)</td>\n",
       "      <td>(0.0, 0.0, 1.0, 0.0)</td>\n",
       "      <td>(0.0, 0.0, 1.0, 0.0)</td>\n",
       "    </tr>\n",
       "    <tr>\n",
       "      <th>numerical_features</th>\n",
       "      <td>[-124.35, 40.54, 52.0, 1820.0, 300.0, 806.0, 270.0, 3.0147]</td>\n",
       "      <td>[-124.3, 41.8, 19.0, 2672.0, 552.0, 1298.0, 478.0, 1.9797]</td>\n",
       "      <td>[-124.27, 40.69, 36.0, 2349.0, 528.0, 1194.0, 465.0, 2.5179]</td>\n",
       "      <td>[-124.26, 40.58, 52.0, 2217.0, 394.0, 907.0, 369.0, 2.3571]</td>\n",
       "      <td>[-124.25, 40.28, 32.0, 1430.0, 419.0, 434.0, 187.0, 1.9417]</td>\n",
       "    </tr>\n",
       "    <tr>\n",
       "      <th>numerical_features_scaled</th>\n",
       "      <td>[-61.93195228665311, 18.90166089690822, 4.13040546908436, 0.8371996643785807, 0.7178732476340831, 0.7395727660314623, 0.7094142631969466, 1.6007431444753377]</td>\n",
       "      <td>[-61.90705001392024, 19.48913235053684, 1.5091866137039007, 1.2291195072634988, 1.3208867756467129, 1.1910241318968213, 1.2559259918820018, 1.0511796208968807]</td>\n",
       "      <td>[-61.89210865028051, 18.97159797472115, 2.8595114785968647, 1.0805395668270803, 1.2634569158359863, 1.0955953878927618, 1.2217690088391857, 1.3369526531576783]</td>\n",
       "      <td>[-61.88712819573394, 18.920310784325, 4.13040546908436, 1.0198195911688537, 0.9428068652260958, 0.8322487578046356, 0.9695328263691604, 1.2515711897843296]</td>\n",
       "      <td>[-61.88214774118737, 18.78043662869914, 2.541787980974991, 0.6577997362974564, 1.0026296358622695, 0.3982314894015566, 0.49133506376973707, 1.0310024094031789]</td>\n",
       "    </tr>\n",
       "    <tr>\n",
       "      <th>all_features</th>\n",
       "      <td>[0.0, 0.0, 1.0, 0.0, -61.93195228665311, 18.90166089690822, 4.13040546908436, 0.8371996643785807, 0.7178732476340831, 0.7395727660314623, 0.7094142631969466, 1.6007431444753377]</td>\n",
       "      <td>[0.0, 0.0, 1.0, 0.0, -61.90705001392024, 19.48913235053684, 1.5091866137039007, 1.2291195072634988, 1.3208867756467129, 1.1910241318968213, 1.2559259918820018, 1.0511796208968807]</td>\n",
       "      <td>[0.0, 0.0, 1.0, 0.0, -61.89210865028051, 18.97159797472115, 2.8595114785968647, 1.0805395668270803, 1.2634569158359863, 1.0955953878927618, 1.2217690088391857, 1.3369526531576783]</td>\n",
       "      <td>[0.0, 0.0, 1.0, 0.0, -61.88712819573394, 18.920310784325, 4.13040546908436, 1.0198195911688537, 0.9428068652260958, 0.8322487578046356, 0.9695328263691604, 1.2515711897843296]</td>\n",
       "      <td>[0.0, 0.0, 1.0, 0.0, -61.88214774118737, 18.78043662869914, 2.541787980974991, 0.6577997362974564, 1.0026296358622695, 0.3982314894015566, 0.49133506376973707, 1.0310024094031789]</td>\n",
       "    </tr>\n",
       "  </tbody>\n",
       "</table>\n",
       "</div>"
      ],
      "text/plain": [
       "                                                                                                                                                                                                           0  \\\n",
       "longitude                                                                                                                                                                                           -124.350   \n",
       "latitude                                                                                                                                                                                              40.540   \n",
       "housing_median_age                                                                                                                                                                                    52.000   \n",
       "total_rooms                                                                                                                                                                                         1820.000   \n",
       "total_bedrooms                                                                                                                                                                                       300.000   \n",
       "population                                                                                                                                                                                           806.000   \n",
       "households                                                                                                                                                                                           270.000   \n",
       "median_income                                                                                                                                                                                          3.015   \n",
       "ocean_proximity_idx                                                                                                                                                                                    2.000   \n",
       "ocean_proximity_ohe                                                                                                                                                                     (0.0, 0.0, 1.0, 0.0)   \n",
       "ocean_proximity_va                                                                                                                                                                      (0.0, 0.0, 1.0, 0.0)   \n",
       "numerical_features                                                                                                                               [-124.35, 40.54, 52.0, 1820.0, 300.0, 806.0, 270.0, 3.0147]   \n",
       "numerical_features_scaled                      [-61.93195228665311, 18.90166089690822, 4.13040546908436, 0.8371996643785807, 0.7178732476340831, 0.7395727660314623, 0.7094142631969466, 1.6007431444753377]   \n",
       "all_features               [0.0, 0.0, 1.0, 0.0, -61.93195228665311, 18.90166089690822, 4.13040546908436, 0.8371996643785807, 0.7178732476340831, 0.7395727660314623, 0.7094142631969466, 1.6007431444753377]   \n",
       "\n",
       "                                                                                                                                                                                                             1  \\\n",
       "longitude                                                                                                                                                                                             -124.300   \n",
       "latitude                                                                                                                                                                                                41.800   \n",
       "housing_median_age                                                                                                                                                                                      19.000   \n",
       "total_rooms                                                                                                                                                                                           2672.000   \n",
       "total_bedrooms                                                                                                                                                                                         552.000   \n",
       "population                                                                                                                                                                                            1298.000   \n",
       "households                                                                                                                                                                                             478.000   \n",
       "median_income                                                                                                                                                                                            1.980   \n",
       "ocean_proximity_idx                                                                                                                                                                                      2.000   \n",
       "ocean_proximity_ohe                                                                                                                                                                       (0.0, 0.0, 1.0, 0.0)   \n",
       "ocean_proximity_va                                                                                                                                                                        (0.0, 0.0, 1.0, 0.0)   \n",
       "numerical_features                                                                                                                                  [-124.3, 41.8, 19.0, 2672.0, 552.0, 1298.0, 478.0, 1.9797]   \n",
       "numerical_features_scaled                      [-61.90705001392024, 19.48913235053684, 1.5091866137039007, 1.2291195072634988, 1.3208867756467129, 1.1910241318968213, 1.2559259918820018, 1.0511796208968807]   \n",
       "all_features               [0.0, 0.0, 1.0, 0.0, -61.90705001392024, 19.48913235053684, 1.5091866137039007, 1.2291195072634988, 1.3208867756467129, 1.1910241318968213, 1.2559259918820018, 1.0511796208968807]   \n",
       "\n",
       "                                                                                                                                                                                                             2  \\\n",
       "longitude                                                                                                                                                                                             -124.270   \n",
       "latitude                                                                                                                                                                                                40.690   \n",
       "housing_median_age                                                                                                                                                                                      36.000   \n",
       "total_rooms                                                                                                                                                                                           2349.000   \n",
       "total_bedrooms                                                                                                                                                                                         528.000   \n",
       "population                                                                                                                                                                                            1194.000   \n",
       "households                                                                                                                                                                                             465.000   \n",
       "median_income                                                                                                                                                                                            2.518   \n",
       "ocean_proximity_idx                                                                                                                                                                                      2.000   \n",
       "ocean_proximity_ohe                                                                                                                                                                       (0.0, 0.0, 1.0, 0.0)   \n",
       "ocean_proximity_va                                                                                                                                                                        (0.0, 0.0, 1.0, 0.0)   \n",
       "numerical_features                                                                                                                                [-124.27, 40.69, 36.0, 2349.0, 528.0, 1194.0, 465.0, 2.5179]   \n",
       "numerical_features_scaled                      [-61.89210865028051, 18.97159797472115, 2.8595114785968647, 1.0805395668270803, 1.2634569158359863, 1.0955953878927618, 1.2217690088391857, 1.3369526531576783]   \n",
       "all_features               [0.0, 0.0, 1.0, 0.0, -61.89210865028051, 18.97159797472115, 2.8595114785968647, 1.0805395668270803, 1.2634569158359863, 1.0955953878927618, 1.2217690088391857, 1.3369526531576783]   \n",
       "\n",
       "                                                                                                                                                                                                         3  \\\n",
       "longitude                                                                                                                                                                                         -124.260   \n",
       "latitude                                                                                                                                                                                            40.580   \n",
       "housing_median_age                                                                                                                                                                                  52.000   \n",
       "total_rooms                                                                                                                                                                                       2217.000   \n",
       "total_bedrooms                                                                                                                                                                                     394.000   \n",
       "population                                                                                                                                                                                         907.000   \n",
       "households                                                                                                                                                                                         369.000   \n",
       "median_income                                                                                                                                                                                        2.357   \n",
       "ocean_proximity_idx                                                                                                                                                                                  2.000   \n",
       "ocean_proximity_ohe                                                                                                                                                                   (0.0, 0.0, 1.0, 0.0)   \n",
       "ocean_proximity_va                                                                                                                                                                    (0.0, 0.0, 1.0, 0.0)   \n",
       "numerical_features                                                                                                                             [-124.26, 40.58, 52.0, 2217.0, 394.0, 907.0, 369.0, 2.3571]   \n",
       "numerical_features_scaled                      [-61.88712819573394, 18.920310784325, 4.13040546908436, 1.0198195911688537, 0.9428068652260958, 0.8322487578046356, 0.9695328263691604, 1.2515711897843296]   \n",
       "all_features               [0.0, 0.0, 1.0, 0.0, -61.88712819573394, 18.920310784325, 4.13040546908436, 1.0198195911688537, 0.9428068652260958, 0.8322487578046356, 0.9695328263691604, 1.2515711897843296]   \n",
       "\n",
       "                                                                                                                                                                                                             4  \n",
       "longitude                                                                                                                                                                                             -124.250  \n",
       "latitude                                                                                                                                                                                                40.280  \n",
       "housing_median_age                                                                                                                                                                                      32.000  \n",
       "total_rooms                                                                                                                                                                                           1430.000  \n",
       "total_bedrooms                                                                                                                                                                                         419.000  \n",
       "population                                                                                                                                                                                             434.000  \n",
       "households                                                                                                                                                                                             187.000  \n",
       "median_income                                                                                                                                                                                            1.942  \n",
       "ocean_proximity_idx                                                                                                                                                                                      2.000  \n",
       "ocean_proximity_ohe                                                                                                                                                                       (0.0, 0.0, 1.0, 0.0)  \n",
       "ocean_proximity_va                                                                                                                                                                        (0.0, 0.0, 1.0, 0.0)  \n",
       "numerical_features                                                                                                                                 [-124.25, 40.28, 32.0, 1430.0, 419.0, 434.0, 187.0, 1.9417]  \n",
       "numerical_features_scaled                      [-61.88214774118737, 18.78043662869914, 2.541787980974991, 0.6577997362974564, 1.0026296358622695, 0.3982314894015566, 0.49133506376973707, 1.0310024094031789]  \n",
       "all_features               [0.0, 0.0, 1.0, 0.0, -61.88214774118737, 18.78043662869914, 2.541787980974991, 0.6577997362974564, 1.0026296358622695, 0.3982314894015566, 0.49133506376973707, 1.0310024094031789]  "
      ]
     },
     "execution_count": 288,
     "metadata": {},
     "output_type": "execute_result"
    }
   ],
   "source": [
    "pd.DataFrame(features_train.take(5), columns=features_test.columns).T"
   ]
  },
  {
   "cell_type": "code",
   "execution_count": 289,
   "id": "a615c82c",
   "metadata": {},
   "outputs": [
    {
     "data": {
      "text/html": [
       "<div>\n",
       "<style scoped>\n",
       "    .dataframe tbody tr th:only-of-type {\n",
       "        vertical-align: middle;\n",
       "    }\n",
       "\n",
       "    .dataframe tbody tr th {\n",
       "        vertical-align: top;\n",
       "    }\n",
       "\n",
       "    .dataframe thead th {\n",
       "        text-align: right;\n",
       "    }\n",
       "</style>\n",
       "<table border=\"1\" class=\"dataframe\">\n",
       "  <thead>\n",
       "    <tr style=\"text-align: right;\">\n",
       "      <th></th>\n",
       "      <th>0</th>\n",
       "      <th>1</th>\n",
       "      <th>2</th>\n",
       "      <th>3</th>\n",
       "      <th>4</th>\n",
       "    </tr>\n",
       "  </thead>\n",
       "  <tbody>\n",
       "    <tr>\n",
       "      <th>longitude</th>\n",
       "      <td>-124.300</td>\n",
       "      <td>-124.230</td>\n",
       "      <td>-124.230</td>\n",
       "      <td>-124.190</td>\n",
       "      <td>-124.180</td>\n",
       "    </tr>\n",
       "    <tr>\n",
       "      <th>latitude</th>\n",
       "      <td>41.840</td>\n",
       "      <td>40.540</td>\n",
       "      <td>41.750</td>\n",
       "      <td>40.730</td>\n",
       "      <td>40.780</td>\n",
       "    </tr>\n",
       "    <tr>\n",
       "      <th>housing_median_age</th>\n",
       "      <td>17.000</td>\n",
       "      <td>52.000</td>\n",
       "      <td>11.000</td>\n",
       "      <td>21.000</td>\n",
       "      <td>34.000</td>\n",
       "    </tr>\n",
       "    <tr>\n",
       "      <th>total_rooms</th>\n",
       "      <td>2677.000</td>\n",
       "      <td>2694.000</td>\n",
       "      <td>3159.000</td>\n",
       "      <td>5694.000</td>\n",
       "      <td>1592.000</td>\n",
       "    </tr>\n",
       "    <tr>\n",
       "      <th>total_bedrooms</th>\n",
       "      <td>531.000</td>\n",
       "      <td>453.000</td>\n",
       "      <td>616.000</td>\n",
       "      <td>1056.000</td>\n",
       "      <td>364.000</td>\n",
       "    </tr>\n",
       "    <tr>\n",
       "      <th>population</th>\n",
       "      <td>1244.000</td>\n",
       "      <td>1152.000</td>\n",
       "      <td>1343.000</td>\n",
       "      <td>2907.000</td>\n",
       "      <td>950.000</td>\n",
       "    </tr>\n",
       "    <tr>\n",
       "      <th>households</th>\n",
       "      <td>456.000</td>\n",
       "      <td>435.000</td>\n",
       "      <td>479.000</td>\n",
       "      <td>972.000</td>\n",
       "      <td>317.000</td>\n",
       "    </tr>\n",
       "    <tr>\n",
       "      <th>median_income</th>\n",
       "      <td>3.031</td>\n",
       "      <td>3.081</td>\n",
       "      <td>2.481</td>\n",
       "      <td>3.536</td>\n",
       "      <td>2.161</td>\n",
       "    </tr>\n",
       "    <tr>\n",
       "      <th>ocean_proximity_idx</th>\n",
       "      <td>2.000</td>\n",
       "      <td>2.000</td>\n",
       "      <td>2.000</td>\n",
       "      <td>2.000</td>\n",
       "      <td>2.000</td>\n",
       "    </tr>\n",
       "    <tr>\n",
       "      <th>ocean_proximity_ohe</th>\n",
       "      <td>(0.0, 0.0, 1.0, 0.0)</td>\n",
       "      <td>(0.0, 0.0, 1.0, 0.0)</td>\n",
       "      <td>(0.0, 0.0, 1.0, 0.0)</td>\n",
       "      <td>(0.0, 0.0, 1.0, 0.0)</td>\n",
       "      <td>(0.0, 0.0, 1.0, 0.0)</td>\n",
       "    </tr>\n",
       "    <tr>\n",
       "      <th>ocean_proximity_va</th>\n",
       "      <td>(0.0, 0.0, 1.0, 0.0)</td>\n",
       "      <td>(0.0, 0.0, 1.0, 0.0)</td>\n",
       "      <td>(0.0, 0.0, 1.0, 0.0)</td>\n",
       "      <td>(0.0, 0.0, 1.0, 0.0)</td>\n",
       "      <td>(0.0, 0.0, 1.0, 0.0)</td>\n",
       "    </tr>\n",
       "    <tr>\n",
       "      <th>numerical_features</th>\n",
       "      <td>[-124.3, 41.84, 17.0, 2677.0, 531.0, 1244.0, 456.0, 3.0313]</td>\n",
       "      <td>[-124.23, 40.54, 52.0, 2694.0, 453.0, 1152.0, 435.0, 3.0806]</td>\n",
       "      <td>[-124.23, 41.75, 11.0, 3159.0, 616.0, 1343.0, 479.0, 2.4805]</td>\n",
       "      <td>[-124.19, 40.73, 21.0, 5694.0, 1056.0, 2907.0, 972.0, 3.5363]</td>\n",
       "      <td>[-124.18, 40.78, 34.0, 1592.0, 364.0, 950.0, 317.0, 2.1607]</td>\n",
       "    </tr>\n",
       "    <tr>\n",
       "      <th>numerical_features_scaled</th>\n",
       "      <td>[-61.90705001392024, 19.507782237953624, 1.3503248648929638, 1.231419506341462, 1.2706356483123271, 1.1414745917408673, 1.198121866732621, 1.6095574000225863]</td>\n",
       "      <td>[-61.87218683209422, 18.90166089690822, 4.13040546908436, 1.2392395032065366, 1.0839886039274655, 1.057056856660353, 1.1429452018173027, 1.6357346770394152]</td>\n",
       "      <td>[-61.87218683209422, 19.465819991265864, 0.8737396184601531, 1.453139417457108, 1.4740330684753173, 1.2323154153601164, 1.2585534521160644, 1.317094029213877]</td>\n",
       "      <td>[-61.85226501390792, 18.99024786213793, 1.6680483625148377, 2.619238949984417, 2.5269138316719726, 2.6674169117288593, 2.553891347509008, 1.8777019211888868]</td>\n",
       "      <td>[-61.84728455936135, 19.01356022140891, 2.7006497297859275, 0.7323197064234619, 0.8710195404626875, 0.8717048731140064, 0.8329048941978966, 1.1472868651168813]</td>\n",
       "    </tr>\n",
       "    <tr>\n",
       "      <th>all_features</th>\n",
       "      <td>[0.0, 0.0, 1.0, 0.0, -61.90705001392024, 19.507782237953624, 1.3503248648929638, 1.231419506341462, 1.2706356483123271, 1.1414745917408673, 1.198121866732621, 1.6095574000225863]</td>\n",
       "      <td>[0.0, 0.0, 1.0, 0.0, -61.87218683209422, 18.90166089690822, 4.13040546908436, 1.2392395032065366, 1.0839886039274655, 1.057056856660353, 1.1429452018173027, 1.6357346770394152]</td>\n",
       "      <td>[0.0, 0.0, 1.0, 0.0, -61.87218683209422, 19.465819991265864, 0.8737396184601531, 1.453139417457108, 1.4740330684753173, 1.2323154153601164, 1.2585534521160644, 1.317094029213877]</td>\n",
       "      <td>[0.0, 0.0, 1.0, 0.0, -61.85226501390792, 18.99024786213793, 1.6680483625148377, 2.619238949984417, 2.5269138316719726, 2.6674169117288593, 2.553891347509008, 1.8777019211888868]</td>\n",
       "      <td>[0.0, 0.0, 1.0, 0.0, -61.84728455936135, 19.01356022140891, 2.7006497297859275, 0.7323197064234619, 0.8710195404626875, 0.8717048731140064, 0.8329048941978966, 1.1472868651168813]</td>\n",
       "    </tr>\n",
       "  </tbody>\n",
       "</table>\n",
       "</div>"
      ],
      "text/plain": [
       "                                                                                                                                                                                                            0  \\\n",
       "longitude                                                                                                                                                                                            -124.300   \n",
       "latitude                                                                                                                                                                                               41.840   \n",
       "housing_median_age                                                                                                                                                                                     17.000   \n",
       "total_rooms                                                                                                                                                                                          2677.000   \n",
       "total_bedrooms                                                                                                                                                                                        531.000   \n",
       "population                                                                                                                                                                                           1244.000   \n",
       "households                                                                                                                                                                                            456.000   \n",
       "median_income                                                                                                                                                                                           3.031   \n",
       "ocean_proximity_idx                                                                                                                                                                                     2.000   \n",
       "ocean_proximity_ohe                                                                                                                                                                      (0.0, 0.0, 1.0, 0.0)   \n",
       "ocean_proximity_va                                                                                                                                                                       (0.0, 0.0, 1.0, 0.0)   \n",
       "numerical_features                                                                                                                                [-124.3, 41.84, 17.0, 2677.0, 531.0, 1244.0, 456.0, 3.0313]   \n",
       "numerical_features_scaled                      [-61.90705001392024, 19.507782237953624, 1.3503248648929638, 1.231419506341462, 1.2706356483123271, 1.1414745917408673, 1.198121866732621, 1.6095574000225863]   \n",
       "all_features               [0.0, 0.0, 1.0, 0.0, -61.90705001392024, 19.507782237953624, 1.3503248648929638, 1.231419506341462, 1.2706356483123271, 1.1414745917408673, 1.198121866732621, 1.6095574000225863]   \n",
       "\n",
       "                                                                                                                                                                                                          1  \\\n",
       "longitude                                                                                                                                                                                          -124.230   \n",
       "latitude                                                                                                                                                                                             40.540   \n",
       "housing_median_age                                                                                                                                                                                   52.000   \n",
       "total_rooms                                                                                                                                                                                        2694.000   \n",
       "total_bedrooms                                                                                                                                                                                      453.000   \n",
       "population                                                                                                                                                                                         1152.000   \n",
       "households                                                                                                                                                                                          435.000   \n",
       "median_income                                                                                                                                                                                         3.081   \n",
       "ocean_proximity_idx                                                                                                                                                                                   2.000   \n",
       "ocean_proximity_ohe                                                                                                                                                                    (0.0, 0.0, 1.0, 0.0)   \n",
       "ocean_proximity_va                                                                                                                                                                     (0.0, 0.0, 1.0, 0.0)   \n",
       "numerical_features                                                                                                                             [-124.23, 40.54, 52.0, 2694.0, 453.0, 1152.0, 435.0, 3.0806]   \n",
       "numerical_features_scaled                      [-61.87218683209422, 18.90166089690822, 4.13040546908436, 1.2392395032065366, 1.0839886039274655, 1.057056856660353, 1.1429452018173027, 1.6357346770394152]   \n",
       "all_features               [0.0, 0.0, 1.0, 0.0, -61.87218683209422, 18.90166089690822, 4.13040546908436, 1.2392395032065366, 1.0839886039274655, 1.057056856660353, 1.1429452018173027, 1.6357346770394152]   \n",
       "\n",
       "                                                                                                                                                                                                            2  \\\n",
       "longitude                                                                                                                                                                                            -124.230   \n",
       "latitude                                                                                                                                                                                               41.750   \n",
       "housing_median_age                                                                                                                                                                                     11.000   \n",
       "total_rooms                                                                                                                                                                                          3159.000   \n",
       "total_bedrooms                                                                                                                                                                                        616.000   \n",
       "population                                                                                                                                                                                           1343.000   \n",
       "households                                                                                                                                                                                            479.000   \n",
       "median_income                                                                                                                                                                                           2.481   \n",
       "ocean_proximity_idx                                                                                                                                                                                     2.000   \n",
       "ocean_proximity_ohe                                                                                                                                                                      (0.0, 0.0, 1.0, 0.0)   \n",
       "ocean_proximity_va                                                                                                                                                                       (0.0, 0.0, 1.0, 0.0)   \n",
       "numerical_features                                                                                                                               [-124.23, 41.75, 11.0, 3159.0, 616.0, 1343.0, 479.0, 2.4805]   \n",
       "numerical_features_scaled                      [-61.87218683209422, 19.465819991265864, 0.8737396184601531, 1.453139417457108, 1.4740330684753173, 1.2323154153601164, 1.2585534521160644, 1.317094029213877]   \n",
       "all_features               [0.0, 0.0, 1.0, 0.0, -61.87218683209422, 19.465819991265864, 0.8737396184601531, 1.453139417457108, 1.4740330684753173, 1.2323154153601164, 1.2585534521160644, 1.317094029213877]   \n",
       "\n",
       "                                                                                                                                                                                                           3  \\\n",
       "longitude                                                                                                                                                                                           -124.190   \n",
       "latitude                                                                                                                                                                                              40.730   \n",
       "housing_median_age                                                                                                                                                                                    21.000   \n",
       "total_rooms                                                                                                                                                                                         5694.000   \n",
       "total_bedrooms                                                                                                                                                                                      1056.000   \n",
       "population                                                                                                                                                                                          2907.000   \n",
       "households                                                                                                                                                                                           972.000   \n",
       "median_income                                                                                                                                                                                          3.536   \n",
       "ocean_proximity_idx                                                                                                                                                                                    2.000   \n",
       "ocean_proximity_ohe                                                                                                                                                                     (0.0, 0.0, 1.0, 0.0)   \n",
       "ocean_proximity_va                                                                                                                                                                      (0.0, 0.0, 1.0, 0.0)   \n",
       "numerical_features                                                                                                                             [-124.19, 40.73, 21.0, 5694.0, 1056.0, 2907.0, 972.0, 3.5363]   \n",
       "numerical_features_scaled                      [-61.85226501390792, 18.99024786213793, 1.6680483625148377, 2.619238949984417, 2.5269138316719726, 2.6674169117288593, 2.553891347509008, 1.8777019211888868]   \n",
       "all_features               [0.0, 0.0, 1.0, 0.0, -61.85226501390792, 18.99024786213793, 1.6680483625148377, 2.619238949984417, 2.5269138316719726, 2.6674169117288593, 2.553891347509008, 1.8777019211888868]   \n",
       "\n",
       "                                                                                                                                                                                                             4  \n",
       "longitude                                                                                                                                                                                             -124.180  \n",
       "latitude                                                                                                                                                                                                40.780  \n",
       "housing_median_age                                                                                                                                                                                      34.000  \n",
       "total_rooms                                                                                                                                                                                           1592.000  \n",
       "total_bedrooms                                                                                                                                                                                         364.000  \n",
       "population                                                                                                                                                                                             950.000  \n",
       "households                                                                                                                                                                                             317.000  \n",
       "median_income                                                                                                                                                                                            2.161  \n",
       "ocean_proximity_idx                                                                                                                                                                                      2.000  \n",
       "ocean_proximity_ohe                                                                                                                                                                       (0.0, 0.0, 1.0, 0.0)  \n",
       "ocean_proximity_va                                                                                                                                                                        (0.0, 0.0, 1.0, 0.0)  \n",
       "numerical_features                                                                                                                                 [-124.18, 40.78, 34.0, 1592.0, 364.0, 950.0, 317.0, 2.1607]  \n",
       "numerical_features_scaled                      [-61.84728455936135, 19.01356022140891, 2.7006497297859275, 0.7323197064234619, 0.8710195404626875, 0.8717048731140064, 0.8329048941978966, 1.1472868651168813]  \n",
       "all_features               [0.0, 0.0, 1.0, 0.0, -61.84728455936135, 19.01356022140891, 2.7006497297859275, 0.7323197064234619, 0.8710195404626875, 0.8717048731140064, 0.8329048941978966, 1.1472868651168813]  "
      ]
     },
     "execution_count": 289,
     "metadata": {},
     "output_type": "execute_result"
    }
   ],
   "source": [
    "pd.DataFrame(features_test.take(5), columns=features_test.columns).T"
   ]
  },
  {
   "cell_type": "code",
   "execution_count": 291,
   "id": "b9ef21d2",
   "metadata": {},
   "outputs": [],
   "source": [
    "from pyspark.sql.window import Window\n",
    "from pyspark.sql.functions import *\n",
    "w=Window.orderBy(lit(1))\n",
    "\n",
    "features_train = features_train.withColumn(\"id\",row_number().over(w))\n",
    "target_train = target_train.withColumn(\"id\",row_number().over(w))\n",
    "#pd.DataFrame(target_train.take(5), columns=target_train.columns).T\n",
    "train = features_train.join(target_train, features_train.id == target_train.id, 'inner').drop(target_train.id)\n",
    "train = train.drop('id')\n",
    "features_test = features_test.withColumn(\"id\",row_number().over(w))\n",
    "target_test = target_test.withColumn(\"id\",row_number().over(w))\n",
    "#pd.DataFrame(target_test.take(5), columns=target_test.columns).T\n",
    "test = features_test.join(target_test, features_test.id == target_test.id, 'inner').drop(target_test.id)\n",
    "test = test.drop('id')\n"
   ]
  },
  {
   "cell_type": "code",
   "execution_count": 292,
   "id": "0cd00858",
   "metadata": {
    "scrolled": true
   },
   "outputs": [
    {
     "name": "stderr",
     "output_type": "stream",
     "text": [
      "23/03/23 21:41:43 WARN WindowExec: No Partition Defined for Window operation! Moving all data to a single partition, this can cause serious performance degradation.\n",
      "23/03/23 21:41:43 WARN WindowExec: No Partition Defined for Window operation! Moving all data to a single partition, this can cause serious performance degradation.\n"
     ]
    },
    {
     "data": {
      "text/html": [
       "<div>\n",
       "<style scoped>\n",
       "    .dataframe tbody tr th:only-of-type {\n",
       "        vertical-align: middle;\n",
       "    }\n",
       "\n",
       "    .dataframe tbody tr th {\n",
       "        vertical-align: top;\n",
       "    }\n",
       "\n",
       "    .dataframe thead th {\n",
       "        text-align: right;\n",
       "    }\n",
       "</style>\n",
       "<table border=\"1\" class=\"dataframe\">\n",
       "  <thead>\n",
       "    <tr style=\"text-align: right;\">\n",
       "      <th></th>\n",
       "      <th>0</th>\n",
       "      <th>1</th>\n",
       "      <th>2</th>\n",
       "      <th>3</th>\n",
       "      <th>4</th>\n",
       "    </tr>\n",
       "  </thead>\n",
       "  <tbody>\n",
       "    <tr>\n",
       "      <th>longitude</th>\n",
       "      <td>-124.350</td>\n",
       "      <td>-124.300</td>\n",
       "      <td>-124.270</td>\n",
       "      <td>-124.260</td>\n",
       "      <td>-124.250</td>\n",
       "    </tr>\n",
       "    <tr>\n",
       "      <th>latitude</th>\n",
       "      <td>40.540</td>\n",
       "      <td>41.800</td>\n",
       "      <td>40.690</td>\n",
       "      <td>40.580</td>\n",
       "      <td>40.280</td>\n",
       "    </tr>\n",
       "    <tr>\n",
       "      <th>housing_median_age</th>\n",
       "      <td>52.000</td>\n",
       "      <td>19.000</td>\n",
       "      <td>36.000</td>\n",
       "      <td>52.000</td>\n",
       "      <td>32.000</td>\n",
       "    </tr>\n",
       "    <tr>\n",
       "      <th>total_rooms</th>\n",
       "      <td>1820.000</td>\n",
       "      <td>2672.000</td>\n",
       "      <td>2349.000</td>\n",
       "      <td>2217.000</td>\n",
       "      <td>1430.000</td>\n",
       "    </tr>\n",
       "    <tr>\n",
       "      <th>total_bedrooms</th>\n",
       "      <td>300.000</td>\n",
       "      <td>552.000</td>\n",
       "      <td>528.000</td>\n",
       "      <td>394.000</td>\n",
       "      <td>419.000</td>\n",
       "    </tr>\n",
       "    <tr>\n",
       "      <th>population</th>\n",
       "      <td>806.000</td>\n",
       "      <td>1298.000</td>\n",
       "      <td>1194.000</td>\n",
       "      <td>907.000</td>\n",
       "      <td>434.000</td>\n",
       "    </tr>\n",
       "    <tr>\n",
       "      <th>households</th>\n",
       "      <td>270.000</td>\n",
       "      <td>478.000</td>\n",
       "      <td>465.000</td>\n",
       "      <td>369.000</td>\n",
       "      <td>187.000</td>\n",
       "    </tr>\n",
       "    <tr>\n",
       "      <th>median_income</th>\n",
       "      <td>3.015</td>\n",
       "      <td>1.980</td>\n",
       "      <td>2.518</td>\n",
       "      <td>2.357</td>\n",
       "      <td>1.942</td>\n",
       "    </tr>\n",
       "    <tr>\n",
       "      <th>ocean_proximity_idx</th>\n",
       "      <td>2.000</td>\n",
       "      <td>2.000</td>\n",
       "      <td>2.000</td>\n",
       "      <td>2.000</td>\n",
       "      <td>2.000</td>\n",
       "    </tr>\n",
       "    <tr>\n",
       "      <th>ocean_proximity_ohe</th>\n",
       "      <td>(0.0, 0.0, 1.0, 0.0)</td>\n",
       "      <td>(0.0, 0.0, 1.0, 0.0)</td>\n",
       "      <td>(0.0, 0.0, 1.0, 0.0)</td>\n",
       "      <td>(0.0, 0.0, 1.0, 0.0)</td>\n",
       "      <td>(0.0, 0.0, 1.0, 0.0)</td>\n",
       "    </tr>\n",
       "    <tr>\n",
       "      <th>ocean_proximity_va</th>\n",
       "      <td>(0.0, 0.0, 1.0, 0.0)</td>\n",
       "      <td>(0.0, 0.0, 1.0, 0.0)</td>\n",
       "      <td>(0.0, 0.0, 1.0, 0.0)</td>\n",
       "      <td>(0.0, 0.0, 1.0, 0.0)</td>\n",
       "      <td>(0.0, 0.0, 1.0, 0.0)</td>\n",
       "    </tr>\n",
       "    <tr>\n",
       "      <th>numerical_features</th>\n",
       "      <td>[-124.35, 40.54, 52.0, 1820.0, 300.0, 806.0, 270.0, 3.0147]</td>\n",
       "      <td>[-124.3, 41.8, 19.0, 2672.0, 552.0, 1298.0, 478.0, 1.9797]</td>\n",
       "      <td>[-124.27, 40.69, 36.0, 2349.0, 528.0, 1194.0, 465.0, 2.5179]</td>\n",
       "      <td>[-124.26, 40.58, 52.0, 2217.0, 394.0, 907.0, 369.0, 2.3571]</td>\n",
       "      <td>[-124.25, 40.28, 32.0, 1430.0, 419.0, 434.0, 187.0, 1.9417]</td>\n",
       "    </tr>\n",
       "    <tr>\n",
       "      <th>numerical_features_scaled</th>\n",
       "      <td>[-61.93195228665311, 18.90166089690822, 4.13040546908436, 0.8371996643785807, 0.7178732476340831, 0.7395727660314623, 0.7094142631969466, 1.6007431444753377]</td>\n",
       "      <td>[-61.90705001392024, 19.48913235053684, 1.5091866137039007, 1.2291195072634988, 1.3208867756467129, 1.1910241318968213, 1.2559259918820018, 1.0511796208968807]</td>\n",
       "      <td>[-61.89210865028051, 18.97159797472115, 2.8595114785968647, 1.0805395668270803, 1.2634569158359863, 1.0955953878927618, 1.2217690088391857, 1.3369526531576783]</td>\n",
       "      <td>[-61.88712819573394, 18.920310784325, 4.13040546908436, 1.0198195911688537, 0.9428068652260958, 0.8322487578046356, 0.9695328263691604, 1.2515711897843296]</td>\n",
       "      <td>[-61.88214774118737, 18.78043662869914, 2.541787980974991, 0.6577997362974564, 1.0026296358622695, 0.3982314894015566, 0.49133506376973707, 1.0310024094031789]</td>\n",
       "    </tr>\n",
       "    <tr>\n",
       "      <th>all_features</th>\n",
       "      <td>[0.0, 0.0, 1.0, 0.0, -61.93195228665311, 18.90166089690822, 4.13040546908436, 0.8371996643785807, 0.7178732476340831, 0.7395727660314623, 0.7094142631969466, 1.6007431444753377]</td>\n",
       "      <td>[0.0, 0.0, 1.0, 0.0, -61.90705001392024, 19.48913235053684, 1.5091866137039007, 1.2291195072634988, 1.3208867756467129, 1.1910241318968213, 1.2559259918820018, 1.0511796208968807]</td>\n",
       "      <td>[0.0, 0.0, 1.0, 0.0, -61.89210865028051, 18.97159797472115, 2.8595114785968647, 1.0805395668270803, 1.2634569158359863, 1.0955953878927618, 1.2217690088391857, 1.3369526531576783]</td>\n",
       "      <td>[0.0, 0.0, 1.0, 0.0, -61.88712819573394, 18.920310784325, 4.13040546908436, 1.0198195911688537, 0.9428068652260958, 0.8322487578046356, 0.9695328263691604, 1.2515711897843296]</td>\n",
       "      <td>[0.0, 0.0, 1.0, 0.0, -61.88214774118737, 18.78043662869914, 2.541787980974991, 0.6577997362974564, 1.0026296358622695, 0.3982314894015566, 0.49133506376973707, 1.0310024094031789]</td>\n",
       "    </tr>\n",
       "    <tr>\n",
       "      <th>median_house_value</th>\n",
       "      <td>94600.000</td>\n",
       "      <td>85800.000</td>\n",
       "      <td>79000.000</td>\n",
       "      <td>111400.000</td>\n",
       "      <td>76100.000</td>\n",
       "    </tr>\n",
       "  </tbody>\n",
       "</table>\n",
       "</div>"
      ],
      "text/plain": [
       "                                                                                                                                                                                                           0  \\\n",
       "longitude                                                                                                                                                                                           -124.350   \n",
       "latitude                                                                                                                                                                                              40.540   \n",
       "housing_median_age                                                                                                                                                                                    52.000   \n",
       "total_rooms                                                                                                                                                                                         1820.000   \n",
       "total_bedrooms                                                                                                                                                                                       300.000   \n",
       "population                                                                                                                                                                                           806.000   \n",
       "households                                                                                                                                                                                           270.000   \n",
       "median_income                                                                                                                                                                                          3.015   \n",
       "ocean_proximity_idx                                                                                                                                                                                    2.000   \n",
       "ocean_proximity_ohe                                                                                                                                                                     (0.0, 0.0, 1.0, 0.0)   \n",
       "ocean_proximity_va                                                                                                                                                                      (0.0, 0.0, 1.0, 0.0)   \n",
       "numerical_features                                                                                                                               [-124.35, 40.54, 52.0, 1820.0, 300.0, 806.0, 270.0, 3.0147]   \n",
       "numerical_features_scaled                      [-61.93195228665311, 18.90166089690822, 4.13040546908436, 0.8371996643785807, 0.7178732476340831, 0.7395727660314623, 0.7094142631969466, 1.6007431444753377]   \n",
       "all_features               [0.0, 0.0, 1.0, 0.0, -61.93195228665311, 18.90166089690822, 4.13040546908436, 0.8371996643785807, 0.7178732476340831, 0.7395727660314623, 0.7094142631969466, 1.6007431444753377]   \n",
       "median_house_value                                                                                                                                                                                 94600.000   \n",
       "\n",
       "                                                                                                                                                                                                             1  \\\n",
       "longitude                                                                                                                                                                                             -124.300   \n",
       "latitude                                                                                                                                                                                                41.800   \n",
       "housing_median_age                                                                                                                                                                                      19.000   \n",
       "total_rooms                                                                                                                                                                                           2672.000   \n",
       "total_bedrooms                                                                                                                                                                                         552.000   \n",
       "population                                                                                                                                                                                            1298.000   \n",
       "households                                                                                                                                                                                             478.000   \n",
       "median_income                                                                                                                                                                                            1.980   \n",
       "ocean_proximity_idx                                                                                                                                                                                      2.000   \n",
       "ocean_proximity_ohe                                                                                                                                                                       (0.0, 0.0, 1.0, 0.0)   \n",
       "ocean_proximity_va                                                                                                                                                                        (0.0, 0.0, 1.0, 0.0)   \n",
       "numerical_features                                                                                                                                  [-124.3, 41.8, 19.0, 2672.0, 552.0, 1298.0, 478.0, 1.9797]   \n",
       "numerical_features_scaled                      [-61.90705001392024, 19.48913235053684, 1.5091866137039007, 1.2291195072634988, 1.3208867756467129, 1.1910241318968213, 1.2559259918820018, 1.0511796208968807]   \n",
       "all_features               [0.0, 0.0, 1.0, 0.0, -61.90705001392024, 19.48913235053684, 1.5091866137039007, 1.2291195072634988, 1.3208867756467129, 1.1910241318968213, 1.2559259918820018, 1.0511796208968807]   \n",
       "median_house_value                                                                                                                                                                                   85800.000   \n",
       "\n",
       "                                                                                                                                                                                                             2  \\\n",
       "longitude                                                                                                                                                                                             -124.270   \n",
       "latitude                                                                                                                                                                                                40.690   \n",
       "housing_median_age                                                                                                                                                                                      36.000   \n",
       "total_rooms                                                                                                                                                                                           2349.000   \n",
       "total_bedrooms                                                                                                                                                                                         528.000   \n",
       "population                                                                                                                                                                                            1194.000   \n",
       "households                                                                                                                                                                                             465.000   \n",
       "median_income                                                                                                                                                                                            2.518   \n",
       "ocean_proximity_idx                                                                                                                                                                                      2.000   \n",
       "ocean_proximity_ohe                                                                                                                                                                       (0.0, 0.0, 1.0, 0.0)   \n",
       "ocean_proximity_va                                                                                                                                                                        (0.0, 0.0, 1.0, 0.0)   \n",
       "numerical_features                                                                                                                                [-124.27, 40.69, 36.0, 2349.0, 528.0, 1194.0, 465.0, 2.5179]   \n",
       "numerical_features_scaled                      [-61.89210865028051, 18.97159797472115, 2.8595114785968647, 1.0805395668270803, 1.2634569158359863, 1.0955953878927618, 1.2217690088391857, 1.3369526531576783]   \n",
       "all_features               [0.0, 0.0, 1.0, 0.0, -61.89210865028051, 18.97159797472115, 2.8595114785968647, 1.0805395668270803, 1.2634569158359863, 1.0955953878927618, 1.2217690088391857, 1.3369526531576783]   \n",
       "median_house_value                                                                                                                                                                                   79000.000   \n",
       "\n",
       "                                                                                                                                                                                                         3  \\\n",
       "longitude                                                                                                                                                                                         -124.260   \n",
       "latitude                                                                                                                                                                                            40.580   \n",
       "housing_median_age                                                                                                                                                                                  52.000   \n",
       "total_rooms                                                                                                                                                                                       2217.000   \n",
       "total_bedrooms                                                                                                                                                                                     394.000   \n",
       "population                                                                                                                                                                                         907.000   \n",
       "households                                                                                                                                                                                         369.000   \n",
       "median_income                                                                                                                                                                                        2.357   \n",
       "ocean_proximity_idx                                                                                                                                                                                  2.000   \n",
       "ocean_proximity_ohe                                                                                                                                                                   (0.0, 0.0, 1.0, 0.0)   \n",
       "ocean_proximity_va                                                                                                                                                                    (0.0, 0.0, 1.0, 0.0)   \n",
       "numerical_features                                                                                                                             [-124.26, 40.58, 52.0, 2217.0, 394.0, 907.0, 369.0, 2.3571]   \n",
       "numerical_features_scaled                      [-61.88712819573394, 18.920310784325, 4.13040546908436, 1.0198195911688537, 0.9428068652260958, 0.8322487578046356, 0.9695328263691604, 1.2515711897843296]   \n",
       "all_features               [0.0, 0.0, 1.0, 0.0, -61.88712819573394, 18.920310784325, 4.13040546908436, 1.0198195911688537, 0.9428068652260958, 0.8322487578046356, 0.9695328263691604, 1.2515711897843296]   \n",
       "median_house_value                                                                                                                                                                              111400.000   \n",
       "\n",
       "                                                                                                                                                                                                             4  \n",
       "longitude                                                                                                                                                                                             -124.250  \n",
       "latitude                                                                                                                                                                                                40.280  \n",
       "housing_median_age                                                                                                                                                                                      32.000  \n",
       "total_rooms                                                                                                                                                                                           1430.000  \n",
       "total_bedrooms                                                                                                                                                                                         419.000  \n",
       "population                                                                                                                                                                                             434.000  \n",
       "households                                                                                                                                                                                             187.000  \n",
       "median_income                                                                                                                                                                                            1.942  \n",
       "ocean_proximity_idx                                                                                                                                                                                      2.000  \n",
       "ocean_proximity_ohe                                                                                                                                                                       (0.0, 0.0, 1.0, 0.0)  \n",
       "ocean_proximity_va                                                                                                                                                                        (0.0, 0.0, 1.0, 0.0)  \n",
       "numerical_features                                                                                                                                 [-124.25, 40.28, 32.0, 1430.0, 419.0, 434.0, 187.0, 1.9417]  \n",
       "numerical_features_scaled                      [-61.88214774118737, 18.78043662869914, 2.541787980974991, 0.6577997362974564, 1.0026296358622695, 0.3982314894015566, 0.49133506376973707, 1.0310024094031789]  \n",
       "all_features               [0.0, 0.0, 1.0, 0.0, -61.88214774118737, 18.78043662869914, 2.541787980974991, 0.6577997362974564, 1.0026296358622695, 0.3982314894015566, 0.49133506376973707, 1.0310024094031789]  \n",
       "median_house_value                                                                                                                                                                                   76100.000  "
      ]
     },
     "execution_count": 292,
     "metadata": {},
     "output_type": "execute_result"
    }
   ],
   "source": [
    "pd.DataFrame(train.take(5), columns=train.columns).T"
   ]
  },
  {
   "cell_type": "code",
   "execution_count": 293,
   "id": "51d86969",
   "metadata": {
    "scrolled": true
   },
   "outputs": [
    {
     "name": "stderr",
     "output_type": "stream",
     "text": [
      "23/03/23 21:41:44 WARN WindowExec: No Partition Defined for Window operation! Moving all data to a single partition, this can cause serious performance degradation.\n",
      "23/03/23 21:41:44 WARN WindowExec: No Partition Defined for Window operation! Moving all data to a single partition, this can cause serious performance degradation.\n"
     ]
    },
    {
     "data": {
      "text/html": [
       "<div>\n",
       "<style scoped>\n",
       "    .dataframe tbody tr th:only-of-type {\n",
       "        vertical-align: middle;\n",
       "    }\n",
       "\n",
       "    .dataframe tbody tr th {\n",
       "        vertical-align: top;\n",
       "    }\n",
       "\n",
       "    .dataframe thead th {\n",
       "        text-align: right;\n",
       "    }\n",
       "</style>\n",
       "<table border=\"1\" class=\"dataframe\">\n",
       "  <thead>\n",
       "    <tr style=\"text-align: right;\">\n",
       "      <th></th>\n",
       "      <th>0</th>\n",
       "      <th>1</th>\n",
       "      <th>2</th>\n",
       "      <th>3</th>\n",
       "      <th>4</th>\n",
       "    </tr>\n",
       "  </thead>\n",
       "  <tbody>\n",
       "    <tr>\n",
       "      <th>longitude</th>\n",
       "      <td>-124.300</td>\n",
       "      <td>-124.230</td>\n",
       "      <td>-124.230</td>\n",
       "      <td>-124.190</td>\n",
       "      <td>-124.180</td>\n",
       "    </tr>\n",
       "    <tr>\n",
       "      <th>latitude</th>\n",
       "      <td>41.840</td>\n",
       "      <td>40.540</td>\n",
       "      <td>41.750</td>\n",
       "      <td>40.730</td>\n",
       "      <td>40.780</td>\n",
       "    </tr>\n",
       "    <tr>\n",
       "      <th>housing_median_age</th>\n",
       "      <td>17.000</td>\n",
       "      <td>52.000</td>\n",
       "      <td>11.000</td>\n",
       "      <td>21.000</td>\n",
       "      <td>34.000</td>\n",
       "    </tr>\n",
       "    <tr>\n",
       "      <th>total_rooms</th>\n",
       "      <td>2677.000</td>\n",
       "      <td>2694.000</td>\n",
       "      <td>3159.000</td>\n",
       "      <td>5694.000</td>\n",
       "      <td>1592.000</td>\n",
       "    </tr>\n",
       "    <tr>\n",
       "      <th>total_bedrooms</th>\n",
       "      <td>531.000</td>\n",
       "      <td>453.000</td>\n",
       "      <td>616.000</td>\n",
       "      <td>1056.000</td>\n",
       "      <td>364.000</td>\n",
       "    </tr>\n",
       "    <tr>\n",
       "      <th>population</th>\n",
       "      <td>1244.000</td>\n",
       "      <td>1152.000</td>\n",
       "      <td>1343.000</td>\n",
       "      <td>2907.000</td>\n",
       "      <td>950.000</td>\n",
       "    </tr>\n",
       "    <tr>\n",
       "      <th>households</th>\n",
       "      <td>456.000</td>\n",
       "      <td>435.000</td>\n",
       "      <td>479.000</td>\n",
       "      <td>972.000</td>\n",
       "      <td>317.000</td>\n",
       "    </tr>\n",
       "    <tr>\n",
       "      <th>median_income</th>\n",
       "      <td>3.031</td>\n",
       "      <td>3.081</td>\n",
       "      <td>2.481</td>\n",
       "      <td>3.536</td>\n",
       "      <td>2.161</td>\n",
       "    </tr>\n",
       "    <tr>\n",
       "      <th>ocean_proximity_idx</th>\n",
       "      <td>2.000</td>\n",
       "      <td>2.000</td>\n",
       "      <td>2.000</td>\n",
       "      <td>2.000</td>\n",
       "      <td>2.000</td>\n",
       "    </tr>\n",
       "    <tr>\n",
       "      <th>ocean_proximity_ohe</th>\n",
       "      <td>(0.0, 0.0, 1.0, 0.0)</td>\n",
       "      <td>(0.0, 0.0, 1.0, 0.0)</td>\n",
       "      <td>(0.0, 0.0, 1.0, 0.0)</td>\n",
       "      <td>(0.0, 0.0, 1.0, 0.0)</td>\n",
       "      <td>(0.0, 0.0, 1.0, 0.0)</td>\n",
       "    </tr>\n",
       "    <tr>\n",
       "      <th>ocean_proximity_va</th>\n",
       "      <td>(0.0, 0.0, 1.0, 0.0)</td>\n",
       "      <td>(0.0, 0.0, 1.0, 0.0)</td>\n",
       "      <td>(0.0, 0.0, 1.0, 0.0)</td>\n",
       "      <td>(0.0, 0.0, 1.0, 0.0)</td>\n",
       "      <td>(0.0, 0.0, 1.0, 0.0)</td>\n",
       "    </tr>\n",
       "    <tr>\n",
       "      <th>numerical_features</th>\n",
       "      <td>[-124.3, 41.84, 17.0, 2677.0, 531.0, 1244.0, 456.0, 3.0313]</td>\n",
       "      <td>[-124.23, 40.54, 52.0, 2694.0, 453.0, 1152.0, 435.0, 3.0806]</td>\n",
       "      <td>[-124.23, 41.75, 11.0, 3159.0, 616.0, 1343.0, 479.0, 2.4805]</td>\n",
       "      <td>[-124.19, 40.73, 21.0, 5694.0, 1056.0, 2907.0, 972.0, 3.5363]</td>\n",
       "      <td>[-124.18, 40.78, 34.0, 1592.0, 364.0, 950.0, 317.0, 2.1607]</td>\n",
       "    </tr>\n",
       "    <tr>\n",
       "      <th>numerical_features_scaled</th>\n",
       "      <td>[-61.90705001392024, 19.507782237953624, 1.3503248648929638, 1.231419506341462, 1.2706356483123271, 1.1414745917408673, 1.198121866732621, 1.6095574000225863]</td>\n",
       "      <td>[-61.87218683209422, 18.90166089690822, 4.13040546908436, 1.2392395032065366, 1.0839886039274655, 1.057056856660353, 1.1429452018173027, 1.6357346770394152]</td>\n",
       "      <td>[-61.87218683209422, 19.465819991265864, 0.8737396184601531, 1.453139417457108, 1.4740330684753173, 1.2323154153601164, 1.2585534521160644, 1.317094029213877]</td>\n",
       "      <td>[-61.85226501390792, 18.99024786213793, 1.6680483625148377, 2.619238949984417, 2.5269138316719726, 2.6674169117288593, 2.553891347509008, 1.8777019211888868]</td>\n",
       "      <td>[-61.84728455936135, 19.01356022140891, 2.7006497297859275, 0.7323197064234619, 0.8710195404626875, 0.8717048731140064, 0.8329048941978966, 1.1472868651168813]</td>\n",
       "    </tr>\n",
       "    <tr>\n",
       "      <th>all_features</th>\n",
       "      <td>[0.0, 0.0, 1.0, 0.0, -61.90705001392024, 19.507782237953624, 1.3503248648929638, 1.231419506341462, 1.2706356483123271, 1.1414745917408673, 1.198121866732621, 1.6095574000225863]</td>\n",
       "      <td>[0.0, 0.0, 1.0, 0.0, -61.87218683209422, 18.90166089690822, 4.13040546908436, 1.2392395032065366, 1.0839886039274655, 1.057056856660353, 1.1429452018173027, 1.6357346770394152]</td>\n",
       "      <td>[0.0, 0.0, 1.0, 0.0, -61.87218683209422, 19.465819991265864, 0.8737396184601531, 1.453139417457108, 1.4740330684753173, 1.2323154153601164, 1.2585534521160644, 1.317094029213877]</td>\n",
       "      <td>[0.0, 0.0, 1.0, 0.0, -61.85226501390792, 18.99024786213793, 1.6680483625148377, 2.619238949984417, 2.5269138316719726, 2.6674169117288593, 2.553891347509008, 1.8777019211888868]</td>\n",
       "      <td>[0.0, 0.0, 1.0, 0.0, -61.84728455936135, 19.01356022140891, 2.7006497297859275, 0.7323197064234619, 0.8710195404626875, 0.8717048731140064, 0.8329048941978966, 1.1472868651168813]</td>\n",
       "    </tr>\n",
       "    <tr>\n",
       "      <th>median_house_value</th>\n",
       "      <td>103600.000</td>\n",
       "      <td>106700.000</td>\n",
       "      <td>73200.000</td>\n",
       "      <td>90100.000</td>\n",
       "      <td>67000.000</td>\n",
       "    </tr>\n",
       "  </tbody>\n",
       "</table>\n",
       "</div>"
      ],
      "text/plain": [
       "                                                                                                                                                                                                            0  \\\n",
       "longitude                                                                                                                                                                                            -124.300   \n",
       "latitude                                                                                                                                                                                               41.840   \n",
       "housing_median_age                                                                                                                                                                                     17.000   \n",
       "total_rooms                                                                                                                                                                                          2677.000   \n",
       "total_bedrooms                                                                                                                                                                                        531.000   \n",
       "population                                                                                                                                                                                           1244.000   \n",
       "households                                                                                                                                                                                            456.000   \n",
       "median_income                                                                                                                                                                                           3.031   \n",
       "ocean_proximity_idx                                                                                                                                                                                     2.000   \n",
       "ocean_proximity_ohe                                                                                                                                                                      (0.0, 0.0, 1.0, 0.0)   \n",
       "ocean_proximity_va                                                                                                                                                                       (0.0, 0.0, 1.0, 0.0)   \n",
       "numerical_features                                                                                                                                [-124.3, 41.84, 17.0, 2677.0, 531.0, 1244.0, 456.0, 3.0313]   \n",
       "numerical_features_scaled                      [-61.90705001392024, 19.507782237953624, 1.3503248648929638, 1.231419506341462, 1.2706356483123271, 1.1414745917408673, 1.198121866732621, 1.6095574000225863]   \n",
       "all_features               [0.0, 0.0, 1.0, 0.0, -61.90705001392024, 19.507782237953624, 1.3503248648929638, 1.231419506341462, 1.2706356483123271, 1.1414745917408673, 1.198121866732621, 1.6095574000225863]   \n",
       "median_house_value                                                                                                                                                                                 103600.000   \n",
       "\n",
       "                                                                                                                                                                                                          1  \\\n",
       "longitude                                                                                                                                                                                          -124.230   \n",
       "latitude                                                                                                                                                                                             40.540   \n",
       "housing_median_age                                                                                                                                                                                   52.000   \n",
       "total_rooms                                                                                                                                                                                        2694.000   \n",
       "total_bedrooms                                                                                                                                                                                      453.000   \n",
       "population                                                                                                                                                                                         1152.000   \n",
       "households                                                                                                                                                                                          435.000   \n",
       "median_income                                                                                                                                                                                         3.081   \n",
       "ocean_proximity_idx                                                                                                                                                                                   2.000   \n",
       "ocean_proximity_ohe                                                                                                                                                                    (0.0, 0.0, 1.0, 0.0)   \n",
       "ocean_proximity_va                                                                                                                                                                     (0.0, 0.0, 1.0, 0.0)   \n",
       "numerical_features                                                                                                                             [-124.23, 40.54, 52.0, 2694.0, 453.0, 1152.0, 435.0, 3.0806]   \n",
       "numerical_features_scaled                      [-61.87218683209422, 18.90166089690822, 4.13040546908436, 1.2392395032065366, 1.0839886039274655, 1.057056856660353, 1.1429452018173027, 1.6357346770394152]   \n",
       "all_features               [0.0, 0.0, 1.0, 0.0, -61.87218683209422, 18.90166089690822, 4.13040546908436, 1.2392395032065366, 1.0839886039274655, 1.057056856660353, 1.1429452018173027, 1.6357346770394152]   \n",
       "median_house_value                                                                                                                                                                               106700.000   \n",
       "\n",
       "                                                                                                                                                                                                            2  \\\n",
       "longitude                                                                                                                                                                                            -124.230   \n",
       "latitude                                                                                                                                                                                               41.750   \n",
       "housing_median_age                                                                                                                                                                                     11.000   \n",
       "total_rooms                                                                                                                                                                                          3159.000   \n",
       "total_bedrooms                                                                                                                                                                                        616.000   \n",
       "population                                                                                                                                                                                           1343.000   \n",
       "households                                                                                                                                                                                            479.000   \n",
       "median_income                                                                                                                                                                                           2.481   \n",
       "ocean_proximity_idx                                                                                                                                                                                     2.000   \n",
       "ocean_proximity_ohe                                                                                                                                                                      (0.0, 0.0, 1.0, 0.0)   \n",
       "ocean_proximity_va                                                                                                                                                                       (0.0, 0.0, 1.0, 0.0)   \n",
       "numerical_features                                                                                                                               [-124.23, 41.75, 11.0, 3159.0, 616.0, 1343.0, 479.0, 2.4805]   \n",
       "numerical_features_scaled                      [-61.87218683209422, 19.465819991265864, 0.8737396184601531, 1.453139417457108, 1.4740330684753173, 1.2323154153601164, 1.2585534521160644, 1.317094029213877]   \n",
       "all_features               [0.0, 0.0, 1.0, 0.0, -61.87218683209422, 19.465819991265864, 0.8737396184601531, 1.453139417457108, 1.4740330684753173, 1.2323154153601164, 1.2585534521160644, 1.317094029213877]   \n",
       "median_house_value                                                                                                                                                                                  73200.000   \n",
       "\n",
       "                                                                                                                                                                                                           3  \\\n",
       "longitude                                                                                                                                                                                           -124.190   \n",
       "latitude                                                                                                                                                                                              40.730   \n",
       "housing_median_age                                                                                                                                                                                    21.000   \n",
       "total_rooms                                                                                                                                                                                         5694.000   \n",
       "total_bedrooms                                                                                                                                                                                      1056.000   \n",
       "population                                                                                                                                                                                          2907.000   \n",
       "households                                                                                                                                                                                           972.000   \n",
       "median_income                                                                                                                                                                                          3.536   \n",
       "ocean_proximity_idx                                                                                                                                                                                    2.000   \n",
       "ocean_proximity_ohe                                                                                                                                                                     (0.0, 0.0, 1.0, 0.0)   \n",
       "ocean_proximity_va                                                                                                                                                                      (0.0, 0.0, 1.0, 0.0)   \n",
       "numerical_features                                                                                                                             [-124.19, 40.73, 21.0, 5694.0, 1056.0, 2907.0, 972.0, 3.5363]   \n",
       "numerical_features_scaled                      [-61.85226501390792, 18.99024786213793, 1.6680483625148377, 2.619238949984417, 2.5269138316719726, 2.6674169117288593, 2.553891347509008, 1.8777019211888868]   \n",
       "all_features               [0.0, 0.0, 1.0, 0.0, -61.85226501390792, 18.99024786213793, 1.6680483625148377, 2.619238949984417, 2.5269138316719726, 2.6674169117288593, 2.553891347509008, 1.8777019211888868]   \n",
       "median_house_value                                                                                                                                                                                 90100.000   \n",
       "\n",
       "                                                                                                                                                                                                             4  \n",
       "longitude                                                                                                                                                                                             -124.180  \n",
       "latitude                                                                                                                                                                                                40.780  \n",
       "housing_median_age                                                                                                                                                                                      34.000  \n",
       "total_rooms                                                                                                                                                                                           1592.000  \n",
       "total_bedrooms                                                                                                                                                                                         364.000  \n",
       "population                                                                                                                                                                                             950.000  \n",
       "households                                                                                                                                                                                             317.000  \n",
       "median_income                                                                                                                                                                                            2.161  \n",
       "ocean_proximity_idx                                                                                                                                                                                      2.000  \n",
       "ocean_proximity_ohe                                                                                                                                                                       (0.0, 0.0, 1.0, 0.0)  \n",
       "ocean_proximity_va                                                                                                                                                                        (0.0, 0.0, 1.0, 0.0)  \n",
       "numerical_features                                                                                                                                 [-124.18, 40.78, 34.0, 1592.0, 364.0, 950.0, 317.0, 2.1607]  \n",
       "numerical_features_scaled                      [-61.84728455936135, 19.01356022140891, 2.7006497297859275, 0.7323197064234619, 0.8710195404626875, 0.8717048731140064, 0.8329048941978966, 1.1472868651168813]  \n",
       "all_features               [0.0, 0.0, 1.0, 0.0, -61.84728455936135, 19.01356022140891, 2.7006497297859275, 0.7323197064234619, 0.8710195404626875, 0.8717048731140064, 0.8329048941978966, 1.1472868651168813]  \n",
       "median_house_value                                                                                                                                                                                   67000.000  "
      ]
     },
     "execution_count": 293,
     "metadata": {},
     "output_type": "execute_result"
    }
   ],
   "source": [
    "pd.DataFrame(test.take(5), columns=test.columns).T"
   ]
  },
  {
   "cell_type": "markdown",
   "id": "9f0a82f3",
   "metadata": {
    "id": "9f0a82f3"
   },
   "source": [
    "## Обучение моделей"
   ]
  },
  {
   "cell_type": "code",
   "execution_count": 294,
   "id": "ff8993ea",
   "metadata": {},
   "outputs": [],
   "source": [
    "target = 'median_house_value'"
   ]
  },
  {
   "cell_type": "markdown",
   "id": "8e3496b3",
   "metadata": {},
   "source": [
    "### Обучение модели для всех признаков"
   ]
  },
  {
   "cell_type": "code",
   "execution_count": 295,
   "id": "adbc7f8e",
   "metadata": {},
   "outputs": [],
   "source": [
    "lr = LinearRegression(featuresCol = \"all_features\", labelCol = target)"
   ]
  },
  {
   "cell_type": "code",
   "execution_count": 296,
   "id": "7555f8cc",
   "metadata": {},
   "outputs": [],
   "source": [
    "grid_search = ParamGridBuilder() \\\n",
    ".addGrid(lr.regParam, [0.0, 0.01, 0.1]) \\\n",
    ".addGrid(lr.fitIntercept, [False, True])\\\n",
    ".addGrid(lr.elasticNetParam, [0.5, 1.0]) \\\n",
    ".build()"
   ]
  },
  {
   "cell_type": "code",
   "execution_count": 297,
   "id": "7dae422c",
   "metadata": {},
   "outputs": [],
   "source": [
    "evaluator = RegressionEvaluator(predictionCol='prediction',\n",
    "                                labelCol=target)"
   ]
  },
  {
   "cell_type": "code",
   "execution_count": 298,
   "id": "a85af752",
   "metadata": {
    "collapsed": true
   },
   "outputs": [
    {
     "name": "stderr",
     "output_type": "stream",
     "text": [
      "23/03/23 21:41:45 WARN WindowExec: No Partition Defined for Window operation! Moving all data to a single partition, this can cause serious performance degradation.\n",
      "23/03/23 21:41:45 WARN WindowExec: No Partition Defined for Window operation! Moving all data to a single partition, this can cause serious performance degradation.\n",
      "23/03/23 21:41:45 WARN WindowExec: No Partition Defined for Window operation! Moving all data to a single partition, this can cause serious performance degradation.\n",
      "23/03/23 21:41:45 WARN WindowExec: No Partition Defined for Window operation! Moving all data to a single partition, this can cause serious performance degradation.\n",
      "23/03/23 21:41:46 WARN Instrumentation: [7249a0a5] regParam is zero, which might cause numerical instability and overfitting.\n",
      "23/03/23 21:41:47 WARN Instrumentation: [2a197565] regParam is zero, which might cause numerical instability and overfitting.\n",
      "23/03/23 21:41:48 WARN Instrumentation: [c229a6ce] regParam is zero, which might cause numerical instability and overfitting.\n",
      "23/03/23 21:41:48 WARN Instrumentation: [f507d09f] regParam is zero, which might cause numerical instability and overfitting.\n",
      "23/03/23 21:41:51 WARN WindowExec: No Partition Defined for Window operation! Moving all data to a single partition, this can cause serious performance degradation.\n",
      "23/03/23 21:41:51 WARN WindowExec: No Partition Defined for Window operation! Moving all data to a single partition, this can cause serious performance degradation.\n",
      "23/03/23 21:41:51 WARN WindowExec: No Partition Defined for Window operation! Moving all data to a single partition, this can cause serious performance degradation.\n",
      "23/03/23 21:41:51 WARN WindowExec: No Partition Defined for Window operation! Moving all data to a single partition, this can cause serious performance degradation.\n",
      "23/03/23 21:41:52 WARN Instrumentation: [60754b03] regParam is zero, which might cause numerical instability and overfitting.\n",
      "23/03/23 21:41:53 WARN Instrumentation: [f8609b3d] regParam is zero, which might cause numerical instability and overfitting.\n",
      "23/03/23 21:41:53 WARN Instrumentation: [525f8791] regParam is zero, which might cause numerical instability and overfitting.\n",
      "23/03/23 21:41:54 WARN Instrumentation: [9dafc576] regParam is zero, which might cause numerical instability and overfitting.\n",
      "23/03/23 21:41:57 WARN WindowExec: No Partition Defined for Window operation! Moving all data to a single partition, this can cause serious performance degradation.\n",
      "23/03/23 21:41:57 WARN WindowExec: No Partition Defined for Window operation! Moving all data to a single partition, this can cause serious performance degradation.\n",
      "23/03/23 21:41:57 WARN WindowExec: No Partition Defined for Window operation! Moving all data to a single partition, this can cause serious performance degradation.\n",
      "23/03/23 21:41:57 WARN WindowExec: No Partition Defined for Window operation! Moving all data to a single partition, this can cause serious performance degradation.\n",
      "23/03/23 21:41:57 WARN Instrumentation: [71e1f095] regParam is zero, which might cause numerical instability and overfitting.\n",
      "23/03/23 21:41:58 WARN Instrumentation: [20aa6175] regParam is zero, which might cause numerical instability and overfitting.\n",
      "23/03/23 21:41:59 WARN Instrumentation: [a5581b93] regParam is zero, which might cause numerical instability and overfitting.\n",
      "23/03/23 21:41:59 WARN Instrumentation: [b0f10fc5] regParam is zero, which might cause numerical instability and overfitting.\n",
      "23/03/23 21:42:02 WARN WindowExec: No Partition Defined for Window operation! Moving all data to a single partition, this can cause serious performance degradation.\n",
      "23/03/23 21:42:02 WARN WindowExec: No Partition Defined for Window operation! Moving all data to a single partition, this can cause serious performance degradation.\n",
      "23/03/23 21:42:02 WARN WindowExec: No Partition Defined for Window operation! Moving all data to a single partition, this can cause serious performance degradation.\n",
      "23/03/23 21:42:02 WARN WindowExec: No Partition Defined for Window operation! Moving all data to a single partition, this can cause serious performance degradation.\n",
      "23/03/23 21:42:02 WARN Instrumentation: [8f727e5d] regParam is zero, which might cause numerical instability and overfitting.\n",
      "23/03/23 21:42:02 WARN WindowExec: No Partition Defined for Window operation! Moving all data to a single partition, this can cause serious performance degradation.\n",
      "23/03/23 21:42:02 WARN WindowExec: No Partition Defined for Window operation! Moving all data to a single partition, this can cause serious performance degradation.\n",
      "23/03/23 21:42:03 WARN WindowExec: No Partition Defined for Window operation! Moving all data to a single partition, this can cause serious performance degradation.\n",
      "23/03/23 21:42:03 WARN WindowExec: No Partition Defined for Window operation! Moving all data to a single partition, this can cause serious performance degradation.\n"
     ]
    }
   ],
   "source": [
    "cv = CrossValidator(estimator = lr,\n",
    "                    estimatorParamMaps = grid_search,\n",
    "                    numFolds = 3,\n",
    "                    evaluator = evaluator)\n",
    "cv_model = cv.fit(train)"
   ]
  },
  {
   "cell_type": "code",
   "execution_count": 299,
   "id": "5e180041",
   "metadata": {
    "collapsed": true
   },
   "outputs": [
    {
     "data": {
      "text/plain": [
       "{Param(parent='LinearRegression_bca0155ddab6', name='aggregationDepth', doc='suggested depth for treeAggregate (>= 2).'): 2,\n",
       " Param(parent='LinearRegression_bca0155ddab6', name='elasticNetParam', doc='the ElasticNet mixing parameter, in range [0, 1]. For alpha = 0, the penalty is an L2 penalty. For alpha = 1, it is an L1 penalty.'): 0.5,\n",
       " Param(parent='LinearRegression_bca0155ddab6', name='epsilon', doc='The shape parameter to control the amount of robustness. Must be > 1.0. Only valid when loss is huber'): 1.35,\n",
       " Param(parent='LinearRegression_bca0155ddab6', name='featuresCol', doc='features column name.'): 'all_features',\n",
       " Param(parent='LinearRegression_bca0155ddab6', name='fitIntercept', doc='whether to fit an intercept term.'): True,\n",
       " Param(parent='LinearRegression_bca0155ddab6', name='labelCol', doc='label column name.'): 'median_house_value',\n",
       " Param(parent='LinearRegression_bca0155ddab6', name='loss', doc='The loss function to be optimized. Supported options: squaredError, huber.'): 'squaredError',\n",
       " Param(parent='LinearRegression_bca0155ddab6', name='maxIter', doc='max number of iterations (>= 0).'): 100,\n",
       " Param(parent='LinearRegression_bca0155ddab6', name='predictionCol', doc='prediction column name.'): 'prediction',\n",
       " Param(parent='LinearRegression_bca0155ddab6', name='regParam', doc='regularization parameter (>= 0).'): 0.0,\n",
       " Param(parent='LinearRegression_bca0155ddab6', name='solver', doc='The solver algorithm for optimization. Supported options: auto, normal, l-bfgs.'): 'auto',\n",
       " Param(parent='LinearRegression_bca0155ddab6', name='standardization', doc='whether to standardize the training features before fitting the model.'): True,\n",
       " Param(parent='LinearRegression_bca0155ddab6', name='tol', doc='the convergence tolerance for iterative algorithms (>= 0).'): 1e-06}"
      ]
     },
     "execution_count": 299,
     "metadata": {},
     "output_type": "execute_result"
    }
   ],
   "source": [
    "cv_model.bestModel.extractParamMap()"
   ]
  },
  {
   "cell_type": "code",
   "execution_count": 300,
   "id": "8006a3f3",
   "metadata": {},
   "outputs": [],
   "source": [
    "lr_best_param_all = LinearRegression(featuresCol = \"all_features\",\n",
    "                                 labelCol = target,\n",
    "                                 elasticNetParam=0.5,\n",
    "                                 aggregationDepth=2,\n",
    "                                 epsilon = 1.35,\n",
    "                                 fitIntercept = True,\n",
    "                                 maxIter = 100,\n",
    "                                 regParam = 0.0,\n",
    "                                 solver = 'auto',\n",
    "                                 standardization = True,\n",
    "                                 tol = 1e-06)"
   ]
  },
  {
   "cell_type": "code",
   "execution_count": 301,
   "id": "c021a631",
   "metadata": {
    "collapsed": true
   },
   "outputs": [
    {
     "name": "stderr",
     "output_type": "stream",
     "text": [
      "23/03/23 21:42:03 WARN WindowExec: No Partition Defined for Window operation! Moving all data to a single partition, this can cause serious performance degradation.\n",
      "23/03/23 21:42:03 WARN WindowExec: No Partition Defined for Window operation! Moving all data to a single partition, this can cause serious performance degradation.\n",
      "23/03/23 21:42:03 WARN WindowExec: No Partition Defined for Window operation! Moving all data to a single partition, this can cause serious performance degradation.\n",
      "23/03/23 21:42:03 WARN WindowExec: No Partition Defined for Window operation! Moving all data to a single partition, this can cause serious performance degradation.\n",
      "23/03/23 21:42:04 WARN Instrumentation: [61f4bae1] regParam is zero, which might cause numerical instability and overfitting.\n",
      "23/03/23 21:42:04 WARN WindowExec: No Partition Defined for Window operation! Moving all data to a single partition, this can cause serious performance degradation.\n",
      "23/03/23 21:42:04 WARN WindowExec: No Partition Defined for Window operation! Moving all data to a single partition, this can cause serious performance degradation.\n",
      "23/03/23 21:42:05 WARN WindowExec: No Partition Defined for Window operation! Moving all data to a single partition, this can cause serious performance degradation.\n",
      "23/03/23 21:42:05 WARN WindowExec: No Partition Defined for Window operation! Moving all data to a single partition, this can cause serious performance degradation.\n"
     ]
    }
   ],
   "source": [
    "model_best_param_all = lr_best_param.fit(train)"
   ]
  },
  {
   "cell_type": "code",
   "execution_count": 302,
   "id": "61a9c348",
   "metadata": {},
   "outputs": [],
   "source": [
    "predictions_all = model_best_param_all.transform(test)\n",
    "\n",
    "predictedLabes_all = predictions_all.select(\"median_house_value\", \"prediction\")"
   ]
  },
  {
   "cell_type": "code",
   "execution_count": 303,
   "id": "84ee8306",
   "metadata": {
    "collapsed": true
   },
   "outputs": [
    {
     "name": "stderr",
     "output_type": "stream",
     "text": [
      "23/03/23 21:42:05 WARN WindowExec: No Partition Defined for Window operation! Moving all data to a single partition, this can cause serious performance degradation.\n",
      "23/03/23 21:42:05 WARN WindowExec: No Partition Defined for Window operation! Moving all data to a single partition, this can cause serious performance degradation.\n"
     ]
    },
    {
     "name": "stdout",
     "output_type": "stream",
     "text": [
      "+------------------+------------------+\n",
      "|median_house_value|        prediction|\n",
      "+------------------+------------------+\n",
      "|          103600.0|150428.91117827035|\n",
      "|          106700.0|217515.79788495088|\n",
      "|           73200.0|125091.61647185031|\n",
      "|           90100.0|194918.60577875702|\n",
      "|           67000.0|152202.44785278616|\n",
      "+------------------+------------------+\n",
      "only showing top 5 rows\n",
      "\n"
     ]
    }
   ],
   "source": [
    "predictedLabes_all.show(5)"
   ]
  },
  {
   "cell_type": "markdown",
   "id": "d0f38480",
   "metadata": {},
   "source": [
    "### Обучение модели для числовых признаков"
   ]
  },
  {
   "cell_type": "code",
   "execution_count": 308,
   "id": "1a36d06f",
   "metadata": {},
   "outputs": [],
   "source": [
    "lr_num = LinearRegression(featuresCol = \"numerical_features_scaled\", labelCol = target)"
   ]
  },
  {
   "cell_type": "code",
   "execution_count": 309,
   "id": "145b7ec9",
   "metadata": {},
   "outputs": [],
   "source": [
    "grid_search = ParamGridBuilder() \\\n",
    ".addGrid(lr_num.regParam, [0.0, 0.01, 0.1]) \\\n",
    ".addGrid(lr_num.fitIntercept, [False, True])\\\n",
    ".addGrid(lr_num.elasticNetParam, [0.5, 1.0]) \\\n",
    ".build()"
   ]
  },
  {
   "cell_type": "code",
   "execution_count": 310,
   "id": "23121e26",
   "metadata": {},
   "outputs": [],
   "source": [
    "evaluator = RegressionEvaluator(predictionCol='prediction',\n",
    "                                labelCol=target)"
   ]
  },
  {
   "cell_type": "code",
   "execution_count": 311,
   "id": "c8f465c0",
   "metadata": {
    "collapsed": true
   },
   "outputs": [
    {
     "name": "stderr",
     "output_type": "stream",
     "text": [
      "23/03/23 21:42:06 WARN WindowExec: No Partition Defined for Window operation! Moving all data to a single partition, this can cause serious performance degradation.\n",
      "23/03/23 21:42:06 WARN WindowExec: No Partition Defined for Window operation! Moving all data to a single partition, this can cause serious performance degradation.\n",
      "23/03/23 21:42:06 WARN WindowExec: No Partition Defined for Window operation! Moving all data to a single partition, this can cause serious performance degradation.\n",
      "23/03/23 21:42:06 WARN WindowExec: No Partition Defined for Window operation! Moving all data to a single partition, this can cause serious performance degradation.\n",
      "23/03/23 21:42:06 WARN Instrumentation: [c44cbf5d] regParam is zero, which might cause numerical instability and overfitting.\n",
      "23/03/23 21:42:07 WARN Instrumentation: [a6b43e23] regParam is zero, which might cause numerical instability and overfitting.\n",
      "23/03/23 21:42:07 WARN Instrumentation: [8731ad8c] regParam is zero, which might cause numerical instability and overfitting.\n",
      "23/03/23 21:42:08 WARN Instrumentation: [07a161af] regParam is zero, which might cause numerical instability and overfitting.\n",
      "23/03/23 21:42:10 WARN WindowExec: No Partition Defined for Window operation! Moving all data to a single partition, this can cause serious performance degradation.\n",
      "23/03/23 21:42:10 WARN WindowExec: No Partition Defined for Window operation! Moving all data to a single partition, this can cause serious performance degradation.\n",
      "23/03/23 21:42:10 WARN WindowExec: No Partition Defined for Window operation! Moving all data to a single partition, this can cause serious performance degradation.\n",
      "23/03/23 21:42:10 WARN WindowExec: No Partition Defined for Window operation! Moving all data to a single partition, this can cause serious performance degradation.\n",
      "23/03/23 21:42:11 WARN Instrumentation: [dde5494b] regParam is zero, which might cause numerical instability and overfitting.\n",
      "23/03/23 21:42:12 WARN Instrumentation: [063b1e2f] regParam is zero, which might cause numerical instability and overfitting.\n",
      "23/03/23 21:42:12 WARN Instrumentation: [e5b0bcdc] regParam is zero, which might cause numerical instability and overfitting.\n",
      "23/03/23 21:42:12 WARN Instrumentation: [f74d0dbd] regParam is zero, which might cause numerical instability and overfitting.\n",
      "23/03/23 21:42:16 WARN WindowExec: No Partition Defined for Window operation! Moving all data to a single partition, this can cause serious performance degradation.\n",
      "23/03/23 21:42:16 WARN WindowExec: No Partition Defined for Window operation! Moving all data to a single partition, this can cause serious performance degradation.\n",
      "23/03/23 21:42:16 WARN WindowExec: No Partition Defined for Window operation! Moving all data to a single partition, this can cause serious performance degradation.\n",
      "23/03/23 21:42:16 WARN WindowExec: No Partition Defined for Window operation! Moving all data to a single partition, this can cause serious performance degradation.\n",
      "23/03/23 21:42:16 WARN Instrumentation: [bc27b957] regParam is zero, which might cause numerical instability and overfitting.\n",
      "23/03/23 21:42:17 WARN Instrumentation: [726df487] regParam is zero, which might cause numerical instability and overfitting.\n",
      "23/03/23 21:42:17 WARN Instrumentation: [6f89e279] regParam is zero, which might cause numerical instability and overfitting.\n",
      "23/03/23 21:42:17 WARN Instrumentation: [e94d9d0e] regParam is zero, which might cause numerical instability and overfitting.\n",
      "23/03/23 21:42:20 WARN WindowExec: No Partition Defined for Window operation! Moving all data to a single partition, this can cause serious performance degradation.\n",
      "23/03/23 21:42:20 WARN WindowExec: No Partition Defined for Window operation! Moving all data to a single partition, this can cause serious performance degradation.\n",
      "23/03/23 21:42:20 WARN WindowExec: No Partition Defined for Window operation! Moving all data to a single partition, this can cause serious performance degradation.\n",
      "23/03/23 21:42:20 WARN WindowExec: No Partition Defined for Window operation! Moving all data to a single partition, this can cause serious performance degradation.\n",
      "23/03/23 21:42:21 WARN WindowExec: No Partition Defined for Window operation! Moving all data to a single partition, this can cause serious performance degradation.\n",
      "23/03/23 21:42:21 WARN WindowExec: No Partition Defined for Window operation! Moving all data to a single partition, this can cause serious performance degradation.\n",
      "23/03/23 21:42:22 WARN WindowExec: No Partition Defined for Window operation! Moving all data to a single partition, this can cause serious performance degradation.\n",
      "23/03/23 21:42:22 WARN WindowExec: No Partition Defined for Window operation! Moving all data to a single partition, this can cause serious performance degradation.\n"
     ]
    }
   ],
   "source": [
    "cv = CrossValidator(estimator = lr_num,\n",
    "                    estimatorParamMaps = grid_search,\n",
    "                    numFolds = 3,\n",
    "                    evaluator = evaluator)\n",
    "cv_model = cv.fit(train)"
   ]
  },
  {
   "cell_type": "code",
   "execution_count": 312,
   "id": "035b64e9",
   "metadata": {
    "collapsed": true
   },
   "outputs": [
    {
     "data": {
      "text/plain": [
       "{Param(parent='LinearRegression_c71b2b5d0cd8', name='aggregationDepth', doc='suggested depth for treeAggregate (>= 2).'): 2,\n",
       " Param(parent='LinearRegression_c71b2b5d0cd8', name='elasticNetParam', doc='the ElasticNet mixing parameter, in range [0, 1]. For alpha = 0, the penalty is an L2 penalty. For alpha = 1, it is an L1 penalty.'): 0.5,\n",
       " Param(parent='LinearRegression_c71b2b5d0cd8', name='epsilon', doc='The shape parameter to control the amount of robustness. Must be > 1.0. Only valid when loss is huber'): 1.35,\n",
       " Param(parent='LinearRegression_c71b2b5d0cd8', name='featuresCol', doc='features column name.'): 'numerical_features_scaled',\n",
       " Param(parent='LinearRegression_c71b2b5d0cd8', name='fitIntercept', doc='whether to fit an intercept term.'): True,\n",
       " Param(parent='LinearRegression_c71b2b5d0cd8', name='labelCol', doc='label column name.'): 'median_house_value',\n",
       " Param(parent='LinearRegression_c71b2b5d0cd8', name='loss', doc='The loss function to be optimized. Supported options: squaredError, huber.'): 'squaredError',\n",
       " Param(parent='LinearRegression_c71b2b5d0cd8', name='maxIter', doc='max number of iterations (>= 0).'): 100,\n",
       " Param(parent='LinearRegression_c71b2b5d0cd8', name='predictionCol', doc='prediction column name.'): 'prediction',\n",
       " Param(parent='LinearRegression_c71b2b5d0cd8', name='regParam', doc='regularization parameter (>= 0).'): 0.1,\n",
       " Param(parent='LinearRegression_c71b2b5d0cd8', name='solver', doc='The solver algorithm for optimization. Supported options: auto, normal, l-bfgs.'): 'auto',\n",
       " Param(parent='LinearRegression_c71b2b5d0cd8', name='standardization', doc='whether to standardize the training features before fitting the model.'): True,\n",
       " Param(parent='LinearRegression_c71b2b5d0cd8', name='tol', doc='the convergence tolerance for iterative algorithms (>= 0).'): 1e-06}"
      ]
     },
     "execution_count": 312,
     "metadata": {},
     "output_type": "execute_result"
    }
   ],
   "source": [
    "cv_model.bestModel.extractParamMap()"
   ]
  },
  {
   "cell_type": "code",
   "execution_count": 313,
   "id": "21e58569",
   "metadata": {},
   "outputs": [],
   "source": [
    "lr_best_param_num = LinearRegression(featuresCol = \"numerical_features_scaled\",\n",
    "                                 labelCol = target,\n",
    "                                 elasticNetParam=0.5,\n",
    "                                 aggregationDepth=2,\n",
    "                                 epsilon = 1.35,\n",
    "                                 fitIntercept = True,\n",
    "                                 loss = 'squaredError',\n",
    "                                 maxIter = 100,\n",
    "                                 regParam = 0.1,\n",
    "                                 solver = 'auto',\n",
    "                                 standardization = True,\n",
    "                                 tol = 1e-06)"
   ]
  },
  {
   "cell_type": "code",
   "execution_count": 314,
   "id": "23056eda",
   "metadata": {
    "collapsed": true
   },
   "outputs": [
    {
     "name": "stderr",
     "output_type": "stream",
     "text": [
      "23/03/23 21:42:22 WARN WindowExec: No Partition Defined for Window operation! Moving all data to a single partition, this can cause serious performance degradation.\n",
      "23/03/23 21:42:22 WARN WindowExec: No Partition Defined for Window operation! Moving all data to a single partition, this can cause serious performance degradation.\n",
      "23/03/23 21:42:22 WARN WindowExec: No Partition Defined for Window operation! Moving all data to a single partition, this can cause serious performance degradation.\n",
      "23/03/23 21:42:22 WARN WindowExec: No Partition Defined for Window operation! Moving all data to a single partition, this can cause serious performance degradation.\n",
      "23/03/23 21:42:23 WARN WindowExec: No Partition Defined for Window operation! Moving all data to a single partition, this can cause serious performance degradation.\n",
      "23/03/23 21:42:23 WARN WindowExec: No Partition Defined for Window operation! Moving all data to a single partition, this can cause serious performance degradation.\n",
      "23/03/23 21:42:23 WARN WindowExec: No Partition Defined for Window operation! Moving all data to a single partition, this can cause serious performance degradation.\n",
      "23/03/23 21:42:23 WARN WindowExec: No Partition Defined for Window operation! Moving all data to a single partition, this can cause serious performance degradation.\n"
     ]
    }
   ],
   "source": [
    "model_best_param_num = lr_best_param_num.fit(train)"
   ]
  },
  {
   "cell_type": "code",
   "execution_count": 315,
   "id": "7384864a",
   "metadata": {},
   "outputs": [],
   "source": [
    "predictions_numerical = model_best_param_num.transform(test)\n",
    "\n",
    "predictedLabes_numerical = predictions_numerical.select(\"median_house_value\", \"prediction\")"
   ]
  },
  {
   "cell_type": "code",
   "execution_count": 316,
   "id": "ebeba0ed",
   "metadata": {
    "collapsed": true
   },
   "outputs": [
    {
     "name": "stderr",
     "output_type": "stream",
     "text": [
      "23/03/23 21:42:24 WARN WindowExec: No Partition Defined for Window operation! Moving all data to a single partition, this can cause serious performance degradation.\n",
      "23/03/23 21:42:24 WARN WindowExec: No Partition Defined for Window operation! Moving all data to a single partition, this can cause serious performance degradation.\n"
     ]
    },
    {
     "name": "stdout",
     "output_type": "stream",
     "text": [
      "+------------------+------------------+\n",
      "|median_house_value|        prediction|\n",
      "+------------------+------------------+\n",
      "|          103600.0|100681.19753087033|\n",
      "|          106700.0|190702.41079243226|\n",
      "|           73200.0| 74610.29043128574|\n",
      "|           90100.0| 162196.9290324282|\n",
      "|           67000.0|119374.48418606771|\n",
      "+------------------+------------------+\n",
      "only showing top 5 rows\n",
      "\n"
     ]
    }
   ],
   "source": [
    "predictedLabes_numerical.show(5)"
   ]
  },
  {
   "cell_type": "markdown",
   "id": "757fd103",
   "metadata": {
    "id": "757fd103"
   },
   "source": [
    "## Анализ результатов"
   ]
  },
  {
   "cell_type": "markdown",
   "id": "bfba5f8c",
   "metadata": {},
   "source": [
    "Качество алгоритмов регрессии оценим, используя RegressionEvaluator, который работает с DataFrame API и имеет набор метрик для оценки."
   ]
  },
  {
   "cell_type": "code",
   "execution_count": 320,
   "id": "1522a645",
   "metadata": {},
   "outputs": [],
   "source": [
    "results = []"
   ]
  },
  {
   "cell_type": "code",
   "execution_count": 321,
   "id": "96aac3fe",
   "metadata": {},
   "outputs": [],
   "source": [
    "def eval_metric(pred_data, model_name):\n",
    "    rmse = RegressionEvaluator(predictionCol=\"prediction\", labelCol=\"median_house_value\", metricName='rmse').evaluate(pred_data)\n",
    "    mae = RegressionEvaluator(predictionCol=\"prediction\", labelCol=\"median_house_value\", metricName='mae').evaluate(pred_data)\n",
    "    r2 = RegressionEvaluator(predictionCol=\"prediction\", labelCol=\"median_house_value\", metricName='r2').evaluate(pred_data)\n",
    "    return model_name, rmse, mae, r2"
   ]
  },
  {
   "cell_type": "code",
   "execution_count": 322,
   "id": "c1b7bcce",
   "metadata": {
    "collapsed": true
   },
   "outputs": [
    {
     "name": "stderr",
     "output_type": "stream",
     "text": [
      "23/03/23 21:42:24 WARN WindowExec: No Partition Defined for Window operation! Moving all data to a single partition, this can cause serious performance degradation.\n",
      "23/03/23 21:42:24 WARN WindowExec: No Partition Defined for Window operation! Moving all data to a single partition, this can cause serious performance degradation.\n",
      "23/03/23 21:42:24 WARN WindowExec: No Partition Defined for Window operation! Moving all data to a single partition, this can cause serious performance degradation.\n",
      "23/03/23 21:42:24 WARN WindowExec: No Partition Defined for Window operation! Moving all data to a single partition, this can cause serious performance degradation.\n",
      "23/03/23 21:42:25 WARN WindowExec: No Partition Defined for Window operation! Moving all data to a single partition, this can cause serious performance degradation.\n",
      "23/03/23 21:42:25 WARN WindowExec: No Partition Defined for Window operation! Moving all data to a single partition, this can cause serious performance degradation.\n"
     ]
    }
   ],
   "source": [
    "results.append(eval_metric(predictedLabes_all, 'all_data'))"
   ]
  },
  {
   "cell_type": "code",
   "execution_count": 323,
   "id": "d7a59971",
   "metadata": {
    "collapsed": true
   },
   "outputs": [
    {
     "name": "stderr",
     "output_type": "stream",
     "text": [
      "23/03/23 21:42:25 WARN WindowExec: No Partition Defined for Window operation! Moving all data to a single partition, this can cause serious performance degradation.\n",
      "23/03/23 21:42:25 WARN WindowExec: No Partition Defined for Window operation! Moving all data to a single partition, this can cause serious performance degradation.\n",
      "23/03/23 21:42:25 WARN WindowExec: No Partition Defined for Window operation! Moving all data to a single partition, this can cause serious performance degradation.\n",
      "23/03/23 21:42:25 WARN WindowExec: No Partition Defined for Window operation! Moving all data to a single partition, this can cause serious performance degradation.\n",
      "23/03/23 21:42:26 WARN WindowExec: No Partition Defined for Window operation! Moving all data to a single partition, this can cause serious performance degradation.\n",
      "23/03/23 21:42:26 WARN WindowExec: No Partition Defined for Window operation! Moving all data to a single partition, this can cause serious performance degradation.\n"
     ]
    }
   ],
   "source": [
    "results.append(eval_metric(predictedLabes_numerical, 'numerical'))"
   ]
  },
  {
   "cell_type": "markdown",
   "id": "3e79121f",
   "metadata": {},
   "source": [
    "<font color='blue'><b>Комментарий ревьюера :</b></font> ✔️\\\n",
    "<font color='green'>Тестирование проведено верно.</font>"
   ]
  },
  {
   "cell_type": "code",
   "execution_count": 324,
   "id": "7036579e",
   "metadata": {},
   "outputs": [
    {
     "data": {
      "text/html": [
       "<div>\n",
       "<style scoped>\n",
       "    .dataframe tbody tr th:only-of-type {\n",
       "        vertical-align: middle;\n",
       "    }\n",
       "\n",
       "    .dataframe tbody tr th {\n",
       "        vertical-align: top;\n",
       "    }\n",
       "\n",
       "    .dataframe thead th {\n",
       "        text-align: right;\n",
       "    }\n",
       "</style>\n",
       "<table border=\"1\" class=\"dataframe\">\n",
       "  <thead>\n",
       "    <tr style=\"text-align: right;\">\n",
       "      <th></th>\n",
       "      <th>model</th>\n",
       "      <th>rmse</th>\n",
       "      <th>mae</th>\n",
       "      <th>r2</th>\n",
       "    </tr>\n",
       "  </thead>\n",
       "  <tbody>\n",
       "    <tr>\n",
       "      <th>0</th>\n",
       "      <td>all_data</td>\n",
       "      <td>70781.230</td>\n",
       "      <td>50855.050</td>\n",
       "      <td>0.638</td>\n",
       "    </tr>\n",
       "    <tr>\n",
       "      <th>1</th>\n",
       "      <td>numerical</td>\n",
       "      <td>71789.086</td>\n",
       "      <td>51786.200</td>\n",
       "      <td>0.628</td>\n",
       "    </tr>\n",
       "  </tbody>\n",
       "</table>\n",
       "</div>"
      ],
      "text/plain": [
       "       model      rmse       mae    r2\n",
       "0   all_data 70781.230 50855.050 0.638\n",
       "1  numerical 71789.086 51786.200 0.628"
      ]
     },
     "metadata": {},
     "output_type": "display_data"
    }
   ],
   "source": [
    "results = pd.DataFrame(results, columns=['model', 'rmse', 'mae', 'r2'])\n",
    "display(results)"
   ]
  },
  {
   "cell_type": "markdown",
   "id": "c1a79325",
   "metadata": {},
   "source": [
    "## Вывод"
   ]
  },
  {
   "cell_type": "markdown",
   "id": "fb7303c5",
   "metadata": {},
   "source": [
    "При построении модели линейной регрессии на всех данных были получены следующие результаты:\n",
    "\n",
    "    RMSE  =  70781.230\n",
    "    MAE   =  50855.050\n",
    "    R2    =  0.638\n",
    "        \n",
    "При построении модели линейной регрессии только на числовых данных были получены следующие результаты:\n",
    "\n",
    "    RMSE  =  71789.086\n",
    "    MAE   =  51786.200\n",
    "    R2    =  0.628\n",
    "    \n",
    "RMSE - корень от средней квадратической ошибки. В свою очередь средняя квадратическая ошибка - это величина равная сумме квадратов отклонений (разница между предсказанием и фактической величиной целевого признака), разделенной на количество объектов. Чем точнее модель, тем больше значение RMSE будет стремиться к нулю. Лучшие показатели у модели, учитывающей категориальные признаки.\n",
    "\n",
    "Среднее абсолютное значение или MAE - это величина, равная сумме всех модулей отклонений (разница между предсказанием и фактическим значением целевого признака), разделенная на количество объектов в выборке.\n",
    "Соответственно, для  идеально работающей модели, MAE будет равен 0. Поэтому, чем меньше будет значение этой метрики, тем точнее модель. Лучшие показатели у модели, учитывающей категориальные признаки.\n",
    "\n",
    "Коэффициент детерминации R2 равен единице, когда модель идеально предсказывает результат, а 0 - когда работает также, как и среднее. Соответственно, чем выше R2, тем точнее модель. Лучшие показатели у модели, учитывающей категориальные признаки.\n",
    "\n",
    "В целом  обе полученные модели показывают неплохой результат. Но модель, учитывающая категориальные признаки незначительно лучше."
   ]
  },
  {
   "cell_type": "code",
   "execution_count": 325,
   "id": "205b4512",
   "metadata": {},
   "outputs": [],
   "source": [
    "spark.stop()"
   ]
  }
 ],
 "metadata": {
  "ExecuteTimeLog": [
   {
    "duration": 1913,
    "start_time": "2023-03-14T12:08:39.293Z"
   },
   {
    "duration": 122,
    "start_time": "2023-03-14T12:10:58.746Z"
   },
   {
    "duration": 14,
    "start_time": "2023-03-14T12:11:06.846Z"
   },
   {
    "duration": 18123,
    "start_time": "2023-03-14T12:11:07.991Z"
   },
   {
    "duration": 11373,
    "start_time": "2023-03-14T12:11:26.117Z"
   },
   {
    "duration": 48,
    "start_time": "2023-03-14T12:16:04.270Z"
   },
   {
    "duration": 1508,
    "start_time": "2023-03-16T11:50:27.801Z"
   },
   {
    "duration": 15143,
    "start_time": "2023-03-16T11:50:32.293Z"
   },
   {
    "duration": 8488,
    "start_time": "2023-03-16T11:50:47.439Z"
   },
   {
    "duration": 98,
    "start_time": "2023-03-16T11:50:55.928Z"
   },
   {
    "duration": 6,
    "start_time": "2023-03-16T11:51:42.030Z"
   },
   {
    "duration": 133,
    "start_time": "2023-03-16T11:51:42.901Z"
   },
   {
    "duration": 106,
    "start_time": "2023-03-16T11:53:00.997Z"
   },
   {
    "duration": 566,
    "start_time": "2023-03-16T11:53:14.190Z"
   },
   {
    "duration": 359,
    "start_time": "2023-03-16T11:53:23.708Z"
   },
   {
    "duration": 325,
    "start_time": "2023-03-16T11:53:31.615Z"
   },
   {
    "duration": 214,
    "start_time": "2023-03-16T11:53:43.633Z"
   },
   {
    "duration": 143,
    "start_time": "2023-03-16T11:54:13.392Z"
   },
   {
    "duration": 180,
    "start_time": "2023-03-16T11:54:43.516Z"
   },
   {
    "duration": 157,
    "start_time": "2023-03-16T11:54:49.634Z"
   },
   {
    "duration": 104,
    "start_time": "2023-03-16T11:55:15.323Z"
   },
   {
    "duration": 106,
    "start_time": "2023-03-16T11:55:26.389Z"
   },
   {
    "duration": 9,
    "start_time": "2023-03-16T12:08:26.101Z"
   },
   {
    "duration": 228,
    "start_time": "2023-03-16T12:08:34.395Z"
   },
   {
    "duration": 220,
    "start_time": "2023-03-16T12:08:58.315Z"
   },
   {
    "duration": 275,
    "start_time": "2023-03-16T12:09:10.210Z"
   },
   {
    "duration": 223,
    "start_time": "2023-03-16T12:09:19.413Z"
   },
   {
    "duration": 274,
    "start_time": "2023-03-16T12:09:56.914Z"
   },
   {
    "duration": 149,
    "start_time": "2023-03-16T12:10:04.685Z"
   },
   {
    "duration": 164,
    "start_time": "2023-03-16T12:10:15.828Z"
   },
   {
    "duration": 166,
    "start_time": "2023-03-16T12:11:35.831Z"
   },
   {
    "duration": 75,
    "start_time": "2023-03-16T12:12:02.451Z"
   },
   {
    "duration": 69,
    "start_time": "2023-03-16T12:12:16.152Z"
   },
   {
    "duration": 825,
    "start_time": "2023-03-16T12:20:03.817Z"
   },
   {
    "duration": 304,
    "start_time": "2023-03-16T12:21:32.817Z"
   },
   {
    "duration": 325,
    "start_time": "2023-03-16T12:21:47.510Z"
   },
   {
    "duration": 73,
    "start_time": "2023-03-16T12:22:06.120Z"
   },
   {
    "duration": 234,
    "start_time": "2023-03-16T12:23:09.516Z"
   },
   {
    "duration": 221,
    "start_time": "2023-03-16T12:23:35.717Z"
   },
   {
    "duration": 10,
    "start_time": "2023-03-16T12:26:00.693Z"
   },
   {
    "duration": 8,
    "start_time": "2023-03-16T12:26:09.015Z"
   },
   {
    "duration": 4723,
    "start_time": "2023-03-16T12:29:22.714Z"
   },
   {
    "duration": 2713,
    "start_time": "2023-03-16T12:31:33.853Z"
   },
   {
    "duration": 78,
    "start_time": "2023-03-16T13:08:46.016Z"
   },
   {
    "duration": 77,
    "start_time": "2023-03-16T13:09:02.874Z"
   },
   {
    "duration": 73,
    "start_time": "2023-03-16T13:09:26.473Z"
   },
   {
    "duration": 80,
    "start_time": "2023-03-16T13:10:00.622Z"
   },
   {
    "duration": 4,
    "start_time": "2023-03-16T13:10:28.566Z"
   },
   {
    "duration": 10,
    "start_time": "2023-03-16T13:10:53.194Z"
   },
   {
    "duration": 9,
    "start_time": "2023-03-16T13:11:57.972Z"
   },
   {
    "duration": 10,
    "start_time": "2023-03-16T13:12:20.748Z"
   },
   {
    "duration": 76,
    "start_time": "2023-03-16T13:18:05.790Z"
   },
   {
    "duration": 4,
    "start_time": "2023-03-16T13:18:31.536Z"
   },
   {
    "duration": 13,
    "start_time": "2023-03-16T13:18:48.376Z"
   },
   {
    "duration": 289,
    "start_time": "2023-03-16T13:21:00.939Z"
   },
   {
    "duration": 95,
    "start_time": "2023-03-16T13:21:10.329Z"
   },
   {
    "duration": 100,
    "start_time": "2023-03-16T13:22:23.626Z"
   },
   {
    "duration": 106,
    "start_time": "2023-03-16T13:23:47.877Z"
   },
   {
    "duration": 149,
    "start_time": "2023-03-16T13:24:08.231Z"
   },
   {
    "duration": 96,
    "start_time": "2023-03-16T13:24:22.998Z"
   },
   {
    "duration": 84,
    "start_time": "2023-03-16T13:24:57.897Z"
   },
   {
    "duration": 97,
    "start_time": "2023-03-16T13:26:22.699Z"
   },
   {
    "duration": 2123,
    "start_time": "2023-03-16T13:31:44.131Z"
   },
   {
    "duration": 2932,
    "start_time": "2023-03-16T13:32:00.118Z"
   },
   {
    "duration": 1588,
    "start_time": "2023-03-16T13:32:24.434Z"
   },
   {
    "duration": 1567,
    "start_time": "2023-03-16T19:22:23.558Z"
   },
   {
    "duration": 17298,
    "start_time": "2023-03-16T19:22:25.127Z"
   },
   {
    "duration": 9945,
    "start_time": "2023-03-16T19:22:42.429Z"
   },
   {
    "duration": 105,
    "start_time": "2023-03-16T19:22:52.376Z"
   },
   {
    "duration": 487,
    "start_time": "2023-03-16T19:22:52.484Z"
   },
   {
    "duration": 1128,
    "start_time": "2023-03-16T19:22:52.973Z"
   },
   {
    "duration": 6002,
    "start_time": "2023-03-16T19:22:54.161Z"
   },
   {
    "duration": 214,
    "start_time": "2023-03-16T19:23:00.166Z"
   },
   {
    "duration": 2291,
    "start_time": "2023-03-16T19:23:00.382Z"
   },
   {
    "duration": 1092,
    "start_time": "2023-03-16T19:23:15.669Z"
   },
   {
    "duration": 847,
    "start_time": "2023-03-16T19:25:53.844Z"
   },
   {
    "duration": 526,
    "start_time": "2023-03-16T19:26:06.388Z"
   },
   {
    "duration": 2634,
    "start_time": "2023-03-16T19:28:00.140Z"
   },
   {
    "duration": 616,
    "start_time": "2023-03-16T19:28:53.594Z"
   },
   {
    "duration": 514,
    "start_time": "2023-03-16T19:29:17.271Z"
   },
   {
    "duration": 536,
    "start_time": "2023-03-16T19:29:38.158Z"
   },
   {
    "duration": 460,
    "start_time": "2023-03-16T19:29:58.021Z"
   },
   {
    "duration": 2989,
    "start_time": "2023-03-16T19:30:33.381Z"
   },
   {
    "duration": 3597,
    "start_time": "2023-03-16T19:40:56.076Z"
   },
   {
    "duration": 2071,
    "start_time": "2023-03-16T19:41:13.130Z"
   },
   {
    "duration": 134,
    "start_time": "2023-03-16T19:41:38.130Z"
   },
   {
    "duration": 1704,
    "start_time": "2023-03-16T19:41:58.094Z"
   },
   {
    "duration": 1646,
    "start_time": "2023-03-16T19:42:09.734Z"
   },
   {
    "duration": 1814,
    "start_time": "2023-03-16T19:46:04.988Z"
   },
   {
    "duration": 1391,
    "start_time": "2023-03-21T18:58:17.826Z"
   },
   {
    "duration": 15834,
    "start_time": "2023-03-21T18:58:23.013Z"
   },
   {
    "duration": 9476,
    "start_time": "2023-03-21T18:59:35.636Z"
   },
   {
    "duration": 103,
    "start_time": "2023-03-21T18:59:45.115Z"
   },
   {
    "duration": 494,
    "start_time": "2023-03-21T18:59:57.293Z"
   },
   {
    "duration": 211,
    "start_time": "2023-03-21T19:00:06.141Z"
   },
   {
    "duration": 1109,
    "start_time": "2023-03-21T19:00:16.792Z"
   },
   {
    "duration": 6592,
    "start_time": "2023-03-21T19:00:31.392Z"
   },
   {
    "duration": 10,
    "start_time": "2023-03-21T19:01:40.250Z"
   },
   {
    "duration": 158,
    "start_time": "2023-03-21T19:02:16.956Z"
   },
   {
    "duration": 9,
    "start_time": "2023-03-21T19:02:27.366Z"
   },
   {
    "duration": 2564,
    "start_time": "2023-03-21T19:02:35.120Z"
   },
   {
    "duration": 3880,
    "start_time": "2023-03-21T19:03:31.219Z"
   },
   {
    "duration": 2152,
    "start_time": "2023-03-21T19:04:12.731Z"
   },
   {
    "duration": 3806,
    "start_time": "2023-03-21T19:05:04.006Z"
   },
   {
    "duration": 370,
    "start_time": "2023-03-21T19:06:06.540Z"
   },
   {
    "duration": 328,
    "start_time": "2023-03-21T19:06:21.113Z"
   },
   {
    "duration": 108,
    "start_time": "2023-03-21T19:07:20.544Z"
   },
   {
    "duration": 142,
    "start_time": "2023-03-21T19:07:33.258Z"
   },
   {
    "duration": 223,
    "start_time": "2023-03-21T19:07:43.110Z"
   },
   {
    "duration": 222,
    "start_time": "2023-03-21T19:07:56.197Z"
   },
   {
    "duration": 14,
    "start_time": "2023-03-21T19:08:55.811Z"
   },
   {
    "duration": 282,
    "start_time": "2023-03-21T19:09:10.211Z"
   },
   {
    "duration": 195,
    "start_time": "2023-03-21T19:09:46.914Z"
   },
   {
    "duration": 371,
    "start_time": "2023-03-21T19:11:40.435Z"
   },
   {
    "duration": 474,
    "start_time": "2023-03-21T19:11:58.613Z"
   },
   {
    "duration": 48,
    "start_time": "2023-03-21T19:23:14.405Z"
   },
   {
    "duration": 1528,
    "start_time": "2023-03-21T19:24:22.361Z"
   },
   {
    "duration": 2991,
    "start_time": "2023-03-21T19:24:27.794Z"
   },
   {
    "duration": 173,
    "start_time": "2023-03-21T19:24:58.977Z"
   },
   {
    "duration": 3043,
    "start_time": "2023-03-21T19:25:59.257Z"
   },
   {
    "duration": 22,
    "start_time": "2023-03-21T19:27:42.024Z"
   },
   {
    "duration": 19,
    "start_time": "2023-03-21T19:28:46.897Z"
   },
   {
    "duration": 15,
    "start_time": "2023-03-21T19:29:34.798Z"
   },
   {
    "duration": 168,
    "start_time": "2023-03-21T19:31:24.631Z"
   },
   {
    "duration": 159,
    "start_time": "2023-03-21T19:31:35.901Z"
   },
   {
    "duration": 288,
    "start_time": "2023-03-21T19:31:52.300Z"
   },
   {
    "duration": 4,
    "start_time": "2023-03-21T19:33:22.342Z"
   },
   {
    "duration": 15,
    "start_time": "2023-03-21T19:33:39.429Z"
   },
   {
    "duration": 265,
    "start_time": "2023-03-21T19:34:56.230Z"
   },
   {
    "duration": 4,
    "start_time": "2023-03-21T19:35:25.848Z"
   },
   {
    "duration": 1984,
    "start_time": "2023-03-21T19:36:07.196Z"
   },
   {
    "duration": 327,
    "start_time": "2023-03-21T19:38:16.383Z"
   },
   {
    "duration": 12,
    "start_time": "2023-03-21T19:38:52.152Z"
   },
   {
    "duration": 206,
    "start_time": "2023-03-21T19:39:10.993Z"
   },
   {
    "duration": 54,
    "start_time": "2023-03-21T19:45:41.753Z"
   },
   {
    "duration": 130,
    "start_time": "2023-03-21T19:45:43.942Z"
   },
   {
    "duration": 250,
    "start_time": "2023-03-21T19:46:30.459Z"
   },
   {
    "duration": 200,
    "start_time": "2023-03-21T19:46:42.387Z"
   },
   {
    "duration": 22,
    "start_time": "2023-03-21T19:47:13.305Z"
   },
   {
    "duration": 161,
    "start_time": "2023-03-21T19:47:15.687Z"
   },
   {
    "duration": 974,
    "start_time": "2023-03-21T19:55:58.537Z"
   },
   {
    "duration": 4,
    "start_time": "2023-03-21T19:56:01.319Z"
   },
   {
    "duration": 355,
    "start_time": "2023-03-21T19:56:33.562Z"
   },
   {
    "duration": 324,
    "start_time": "2023-03-21T20:00:19.247Z"
   },
   {
    "duration": 371,
    "start_time": "2023-03-21T20:01:01.848Z"
   },
   {
    "duration": 229,
    "start_time": "2023-03-21T20:01:11.260Z"
   },
   {
    "duration": 183,
    "start_time": "2023-03-21T20:02:45.509Z"
   },
   {
    "duration": 290,
    "start_time": "2023-03-21T20:03:34.096Z"
   },
   {
    "duration": 196,
    "start_time": "2023-03-21T20:04:02.697Z"
   },
   {
    "duration": 2796,
    "start_time": "2023-03-21T20:10:05.306Z"
   },
   {
    "duration": 1539,
    "start_time": "2023-03-21T20:11:20.455Z"
   },
   {
    "duration": 7,
    "start_time": "2023-03-21T20:13:14.497Z"
   },
   {
    "duration": 224,
    "start_time": "2023-03-21T20:20:54.316Z"
   },
   {
    "duration": 288,
    "start_time": "2023-03-21T20:33:17.792Z"
   },
   {
    "duration": 152,
    "start_time": "2023-03-21T20:33:50.018Z"
   },
   {
    "duration": 135,
    "start_time": "2023-03-21T20:34:20.629Z"
   },
   {
    "duration": 32,
    "start_time": "2023-03-21T20:36:54.097Z"
   },
   {
    "duration": 4,
    "start_time": "2023-03-21T20:37:29.145Z"
   },
   {
    "duration": 33,
    "start_time": "2023-03-21T20:38:09.201Z"
   },
   {
    "duration": 37,
    "start_time": "2023-03-21T20:38:51.206Z"
   },
   {
    "duration": 71,
    "start_time": "2023-03-21T20:41:21.402Z"
   },
   {
    "duration": 161,
    "start_time": "2023-03-21T20:41:29.998Z"
   },
   {
    "duration": 142,
    "start_time": "2023-03-21T20:41:47.718Z"
   },
   {
    "duration": 969,
    "start_time": "2023-03-21T20:42:18.315Z"
   },
   {
    "duration": 3,
    "start_time": "2023-03-21T20:42:21.141Z"
   },
   {
    "duration": 57,
    "start_time": "2023-03-21T20:46:23.190Z"
   },
   {
    "duration": 3120,
    "start_time": "2023-03-21T20:48:40.205Z"
   },
   {
    "duration": 1859,
    "start_time": "2023-03-21T20:50:26.934Z"
   },
   {
    "duration": 15,
    "start_time": "2023-03-21T20:53:29.223Z"
   },
   {
    "duration": 2099,
    "start_time": "2023-03-21T20:53:38.794Z"
   },
   {
    "duration": 41,
    "start_time": "2023-03-21T20:55:19.776Z"
   },
   {
    "duration": 676,
    "start_time": "2023-03-21T20:55:21.257Z"
   },
   {
    "duration": 686,
    "start_time": "2023-03-21T20:55:39.833Z"
   },
   {
    "duration": 481,
    "start_time": "2023-03-21T20:55:48.946Z"
   },
   {
    "duration": 518,
    "start_time": "2023-03-21T20:56:07.703Z"
   },
   {
    "duration": 373,
    "start_time": "2023-03-21T20:56:23.297Z"
   },
   {
    "duration": 9,
    "start_time": "2023-03-21T20:58:20.210Z"
   },
   {
    "duration": 27,
    "start_time": "2023-03-21T20:58:25.663Z"
   },
   {
    "duration": 600,
    "start_time": "2023-03-21T20:58:26.961Z"
   },
   {
    "duration": 3,
    "start_time": "2023-03-21T21:05:39.744Z"
   },
   {
    "duration": 3,
    "start_time": "2023-03-21T21:05:40.752Z"
   },
   {
    "duration": 12,
    "start_time": "2023-03-21T21:05:40.945Z"
   },
   {
    "duration": 12,
    "start_time": "2023-03-21T21:06:26.148Z"
   },
   {
    "duration": 3834,
    "start_time": "2023-03-21T21:06:39.273Z"
   },
   {
    "duration": 48,
    "start_time": "2023-03-21T21:06:43.109Z"
   },
   {
    "duration": 8,
    "start_time": "2023-03-21T21:07:31.631Z"
   },
   {
    "duration": 7,
    "start_time": "2023-03-21T21:07:31.641Z"
   },
   {
    "duration": 367,
    "start_time": "2023-03-21T21:07:31.649Z"
   },
   {
    "duration": 8,
    "start_time": "2023-03-21T21:07:32.018Z"
   },
   {
    "duration": 109,
    "start_time": "2023-03-21T21:07:32.076Z"
   },
   {
    "duration": 123,
    "start_time": "2023-03-21T21:07:32.190Z"
   },
   {
    "duration": 1623,
    "start_time": "2023-03-21T21:07:32.315Z"
   },
   {
    "duration": 130,
    "start_time": "2023-03-21T21:07:33.940Z"
   },
   {
    "duration": 1454,
    "start_time": "2023-03-21T21:07:34.072Z"
   },
   {
    "duration": 240,
    "start_time": "2023-03-21T21:07:35.588Z"
   },
   {
    "duration": 163,
    "start_time": "2023-03-21T21:07:35.830Z"
   },
   {
    "duration": 306,
    "start_time": "2023-03-21T21:07:35.994Z"
   },
   {
    "duration": 419,
    "start_time": "2023-03-21T21:07:36.301Z"
   },
   {
    "duration": 1780,
    "start_time": "2023-03-21T21:07:36.723Z"
   },
   {
    "duration": 4,
    "start_time": "2023-03-21T21:07:38.508Z"
   },
   {
    "duration": 30,
    "start_time": "2023-03-21T21:07:38.513Z"
   },
   {
    "duration": 168,
    "start_time": "2023-03-21T21:07:38.545Z"
   },
   {
    "duration": 18,
    "start_time": "2023-03-21T21:07:38.715Z"
   },
   {
    "duration": 169,
    "start_time": "2023-03-21T21:07:38.735Z"
   },
   {
    "duration": 529,
    "start_time": "2023-03-21T21:07:38.906Z"
   },
   {
    "duration": 3,
    "start_time": "2023-03-21T21:07:39.437Z"
   },
   {
    "duration": 200,
    "start_time": "2023-03-21T21:07:39.442Z"
   },
   {
    "duration": 238,
    "start_time": "2023-03-21T21:07:39.643Z"
   },
   {
    "duration": 1429,
    "start_time": "2023-03-21T21:07:39.884Z"
   },
   {
    "duration": 3,
    "start_time": "2023-03-21T21:07:41.314Z"
   },
   {
    "duration": 2220,
    "start_time": "2023-03-21T21:07:41.318Z"
   },
   {
    "duration": 2085,
    "start_time": "2023-03-21T21:07:43.540Z"
   },
   {
    "duration": 58,
    "start_time": "2023-03-21T21:07:45.627Z"
   },
   {
    "duration": 746,
    "start_time": "2023-03-21T21:07:45.687Z"
   },
   {
    "duration": 33,
    "start_time": "2023-03-21T21:07:46.435Z"
   },
   {
    "duration": 569,
    "start_time": "2023-03-21T21:07:46.469Z"
   },
   {
    "duration": 2,
    "start_time": "2023-03-21T21:07:47.039Z"
   },
   {
    "duration": 6,
    "start_time": "2023-03-21T21:07:47.043Z"
   },
   {
    "duration": 3663,
    "start_time": "2023-03-21T21:07:47.082Z"
   },
   {
    "duration": 38,
    "start_time": "2023-03-21T21:07:50.747Z"
   },
   {
    "duration": 1406,
    "start_time": "2023-03-21T21:10:18.603Z"
   },
   {
    "duration": 1288,
    "start_time": "2023-03-21T21:10:21.417Z"
   },
   {
    "duration": 28,
    "start_time": "2023-03-21T21:10:24.868Z"
   },
   {
    "duration": 413,
    "start_time": "2023-03-21T21:10:25.205Z"
   },
   {
    "duration": 30,
    "start_time": "2023-03-21T21:10:52.394Z"
   },
   {
    "duration": 441,
    "start_time": "2023-03-21T21:10:55.250Z"
   },
   {
    "duration": 2,
    "start_time": "2023-03-21T21:11:04.948Z"
   },
   {
    "duration": 6,
    "start_time": "2023-03-21T21:11:07.015Z"
   },
   {
    "duration": 2823,
    "start_time": "2023-03-21T21:11:08.309Z"
   },
   {
    "duration": 12,
    "start_time": "2023-03-21T21:11:11.134Z"
   },
   {
    "duration": 3,
    "start_time": "2023-03-21T21:12:14.309Z"
   },
   {
    "duration": 899,
    "start_time": "2023-03-21T21:12:15.217Z"
   },
   {
    "duration": 916,
    "start_time": "2023-03-21T21:12:16.207Z"
   },
   {
    "duration": 1021,
    "start_time": "2023-03-21T21:13:12.494Z"
   },
   {
    "duration": 3,
    "start_time": "2023-03-21T21:13:52.612Z"
   },
   {
    "duration": 4,
    "start_time": "2023-03-21T21:13:54.142Z"
   },
   {
    "duration": 872,
    "start_time": "2023-03-21T21:13:55.294Z"
   },
   {
    "duration": 861,
    "start_time": "2023-03-21T21:14:02.708Z"
   },
   {
    "duration": 12,
    "start_time": "2023-03-21T21:14:04.748Z"
   },
   {
    "duration": 489,
    "start_time": "2023-03-21T21:17:27.804Z"
   },
   {
    "duration": 379,
    "start_time": "2023-03-21T21:17:39.010Z"
   },
   {
    "duration": 394,
    "start_time": "2023-03-21T21:18:26.025Z"
   },
   {
    "duration": 3,
    "start_time": "2023-03-21T21:24:06.771Z"
   },
   {
    "duration": 1246,
    "start_time": "2023-03-21T21:24:08.540Z"
   },
   {
    "duration": 1323,
    "start_time": "2023-03-21T21:24:23.451Z"
   },
   {
    "duration": 22,
    "start_time": "2023-03-21T21:24:55.936Z"
   },
   {
    "duration": 353,
    "start_time": "2023-03-21T21:24:59.190Z"
   },
   {
    "duration": 27,
    "start_time": "2023-03-21T21:25:44.388Z"
   },
   {
    "duration": 384,
    "start_time": "2023-03-21T21:25:45.997Z"
   },
   {
    "duration": 2,
    "start_time": "2023-03-21T21:25:54.525Z"
   },
   {
    "duration": 3,
    "start_time": "2023-03-21T21:25:55.417Z"
   },
   {
    "duration": 796,
    "start_time": "2023-03-21T21:25:56.714Z"
   },
   {
    "duration": 845,
    "start_time": "2023-03-21T21:25:57.517Z"
   },
   {
    "duration": 18,
    "start_time": "2023-03-21T21:25:59.018Z"
   },
   {
    "duration": 7,
    "start_time": "2023-03-21T21:35:04.399Z"
   },
   {
    "duration": 4,
    "start_time": "2023-03-21T21:35:09.736Z"
   },
   {
    "duration": 236,
    "start_time": "2023-03-21T21:35:11.074Z"
   },
   {
    "duration": 8,
    "start_time": "2023-03-21T21:35:12.620Z"
   },
   {
    "duration": 80,
    "start_time": "2023-03-21T21:35:14.129Z"
   },
   {
    "duration": 85,
    "start_time": "2023-03-21T21:35:14.548Z"
   },
   {
    "duration": 1246,
    "start_time": "2023-03-21T21:35:14.939Z"
   },
   {
    "duration": 81,
    "start_time": "2023-03-21T21:35:16.186Z"
   },
   {
    "duration": 1136,
    "start_time": "2023-03-21T21:35:16.340Z"
   },
   {
    "duration": 229,
    "start_time": "2023-03-21T21:35:21.667Z"
   },
   {
    "duration": 189,
    "start_time": "2023-03-21T21:35:23.218Z"
   },
   {
    "duration": 281,
    "start_time": "2023-03-21T21:35:24.300Z"
   },
   {
    "duration": 321,
    "start_time": "2023-03-21T21:35:29.390Z"
   },
   {
    "duration": 1999,
    "start_time": "2023-03-21T21:35:30.202Z"
   },
   {
    "duration": 3,
    "start_time": "2023-03-21T21:35:32.203Z"
   },
   {
    "duration": 47,
    "start_time": "2023-03-21T21:35:33.040Z"
   },
   {
    "duration": 175,
    "start_time": "2023-03-21T21:35:33.218Z"
   },
   {
    "duration": 16,
    "start_time": "2023-03-21T21:35:34.604Z"
   },
   {
    "duration": 99,
    "start_time": "2023-03-21T21:35:35.219Z"
   },
   {
    "duration": 321,
    "start_time": "2023-03-21T21:35:37.273Z"
   },
   {
    "duration": 3,
    "start_time": "2023-03-21T21:35:37.921Z"
   },
   {
    "duration": 105,
    "start_time": "2023-03-21T21:35:38.744Z"
   },
   {
    "duration": 120,
    "start_time": "2023-03-21T21:35:41.729Z"
   },
   {
    "duration": 1480,
    "start_time": "2023-03-21T21:35:46.379Z"
   },
   {
    "duration": 570,
    "start_time": "2023-03-21T21:35:49.268Z"
   },
   {
    "duration": 3,
    "start_time": "2023-03-21T21:35:56.216Z"
   },
   {
    "duration": 1672,
    "start_time": "2023-03-21T21:35:58.934Z"
   },
   {
    "duration": 1610,
    "start_time": "2023-03-21T21:36:04.100Z"
   },
   {
    "duration": 20,
    "start_time": "2023-03-21T21:36:06.517Z"
   },
   {
    "duration": 515,
    "start_time": "2023-03-21T21:36:08.761Z"
   },
   {
    "duration": 27,
    "start_time": "2023-03-21T21:36:10.326Z"
   },
   {
    "duration": 510,
    "start_time": "2023-03-21T21:36:12.682Z"
   },
   {
    "duration": 2,
    "start_time": "2023-03-21T21:36:15.201Z"
   },
   {
    "duration": 3,
    "start_time": "2023-03-21T21:36:16.004Z"
   },
   {
    "duration": 1268,
    "start_time": "2023-03-21T21:36:16.693Z"
   },
   {
    "duration": 1327,
    "start_time": "2023-03-21T21:36:17.962Z"
   },
   {
    "duration": 16,
    "start_time": "2023-03-21T21:36:19.292Z"
   },
   {
    "duration": 4,
    "start_time": "2023-03-21T22:07:42.637Z"
   },
   {
    "duration": 8,
    "start_time": "2023-03-21T22:08:15.195Z"
   },
   {
    "duration": 6,
    "start_time": "2023-03-21T22:08:40.016Z"
   },
   {
    "duration": 1397,
    "start_time": "2023-03-22T07:10:09.915Z"
   },
   {
    "duration": 16066,
    "start_time": "2023-03-22T07:10:11.314Z"
   },
   {
    "duration": 10218,
    "start_time": "2023-03-22T07:10:27.383Z"
   },
   {
    "duration": 97,
    "start_time": "2023-03-22T07:10:37.604Z"
   },
   {
    "duration": 507,
    "start_time": "2023-03-22T07:10:37.703Z"
   },
   {
    "duration": 1107,
    "start_time": "2023-03-22T07:10:38.275Z"
   },
   {
    "duration": 5992,
    "start_time": "2023-03-22T07:10:39.383Z"
   },
   {
    "duration": 210,
    "start_time": "2023-03-22T07:10:45.377Z"
   },
   {
    "duration": 4290,
    "start_time": "2023-03-22T07:10:45.591Z"
   },
   {
    "duration": 496,
    "start_time": "2023-03-22T07:10:49.884Z"
   },
   {
    "duration": 397,
    "start_time": "2023-03-22T07:10:50.382Z"
   },
   {
    "duration": 615,
    "start_time": "2023-03-22T07:10:50.781Z"
   },
   {
    "duration": 1425,
    "start_time": "2023-03-22T07:10:51.397Z"
   },
   {
    "duration": 3730,
    "start_time": "2023-03-22T07:10:52.874Z"
   },
   {
    "duration": 71,
    "start_time": "2023-03-22T07:10:56.606Z"
   },
   {
    "duration": 295,
    "start_time": "2023-03-22T07:10:56.679Z"
   },
   {
    "duration": 372,
    "start_time": "2023-03-22T07:10:56.976Z"
   },
   {
    "duration": 48,
    "start_time": "2023-03-22T07:10:57.350Z"
   },
   {
    "duration": 305,
    "start_time": "2023-03-22T07:10:57.399Z"
   },
   {
    "duration": 1681,
    "start_time": "2023-03-22T07:10:57.705Z"
   },
   {
    "duration": 7,
    "start_time": "2023-03-22T07:10:59.388Z"
   },
   {
    "duration": 494,
    "start_time": "2023-03-22T07:10:59.397Z"
   },
   {
    "duration": 393,
    "start_time": "2023-03-22T07:10:59.893Z"
   },
   {
    "duration": 2726,
    "start_time": "2023-03-22T07:11:00.290Z"
   },
   {
    "duration": 902,
    "start_time": "2023-03-22T07:11:03.074Z"
   },
   {
    "duration": 3,
    "start_time": "2023-03-22T07:11:03.977Z"
   },
   {
    "duration": 3537,
    "start_time": "2023-03-22T07:11:03.982Z"
   },
   {
    "duration": 2601,
    "start_time": "2023-03-22T07:11:07.520Z"
   },
   {
    "duration": 78,
    "start_time": "2023-03-22T07:11:10.123Z"
   },
   {
    "duration": 810,
    "start_time": "2023-03-22T07:11:10.202Z"
   },
   {
    "duration": 71,
    "start_time": "2023-03-22T07:11:11.014Z"
   },
   {
    "duration": 705,
    "start_time": "2023-03-22T07:11:11.087Z"
   },
   {
    "duration": 3,
    "start_time": "2023-03-22T07:11:11.794Z"
   },
   {
    "duration": 7,
    "start_time": "2023-03-22T07:11:11.798Z"
   },
   {
    "duration": 1981,
    "start_time": "2023-03-22T07:11:11.806Z"
   },
   {
    "duration": 1863,
    "start_time": "2023-03-22T07:11:13.789Z"
   },
   {
    "duration": 97,
    "start_time": "2023-03-22T07:11:15.654Z"
   },
   {
    "duration": 108,
    "start_time": "2023-03-22T07:13:14.602Z"
   },
   {
    "duration": 1493,
    "start_time": "2023-03-22T07:13:22.260Z"
   },
   {
    "duration": 639,
    "start_time": "2023-03-22T07:13:32.278Z"
   },
   {
    "duration": 2,
    "start_time": "2023-03-22T07:13:38.828Z"
   },
   {
    "duration": 1728,
    "start_time": "2023-03-22T07:13:40.790Z"
   },
   {
    "duration": 1964,
    "start_time": "2023-03-22T07:13:42.520Z"
   },
   {
    "duration": 25,
    "start_time": "2023-03-22T07:13:44.486Z"
   },
   {
    "duration": 608,
    "start_time": "2023-03-22T07:13:44.738Z"
   },
   {
    "duration": 23,
    "start_time": "2023-03-22T07:13:52.958Z"
   },
   {
    "duration": 536,
    "start_time": "2023-03-22T07:13:53.662Z"
   },
   {
    "duration": 2,
    "start_time": "2023-03-22T07:13:55.694Z"
   },
   {
    "duration": 3,
    "start_time": "2023-03-22T07:13:56.744Z"
   },
   {
    "duration": 1406,
    "start_time": "2023-03-22T07:13:57.437Z"
   },
   {
    "duration": 1423,
    "start_time": "2023-03-22T07:13:58.845Z"
   },
   {
    "duration": 15,
    "start_time": "2023-03-22T07:14:00.269Z"
   },
   {
    "duration": 6447,
    "start_time": "2023-03-22T07:16:09.230Z"
   },
   {
    "duration": 9,
    "start_time": "2023-03-22T07:16:21.001Z"
   },
   {
    "duration": 9,
    "start_time": "2023-03-22T07:17:17.690Z"
   },
   {
    "duration": 4,
    "start_time": "2023-03-22T07:17:19.681Z"
   },
   {
    "duration": 447,
    "start_time": "2023-03-22T07:17:21.075Z"
   },
   {
    "duration": 9,
    "start_time": "2023-03-22T07:17:22.993Z"
   },
   {
    "duration": 87,
    "start_time": "2023-03-22T07:17:25.531Z"
   },
   {
    "duration": 147,
    "start_time": "2023-03-22T07:17:26.333Z"
   },
   {
    "duration": 2431,
    "start_time": "2023-03-22T07:17:27.159Z"
   },
   {
    "duration": 193,
    "start_time": "2023-03-22T07:17:29.592Z"
   },
   {
    "duration": 1417,
    "start_time": "2023-03-22T07:17:29.788Z"
   },
   {
    "duration": 146,
    "start_time": "2023-03-22T07:17:31.893Z"
   },
   {
    "duration": 112,
    "start_time": "2023-03-22T07:17:32.901Z"
   },
   {
    "duration": 187,
    "start_time": "2023-03-22T07:17:33.414Z"
   },
   {
    "duration": 359,
    "start_time": "2023-03-22T07:17:35.139Z"
   },
   {
    "duration": 1841,
    "start_time": "2023-03-22T07:17:35.958Z"
   },
   {
    "duration": 4,
    "start_time": "2023-03-22T07:17:37.800Z"
   },
   {
    "duration": 29,
    "start_time": "2023-03-22T07:17:38.691Z"
   },
   {
    "duration": 101,
    "start_time": "2023-03-22T07:17:41.124Z"
   },
   {
    "duration": 30,
    "start_time": "2023-03-22T07:17:42.751Z"
   },
   {
    "duration": 100,
    "start_time": "2023-03-22T07:17:43.440Z"
   },
   {
    "duration": 518,
    "start_time": "2023-03-22T07:17:44.975Z"
   },
   {
    "duration": 4,
    "start_time": "2023-03-22T07:17:45.601Z"
   },
   {
    "duration": 210,
    "start_time": "2023-03-22T07:17:46.466Z"
   },
   {
    "duration": 199,
    "start_time": "2023-03-22T07:17:48.250Z"
   },
   {
    "duration": 1129,
    "start_time": "2023-03-22T07:17:51.554Z"
   },
   {
    "duration": 639,
    "start_time": "2023-03-22T07:17:54.639Z"
   },
   {
    "duration": 3,
    "start_time": "2023-03-22T07:18:00.474Z"
   },
   {
    "duration": 1968,
    "start_time": "2023-03-22T07:18:02.431Z"
   },
   {
    "duration": 2018,
    "start_time": "2023-03-22T07:18:04.401Z"
   },
   {
    "duration": 61,
    "start_time": "2023-03-22T07:18:06.421Z"
   },
   {
    "duration": 449,
    "start_time": "2023-03-22T07:18:06.484Z"
   },
   {
    "duration": 23,
    "start_time": "2023-03-22T07:18:09.159Z"
   },
   {
    "duration": 573,
    "start_time": "2023-03-22T07:18:09.917Z"
   },
   {
    "duration": 2,
    "start_time": "2023-03-22T07:18:12.033Z"
   },
   {
    "duration": 8,
    "start_time": "2023-03-22T07:18:13.323Z"
   },
   {
    "duration": 1438,
    "start_time": "2023-03-22T07:18:13.446Z"
   },
   {
    "duration": 1462,
    "start_time": "2023-03-22T07:18:14.886Z"
   },
   {
    "duration": 36,
    "start_time": "2023-03-22T07:18:16.349Z"
   },
   {
    "duration": 4212,
    "start_time": "2023-03-22T07:18:18.986Z"
   },
   {
    "duration": 8,
    "start_time": "2023-03-22T07:18:24.608Z"
   },
   {
    "duration": 463,
    "start_time": "2023-03-22T07:30:26.133Z"
   },
   {
    "duration": 382,
    "start_time": "2023-03-22T07:30:39.872Z"
   },
   {
    "duration": 1315,
    "start_time": "2023-03-22T07:32:28.569Z"
   },
   {
    "duration": 1183,
    "start_time": "2023-03-22T07:32:33.119Z"
   },
   {
    "duration": 20,
    "start_time": "2023-03-22T07:32:35.567Z"
   },
   {
    "duration": 324,
    "start_time": "2023-03-22T07:32:36.715Z"
   },
   {
    "duration": 329,
    "start_time": "2023-03-22T07:33:47.970Z"
   },
   {
    "duration": 20,
    "start_time": "2023-03-22T07:33:51.977Z"
   },
   {
    "duration": 303,
    "start_time": "2023-03-22T07:33:52.992Z"
   },
   {
    "duration": 1563,
    "start_time": "2023-03-22T15:22:02.827Z"
   },
   {
    "duration": 19073,
    "start_time": "2023-03-22T15:22:04.392Z"
   },
   {
    "duration": 8886,
    "start_time": "2023-03-22T15:22:23.468Z"
   },
   {
    "duration": 174,
    "start_time": "2023-03-22T15:22:32.356Z"
   },
   {
    "duration": 407,
    "start_time": "2023-03-22T15:22:32.532Z"
   },
   {
    "duration": 914,
    "start_time": "2023-03-22T15:22:32.941Z"
   },
   {
    "duration": 5484,
    "start_time": "2023-03-22T15:22:33.857Z"
   },
   {
    "duration": 240,
    "start_time": "2023-03-22T15:22:39.343Z"
   },
   {
    "duration": 3548,
    "start_time": "2023-03-22T15:22:39.584Z"
   },
   {
    "duration": 493,
    "start_time": "2023-03-22T15:22:43.134Z"
   },
   {
    "duration": 319,
    "start_time": "2023-03-22T15:22:43.629Z"
   },
   {
    "duration": 682,
    "start_time": "2023-03-22T15:22:43.950Z"
   },
   {
    "duration": 1501,
    "start_time": "2023-03-22T15:22:44.634Z"
   },
   {
    "duration": 3816,
    "start_time": "2023-03-22T15:22:46.138Z"
   },
   {
    "duration": 4,
    "start_time": "2023-03-22T15:22:49.955Z"
   },
   {
    "duration": 299,
    "start_time": "2023-03-22T15:22:50.024Z"
   },
   {
    "duration": 360,
    "start_time": "2023-03-22T15:22:50.326Z"
   },
   {
    "duration": 90,
    "start_time": "2023-03-22T15:22:50.687Z"
   },
   {
    "duration": 365,
    "start_time": "2023-03-22T15:22:50.778Z"
   },
   {
    "duration": 1390,
    "start_time": "2023-03-22T15:22:51.145Z"
   },
   {
    "duration": 4,
    "start_time": "2023-03-22T15:22:52.537Z"
   },
   {
    "duration": 408,
    "start_time": "2023-03-22T15:22:52.542Z"
   },
   {
    "duration": 472,
    "start_time": "2023-03-22T15:22:52.952Z"
   },
   {
    "duration": 2411,
    "start_time": "2023-03-22T15:22:53.426Z"
   },
   {
    "duration": 895,
    "start_time": "2023-03-22T15:22:55.839Z"
   },
   {
    "duration": 4,
    "start_time": "2023-03-22T15:22:56.736Z"
   },
   {
    "duration": 125,
    "start_time": "2023-03-22T15:41:26.676Z"
   },
   {
    "duration": 5266,
    "start_time": "2023-03-22T15:41:28.659Z"
   },
   {
    "duration": 828,
    "start_time": "2023-03-22T15:41:33.927Z"
   },
   {
    "duration": 102,
    "start_time": "2023-03-22T15:42:23.619Z"
   },
   {
    "duration": 2124,
    "start_time": "2023-03-22T15:42:30.133Z"
   },
   {
    "duration": 86,
    "start_time": "2023-03-22T15:42:32.259Z"
   },
   {
    "duration": 622,
    "start_time": "2023-03-22T15:42:35.577Z"
   },
   {
    "duration": 2507,
    "start_time": "2023-03-22T15:43:38.928Z"
   },
   {
    "duration": 47,
    "start_time": "2023-03-22T15:43:41.882Z"
   },
   {
    "duration": 495,
    "start_time": "2023-03-22T15:43:45.803Z"
   },
   {
    "duration": 2,
    "start_time": "2023-03-22T15:43:54.810Z"
   },
   {
    "duration": 4,
    "start_time": "2023-03-22T15:43:55.471Z"
   },
   {
    "duration": 2021,
    "start_time": "2023-03-22T15:43:56.242Z"
   },
   {
    "duration": 1700,
    "start_time": "2023-03-22T15:43:58.265Z"
   },
   {
    "duration": 88,
    "start_time": "2023-03-22T15:43:59.968Z"
   },
   {
    "duration": 4,
    "start_time": "2023-03-22T15:59:18.464Z"
   },
   {
    "duration": 6,
    "start_time": "2023-03-22T16:00:11.967Z"
   },
   {
    "duration": 9,
    "start_time": "2023-03-22T16:00:21.823Z"
   },
   {
    "duration": 9,
    "start_time": "2023-03-22T16:05:11.526Z"
   },
   {
    "duration": 8,
    "start_time": "2023-03-22T16:05:11.536Z"
   },
   {
    "duration": 578,
    "start_time": "2023-03-22T16:05:11.545Z"
   },
   {
    "duration": 9,
    "start_time": "2023-03-22T16:05:12.125Z"
   },
   {
    "duration": 137,
    "start_time": "2023-03-22T16:05:12.137Z"
   },
   {
    "duration": 123,
    "start_time": "2023-03-22T16:05:12.275Z"
   },
   {
    "duration": 2201,
    "start_time": "2023-03-22T16:05:12.424Z"
   },
   {
    "duration": 102,
    "start_time": "2023-03-22T16:05:14.627Z"
   },
   {
    "duration": 1708,
    "start_time": "2023-03-22T16:05:14.731Z"
   },
   {
    "duration": 208,
    "start_time": "2023-03-22T16:05:16.441Z"
   },
   {
    "duration": 179,
    "start_time": "2023-03-22T16:05:16.652Z"
   },
   {
    "duration": 292,
    "start_time": "2023-03-22T16:05:16.833Z"
   },
   {
    "duration": 424,
    "start_time": "2023-03-22T16:05:17.128Z"
   },
   {
    "duration": 2308,
    "start_time": "2023-03-22T16:05:17.625Z"
   },
   {
    "duration": 3,
    "start_time": "2023-03-22T16:05:19.935Z"
   },
   {
    "duration": 99,
    "start_time": "2023-03-22T16:05:19.940Z"
   },
   {
    "duration": 178,
    "start_time": "2023-03-22T16:05:20.040Z"
   },
   {
    "duration": 26,
    "start_time": "2023-03-22T16:05:20.220Z"
   },
   {
    "duration": 191,
    "start_time": "2023-03-22T16:05:20.249Z"
   },
   {
    "duration": 425,
    "start_time": "2023-03-22T16:05:20.442Z"
   },
   {
    "duration": 4,
    "start_time": "2023-03-22T16:05:20.869Z"
   },
   {
    "duration": 167,
    "start_time": "2023-03-22T16:05:20.874Z"
   },
   {
    "duration": 192,
    "start_time": "2023-03-22T16:05:21.042Z"
   },
   {
    "duration": 958,
    "start_time": "2023-03-22T16:05:21.236Z"
   },
   {
    "duration": 433,
    "start_time": "2023-03-22T16:05:22.196Z"
   },
   {
    "duration": 3,
    "start_time": "2023-03-22T16:05:22.631Z"
   },
   {
    "duration": 1592,
    "start_time": "2023-03-22T16:05:22.635Z"
   },
   {
    "duration": 27,
    "start_time": "2023-03-22T16:05:24.229Z"
   },
   {
    "duration": 438,
    "start_time": "2023-03-22T16:05:24.258Z"
   },
   {
    "duration": 1445,
    "start_time": "2023-03-22T16:05:24.698Z"
   },
   {
    "duration": 84,
    "start_time": "2023-03-22T16:05:26.145Z"
   },
   {
    "duration": 419,
    "start_time": "2023-03-22T16:05:26.231Z"
   },
   {
    "duration": 3,
    "start_time": "2023-03-22T16:05:26.651Z"
   },
   {
    "duration": 5,
    "start_time": "2023-03-22T16:05:26.655Z"
   },
   {
    "duration": 1343,
    "start_time": "2023-03-22T16:05:26.662Z"
   },
   {
    "duration": 1219,
    "start_time": "2023-03-22T16:05:28.007Z"
   },
   {
    "duration": 8,
    "start_time": "2023-03-22T16:05:29.228Z"
   },
   {
    "duration": 316,
    "start_time": "2023-03-22T16:05:29.238Z"
   },
   {
    "duration": 1299,
    "start_time": "2023-03-23T04:00:08.423Z"
   },
   {
    "duration": 14616,
    "start_time": "2023-03-23T04:00:16.239Z"
   },
   {
    "duration": 8196,
    "start_time": "2023-03-23T04:00:30.858Z"
   },
   {
    "duration": 96,
    "start_time": "2023-03-23T04:00:39.055Z"
   },
   {
    "duration": 470,
    "start_time": "2023-03-23T04:00:39.153Z"
   },
   {
    "duration": 843,
    "start_time": "2023-03-23T04:01:22.879Z"
   },
   {
    "duration": 4375,
    "start_time": "2023-03-23T04:01:23.757Z"
   },
   {
    "duration": 145,
    "start_time": "2023-03-23T04:01:32.531Z"
   },
   {
    "duration": 3321,
    "start_time": "2023-03-23T04:01:50.302Z"
   },
   {
    "duration": 360,
    "start_time": "2023-03-23T04:02:25.511Z"
   },
   {
    "duration": 337,
    "start_time": "2023-03-23T04:02:38.009Z"
   },
   {
    "duration": 480,
    "start_time": "2023-03-23T04:02:41.661Z"
   },
   {
    "duration": 1448,
    "start_time": "2023-03-23T08:43:22.669Z"
   },
   {
    "duration": 19143,
    "start_time": "2023-03-23T08:43:24.120Z"
   },
   {
    "duration": 9618,
    "start_time": "2023-03-23T08:43:43.265Z"
   },
   {
    "duration": 109,
    "start_time": "2023-03-23T08:43:52.885Z"
   },
   {
    "duration": 410,
    "start_time": "2023-03-23T08:43:52.997Z"
   },
   {
    "duration": 1291,
    "start_time": "2023-03-23T08:43:53.409Z"
   },
   {
    "duration": 6075,
    "start_time": "2023-03-23T08:43:54.702Z"
   },
   {
    "duration": 195,
    "start_time": "2023-03-23T08:44:00.779Z"
   },
   {
    "duration": 3902,
    "start_time": "2023-03-23T08:44:00.976Z"
   },
   {
    "duration": 500,
    "start_time": "2023-03-23T08:44:04.880Z"
   },
   {
    "duration": 389,
    "start_time": "2023-03-23T08:44:05.381Z"
   },
   {
    "duration": 689,
    "start_time": "2023-03-23T08:44:05.772Z"
   },
   {
    "duration": 107,
    "start_time": "2023-03-23T09:39:33.337Z"
   },
   {
    "duration": 1450,
    "start_time": "2023-03-23T09:40:03.843Z"
   },
   {
    "duration": 18,
    "start_time": "2023-03-23T09:40:33.014Z"
   },
   {
    "duration": 361,
    "start_time": "2023-03-23T09:40:50.343Z"
   },
   {
    "duration": 363,
    "start_time": "2023-03-23T09:41:06.138Z"
   },
   {
    "duration": 366,
    "start_time": "2023-03-23T09:41:19.629Z"
   },
   {
    "duration": 10,
    "start_time": "2023-03-23T09:54:00.059Z"
   },
   {
    "duration": 89,
    "start_time": "2023-03-23T09:54:04.833Z"
   },
   {
    "duration": 103,
    "start_time": "2023-03-23T09:54:53.080Z"
   },
   {
    "duration": 16,
    "start_time": "2023-03-23T09:54:59.672Z"
   },
   {
    "duration": 16,
    "start_time": "2023-03-23T09:55:33.040Z"
   },
   {
    "duration": 18,
    "start_time": "2023-03-23T09:55:44.576Z"
   },
   {
    "duration": 371,
    "start_time": "2023-03-23T09:56:59.245Z"
   },
   {
    "duration": 939,
    "start_time": "2023-03-23T09:57:05.624Z"
   },
   {
    "duration": 398,
    "start_time": "2023-03-23T09:57:07.780Z"
   },
   {
    "duration": 264,
    "start_time": "2023-03-23T09:57:09.170Z"
   },
   {
    "duration": 18,
    "start_time": "2023-03-23T09:57:35.059Z"
   },
   {
    "duration": 1536,
    "start_time": "2023-03-23T09:58:28.230Z"
   },
   {
    "duration": 703,
    "start_time": "2023-03-23T10:00:04.185Z"
   },
   {
    "duration": 533,
    "start_time": "2023-03-23T10:04:25.139Z"
   },
   {
    "duration": 3801,
    "start_time": "2023-03-23T10:04:33.674Z"
   },
   {
    "duration": 4,
    "start_time": "2023-03-23T10:04:47.531Z"
   },
   {
    "duration": 3549,
    "start_time": "2023-03-23T10:04:52.134Z"
   },
   {
    "duration": 5,
    "start_time": "2023-03-23T10:04:55.685Z"
   },
   {
    "duration": 55,
    "start_time": "2023-03-23T10:27:58.123Z"
   },
   {
    "duration": 315,
    "start_time": "2023-03-23T10:28:21.151Z"
   },
   {
    "duration": 686,
    "start_time": "2023-03-23T10:28:23.711Z"
   },
   {
    "duration": 364,
    "start_time": "2023-03-23T10:28:52.677Z"
   },
   {
    "duration": 65,
    "start_time": "2023-03-23T10:29:56.020Z"
   },
   {
    "duration": 532,
    "start_time": "2023-03-23T10:29:58.452Z"
   },
   {
    "duration": 455,
    "start_time": "2023-03-23T10:30:36.934Z"
   },
   {
    "duration": 1114,
    "start_time": "2023-03-23T10:34:08.076Z"
   },
   {
    "duration": 9,
    "start_time": "2023-03-23T10:48:21.936Z"
   },
   {
    "duration": 115,
    "start_time": "2023-03-23T10:48:26.820Z"
   },
   {
    "duration": 112,
    "start_time": "2023-03-23T11:01:00.391Z"
   },
   {
    "duration": 12,
    "start_time": "2023-03-23T11:03:32.744Z"
   },
   {
    "duration": 172,
    "start_time": "2023-03-23T11:05:37.564Z"
   },
   {
    "duration": 154,
    "start_time": "2023-03-23T11:06:07.475Z"
   },
   {
    "duration": 163,
    "start_time": "2023-03-23T11:06:35.951Z"
   },
   {
    "duration": 4,
    "start_time": "2023-03-23T11:09:51.415Z"
   },
   {
    "duration": 13,
    "start_time": "2023-03-23T11:09:59.641Z"
   },
   {
    "duration": 161,
    "start_time": "2023-03-23T11:14:31.280Z"
   },
   {
    "duration": 70,
    "start_time": "2023-03-23T11:17:06.514Z"
   },
   {
    "duration": 9,
    "start_time": "2023-03-23T11:17:26.176Z"
   },
   {
    "duration": 69,
    "start_time": "2023-03-23T11:17:36.548Z"
   },
   {
    "duration": 163,
    "start_time": "2023-03-23T11:18:08.632Z"
   },
   {
    "duration": 183,
    "start_time": "2023-03-23T11:18:31.656Z"
   },
   {
    "duration": 167,
    "start_time": "2023-03-23T11:23:54.175Z"
   },
   {
    "duration": 173,
    "start_time": "2023-03-23T11:24:06.228Z"
   },
   {
    "duration": 824,
    "start_time": "2023-03-23T11:24:36.768Z"
   },
   {
    "duration": 5,
    "start_time": "2023-03-23T11:24:51.739Z"
   },
   {
    "duration": 152,
    "start_time": "2023-03-23T11:25:24.847Z"
   },
   {
    "duration": 12,
    "start_time": "2023-03-23T11:25:50.455Z"
   },
   {
    "duration": 10,
    "start_time": "2023-03-23T11:25:50.469Z"
   },
   {
    "duration": 692,
    "start_time": "2023-03-23T11:25:50.481Z"
   },
   {
    "duration": 14,
    "start_time": "2023-03-23T11:25:51.176Z"
   },
   {
    "duration": 191,
    "start_time": "2023-03-23T11:25:51.192Z"
   },
   {
    "duration": 200,
    "start_time": "2023-03-23T11:25:51.385Z"
   },
   {
    "duration": 2591,
    "start_time": "2023-03-23T11:25:51.587Z"
   },
   {
    "duration": 149,
    "start_time": "2023-03-23T11:25:54.181Z"
   },
   {
    "duration": 1647,
    "start_time": "2023-03-23T11:25:54.332Z"
   },
   {
    "duration": 282,
    "start_time": "2023-03-23T11:25:55.983Z"
   },
   {
    "duration": 212,
    "start_time": "2023-03-23T11:25:56.267Z"
   },
   {
    "duration": 385,
    "start_time": "2023-03-23T11:25:56.482Z"
   },
   {
    "duration": 652,
    "start_time": "2023-03-23T11:25:56.870Z"
   },
   {
    "duration": 346,
    "start_time": "2023-03-23T11:25:57.524Z"
   },
   {
    "duration": 391,
    "start_time": "2023-03-23T11:25:57.872Z"
   },
   {
    "duration": 698,
    "start_time": "2023-03-23T11:25:58.264Z"
   },
   {
    "duration": 2807,
    "start_time": "2023-03-23T11:25:58.964Z"
   },
   {
    "duration": 3,
    "start_time": "2023-03-23T11:26:01.773Z"
   },
   {
    "duration": 2005,
    "start_time": "2023-03-23T11:26:01.778Z"
   },
   {
    "duration": 3,
    "start_time": "2023-03-23T11:26:03.785Z"
   },
   {
    "duration": 90,
    "start_time": "2023-03-23T11:26:03.790Z"
   },
   {
    "duration": 320,
    "start_time": "2023-03-23T11:26:03.883Z"
   },
   {
    "duration": 281,
    "start_time": "2023-03-23T11:26:04.204Z"
   },
   {
    "duration": 31,
    "start_time": "2023-03-23T11:26:04.487Z"
   },
   {
    "duration": 279,
    "start_time": "2023-03-23T11:26:04.520Z"
   },
   {
    "duration": 226,
    "start_time": "2023-03-23T11:26:04.801Z"
   },
   {
    "duration": 254,
    "start_time": "2023-03-23T11:26:09.370Z"
   },
   {
    "duration": 17,
    "start_time": "2023-03-23T11:26:14.050Z"
   },
   {
    "duration": 23,
    "start_time": "2023-03-23T11:27:01.770Z"
   },
   {
    "duration": 392,
    "start_time": "2023-03-23T11:27:05.082Z"
   },
   {
    "duration": 299,
    "start_time": "2023-03-23T11:28:02.973Z"
   },
   {
    "duration": 321,
    "start_time": "2023-03-23T11:29:18.199Z"
   },
   {
    "duration": 302,
    "start_time": "2023-03-23T11:29:25.991Z"
   },
   {
    "duration": 119,
    "start_time": "2023-03-23T11:31:14.911Z"
   },
   {
    "duration": 4,
    "start_time": "2023-03-23T12:01:15.016Z"
   },
   {
    "duration": 3,
    "start_time": "2023-03-23T12:01:23.533Z"
   },
   {
    "duration": 12,
    "start_time": "2023-03-23T12:01:34.051Z"
   },
   {
    "duration": 603,
    "start_time": "2023-03-23T12:01:44.078Z"
   },
   {
    "duration": 3,
    "start_time": "2023-03-23T12:02:03.122Z"
   },
   {
    "duration": 385,
    "start_time": "2023-03-23T12:02:20.189Z"
   },
   {
    "duration": 421,
    "start_time": "2023-03-23T12:27:31.580Z"
   },
   {
    "duration": 305,
    "start_time": "2023-03-23T12:27:40.566Z"
   },
   {
    "duration": 365,
    "start_time": "2023-03-23T12:29:29.257Z"
   },
   {
    "duration": 126,
    "start_time": "2023-03-23T12:30:01.148Z"
   },
   {
    "duration": 10,
    "start_time": "2023-03-23T12:30:27.762Z"
   },
   {
    "duration": 14,
    "start_time": "2023-03-23T12:30:27.774Z"
   },
   {
    "duration": 402,
    "start_time": "2023-03-23T12:30:27.790Z"
   },
   {
    "duration": 68,
    "start_time": "2023-03-23T12:30:28.195Z"
   },
   {
    "duration": 70,
    "start_time": "2023-03-23T12:30:28.264Z"
   },
   {
    "duration": 132,
    "start_time": "2023-03-23T12:30:28.335Z"
   },
   {
    "duration": 1355,
    "start_time": "2023-03-23T12:30:28.469Z"
   },
   {
    "duration": 116,
    "start_time": "2023-03-23T12:30:29.826Z"
   },
   {
    "duration": 1057,
    "start_time": "2023-03-23T12:30:29.944Z"
   },
   {
    "duration": 222,
    "start_time": "2023-03-23T12:30:31.061Z"
   },
   {
    "duration": 151,
    "start_time": "2023-03-23T12:30:31.285Z"
   },
   {
    "duration": 244,
    "start_time": "2023-03-23T12:30:31.438Z"
   },
   {
    "duration": 453,
    "start_time": "2023-03-23T12:30:31.684Z"
   },
   {
    "duration": 239,
    "start_time": "2023-03-23T12:30:32.163Z"
   },
   {
    "duration": 224,
    "start_time": "2023-03-23T12:30:32.404Z"
   },
   {
    "duration": 466,
    "start_time": "2023-03-23T12:30:32.629Z"
   },
   {
    "duration": 1790,
    "start_time": "2023-03-23T12:30:33.097Z"
   },
   {
    "duration": 3,
    "start_time": "2023-03-23T12:30:34.889Z"
   },
   {
    "duration": 1690,
    "start_time": "2023-03-23T12:30:34.894Z"
   },
   {
    "duration": 4,
    "start_time": "2023-03-23T12:30:36.586Z"
   },
   {
    "duration": 82,
    "start_time": "2023-03-23T12:30:36.592Z"
   },
   {
    "duration": 291,
    "start_time": "2023-03-23T12:30:36.676Z"
   },
   {
    "duration": 249,
    "start_time": "2023-03-23T12:30:36.969Z"
   },
   {
    "duration": 60,
    "start_time": "2023-03-23T12:30:37.220Z"
   },
   {
    "duration": 227,
    "start_time": "2023-03-23T12:30:37.282Z"
   },
   {
    "duration": 362,
    "start_time": "2023-03-23T12:30:37.510Z"
   },
   {
    "duration": 21,
    "start_time": "2023-03-23T12:30:37.875Z"
   },
   {
    "duration": 403,
    "start_time": "2023-03-23T12:30:37.899Z"
   },
   {
    "duration": 375,
    "start_time": "2023-03-23T12:30:38.304Z"
   },
   {
    "duration": 393,
    "start_time": "2023-03-23T12:30:38.681Z"
   },
   {
    "duration": 387,
    "start_time": "2023-03-23T12:30:39.076Z"
   },
   {
    "duration": 3,
    "start_time": "2023-03-23T12:30:39.465Z"
   },
   {
    "duration": 696,
    "start_time": "2023-03-23T12:30:39.470Z"
   },
   {
    "duration": 3,
    "start_time": "2023-03-23T12:30:40.168Z"
   },
   {
    "duration": 507,
    "start_time": "2023-03-23T12:30:40.173Z"
   },
   {
    "duration": 431,
    "start_time": "2023-03-23T12:30:40.681Z"
   },
   {
    "duration": 278,
    "start_time": "2023-03-23T12:40:08.551Z"
   },
   {
    "duration": 356,
    "start_time": "2023-03-23T12:40:34.654Z"
   },
   {
    "duration": 10,
    "start_time": "2023-03-23T12:47:19.095Z"
   },
   {
    "duration": 148,
    "start_time": "2023-03-23T12:48:29.420Z"
   },
   {
    "duration": 451,
    "start_time": "2023-03-23T12:50:04.238Z"
   },
   {
    "duration": 368,
    "start_time": "2023-03-23T12:50:22.995Z"
   },
   {
    "duration": 22,
    "start_time": "2023-03-23T13:35:43.334Z"
   },
   {
    "duration": 14,
    "start_time": "2023-03-23T13:36:07.939Z"
   },
   {
    "duration": 20,
    "start_time": "2023-03-23T14:28:21.316Z"
   },
   {
    "duration": 997,
    "start_time": "2023-03-23T14:28:57.307Z"
   },
   {
    "duration": 11,
    "start_time": "2023-03-23T14:30:50.617Z"
   },
   {
    "duration": 765,
    "start_time": "2023-03-23T14:30:53.519Z"
   },
   {
    "duration": 678,
    "start_time": "2023-03-23T14:31:27.407Z"
   },
   {
    "duration": 3,
    "start_time": "2023-03-23T14:32:08.953Z"
   },
   {
    "duration": 148,
    "start_time": "2023-03-23T14:32:18.114Z"
   },
   {
    "duration": 1218,
    "start_time": "2023-03-23T15:01:57.916Z"
   },
   {
    "duration": 15629,
    "start_time": "2023-03-23T15:01:59.835Z"
   },
   {
    "duration": 9700,
    "start_time": "2023-03-23T15:02:15.466Z"
   },
   {
    "duration": 103,
    "start_time": "2023-03-23T15:02:25.168Z"
   },
   {
    "duration": 398,
    "start_time": "2023-03-23T15:02:25.273Z"
   },
   {
    "duration": 1096,
    "start_time": "2023-03-23T15:02:25.673Z"
   },
   {
    "duration": 5812,
    "start_time": "2023-03-23T15:02:26.771Z"
   },
   {
    "duration": 238,
    "start_time": "2023-03-23T15:02:32.586Z"
   },
   {
    "duration": 3455,
    "start_time": "2023-03-23T15:02:32.826Z"
   },
   {
    "duration": 497,
    "start_time": "2023-03-23T15:02:36.283Z"
   },
   {
    "duration": 320,
    "start_time": "2023-03-23T15:02:36.783Z"
   },
   {
    "duration": 666,
    "start_time": "2023-03-23T15:02:37.105Z"
   },
   {
    "duration": 1401,
    "start_time": "2023-03-23T15:02:37.773Z"
   },
   {
    "duration": 599,
    "start_time": "2023-03-23T15:02:39.176Z"
   },
   {
    "duration": 501,
    "start_time": "2023-03-23T15:02:39.777Z"
   },
   {
    "duration": 1617,
    "start_time": "2023-03-23T15:02:40.280Z"
   },
   {
    "duration": 4122,
    "start_time": "2023-03-23T15:02:41.962Z"
   },
   {
    "duration": 4,
    "start_time": "2023-03-23T15:02:46.085Z"
   },
   {
    "duration": 3082,
    "start_time": "2023-03-23T15:02:46.091Z"
   },
   {
    "duration": 3,
    "start_time": "2023-03-23T15:02:49.175Z"
   },
   {
    "duration": 315,
    "start_time": "2023-03-23T15:02:49.179Z"
   },
   {
    "duration": 669,
    "start_time": "2023-03-23T15:02:49.496Z"
   },
   {
    "duration": 503,
    "start_time": "2023-03-23T15:02:50.167Z"
   },
   {
    "duration": 115,
    "start_time": "2023-03-23T15:02:50.673Z"
   },
   {
    "duration": 577,
    "start_time": "2023-03-23T15:02:50.791Z"
   },
   {
    "duration": 458,
    "start_time": "2023-03-23T15:02:51.370Z"
   },
   {
    "duration": 54,
    "start_time": "2023-03-23T15:02:51.830Z"
   },
   {
    "duration": 487,
    "start_time": "2023-03-23T15:02:51.886Z"
   },
   {
    "duration": 338,
    "start_time": "2023-03-23T15:02:52.375Z"
   },
   {
    "duration": 571,
    "start_time": "2023-03-23T15:02:52.715Z"
   },
   {
    "duration": 482,
    "start_time": "2023-03-23T15:02:53.288Z"
   },
   {
    "duration": 3,
    "start_time": "2023-03-23T15:02:53.773Z"
   },
   {
    "duration": 1300,
    "start_time": "2023-03-23T15:02:53.778Z"
   },
   {
    "duration": 4,
    "start_time": "2023-03-23T15:02:55.080Z"
   },
   {
    "duration": 689,
    "start_time": "2023-03-23T15:02:55.086Z"
   },
   {
    "duration": 590,
    "start_time": "2023-03-23T15:02:55.777Z"
   },
   {
    "duration": 474,
    "start_time": "2023-03-23T15:03:16.824Z"
   },
   {
    "duration": 365,
    "start_time": "2023-03-23T15:03:18.570Z"
   },
   {
    "duration": 530,
    "start_time": "2023-03-23T15:03:19.352Z"
   },
   {
    "duration": 474,
    "start_time": "2023-03-23T15:03:21.298Z"
   },
   {
    "duration": 15,
    "start_time": "2023-03-23T15:03:27.830Z"
   },
   {
    "duration": 944,
    "start_time": "2023-03-23T15:03:29.271Z"
   },
   {
    "duration": 244,
    "start_time": "2023-03-23T15:03:44.359Z"
   },
   {
    "duration": 108,
    "start_time": "2023-03-23T15:05:15.827Z"
   },
   {
    "duration": 3,
    "start_time": "2023-03-23T15:05:28.072Z"
   },
   {
    "duration": 1246,
    "start_time": "2023-03-23T15:19:14.890Z"
   },
   {
    "duration": 15231,
    "start_time": "2023-03-23T15:19:16.138Z"
   },
   {
    "duration": 8606,
    "start_time": "2023-03-23T15:19:31.372Z"
   },
   {
    "duration": 98,
    "start_time": "2023-03-23T15:19:39.980Z"
   },
   {
    "duration": 487,
    "start_time": "2023-03-23T15:19:40.080Z"
   },
   {
    "duration": 1003,
    "start_time": "2023-03-23T15:19:40.568Z"
   },
   {
    "duration": 5611,
    "start_time": "2023-03-23T15:19:41.574Z"
   },
   {
    "duration": 233,
    "start_time": "2023-03-23T15:19:47.187Z"
   },
   {
    "duration": 3361,
    "start_time": "2023-03-23T15:19:47.423Z"
   },
   {
    "duration": 494,
    "start_time": "2023-03-23T15:19:50.785Z"
   },
   {
    "duration": 487,
    "start_time": "2023-03-23T15:19:51.281Z"
   },
   {
    "duration": 594,
    "start_time": "2023-03-23T15:19:51.770Z"
   },
   {
    "duration": 1432,
    "start_time": "2023-03-23T15:19:52.366Z"
   },
   {
    "duration": 603,
    "start_time": "2023-03-23T15:19:53.861Z"
   },
   {
    "duration": 424,
    "start_time": "2023-03-23T15:19:54.466Z"
   },
   {
    "duration": 1697,
    "start_time": "2023-03-23T15:19:54.892Z"
   },
   {
    "duration": 4105,
    "start_time": "2023-03-23T15:19:56.590Z"
   },
   {
    "duration": 3,
    "start_time": "2023-03-23T15:20:00.697Z"
   },
   {
    "duration": 3362,
    "start_time": "2023-03-23T15:20:00.701Z"
   },
   {
    "duration": 4,
    "start_time": "2023-03-23T15:20:04.065Z"
   },
   {
    "duration": 302,
    "start_time": "2023-03-23T15:20:04.071Z"
   },
   {
    "duration": 710,
    "start_time": "2023-03-23T15:20:04.375Z"
   },
   {
    "duration": 587,
    "start_time": "2023-03-23T15:20:05.087Z"
   },
   {
    "duration": 126,
    "start_time": "2023-03-23T15:20:05.677Z"
   },
   {
    "duration": 518,
    "start_time": "2023-03-23T15:20:05.862Z"
   },
   {
    "duration": 510,
    "start_time": "2023-03-23T15:20:06.382Z"
   },
   {
    "duration": 84,
    "start_time": "2023-03-23T15:20:06.894Z"
   },
   {
    "duration": 397,
    "start_time": "2023-03-23T15:20:06.980Z"
   },
   {
    "duration": 319,
    "start_time": "2023-03-23T15:20:07.379Z"
   },
   {
    "duration": 402,
    "start_time": "2023-03-23T15:20:07.700Z"
   },
   {
    "duration": 382,
    "start_time": "2023-03-23T15:20:08.103Z"
   },
   {
    "duration": 3,
    "start_time": "2023-03-23T15:20:08.486Z"
   },
   {
    "duration": 1108,
    "start_time": "2023-03-23T15:20:08.491Z"
   },
   {
    "duration": 4,
    "start_time": "2023-03-23T15:20:09.662Z"
   },
   {
    "duration": 703,
    "start_time": "2023-03-23T15:20:09.667Z"
   },
   {
    "duration": 521,
    "start_time": "2023-03-23T15:20:10.372Z"
   },
   {
    "duration": 598,
    "start_time": "2023-03-23T15:20:10.895Z"
   },
   {
    "duration": 498,
    "start_time": "2023-03-23T15:20:11.494Z"
   },
   {
    "duration": 573,
    "start_time": "2023-03-23T15:20:11.994Z"
   },
   {
    "duration": 512,
    "start_time": "2023-03-23T15:20:12.572Z"
   },
   {
    "duration": 82,
    "start_time": "2023-03-23T15:20:13.086Z"
   },
   {
    "duration": 1122,
    "start_time": "2023-03-23T15:20:13.170Z"
   },
   {
    "duration": 723,
    "start_time": "2023-03-23T15:20:14.294Z"
   },
   {
    "duration": 2,
    "start_time": "2023-03-23T15:20:49.785Z"
   },
   {
    "duration": 0,
    "start_time": "2023-03-23T15:51:14.941Z"
   },
   {
    "duration": 0,
    "start_time": "2023-03-23T15:51:14.945Z"
   },
   {
    "duration": 0,
    "start_time": "2023-03-23T15:51:14.948Z"
   },
   {
    "duration": 0,
    "start_time": "2023-03-23T15:51:14.951Z"
   },
   {
    "duration": 0,
    "start_time": "2023-03-23T15:51:14.954Z"
   },
   {
    "duration": 0,
    "start_time": "2023-03-23T15:51:14.956Z"
   },
   {
    "duration": 1,
    "start_time": "2023-03-23T15:51:14.963Z"
   },
   {
    "duration": 0,
    "start_time": "2023-03-23T15:51:14.965Z"
   },
   {
    "duration": 0,
    "start_time": "2023-03-23T15:51:14.967Z"
   },
   {
    "duration": 0,
    "start_time": "2023-03-23T15:51:14.968Z"
   },
   {
    "duration": 0,
    "start_time": "2023-03-23T15:51:14.970Z"
   },
   {
    "duration": 0,
    "start_time": "2023-03-23T15:51:14.971Z"
   },
   {
    "duration": 0,
    "start_time": "2023-03-23T15:51:14.973Z"
   },
   {
    "duration": 0,
    "start_time": "2023-03-23T15:51:14.975Z"
   },
   {
    "duration": 0,
    "start_time": "2023-03-23T15:51:14.977Z"
   },
   {
    "duration": 0,
    "start_time": "2023-03-23T15:51:14.978Z"
   },
   {
    "duration": 0,
    "start_time": "2023-03-23T15:51:14.980Z"
   },
   {
    "duration": 0,
    "start_time": "2023-03-23T15:51:14.982Z"
   },
   {
    "duration": 0,
    "start_time": "2023-03-23T15:51:14.983Z"
   },
   {
    "duration": 0,
    "start_time": "2023-03-23T15:51:14.985Z"
   },
   {
    "duration": 0,
    "start_time": "2023-03-23T15:51:14.987Z"
   },
   {
    "duration": 0,
    "start_time": "2023-03-23T15:51:14.989Z"
   },
   {
    "duration": 0,
    "start_time": "2023-03-23T15:51:14.990Z"
   },
   {
    "duration": 0,
    "start_time": "2023-03-23T15:51:14.992Z"
   },
   {
    "duration": 0,
    "start_time": "2023-03-23T15:51:14.993Z"
   },
   {
    "duration": 0,
    "start_time": "2023-03-23T15:51:14.995Z"
   },
   {
    "duration": 0,
    "start_time": "2023-03-23T15:51:14.997Z"
   },
   {
    "duration": 0,
    "start_time": "2023-03-23T15:51:14.998Z"
   },
   {
    "duration": 1,
    "start_time": "2023-03-23T15:51:15.062Z"
   },
   {
    "duration": 0,
    "start_time": "2023-03-23T15:51:15.064Z"
   },
   {
    "duration": 0,
    "start_time": "2023-03-23T15:51:15.066Z"
   },
   {
    "duration": 0,
    "start_time": "2023-03-23T15:51:15.067Z"
   },
   {
    "duration": 0,
    "start_time": "2023-03-23T15:51:15.069Z"
   },
   {
    "duration": 0,
    "start_time": "2023-03-23T15:51:15.075Z"
   },
   {
    "duration": 1,
    "start_time": "2023-03-23T15:51:15.076Z"
   },
   {
    "duration": 0,
    "start_time": "2023-03-23T15:51:15.078Z"
   },
   {
    "duration": 0,
    "start_time": "2023-03-23T15:51:15.079Z"
   },
   {
    "duration": 0,
    "start_time": "2023-03-23T15:51:15.081Z"
   },
   {
    "duration": 0,
    "start_time": "2023-03-23T15:51:15.081Z"
   },
   {
    "duration": 0,
    "start_time": "2023-03-23T15:51:15.083Z"
   },
   {
    "duration": 0,
    "start_time": "2023-03-23T15:51:15.084Z"
   },
   {
    "duration": 0,
    "start_time": "2023-03-23T15:51:15.085Z"
   },
   {
    "duration": 0,
    "start_time": "2023-03-23T15:51:15.086Z"
   },
   {
    "duration": 0,
    "start_time": "2023-03-23T15:51:15.087Z"
   },
   {
    "duration": 619493,
    "start_time": "2023-03-23T15:52:29.796Z"
   },
   {
    "duration": 249,
    "start_time": "2023-03-23T16:02:49.291Z"
   },
   {
    "duration": 0,
    "start_time": "2023-03-23T16:02:49.542Z"
   },
   {
    "duration": 11,
    "start_time": "2023-03-23T16:16:29.241Z"
   },
   {
    "duration": 4,
    "start_time": "2023-03-23T16:16:32.429Z"
   },
   {
    "duration": 527,
    "start_time": "2023-03-23T16:16:35.934Z"
   },
   {
    "duration": 9,
    "start_time": "2023-03-23T16:16:38.631Z"
   },
   {
    "duration": 101,
    "start_time": "2023-03-23T16:16:42.815Z"
   },
   {
    "duration": 115,
    "start_time": "2023-03-23T16:16:45.320Z"
   },
   {
    "duration": 1984,
    "start_time": "2023-03-23T16:16:46.289Z"
   },
   {
    "duration": 93,
    "start_time": "2023-03-23T16:16:50.105Z"
   },
   {
    "duration": 1321,
    "start_time": "2023-03-23T16:16:51.282Z"
   },
   {
    "duration": 149,
    "start_time": "2023-03-23T16:16:56.857Z"
   },
   {
    "duration": 129,
    "start_time": "2023-03-23T16:16:58.336Z"
   },
   {
    "duration": 270,
    "start_time": "2023-03-23T16:16:59.705Z"
   },
   {
    "duration": 467,
    "start_time": "2023-03-23T16:17:04.099Z"
   },
   {
    "duration": 193,
    "start_time": "2023-03-23T16:17:06.207Z"
   },
   {
    "duration": 275,
    "start_time": "2023-03-23T16:17:06.920Z"
   },
   {
    "duration": 531,
    "start_time": "2023-03-23T16:17:09.237Z"
   },
   {
    "duration": 2294,
    "start_time": "2023-03-23T16:17:12.380Z"
   },
   {
    "duration": 4,
    "start_time": "2023-03-23T16:17:15.567Z"
   },
   {
    "duration": 1976,
    "start_time": "2023-03-23T16:17:16.287Z"
   },
   {
    "duration": 3,
    "start_time": "2023-03-23T16:17:18.265Z"
   },
   {
    "duration": 43,
    "start_time": "2023-03-23T16:17:19.265Z"
   },
   {
    "duration": 226,
    "start_time": "2023-03-23T16:17:21.852Z"
   },
   {
    "duration": 198,
    "start_time": "2023-03-23T16:17:22.521Z"
   },
   {
    "duration": 35,
    "start_time": "2023-03-23T16:17:24.284Z"
   },
   {
    "duration": 208,
    "start_time": "2023-03-23T16:17:25.363Z"
   },
   {
    "duration": 194,
    "start_time": "2023-03-23T16:17:27.709Z"
   },
   {
    "duration": 19,
    "start_time": "2023-03-23T16:17:31.783Z"
   },
   {
    "duration": 282,
    "start_time": "2023-03-23T16:17:33.081Z"
   },
   {
    "duration": 206,
    "start_time": "2023-03-23T16:17:33.562Z"
   },
   {
    "duration": 229,
    "start_time": "2023-03-23T16:17:34.889Z"
   },
   {
    "duration": 178,
    "start_time": "2023-03-23T16:17:36.039Z"
   },
   {
    "duration": 3,
    "start_time": "2023-03-23T16:17:37.183Z"
   },
   {
    "duration": 511,
    "start_time": "2023-03-23T16:17:39.157Z"
   },
   {
    "duration": 3,
    "start_time": "2023-03-23T16:17:41.660Z"
   },
   {
    "duration": 225,
    "start_time": "2023-03-23T16:17:43.138Z"
   },
   {
    "duration": 311,
    "start_time": "2023-03-23T16:17:44.757Z"
   },
   {
    "duration": 266,
    "start_time": "2023-03-23T16:17:48.597Z"
   },
   {
    "duration": 298,
    "start_time": "2023-03-23T16:21:50.377Z"
   },
   {
    "duration": 255,
    "start_time": "2023-03-23T16:22:00.233Z"
   },
   {
    "duration": 283,
    "start_time": "2023-03-23T16:22:17.656Z"
   },
   {
    "duration": 9,
    "start_time": "2023-03-23T16:22:42.345Z"
   },
   {
    "duration": 538,
    "start_time": "2023-03-23T16:22:48.157Z"
   },
   {
    "duration": 526,
    "start_time": "2023-03-23T16:22:59.662Z"
   },
   {
    "duration": 3,
    "start_time": "2023-03-23T16:23:10.621Z"
   },
   {
    "duration": 675287,
    "start_time": "2023-03-23T16:23:13.393Z"
   },
   {
    "duration": 0,
    "start_time": "2023-03-23T16:34:28.929Z"
   },
   {
    "duration": 0,
    "start_time": "2023-03-23T16:34:28.931Z"
   },
   {
    "duration": 784,
    "start_time": "2023-03-23T19:20:14.522Z"
   },
   {
    "duration": 454,
    "start_time": "2023-03-23T19:20:19.834Z"
   },
   {
    "duration": 3,
    "start_time": "2023-03-23T19:20:42.467Z"
   },
   {
    "duration": 0,
    "start_time": "2023-03-23T19:29:58.261Z"
   },
   {
    "duration": 0,
    "start_time": "2023-03-23T19:29:58.262Z"
   },
   {
    "duration": 0,
    "start_time": "2023-03-23T19:29:58.264Z"
   },
   {
    "duration": 0,
    "start_time": "2023-03-23T19:29:58.266Z"
   },
   {
    "duration": 1365,
    "start_time": "2023-03-23T19:30:35.913Z"
   },
   {
    "duration": 17223,
    "start_time": "2023-03-23T19:30:37.281Z"
   },
   {
    "duration": 10384,
    "start_time": "2023-03-23T19:30:54.506Z"
   },
   {
    "duration": 107,
    "start_time": "2023-03-23T19:31:04.893Z"
   },
   {
    "duration": 518,
    "start_time": "2023-03-23T19:31:05.065Z"
   },
   {
    "duration": 1292,
    "start_time": "2023-03-23T19:31:05.585Z"
   },
   {
    "duration": 7184,
    "start_time": "2023-03-23T19:31:06.879Z"
   },
   {
    "duration": 215,
    "start_time": "2023-03-23T19:31:14.065Z"
   },
   {
    "duration": 4284,
    "start_time": "2023-03-23T19:31:14.283Z"
   },
   {
    "duration": 510,
    "start_time": "2023-03-23T19:31:18.569Z"
   },
   {
    "duration": 414,
    "start_time": "2023-03-23T19:31:19.080Z"
   },
   {
    "duration": 780,
    "start_time": "2023-03-23T19:31:19.496Z"
   },
   {
    "duration": 1605,
    "start_time": "2023-03-23T19:31:20.278Z"
   },
   {
    "duration": 689,
    "start_time": "2023-03-23T19:31:21.887Z"
   },
   {
    "duration": 508,
    "start_time": "2023-03-23T19:31:22.579Z"
   },
   {
    "duration": 2174,
    "start_time": "2023-03-23T19:31:23.089Z"
   },
   {
    "duration": 4824,
    "start_time": "2023-03-23T19:31:25.266Z"
   },
   {
    "duration": 6,
    "start_time": "2023-03-23T19:31:30.092Z"
   },
   {
    "duration": 3792,
    "start_time": "2023-03-23T19:31:30.100Z"
   },
   {
    "duration": 4,
    "start_time": "2023-03-23T19:31:33.894Z"
   },
   {
    "duration": 463,
    "start_time": "2023-03-23T19:31:33.900Z"
   },
   {
    "duration": 696,
    "start_time": "2023-03-23T19:31:34.366Z"
   },
   {
    "duration": 521,
    "start_time": "2023-03-23T19:31:35.065Z"
   },
   {
    "duration": 192,
    "start_time": "2023-03-23T19:31:35.588Z"
   },
   {
    "duration": 595,
    "start_time": "2023-03-23T19:31:35.782Z"
   },
   {
    "duration": 419,
    "start_time": "2023-03-23T19:31:36.384Z"
   },
   {
    "duration": 90,
    "start_time": "2023-03-23T19:31:36.804Z"
   },
   {
    "duration": 438,
    "start_time": "2023-03-23T19:31:36.895Z"
   },
   {
    "duration": 406,
    "start_time": "2023-03-23T19:31:37.363Z"
   },
   {
    "duration": 455,
    "start_time": "2023-03-23T19:31:37.772Z"
   },
   {
    "duration": 544,
    "start_time": "2023-03-23T19:31:38.230Z"
   },
   {
    "duration": 5,
    "start_time": "2023-03-23T19:31:38.776Z"
   },
   {
    "duration": 1595,
    "start_time": "2023-03-23T19:31:38.783Z"
   },
   {
    "duration": 5,
    "start_time": "2023-03-23T19:31:40.380Z"
   },
   {
    "duration": 780,
    "start_time": "2023-03-23T19:31:40.387Z"
   },
   {
    "duration": 531,
    "start_time": "2023-03-23T19:31:41.170Z"
   },
   {
    "duration": 782,
    "start_time": "2023-03-23T19:31:41.703Z"
   },
   {
    "duration": 700,
    "start_time": "2023-03-23T19:31:42.487Z"
   },
   {
    "duration": 880,
    "start_time": "2023-03-23T19:31:43.190Z"
   },
   {
    "duration": 727,
    "start_time": "2023-03-23T19:31:44.073Z"
   },
   {
    "duration": 79,
    "start_time": "2023-03-23T19:31:44.804Z"
   },
   {
    "duration": 1205,
    "start_time": "2023-03-23T19:31:44.885Z"
   },
   {
    "duration": 891,
    "start_time": "2023-03-23T19:31:46.093Z"
   },
   {
    "duration": 3,
    "start_time": "2023-03-23T19:33:40.482Z"
   },
   {
    "duration": 644855,
    "start_time": "2023-03-23T19:33:52.513Z"
   },
   {
    "duration": 91,
    "start_time": "2023-03-23T19:44:37.370Z"
   },
   {
    "duration": 935,
    "start_time": "2023-03-23T19:44:37.463Z"
   },
   {
    "duration": 1199,
    "start_time": "2023-03-23T19:47:53.173Z"
   },
   {
    "duration": 646265,
    "start_time": "2023-03-23T19:49:02.749Z"
   },
   {
    "duration": 0,
    "start_time": "2023-03-23T19:59:49.016Z"
   },
   {
    "duration": 0,
    "start_time": "2023-03-23T19:59:49.018Z"
   },
   {
    "duration": 0,
    "start_time": "2023-03-23T19:59:49.068Z"
   },
   {
    "duration": 32,
    "start_time": "2023-03-23T20:00:06.487Z"
   },
   {
    "duration": 57,
    "start_time": "2023-03-23T20:00:06.521Z"
   },
   {
    "duration": 67330,
    "start_time": "2023-03-23T20:00:06.580Z"
   },
   {
    "duration": 59,
    "start_time": "2023-03-23T20:01:13.913Z"
   },
   {
    "duration": 510,
    "start_time": "2023-03-23T20:01:13.974Z"
   },
   {
    "duration": 23138,
    "start_time": "2023-03-23T20:01:14.492Z"
   },
   {
    "duration": 2844,
    "start_time": "2023-03-23T20:01:37.632Z"
   },
   {
    "duration": 131,
    "start_time": "2023-03-23T20:01:40.478Z"
   },
   {
    "duration": 1904,
    "start_time": "2023-03-23T20:01:40.610Z"
   },
   {
    "duration": 271,
    "start_time": "2023-03-23T20:01:42.517Z"
   },
   {
    "duration": 217,
    "start_time": "2023-03-23T20:01:42.794Z"
   },
   {
    "duration": 414,
    "start_time": "2023-03-23T20:01:43.013Z"
   },
   {
    "duration": 704,
    "start_time": "2023-03-23T20:01:43.463Z"
   },
   {
    "duration": 274,
    "start_time": "2023-03-23T20:01:44.169Z"
   },
   {
    "duration": 384,
    "start_time": "2023-03-23T20:01:44.445Z"
   },
   {
    "duration": 497,
    "start_time": "2023-03-23T20:01:44.830Z"
   },
   {
    "duration": 2445,
    "start_time": "2023-03-23T20:01:45.329Z"
   },
   {
    "duration": 12,
    "start_time": "2023-03-23T20:01:47.780Z"
   },
   {
    "duration": 2019,
    "start_time": "2023-03-23T20:01:47.795Z"
   },
   {
    "duration": 4,
    "start_time": "2023-03-23T20:01:49.815Z"
   },
   {
    "duration": 99,
    "start_time": "2023-03-23T20:01:49.821Z"
   },
   {
    "duration": 314,
    "start_time": "2023-03-23T20:01:49.922Z"
   },
   {
    "duration": 235,
    "start_time": "2023-03-23T20:01:50.237Z"
   },
   {
    "duration": 88,
    "start_time": "2023-03-23T20:01:50.474Z"
   },
   {
    "duration": 254,
    "start_time": "2023-03-23T20:01:50.564Z"
   },
   {
    "duration": 417,
    "start_time": "2023-03-23T20:01:50.820Z"
   },
   {
    "duration": 33,
    "start_time": "2023-03-23T20:01:51.239Z"
   },
   {
    "duration": 405,
    "start_time": "2023-03-23T20:01:51.277Z"
   },
   {
    "duration": 320,
    "start_time": "2023-03-23T20:01:51.684Z"
   },
   {
    "duration": 318,
    "start_time": "2023-03-23T20:01:52.006Z"
   },
   {
    "duration": 251,
    "start_time": "2023-03-23T20:01:52.325Z"
   },
   {
    "duration": 7,
    "start_time": "2023-03-23T20:01:52.579Z"
   },
   {
    "duration": 576,
    "start_time": "2023-03-23T20:01:52.588Z"
   },
   {
    "duration": 10,
    "start_time": "2023-03-23T20:01:53.166Z"
   },
   {
    "duration": 480,
    "start_time": "2023-03-23T20:01:53.178Z"
   },
   {
    "duration": 352,
    "start_time": "2023-03-23T20:01:53.660Z"
   },
   {
    "duration": 389,
    "start_time": "2023-03-23T20:01:54.014Z"
   },
   {
    "duration": 334,
    "start_time": "2023-03-23T20:01:54.405Z"
   },
   {
    "duration": 442,
    "start_time": "2023-03-23T20:01:54.741Z"
   },
   {
    "duration": 289,
    "start_time": "2023-03-23T20:01:55.184Z"
   },
   {
    "duration": 4,
    "start_time": "2023-03-23T20:01:55.476Z"
   },
   {
    "duration": 14,
    "start_time": "2023-03-23T20:04:36.244Z"
   },
   {
    "duration": 100,
    "start_time": "2023-03-23T20:05:52.744Z"
   },
   {
    "duration": 115,
    "start_time": "2023-03-23T20:06:49.313Z"
   },
   {
    "duration": 125,
    "start_time": "2023-03-23T20:07:16.209Z"
   },
   {
    "duration": 102,
    "start_time": "2023-03-23T20:07:26.003Z"
   },
   {
    "duration": 11,
    "start_time": "2023-03-23T20:07:43.134Z"
   },
   {
    "duration": 1633,
    "start_time": "2023-03-23T20:29:36.137Z"
   },
   {
    "duration": 896,
    "start_time": "2023-03-23T20:30:47.199Z"
   },
   {
    "duration": 700,
    "start_time": "2023-03-23T20:32:04.015Z"
   },
   {
    "duration": 85,
    "start_time": "2023-03-23T20:33:17.493Z"
   },
   {
    "duration": 1683,
    "start_time": "2023-03-23T20:33:21.148Z"
   },
   {
    "duration": 156,
    "start_time": "2023-03-23T20:36:33.912Z"
   },
   {
    "duration": 1178,
    "start_time": "2023-03-23T20:36:37.728Z"
   },
   {
    "duration": 1239,
    "start_time": "2023-03-23T20:37:34.534Z"
   },
   {
    "duration": 89,
    "start_time": "2023-03-23T20:38:19.025Z"
   },
   {
    "duration": 100,
    "start_time": "2023-03-23T20:39:25.500Z"
   },
   {
    "duration": 1157,
    "start_time": "2023-03-23T20:39:28.407Z"
   },
   {
    "duration": 206,
    "start_time": "2023-03-23T20:39:58.599Z"
   },
   {
    "duration": 1136,
    "start_time": "2023-03-23T20:39:59.597Z"
   },
   {
    "duration": 869,
    "start_time": "2023-03-23T20:40:04.520Z"
   },
   {
    "duration": 3,
    "start_time": "2023-03-23T20:40:19.256Z"
   },
   {
    "duration": 4088,
    "start_time": "2023-03-23T20:40:21.600Z"
   },
   {
    "duration": 40,
    "start_time": "2023-03-23T20:40:59.255Z"
   },
   {
    "duration": 949,
    "start_time": "2023-03-23T20:41:01.235Z"
   },
   {
    "duration": 35,
    "start_time": "2023-03-23T20:41:18.203Z"
   },
   {
    "duration": 854,
    "start_time": "2023-03-23T20:41:19.553Z"
   },
   {
    "duration": 3,
    "start_time": "2023-03-23T20:41:23.646Z"
   },
   {
    "duration": 864,
    "start_time": "2023-03-23T20:41:30.712Z"
   },
   {
    "duration": 3978,
    "start_time": "2023-03-23T20:41:47.496Z"
   },
   {
    "duration": 48,
    "start_time": "2023-03-23T20:41:55.067Z"
   },
   {
    "duration": 768,
    "start_time": "2023-03-23T20:41:59.056Z"
   },
   {
    "duration": 3,
    "start_time": "2023-03-23T20:42:04.999Z"
   },
   {
    "duration": 5,
    "start_time": "2023-03-23T20:42:05.917Z"
   },
   {
    "duration": 2635,
    "start_time": "2023-03-23T20:42:06.736Z"
   },
   {
    "duration": 1915,
    "start_time": "2023-03-23T20:42:09.376Z"
   },
   {
    "duration": 12,
    "start_time": "2023-03-23T20:42:14.249Z"
   },
   {
    "duration": 9,
    "start_time": "2023-03-23T20:50:20.189Z"
   },
   {
    "duration": 14,
    "start_time": "2023-03-23T20:50:21.746Z"
   },
   {
    "duration": 15,
    "start_time": "2023-03-23T20:51:13.895Z"
   },
   {
    "duration": 4,
    "start_time": "2023-03-23T20:51:31.529Z"
   },
   {
    "duration": 9,
    "start_time": "2023-03-23T20:51:35.007Z"
   },
   {
    "duration": 45067,
    "start_time": "2023-03-23T20:51:37.219Z"
   },
   {
    "duration": 9,
    "start_time": "2023-03-23T20:52:22.296Z"
   },
   {
    "duration": 18,
    "start_time": "2023-03-23T20:56:28.554Z"
   },
   {
    "duration": 11,
    "start_time": "2023-03-23T20:56:36.144Z"
   },
   {
    "duration": 3083,
    "start_time": "2023-03-23T20:56:37.193Z"
   },
   {
    "duration": 18,
    "start_time": "2023-03-23T20:57:53.955Z"
   },
   {
    "duration": 2329,
    "start_time": "2023-03-23T20:58:00.436Z"
   },
   {
    "duration": 28,
    "start_time": "2023-03-23T20:58:15.908Z"
   },
   {
    "duration": 604,
    "start_time": "2023-03-23T20:58:47.130Z"
   },
   {
    "duration": 8,
    "start_time": "2023-03-23T21:02:51.732Z"
   },
   {
    "duration": 3,
    "start_time": "2023-03-23T21:02:53.142Z"
   },
   {
    "duration": 12,
    "start_time": "2023-03-23T21:02:54.711Z"
   },
   {
    "duration": 25585,
    "start_time": "2023-03-23T21:02:56.203Z"
   },
   {
    "duration": 9,
    "start_time": "2023-03-23T21:03:21.796Z"
   },
   {
    "duration": 9,
    "start_time": "2023-03-23T21:04:26.638Z"
   },
   {
    "duration": 3,
    "start_time": "2023-03-23T21:04:29.223Z"
   },
   {
    "duration": 8,
    "start_time": "2023-03-23T21:04:36.140Z"
   },
   {
    "duration": 26788,
    "start_time": "2023-03-23T21:04:41.436Z"
   },
   {
    "duration": 5,
    "start_time": "2023-03-23T21:05:08.226Z"
   },
   {
    "duration": 10,
    "start_time": "2023-03-23T21:05:38.600Z"
   },
   {
    "duration": 22806,
    "start_time": "2023-03-23T21:06:18.822Z"
   },
   {
    "duration": 4,
    "start_time": "2023-03-23T21:06:41.631Z"
   },
   {
    "duration": 3,
    "start_time": "2023-03-23T21:07:17.727Z"
   },
   {
    "duration": 7,
    "start_time": "2023-03-23T21:07:20.136Z"
   },
   {
    "duration": 22824,
    "start_time": "2023-03-23T21:07:21.829Z"
   },
   {
    "duration": 18,
    "start_time": "2023-03-23T21:07:44.655Z"
   },
   {
    "duration": 10,
    "start_time": "2023-03-23T21:11:20.413Z"
   },
   {
    "duration": 2179,
    "start_time": "2023-03-23T21:11:23.116Z"
   },
   {
    "duration": 29,
    "start_time": "2023-03-23T21:13:36.007Z"
   },
   {
    "duration": 27,
    "start_time": "2023-03-23T21:13:48.032Z"
   },
   {
    "duration": 489,
    "start_time": "2023-03-23T21:13:50.313Z"
   },
   {
    "duration": 2,
    "start_time": "2023-03-23T21:14:03.314Z"
   },
   {
    "duration": 4,
    "start_time": "2023-03-23T21:14:03.965Z"
   },
   {
    "duration": 1631,
    "start_time": "2023-03-23T21:14:04.932Z"
   },
   {
    "duration": 1536,
    "start_time": "2023-03-23T21:14:11.515Z"
   },
   {
    "duration": 8,
    "start_time": "2023-03-23T21:14:16.541Z"
   },
   {
    "duration": 10,
    "start_time": "2023-03-23T21:15:03.515Z"
   },
   {
    "duration": 7,
    "start_time": "2023-03-23T21:15:03.527Z"
   },
   {
    "duration": 474,
    "start_time": "2023-03-23T21:15:03.535Z"
   },
   {
    "duration": 23,
    "start_time": "2023-03-23T21:15:04.013Z"
   },
   {
    "duration": 94,
    "start_time": "2023-03-23T21:15:04.038Z"
   },
   {
    "duration": 132,
    "start_time": "2023-03-23T21:15:04.134Z"
   },
   {
    "duration": 1641,
    "start_time": "2023-03-23T21:15:04.269Z"
   },
   {
    "duration": 122,
    "start_time": "2023-03-23T21:15:05.918Z"
   },
   {
    "duration": 1792,
    "start_time": "2023-03-23T21:15:06.042Z"
   },
   {
    "duration": 211,
    "start_time": "2023-03-23T21:15:07.837Z"
   },
   {
    "duration": 213,
    "start_time": "2023-03-23T21:15:08.050Z"
   },
   {
    "duration": 419,
    "start_time": "2023-03-23T21:15:08.271Z"
   },
   {
    "duration": 922,
    "start_time": "2023-03-23T21:15:08.695Z"
   },
   {
    "duration": 287,
    "start_time": "2023-03-23T21:15:09.619Z"
   },
   {
    "duration": 305,
    "start_time": "2023-03-23T21:15:09.911Z"
   },
   {
    "duration": 504,
    "start_time": "2023-03-23T21:15:10.218Z"
   },
   {
    "duration": 1874,
    "start_time": "2023-03-23T21:15:10.723Z"
   },
   {
    "duration": 5,
    "start_time": "2023-03-23T21:15:12.599Z"
   },
   {
    "duration": 1827,
    "start_time": "2023-03-23T21:15:12.606Z"
   },
   {
    "duration": 3,
    "start_time": "2023-03-23T21:15:14.436Z"
   },
   {
    "duration": 75,
    "start_time": "2023-03-23T21:15:14.441Z"
   },
   {
    "duration": 303,
    "start_time": "2023-03-23T21:15:14.518Z"
   },
   {
    "duration": 301,
    "start_time": "2023-03-23T21:15:14.823Z"
   },
   {
    "duration": 24,
    "start_time": "2023-03-23T21:15:15.126Z"
   },
   {
    "duration": 379,
    "start_time": "2023-03-23T21:15:15.168Z"
   },
   {
    "duration": 373,
    "start_time": "2023-03-23T21:15:15.549Z"
   },
   {
    "duration": 18,
    "start_time": "2023-03-23T21:15:15.923Z"
   },
   {
    "duration": 282,
    "start_time": "2023-03-23T21:15:15.945Z"
   },
   {
    "duration": 199,
    "start_time": "2023-03-23T21:15:16.229Z"
   },
   {
    "duration": 303,
    "start_time": "2023-03-23T21:15:16.430Z"
   },
   {
    "duration": 384,
    "start_time": "2023-03-23T21:15:16.735Z"
   },
   {
    "duration": 3,
    "start_time": "2023-03-23T21:15:17.120Z"
   },
   {
    "duration": 496,
    "start_time": "2023-03-23T21:15:17.124Z"
   },
   {
    "duration": 4,
    "start_time": "2023-03-23T21:15:17.623Z"
   },
   {
    "duration": 390,
    "start_time": "2023-03-23T21:15:17.629Z"
   },
   {
    "duration": 261,
    "start_time": "2023-03-23T21:15:18.021Z"
   },
   {
    "duration": 523,
    "start_time": "2023-03-23T21:15:18.288Z"
   },
   {
    "duration": 453,
    "start_time": "2023-03-23T21:15:18.817Z"
   },
   {
    "duration": 366,
    "start_time": "2023-03-23T21:15:19.272Z"
   },
   {
    "duration": 294,
    "start_time": "2023-03-23T21:15:19.640Z"
   },
   {
    "duration": 2,
    "start_time": "2023-03-23T21:15:19.936Z"
   },
   {
    "duration": 86,
    "start_time": "2023-03-23T21:15:19.939Z"
   },
   {
    "duration": 1172,
    "start_time": "2023-03-23T21:15:20.027Z"
   },
   {
    "duration": 699,
    "start_time": "2023-03-23T21:15:21.208Z"
   },
   {
    "duration": 10,
    "start_time": "2023-03-23T21:15:21.914Z"
   },
   {
    "duration": 51,
    "start_time": "2023-03-23T21:15:21.927Z"
   },
   {
    "duration": 10,
    "start_time": "2023-03-23T21:15:21.980Z"
   },
   {
    "duration": 19,
    "start_time": "2023-03-23T21:15:21.991Z"
   },
   {
    "duration": 23464,
    "start_time": "2023-03-23T21:15:22.012Z"
   },
   {
    "duration": 7,
    "start_time": "2023-03-23T21:15:45.477Z"
   },
   {
    "duration": 16,
    "start_time": "2023-03-23T21:15:45.485Z"
   },
   {
    "duration": 1710,
    "start_time": "2023-03-23T21:15:45.508Z"
   },
   {
    "duration": 46,
    "start_time": "2023-03-23T21:15:47.219Z"
   },
   {
    "duration": 470,
    "start_time": "2023-03-23T21:15:47.270Z"
   },
   {
    "duration": 38,
    "start_time": "2023-03-23T21:15:47.742Z"
   },
   {
    "duration": 11,
    "start_time": "2023-03-23T21:15:47.786Z"
   },
   {
    "duration": 3,
    "start_time": "2023-03-23T21:15:47.800Z"
   },
   {
    "duration": 10,
    "start_time": "2023-03-23T21:15:47.806Z"
   },
   {
    "duration": 9,
    "start_time": "2023-03-23T21:15:47.818Z"
   },
   {
    "duration": 4,
    "start_time": "2023-03-23T21:15:47.829Z"
   },
   {
    "duration": 9,
    "start_time": "2023-03-23T21:15:47.835Z"
   },
   {
    "duration": 21079,
    "start_time": "2023-03-23T21:15:47.846Z"
   },
   {
    "duration": 4,
    "start_time": "2023-03-23T21:16:08.927Z"
   },
   {
    "duration": 12,
    "start_time": "2023-03-23T21:16:08.933Z"
   },
   {
    "duration": 1774,
    "start_time": "2023-03-23T21:16:08.946Z"
   },
   {
    "duration": 50,
    "start_time": "2023-03-23T21:16:10.723Z"
   },
   {
    "duration": 438,
    "start_time": "2023-03-23T21:16:10.777Z"
   },
   {
    "duration": 7,
    "start_time": "2023-03-23T21:16:11.219Z"
   },
   {
    "duration": 12,
    "start_time": "2023-03-23T21:16:11.228Z"
   },
   {
    "duration": 10,
    "start_time": "2023-03-23T21:16:11.242Z"
   },
   {
    "duration": 4,
    "start_time": "2023-03-23T21:16:11.253Z"
   },
   {
    "duration": 20,
    "start_time": "2023-03-23T21:16:11.259Z"
   },
   {
    "duration": 1397,
    "start_time": "2023-03-23T21:16:11.284Z"
   },
   {
    "duration": 1519,
    "start_time": "2023-03-23T21:16:12.685Z"
   },
   {
    "duration": 16,
    "start_time": "2023-03-23T21:16:14.206Z"
   },
   {
    "duration": 11,
    "start_time": "2023-03-23T21:16:14.224Z"
   },
   {
    "duration": 101,
    "start_time": "2023-03-23T21:17:27.957Z"
   },
   {
    "duration": 120,
    "start_time": "2023-03-23T21:17:39.793Z"
   },
   {
    "duration": 7,
    "start_time": "2023-03-23T21:18:48.315Z"
   },
   {
    "duration": 1949,
    "start_time": "2023-03-23T21:18:50.503Z"
   },
   {
    "duration": 28,
    "start_time": "2023-03-23T21:18:55.412Z"
   },
   {
    "duration": 455,
    "start_time": "2023-03-23T21:18:58.583Z"
   },
   {
    "duration": 13,
    "start_time": "2023-03-23T21:41:31.561Z"
   },
   {
    "duration": 10,
    "start_time": "2023-03-23T21:41:31.576Z"
   },
   {
    "duration": 298,
    "start_time": "2023-03-23T21:41:31.587Z"
   },
   {
    "duration": 9,
    "start_time": "2023-03-23T21:41:31.887Z"
   },
   {
    "duration": 72,
    "start_time": "2023-03-23T21:41:31.898Z"
   },
   {
    "duration": 77,
    "start_time": "2023-03-23T21:41:31.971Z"
   },
   {
    "duration": 1464,
    "start_time": "2023-03-23T21:41:32.050Z"
   },
   {
    "duration": 122,
    "start_time": "2023-03-23T21:41:33.516Z"
   },
   {
    "duration": 1054,
    "start_time": "2023-03-23T21:41:33.640Z"
   },
   {
    "duration": 175,
    "start_time": "2023-03-23T21:41:34.697Z"
   },
   {
    "duration": 97,
    "start_time": "2023-03-23T21:41:34.874Z"
   },
   {
    "duration": 138,
    "start_time": "2023-03-23T21:41:34.974Z"
   },
   {
    "duration": 403,
    "start_time": "2023-03-23T21:41:35.114Z"
   },
   {
    "duration": 190,
    "start_time": "2023-03-23T21:41:35.519Z"
   },
   {
    "duration": 204,
    "start_time": "2023-03-23T21:41:35.711Z"
   },
   {
    "duration": 445,
    "start_time": "2023-03-23T21:41:35.917Z"
   },
   {
    "duration": 1900,
    "start_time": "2023-03-23T21:41:36.364Z"
   },
   {
    "duration": 4,
    "start_time": "2023-03-23T21:41:38.266Z"
   },
   {
    "duration": 1410,
    "start_time": "2023-03-23T21:41:38.272Z"
   },
   {
    "duration": 4,
    "start_time": "2023-03-23T21:41:39.684Z"
   },
   {
    "duration": 34,
    "start_time": "2023-03-23T21:41:39.690Z"
   },
   {
    "duration": 188,
    "start_time": "2023-03-23T21:41:39.761Z"
   },
   {
    "duration": 218,
    "start_time": "2023-03-23T21:41:39.951Z"
   },
   {
    "duration": 24,
    "start_time": "2023-03-23T21:41:40.171Z"
   },
   {
    "duration": 208,
    "start_time": "2023-03-23T21:41:40.196Z"
   },
   {
    "duration": 287,
    "start_time": "2023-03-23T21:41:40.405Z"
   },
   {
    "duration": 19,
    "start_time": "2023-03-23T21:41:40.694Z"
   },
   {
    "duration": 364,
    "start_time": "2023-03-23T21:41:40.719Z"
   },
   {
    "duration": 310,
    "start_time": "2023-03-23T21:41:41.084Z"
   },
   {
    "duration": 235,
    "start_time": "2023-03-23T21:41:41.397Z"
   },
   {
    "duration": 168,
    "start_time": "2023-03-23T21:41:41.635Z"
   },
   {
    "duration": 4,
    "start_time": "2023-03-23T21:41:41.805Z"
   },
   {
    "duration": 466,
    "start_time": "2023-03-23T21:41:41.811Z"
   },
   {
    "duration": 4,
    "start_time": "2023-03-23T21:41:42.279Z"
   },
   {
    "duration": 257,
    "start_time": "2023-03-23T21:41:42.285Z"
   },
   {
    "duration": 192,
    "start_time": "2023-03-23T21:41:42.544Z"
   },
   {
    "duration": 259,
    "start_time": "2023-03-23T21:41:42.739Z"
   },
   {
    "duration": 250,
    "start_time": "2023-03-23T21:41:43.000Z"
   },
   {
    "duration": 217,
    "start_time": "2023-03-23T21:41:43.252Z"
   },
   {
    "duration": 229,
    "start_time": "2023-03-23T21:41:43.471Z"
   },
   {
    "duration": 2,
    "start_time": "2023-03-23T21:41:43.702Z"
   },
   {
    "duration": 94,
    "start_time": "2023-03-23T21:41:43.706Z"
   },
   {
    "duration": 864,
    "start_time": "2023-03-23T21:41:43.802Z"
   },
   {
    "duration": 625,
    "start_time": "2023-03-23T21:41:44.668Z"
   },
   {
    "duration": 3,
    "start_time": "2023-03-23T21:41:45.295Z"
   },
   {
    "duration": 9,
    "start_time": "2023-03-23T21:41:45.362Z"
   },
   {
    "duration": 11,
    "start_time": "2023-03-23T21:41:45.373Z"
   },
   {
    "duration": 8,
    "start_time": "2023-03-23T21:41:45.386Z"
   },
   {
    "duration": 18280,
    "start_time": "2023-03-23T21:41:45.396Z"
   },
   {
    "duration": 5,
    "start_time": "2023-03-23T21:42:03.678Z"
   },
   {
    "duration": 13,
    "start_time": "2023-03-23T21:42:03.684Z"
   },
   {
    "duration": 1877,
    "start_time": "2023-03-23T21:42:03.698Z"
   },
   {
    "duration": 23,
    "start_time": "2023-03-23T21:42:05.577Z"
   },
   {
    "duration": 389,
    "start_time": "2023-03-23T21:42:05.603Z"
   },
   {
    "duration": 3,
    "start_time": "2023-03-23T21:42:05.994Z"
   },
   {
    "duration": 8,
    "start_time": "2023-03-23T21:42:05.999Z"
   },
   {
    "duration": 10,
    "start_time": "2023-03-23T21:42:06.009Z"
   },
   {
    "duration": 5,
    "start_time": "2023-03-23T21:42:06.021Z"
   },
   {
    "duration": 37,
    "start_time": "2023-03-23T21:42:06.028Z"
   },
   {
    "duration": 7,
    "start_time": "2023-03-23T21:42:06.067Z"
   },
   {
    "duration": 8,
    "start_time": "2023-03-23T21:42:06.076Z"
   },
   {
    "duration": 16438,
    "start_time": "2023-03-23T21:42:06.086Z"
   },
   {
    "duration": 37,
    "start_time": "2023-03-23T21:42:22.526Z"
   },
   {
    "duration": 22,
    "start_time": "2023-03-23T21:42:22.565Z"
   },
   {
    "duration": 1491,
    "start_time": "2023-03-23T21:42:22.589Z"
   },
   {
    "duration": 26,
    "start_time": "2023-03-23T21:42:24.082Z"
   },
   {
    "duration": 399,
    "start_time": "2023-03-23T21:42:24.110Z"
   },
   {
    "duration": 3,
    "start_time": "2023-03-23T21:42:24.511Z"
   },
   {
    "duration": 6,
    "start_time": "2023-03-23T21:42:24.515Z"
   },
   {
    "duration": 6,
    "start_time": "2023-03-23T21:42:24.523Z"
   },
   {
    "duration": 4,
    "start_time": "2023-03-23T21:42:24.531Z"
   },
   {
    "duration": 31,
    "start_time": "2023-03-23T21:42:24.536Z"
   },
   {
    "duration": 1064,
    "start_time": "2023-03-23T21:42:24.569Z"
   },
   {
    "duration": 1063,
    "start_time": "2023-03-23T21:42:25.634Z"
   },
   {
    "duration": 8,
    "start_time": "2023-03-23T21:42:26.699Z"
   },
   {
    "duration": 272,
    "start_time": "2023-03-23T21:42:26.709Z"
   }
  ],
  "colab": {
   "name": "PySparkSprint.ipynb",
   "provenance": []
  },
  "kernelspec": {
   "display_name": "Python 3 (ipykernel)",
   "language": "python",
   "name": "python3"
  },
  "language_info": {
   "codemirror_mode": {
    "name": "ipython",
    "version": 3
   },
   "file_extension": ".py",
   "mimetype": "text/x-python",
   "name": "python",
   "nbconvert_exporter": "python",
   "pygments_lexer": "ipython3",
   "version": "3.11.3"
  },
  "toc": {
   "base_numbering": 1,
   "nav_menu": {},
   "number_sections": true,
   "sideBar": true,
   "skip_h1_title": true,
   "title_cell": "Table of Contents",
   "title_sidebar": "Contents",
   "toc_cell": false,
   "toc_position": {
    "height": "calc(100% - 180px)",
    "left": "10px",
    "top": "150px",
    "width": "238.25px"
   },
   "toc_section_display": true,
   "toc_window_display": true
  }
 },
 "nbformat": 4,
 "nbformat_minor": 5
}
